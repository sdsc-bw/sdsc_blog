{
 "cells": [
  {
   "cell_type": "markdown",
   "id": "dff5c4a9-cee1-4ca1-a773-61e07c847977",
   "metadata": {
    "tags": []
   },
   "source": [
    "# what is code intepreter\n",
    "....\n"
   ]
  },
  {
   "cell_type": "code",
   "execution_count": null,
   "id": "8ce8e587-0a0a-49d8-b9b7-9734d9d52ead",
   "metadata": {},
   "outputs": [],
   "source": []
  },
  {
   "cell_type": "markdown",
   "id": "90b18aa4-36f7-4a79-8625-a34980017930",
   "metadata": {},
   "source": [
    "我们上次数据到code interpreter并询问基础信息：\n",
    "![Load data to interpreter](./img/code_interpreter/load_data.png)"
   ]
  },
  {
   "cell_type": "markdown",
   "id": "2c68ba30-b51e-4d20-b703-9f28bbbe0bd1",
   "metadata": {},
   "source": [
    "下面是code interpreter的回复\n",
    "\n",
    "![data overview1](./img/code_interpreter/overview1.png)\n",
    "![data overview1](./img/code_interpreter/overview2.png)\n",
    "\n",
    "我们发现code interpreter能够识别csv文件，并根据列名，补充信息，比如date。但是但对一些特殊的信息则需要提供进一步的信息，比如dropdown描述的是打折率。\n",
    "\n",
    "有趣的是，code interpreter能够根据数据，给出一些探索的建议：\n",
    "![data overview1](./img/code_interpreter/overview3.png)\n",
    "\n",
    "当然这些建议并不够全面，比如还可以探索：\n",
    "- 不同店铺之间的相关性\n",
    "- 异常数据检查"
   ]
  },
  {
   "cell_type": "markdown",
   "id": "e0a6f94e-9040-477a-ba59-92c52857f16d",
   "metadata": {},
   "source": [
    "另外，code interpreter存在gpt的老缺点，回复不固定：\n",
    "![Load data to interpreter](./img/code_interpreter/load_data2.png)\n",
    "\n",
    "我们在输入中加入了部分信息，下面是回复：\n",
    "![Load data to interpreter](./img/code_interpreter/overview4.png)\n",
    "\n",
    "我们发现回复的强调的信息发生了改变。补充的信息被正确的识别了出来。"
   ]
  },
  {
   "cell_type": "code",
   "execution_count": null,
   "id": "1a0c460a-c71e-41a6-9dda-d897e138a933",
   "metadata": {},
   "outputs": [],
   "source": []
  },
  {
   "cell_type": "markdown",
   "id": "6ad46433-1100-4c72-9dec-5e450cc3e1a0",
   "metadata": {},
   "source": [
    "下面尝试一下数据分析的一大难题，数据合并：\n",
    "![Load data to interpreter](./img/code_interpreter/combine.png)\n",
    "\n",
    "我们发现能够很好的找出合并的节点。我们看一下对应的代码：\n",
    "![Load data to interpreter](./img/code_interpreter/code_combine.png)\n",
    "\n",
    "两个合并用了不同的合并节点，这里它使用了left合并方法。虽然我们更想用inner，但是这是可以通过指示完成的。除此之外，它能够自动去掉重复的列。总的来说，能够很好的完成合并任务，不过如果有特殊需求，应该给于足够的指示。"
   ]
  },
  {
   "cell_type": "code",
   "execution_count": null,
   "id": "02d1b9d1-1175-45e3-ac53-b47948cc7880",
   "metadata": {},
   "outputs": [],
   "source": []
  },
  {
   "cell_type": "markdown",
   "id": "9632a721-6521-428f-8c3c-7f9b9d59a48c",
   "metadata": {},
   "source": [
    "接下来尝试一下让code interpreter自动清理一下数据：\n",
    "在没有提示的情况下，他会以。。。四个点检查数据\n",
    "我们发现他能很好的检测出na值\n",
    "![Load data to interpreter](./img/code_interpreter/cleaning2.png)\n",
    "\n",
    "针对异常值，这里使用的是IQR来检查异常值，这在这里的用处是不大的。而一些于语义相关的检测，比如销售值不能小于0，并不会被检测处理。\n",
    "![Load data to interpreter](./img/code_interpreter/cleaning3.png)\n",
    "\n",
    "即使给了部分提示，它还是不能根据上下文，提出合理的检测方案：\n",
    "![Load data to interpreter](./img/code_interpreter/cleaning4.png)\n",
    "\n",
    "必须有明确的提示，code interpreter才能进行必要的工作。加之上述的code interpreter的操作相对单一，这说明有经验的数据分析师还是必不可少的\n",
    "![Load data to interpreter](./img/code_interpreter/cleaning5.png)\n",
    "\n",
    "针对问题，他会提供一些简单的方案，虽然这些方案根上下文的关系不同.\n",
    "![Load data to interpreter](./img/code_interpreter/cleaning6.png)\n",
    "这里使用了临近特征进行插值。其实，更好的是适用模型进行插值。这样能够考虑到节假日等因素。\n",
    "\n",
    "给出简答的提示后，它能很好的理解你的意图并调整方案。\n",
    "![Load data to interpreter](./img/code_interpreter/cleaning7.png)\n"
   ]
  },
  {
   "cell_type": "code",
   "execution_count": null,
   "id": "8d61bc7f-3ab6-47b8-801c-f16b15a3407b",
   "metadata": {},
   "outputs": [],
   "source": []
  },
  {
   "cell_type": "markdown",
   "id": "5ead8f61-deb7-4497-b3be-f051c7e42faa",
   "metadata": {},
   "source": [
    "接下来看一下它分析数据的能力\n",
    "![Load data to interpreter](./img/code_interpreter/analysis_holiday1.png)\n",
    "![Load data to interpreter](./img/code_interpreter/analysis_holiday2.png)\n",
    "\n",
    "它分析的条例很清晰，并能正确的得到结果。但是它在展示的时候存在问题，它很尽职的展示了所有内容，但是却压缩了我们关心的内容，从而加大了图标的可阅读性，甚至导致，错误的结论，假日对销售的影响不大。\n",
    "\n",
    "另外，code interpreter的分析都集中在最基础的部分。进一步的洞察数据需要数据分析师的指示：\n",
    "![Load data to interpreter](./img/code_interpreter/analysis_holiday3.png)\n",
    "![Load data to interpreter](./img/code_interpreter/analysis_holiday4.png)\n",
    "\n",
    "code interpreter能够识别出相关的节假日并应用于分析，而且它找出了圣诞节的特殊性。虽然他没有进行进一步的分析，但这已经很惊艳了。当然也存在一些小瑕疵，比如我们并没有提供2013年的数据。"
   ]
  },
  {
   "cell_type": "code",
   "execution_count": null,
   "id": "85295051-f4ed-4f82-b51c-601c16548681",
   "metadata": {},
   "outputs": [],
   "source": []
  },
  {
   "cell_type": "markdown",
   "id": "df693c92-aff1-4523-a553-e74f1b0bb229",
   "metadata": {},
   "source": [
    "下面我们让code interpreter建立模型\n",
    "![Load data to interpreter](./img/code_interpreter/modeling1.png)\n",
    "![Load data to interpreter](./img/code_interpreter/modeling2.png)\n",
    "\n",
    "我们发现code interpreter很好的完成了任务。但是它并不会应用我们前面分析过程中得到的信息，而是执行一般的特征提取。而且在没有要求的情况下，只使用最简单的线性模型。这导致结果比较差"
   ]
  },
  {
   "cell_type": "code",
   "execution_count": null,
   "id": "d58b8e6d-7805-4ee7-99c6-dfa3b8ef1d97",
   "metadata": {},
   "outputs": [],
   "source": []
  },
  {
   "cell_type": "markdown",
   "id": "f4f5b846-7fce-4757-b835-48198a78639b",
   "metadata": {},
   "source": [
    "总的来说，code interpreter是一个很强大的工具，它能通过自然语言进行数据的不同的分析任务。\n",
    "然后在没有数据挖掘师帮助的情况下，它针对每个任务的实现方式是naive的，其结果（比如异常值）有时候甚至是具有误导性的。\n",
    "在没有明确的指示的情况下，code interpreter倾向于使用固定的最简单的方法解决问题。尽管功能很强大，但依旧需要数据挖掘师进行明确的指导。\n",
    "另外，值得说明的是，对于非数据分析师来说，很难洞悉code interpreter的行为，并识别出结果是正确于否。"
   ]
  },
  {
   "cell_type": "code",
   "execution_count": null,
   "id": "43bc6804-3c72-4b5f-a9a7-affa307367ec",
   "metadata": {},
   "outputs": [],
   "source": []
  }
 ],
 "metadata": {
  "kernelspec": {
   "display_name": "vqhar",
   "language": "python",
   "name": "vqhar"
  },
  "language_info": {
   "codemirror_mode": {
    "name": "ipython",
    "version": 3
   },
   "file_extension": ".py",
   "mimetype": "text/x-python",
   "name": "python",
   "nbconvert_exporter": "python",
   "pygments_lexer": "ipython3",
   "version": "3.9.16"
  }
 },
 "nbformat": 4,
 "nbformat_minor": 5
}
