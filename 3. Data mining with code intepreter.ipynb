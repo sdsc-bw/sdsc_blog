{
 "cells": [
  {
   "cell_type": "markdown",
   "id": "dff5c4a9-cee1-4ca1-a773-61e07c847977",
   "metadata": {
    "tags": []
   },
   "source": [
    "# what is code intepreter\n",
    "....\n"
   ]
  },
  {
   "cell_type": "code",
   "execution_count": null,
   "id": "8ce8e587-0a0a-49d8-b9b7-9734d9d52ead",
   "metadata": {},
   "outputs": [],
   "source": []
  },
  {
   "cell_type": "markdown",
   "id": "90b18aa4-36f7-4a79-8625-a34980017930",
   "metadata": {},
   "source": [
    "We provide data to the code interpreter one last time and ask for basic information:\n",
    "\n",
    "![Load data to interpreter](./img/code_interpreter/load_data.png)"
   ]
  },
  {
   "cell_type": "markdown",
   "id": "2c68ba30-b51e-4d20-b703-9f28bbbe0bd1",
   "metadata": {},
   "source": [
    "Here is the feedback of the code interpreter\n",
    "\n",
    "![data overview1](./img/code_interpreter/overview1.png)\n",
    "![data overview1](./img/code_interpreter/overview2.png)\n",
    "\n",
    "We found that the code interpreter recognises csv files and adds information such as dates based on column names.\n",
    "\n",
    "Interestingly, the code interpreter was able to make some exploration suggestions based on the d\n",
    "![data overview1](./img/code_interpreter/overview3.png)\n",
    "\n",
    "Of course, these suggestions are not comprehensive enough and could be explored further, for example\n",
    "- Correlation between different shops\n",
    "- Anomaly checking"
   ]
  },
  {
   "cell_type": "markdown",
   "id": "e0a6f94e-9040-477a-ba59-92c52857f16d",
   "metadata": {},
   "source": [
    "In addition, the code interpreter suffers from the flaw of the old gpt in that the response is not fixed:\n",
    "\n",
    "![Load data to interpreter](./img/code_interpreter/load_data2.png)\n",
    "\n",
    "We have incorporated some of this information into the comments and the responses are provided below:\n",
    "\n",
    "![Load data to interpreter](./img/code_interpreter/overview4.png)\n",
    "\n",
    "We found that the information highlighted in the responses changed. Additional information was correctly identified."
   ]
  },
  {
   "cell_type": "code",
   "execution_count": null,
   "id": "1a0c460a-c71e-41a6-9dda-d897e138a933",
   "metadata": {},
   "outputs": [],
   "source": []
  },
  {
   "cell_type": "markdown",
   "id": "6ad46433-1100-4c72-9dec-5e450cc3e1a0",
   "metadata": {},
   "source": [
    "Here's one of the big challenges of data analysis - the attempt to merge data：\n",
    "\n",
    "![Load data to interpreter](./img/code_interpreter/combine.png)\n",
    "\n",
    "We found that we were able to figure out the merged nodes quite well. Let's take a look at the corresponding code:\n",
    "\n",
    "![Load data to interpreter](./img/code_interpreter/code_combine.png)\n",
    "\n",
    "The two merges use different merge nodes, here the LEFT merge method is used. Although we prefer to use an inner merge, this can be done with a command. In addition, it automatically removes duplicate columns. Overall, it does a good job of merging, but adequate instructions should be given if there are special needs."
   ]
  },
  {
   "cell_type": "markdown",
   "id": "9632a721-6521-428f-8c3c-7f9b9d59a48c",
   "metadata": {},
   "source": [
    "Next tried to get the code interpreter to clean up the data automatically:\n",
    "Without prompting, he examined the data at four points\n",
    "We find that it does a good job of detecting the value of na.\n",
    "\n",
    "![Load data to interpreter](./img/code_interpreter/cleaning2.png)\n",
    "\n",
    "For outliers, IQR is used to check for outliers, which is not very useful here. Semantics-related tests, such as a sales value that cannot be less than 0, will not be detected and processed.\n",
    "\n",
    "![Load data to interpreter](./img/code_interpreter/cleaning3.png)\n",
    "\n",
    "Even if partial hints are given, it still fails to suggest a reasonable detection scheme based on the context:\n",
    "\n",
    "![Load data to interpreter](./img/code_interpreter/cleaning4.png)\n",
    "\n",
    "The code interpreter must have clear prompts to do the necessary work. This, coupled with the relative homogeneity of the code interpreter's operations as described above, suggests that an experienced data analyst is still essential.\n",
    "\n",
    "![Load data to interpreter](./img/code_interpreter/cleaning5.png)\n",
    "\n",
    "In response to questions, he will offer some simple solutions, albeit ones that have a different relationship to the context.\n",
    "\n",
    "![Load data to interpreter](./img/code_interpreter/cleaning6.png)\n",
    "Here, approximate features are used for interpolation. In fact, it is better to apply the model for interpolation. This allows factors such as holidays to be taken into account.\n",
    "\n",
    "After giving a short hint, it will understand your intentions well and adjust the programme.\n",
    "\n",
    "![Load data to interpreter](./img/code_interpreter/cleaning7.png)\n"
   ]
  },
  {
   "cell_type": "code",
   "execution_count": null,
   "id": "8d61bc7f-3ab6-47b8-801c-f16b15a3407b",
   "metadata": {},
   "outputs": [],
   "source": []
  },
  {
   "cell_type": "markdown",
   "id": "5ead8f61-deb7-4497-b3be-f051c7e42faa",
   "metadata": {},
   "source": [
    "Next look at its ability to analyse data\n",
    "\n",
    "![Load data to interpreter](./img/code_interpreter/analysis_holiday1.png)\n",
    "![Load data to interpreter](./img/code_interpreter/analysis_holiday2.png)\n",
    "\n",
    "It clearly analysed the provisions and came up with the right results. However, it had a problem with presentation; it dutifully presented everything but condensed what we cared about, thus increasing the readability of the icons and even leading to the wrong conclusion that holidays have little impact on sales.\n",
    "\n",
    "In addition, the code interpreter's analyses only focus on the very basics. To delve further into the data, guidance from a data analyst is needed:\n",
    "\n",
    "![Load data to interpreter](./img/code_interpreter/analysis_holiday3.png)\n",
    "![Load data to interpreter](./img/code_interpreter/analysis_holiday4.png)\n",
    "\n",
    "The code interpreter was able to identify the relevant festivals and apply them to the analysis, and it recognised the special nature of Christmas. Although he didn't carry out further analysis, this is pretty impressive. Of course there are some minor flaws, such as the fact that we did not provide data for 2013."
   ]
  },
  {
   "cell_type": "code",
   "execution_count": null,
   "id": "85295051-f4ed-4f82-b51c-601c16548681",
   "metadata": {},
   "outputs": [],
   "source": []
  },
  {
   "cell_type": "markdown",
   "id": "df693c92-aff1-4523-a553-e74f1b0bb229",
   "metadata": {},
   "source": [
    "Here, we let the code interpreter build the model\n",
    "\n",
    "![Load data to interpreter](./img/code_interpreter/modeling1.png)\n",
    "![Load data to interpreter](./img/code_interpreter/modeling2.png)\n",
    "\n",
    "We found that the code interpreter did a good job. But instead of applying the information obtained in our previous analyses, it performs general feature extraction. And when not needed, it used only the simplest linear models. This led to poorer results"
   ]
  },
  {
   "cell_type": "code",
   "execution_count": null,
   "id": "d58b8e6d-7805-4ee7-99c6-dfa3b8ef1d97",
   "metadata": {},
   "outputs": [],
   "source": []
  },
  {
   "cell_type": "markdown",
   "id": "f4f5b846-7fce-4757-b835-48198a78639b",
   "metadata": {},
   "source": [
    "In conclusion, the code interpreter is a very powerful tool to perform different data analysis tasks through natural language.\n",
    "However, without the help of a data analyst, its execution of each task is naive and its results (e.g., outliers) are sometimes even misleading.\n",
    "In the absence of explicit instructions, the code interpreter tends to use the fixed simplest method to solve the problem. Despite its power, it still requires explicit instructions from the data analyst.\n",
    "It is also worth pointing out that it is difficult for non-data analysts to gain insight into the behaviour of the code interpreter and to identify whether the results are correct."
   ]
  },
  {
   "cell_type": "code",
   "execution_count": null,
   "id": "43bc6804-3c72-4b5f-a9a7-affa307367ec",
   "metadata": {},
   "outputs": [],
   "source": []
  }
 ],
 "metadata": {
  "kernelspec": {
   "display_name": "vqhar",
   "language": "python",
   "name": "vqhar"
  },
  "language_info": {
   "codemirror_mode": {
    "name": "ipython",
    "version": 3
   },
   "file_extension": ".py",
   "mimetype": "text/x-python",
   "name": "python",
   "nbconvert_exporter": "python",
   "pygments_lexer": "ipython3",
   "version": "3.9.16"
  }
 },
 "nbformat": 4,
 "nbformat_minor": 5
}
