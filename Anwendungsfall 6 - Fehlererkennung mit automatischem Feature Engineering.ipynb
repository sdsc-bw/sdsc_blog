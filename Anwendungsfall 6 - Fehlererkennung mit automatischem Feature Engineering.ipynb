{
 "cells": [
  {
   "cell_type": "markdown",
   "id": "121644ce-a726-4cbc-8afd-84778b9b698c",
   "metadata": {},
   "source": [
    "# Aufgabe\n",
    "# [Steel Plates Faults Data Set](http://archive.ics.uci.edu/ml/datasets/Steel+Plates+Faults)\n",
    "\n",
    " ![](https://img.shields.io/badge/Sector-Stahl-gray.svg)\n",
    " ![](https://img.shields.io/badge/Gelabled-Ja-blue.svg)\n",
    " ![](<https://img.shields.io/badge/Simulation-Nein-red.svg>)\n",
    " ![](https://img.shields.io/badge/Zeireihe-Ja-red.svg)\n",
    "\n",
    "Parameter | Wert\n",
    "---- | ----\n",
    "Datensatz Charakteristiken | Multivariate\n",
    "Merkmal Charakteristiken\t| Integer, Real\n",
    "Zugehörige Aufgaben\t| Klassifikation\n",
    "Anzahl von Datenpunkten\t| 1941\n",
    "Anhzahl von Merkmalen\t| 27\n",
    "Erstellungsdatum | 2010-10-26\n",
    "Quelle | UCI Machine Learning Repository\n",
    "Datensatzgröße | 299KB\n",
    "\n",
    "## Quelle\n",
    "\n",
    "Semeion, Research Center of Sciences of Communication, Via Sersale 117, 00128, Rome, Italy.\\\n",
    "www.semeion.it\n",
    "\n",
    "\n",
    "## Informationen zum Datensatz\n",
    "Art der abhängigen Variablen (7 Arten von Stahlplattenfehlern):\n",
    "1. Pastry\n",
    "2. Z_Scratch (Z Kratzer)\n",
    "3. K_Scatch (K Kratzer)\n",
    "4. Stains (Flecken)\n",
    "5. Dirtiness (Verschmutzung)\n",
    "6. Bumps (Unebenheiten)\n",
    "7. Other_Faults (Andere Fehler )\n",
    "\n",
    "\n",
    "## Informationen zu den Merkmalen\n",
    "\n",
    "27 unabhängige Merkmale:\n",
    "1. X_Minimum\n",
    "2. X_Maximum\n",
    "3. Y_Minimum\n",
    "4. Y_Maximum\n",
    "5. Pixels_Areas\n",
    "6. X_Perimeter\n",
    "7. Y_Perimeter\n",
    "8. Sum_of_Luminosity\n",
    "9. Minimum_of_Luminosity\n",
    "10. Maximum_of_Luminosity\n",
    "11. Length_of_Conveyer\n",
    "12. TypeOfSteel_A300\n",
    "13. TypeOfSteel_A400\n",
    "14. Steel_Plate_Thickness\n",
    "15. Edges_Index\n",
    "16. Empty_Index\n",
    "17. Square_Index\n",
    "18. Outside_X_Index\n",
    "19. Edges_X_Index\n",
    "20. Edges_Y_Index\n",
    "21. Outside_Global_Index\n",
    "22. LogOfAreas\n",
    "23. Log_X_Index\n",
    "24. Log_Y_Index\n",
    "25. Orientation_Index\n",
    "26. Luminosity_Index\n",
    "27. SigmoidOfAreas\n",
    "\n",
    "\n",
    "## Referenzen   \n",
    "- [UCI](http://archive.ics.uci.edu/ml/datasets/Steel+Plates+Faults): Database source link.\n",
    "\n",
    "## Zitate\n",
    "\n",
    "1. M Buscema, S Terzi, W Tastle, A New Meta-Classifier,in NAFIPS 2010, Toronto (CANADA),26-28 July 2010, 978-1-4244-7858-6/10 2010 IEEE\n",
    "2. M Buscema, MetaNet: The Theory of Independent Judges, in Substance Use & Misuse, 33(2), 439-461,1998"
   ]
  },
  {
   "cell_type": "code",
   "execution_count": 1,
   "id": "cd91cd4f-dfe0-4fcb-9257-d42d66fa2684",
   "metadata": {
    "tags": []
   },
   "outputs": [
    {
     "name": "stderr",
     "output_type": "stream",
     "text": [
      "/scratch/slurm_tmpdir/job_23336263/ipykernel_142419/4009618101.py:9: DeprecationWarning: `import pandas_profiling` is going to be deprecated by April 1st. Please use `import ydata_profiling` instead.\n",
      "  from pandas_profiling import ProfileReport\n"
     ]
    }
   ],
   "source": [
    "import copy\n",
    "import matplotlib.pyplot as plt\n",
    "import numpy as np\n",
    "import seaborn as sns\n",
    "import pandas as pd\n",
    "import plotly.graph_objects as go\n",
    "import plotly.express as px\n",
    "\n",
    "from pandas_profiling import ProfileReport\n",
    "from sklearn.model_selection import train_test_split\n",
    "from sklearn.metrics import roc_auc_score, mean_absolute_error, accuracy_score, f1_score\n",
    "from sklearn.preprocessing import StandardScaler"
   ]
  },
  {
   "cell_type": "code",
   "execution_count": 2,
   "id": "1d09085c-d4db-4682-8751-e1506f6e0411",
   "metadata": {
    "scrolled": true
   },
   "outputs": [
    {
     "data": {
      "text/html": [
       "<div>\n",
       "<style scoped>\n",
       "    .dataframe tbody tr th:only-of-type {\n",
       "        vertical-align: middle;\n",
       "    }\n",
       "\n",
       "    .dataframe tbody tr th {\n",
       "        vertical-align: top;\n",
       "    }\n",
       "\n",
       "    .dataframe thead th {\n",
       "        text-align: right;\n",
       "    }\n",
       "</style>\n",
       "<table border=\"1\" class=\"dataframe\">\n",
       "  <thead>\n",
       "    <tr style=\"text-align: right;\">\n",
       "      <th></th>\n",
       "      <th>0</th>\n",
       "      <th>1</th>\n",
       "      <th>2</th>\n",
       "      <th>3</th>\n",
       "      <th>4</th>\n",
       "      <th>5</th>\n",
       "      <th>6</th>\n",
       "      <th>7</th>\n",
       "      <th>8</th>\n",
       "      <th>9</th>\n",
       "      <th>...</th>\n",
       "      <th>24</th>\n",
       "      <th>25</th>\n",
       "      <th>26</th>\n",
       "      <th>27</th>\n",
       "      <th>28</th>\n",
       "      <th>29</th>\n",
       "      <th>30</th>\n",
       "      <th>31</th>\n",
       "      <th>32</th>\n",
       "      <th>33</th>\n",
       "    </tr>\n",
       "  </thead>\n",
       "  <tbody>\n",
       "    <tr>\n",
       "      <th>1936</th>\n",
       "      <td>249</td>\n",
       "      <td>277</td>\n",
       "      <td>325780</td>\n",
       "      <td>325796</td>\n",
       "      <td>273</td>\n",
       "      <td>54</td>\n",
       "      <td>22</td>\n",
       "      <td>35033</td>\n",
       "      <td>119</td>\n",
       "      <td>141</td>\n",
       "      <td>...</td>\n",
       "      <td>-0.4286</td>\n",
       "      <td>0.0026</td>\n",
       "      <td>0.7254</td>\n",
       "      <td>0</td>\n",
       "      <td>0</td>\n",
       "      <td>0</td>\n",
       "      <td>0</td>\n",
       "      <td>0</td>\n",
       "      <td>0</td>\n",
       "      <td>1</td>\n",
       "    </tr>\n",
       "    <tr>\n",
       "      <th>1937</th>\n",
       "      <td>144</td>\n",
       "      <td>175</td>\n",
       "      <td>340581</td>\n",
       "      <td>340598</td>\n",
       "      <td>287</td>\n",
       "      <td>44</td>\n",
       "      <td>24</td>\n",
       "      <td>34599</td>\n",
       "      <td>112</td>\n",
       "      <td>133</td>\n",
       "      <td>...</td>\n",
       "      <td>-0.4516</td>\n",
       "      <td>-0.0582</td>\n",
       "      <td>0.8173</td>\n",
       "      <td>0</td>\n",
       "      <td>0</td>\n",
       "      <td>0</td>\n",
       "      <td>0</td>\n",
       "      <td>0</td>\n",
       "      <td>0</td>\n",
       "      <td>1</td>\n",
       "    </tr>\n",
       "    <tr>\n",
       "      <th>1938</th>\n",
       "      <td>145</td>\n",
       "      <td>174</td>\n",
       "      <td>386779</td>\n",
       "      <td>386794</td>\n",
       "      <td>292</td>\n",
       "      <td>40</td>\n",
       "      <td>22</td>\n",
       "      <td>37572</td>\n",
       "      <td>120</td>\n",
       "      <td>140</td>\n",
       "      <td>...</td>\n",
       "      <td>-0.4828</td>\n",
       "      <td>0.0052</td>\n",
       "      <td>0.7079</td>\n",
       "      <td>0</td>\n",
       "      <td>0</td>\n",
       "      <td>0</td>\n",
       "      <td>0</td>\n",
       "      <td>0</td>\n",
       "      <td>0</td>\n",
       "      <td>1</td>\n",
       "    </tr>\n",
       "    <tr>\n",
       "      <th>1939</th>\n",
       "      <td>137</td>\n",
       "      <td>170</td>\n",
       "      <td>422497</td>\n",
       "      <td>422528</td>\n",
       "      <td>419</td>\n",
       "      <td>97</td>\n",
       "      <td>47</td>\n",
       "      <td>52715</td>\n",
       "      <td>117</td>\n",
       "      <td>140</td>\n",
       "      <td>...</td>\n",
       "      <td>-0.0606</td>\n",
       "      <td>-0.0171</td>\n",
       "      <td>0.9919</td>\n",
       "      <td>0</td>\n",
       "      <td>0</td>\n",
       "      <td>0</td>\n",
       "      <td>0</td>\n",
       "      <td>0</td>\n",
       "      <td>0</td>\n",
       "      <td>1</td>\n",
       "    </tr>\n",
       "    <tr>\n",
       "      <th>1940</th>\n",
       "      <td>1261</td>\n",
       "      <td>1281</td>\n",
       "      <td>87951</td>\n",
       "      <td>87967</td>\n",
       "      <td>103</td>\n",
       "      <td>26</td>\n",
       "      <td>22</td>\n",
       "      <td>11682</td>\n",
       "      <td>101</td>\n",
       "      <td>133</td>\n",
       "      <td>...</td>\n",
       "      <td>-0.2000</td>\n",
       "      <td>-0.1139</td>\n",
       "      <td>0.5296</td>\n",
       "      <td>0</td>\n",
       "      <td>0</td>\n",
       "      <td>0</td>\n",
       "      <td>0</td>\n",
       "      <td>0</td>\n",
       "      <td>0</td>\n",
       "      <td>1</td>\n",
       "    </tr>\n",
       "  </tbody>\n",
       "</table>\n",
       "<p>5 rows × 34 columns</p>\n",
       "</div>"
      ],
      "text/plain": [
       "        0     1       2       3    4   5   6      7    8    9   ...      24  \\\n",
       "1936   249   277  325780  325796  273  54  22  35033  119  141  ... -0.4286   \n",
       "1937   144   175  340581  340598  287  44  24  34599  112  133  ... -0.4516   \n",
       "1938   145   174  386779  386794  292  40  22  37572  120  140  ... -0.4828   \n",
       "1939   137   170  422497  422528  419  97  47  52715  117  140  ... -0.0606   \n",
       "1940  1261  1281   87951   87967  103  26  22  11682  101  133  ... -0.2000   \n",
       "\n",
       "          25      26  27  28  29  30  31  32  33  \n",
       "1936  0.0026  0.7254   0   0   0   0   0   0   1  \n",
       "1937 -0.0582  0.8173   0   0   0   0   0   0   1  \n",
       "1938  0.0052  0.7079   0   0   0   0   0   0   1  \n",
       "1939 -0.0171  0.9919   0   0   0   0   0   0   1  \n",
       "1940 -0.1139  0.5296   0   0   0   0   0   0   1  \n",
       "\n",
       "[5 rows x 34 columns]"
      ]
     },
     "execution_count": 2,
     "metadata": {},
     "output_type": "execute_result"
    }
   ],
   "source": [
    "df = pd.read_csv('./data/steel+plates+faults/Faults.NNA', sep = '\\t', header = None)\n",
    "df.tail()"
   ]
  },
  {
   "cell_type": "code",
   "execution_count": 3,
   "id": "5acd938c-5db7-4466-a4cc-7993b4a6a917",
   "metadata": {},
   "outputs": [
    {
     "data": {
      "text/html": [
       "<div>\n",
       "<style scoped>\n",
       "    .dataframe tbody tr th:only-of-type {\n",
       "        vertical-align: middle;\n",
       "    }\n",
       "\n",
       "    .dataframe tbody tr th {\n",
       "        vertical-align: top;\n",
       "    }\n",
       "\n",
       "    .dataframe thead th {\n",
       "        text-align: right;\n",
       "    }\n",
       "</style>\n",
       "<table border=\"1\" class=\"dataframe\">\n",
       "  <thead>\n",
       "    <tr style=\"text-align: right;\">\n",
       "      <th></th>\n",
       "      <th>0</th>\n",
       "      <th>1</th>\n",
       "      <th>2</th>\n",
       "      <th>3</th>\n",
       "      <th>4</th>\n",
       "      <th>5</th>\n",
       "      <th>6</th>\n",
       "      <th>7</th>\n",
       "      <th>8</th>\n",
       "      <th>9</th>\n",
       "      <th>...</th>\n",
       "      <th>18</th>\n",
       "      <th>19</th>\n",
       "      <th>20</th>\n",
       "      <th>21</th>\n",
       "      <th>22</th>\n",
       "      <th>23</th>\n",
       "      <th>24</th>\n",
       "      <th>25</th>\n",
       "      <th>26</th>\n",
       "      <th>label</th>\n",
       "    </tr>\n",
       "  </thead>\n",
       "  <tbody>\n",
       "    <tr>\n",
       "      <th>0</th>\n",
       "      <td>42</td>\n",
       "      <td>50</td>\n",
       "      <td>270900</td>\n",
       "      <td>270944</td>\n",
       "      <td>267</td>\n",
       "      <td>17</td>\n",
       "      <td>44</td>\n",
       "      <td>24220</td>\n",
       "      <td>76</td>\n",
       "      <td>108</td>\n",
       "      <td>...</td>\n",
       "      <td>0.4706</td>\n",
       "      <td>1.0000</td>\n",
       "      <td>1.0</td>\n",
       "      <td>2.4265</td>\n",
       "      <td>0.9031</td>\n",
       "      <td>1.6435</td>\n",
       "      <td>0.8182</td>\n",
       "      <td>-0.2913</td>\n",
       "      <td>0.5822</td>\n",
       "      <td>1</td>\n",
       "    </tr>\n",
       "    <tr>\n",
       "      <th>1</th>\n",
       "      <td>645</td>\n",
       "      <td>651</td>\n",
       "      <td>2538079</td>\n",
       "      <td>2538108</td>\n",
       "      <td>108</td>\n",
       "      <td>10</td>\n",
       "      <td>30</td>\n",
       "      <td>11397</td>\n",
       "      <td>84</td>\n",
       "      <td>123</td>\n",
       "      <td>...</td>\n",
       "      <td>0.6000</td>\n",
       "      <td>0.9667</td>\n",
       "      <td>1.0</td>\n",
       "      <td>2.0334</td>\n",
       "      <td>0.7782</td>\n",
       "      <td>1.4624</td>\n",
       "      <td>0.7931</td>\n",
       "      <td>-0.1756</td>\n",
       "      <td>0.2984</td>\n",
       "      <td>1</td>\n",
       "    </tr>\n",
       "    <tr>\n",
       "      <th>2</th>\n",
       "      <td>829</td>\n",
       "      <td>835</td>\n",
       "      <td>1553913</td>\n",
       "      <td>1553931</td>\n",
       "      <td>71</td>\n",
       "      <td>8</td>\n",
       "      <td>19</td>\n",
       "      <td>7972</td>\n",
       "      <td>99</td>\n",
       "      <td>125</td>\n",
       "      <td>...</td>\n",
       "      <td>0.7500</td>\n",
       "      <td>0.9474</td>\n",
       "      <td>1.0</td>\n",
       "      <td>1.8513</td>\n",
       "      <td>0.7782</td>\n",
       "      <td>1.2553</td>\n",
       "      <td>0.6667</td>\n",
       "      <td>-0.1228</td>\n",
       "      <td>0.2150</td>\n",
       "      <td>1</td>\n",
       "    </tr>\n",
       "    <tr>\n",
       "      <th>3</th>\n",
       "      <td>853</td>\n",
       "      <td>860</td>\n",
       "      <td>369370</td>\n",
       "      <td>369415</td>\n",
       "      <td>176</td>\n",
       "      <td>13</td>\n",
       "      <td>45</td>\n",
       "      <td>18996</td>\n",
       "      <td>99</td>\n",
       "      <td>126</td>\n",
       "      <td>...</td>\n",
       "      <td>0.5385</td>\n",
       "      <td>1.0000</td>\n",
       "      <td>1.0</td>\n",
       "      <td>2.2455</td>\n",
       "      <td>0.8451</td>\n",
       "      <td>1.6532</td>\n",
       "      <td>0.8444</td>\n",
       "      <td>-0.1568</td>\n",
       "      <td>0.5212</td>\n",
       "      <td>1</td>\n",
       "    </tr>\n",
       "    <tr>\n",
       "      <th>4</th>\n",
       "      <td>1289</td>\n",
       "      <td>1306</td>\n",
       "      <td>498078</td>\n",
       "      <td>498335</td>\n",
       "      <td>2409</td>\n",
       "      <td>60</td>\n",
       "      <td>260</td>\n",
       "      <td>246930</td>\n",
       "      <td>37</td>\n",
       "      <td>126</td>\n",
       "      <td>...</td>\n",
       "      <td>0.2833</td>\n",
       "      <td>0.9885</td>\n",
       "      <td>1.0</td>\n",
       "      <td>3.3818</td>\n",
       "      <td>1.2305</td>\n",
       "      <td>2.4099</td>\n",
       "      <td>0.9338</td>\n",
       "      <td>-0.1992</td>\n",
       "      <td>1.0000</td>\n",
       "      <td>1</td>\n",
       "    </tr>\n",
       "  </tbody>\n",
       "</table>\n",
       "<p>5 rows × 28 columns</p>\n",
       "</div>"
      ],
      "text/plain": [
       "      0     1        2        3     4   5    6       7   8    9  ...      18  \\\n",
       "0    42    50   270900   270944   267  17   44   24220  76  108  ...  0.4706   \n",
       "1   645   651  2538079  2538108   108  10   30   11397  84  123  ...  0.6000   \n",
       "2   829   835  1553913  1553931    71   8   19    7972  99  125  ...  0.7500   \n",
       "3   853   860   369370   369415   176  13   45   18996  99  126  ...  0.5385   \n",
       "4  1289  1306   498078   498335  2409  60  260  246930  37  126  ...  0.2833   \n",
       "\n",
       "       19   20      21      22      23      24      25      26  label  \n",
       "0  1.0000  1.0  2.4265  0.9031  1.6435  0.8182 -0.2913  0.5822      1  \n",
       "1  0.9667  1.0  2.0334  0.7782  1.4624  0.7931 -0.1756  0.2984      1  \n",
       "2  0.9474  1.0  1.8513  0.7782  1.2553  0.6667 -0.1228  0.2150      1  \n",
       "3  1.0000  1.0  2.2455  0.8451  1.6532  0.8444 -0.1568  0.5212      1  \n",
       "4  0.9885  1.0  3.3818  1.2305  2.4099  0.9338 -0.1992  1.0000      1  \n",
       "\n",
       "[5 rows x 28 columns]"
      ]
     },
     "execution_count": 3,
     "metadata": {},
     "output_type": "execute_result"
    }
   ],
   "source": [
    "# onehot -> label\n",
    "label = df.iloc[:, -7:].apply(lambda x: (x * [1,2,3,4,5,6,7]).sum(), axis = 1)\n",
    "df = df.iloc[:, :-7]\n",
    "df['label'] = label\n",
    "df.head()"
   ]
  },
  {
   "cell_type": "markdown",
   "id": "45c729a1-1f23-4c36-91a2-a535c5a1b2da",
   "metadata": {},
   "source": [
    "Den detaillierten Modellierungsprozess finden Sie im Anwendungsfall 1, hier gehen wir direkt zur Modellierung über."
   ]
  },
  {
   "cell_type": "code",
   "execution_count": 5,
   "id": "c5b5966a-f206-402d-9952-f4d2fcf9a6ea",
   "metadata": {
    "tags": []
   },
   "outputs": [
    {
     "data": {
      "text/plain": [
       "((1358, 27), (583, 27), (1358,), (583,))"
      ]
     },
     "execution_count": 5,
     "metadata": {},
     "output_type": "execute_result"
    }
   ],
   "source": [
    "X=df.drop('label', axis=1)\n",
    "y=df['label']\n",
    "X_train, X_test, y_train, y_test = train_test_split(X, y, test_size=0.3, random_state=0)\n",
    "X_train.shape, X_test.shape, y_train.shape,y_test.shape"
   ]
  },
  {
   "cell_type": "code",
   "execution_count": 6,
   "id": "73c6bcf3-ac2a-4db0-b250-dd3d895839b8",
   "metadata": {
    "tags": []
   },
   "outputs": [],
   "source": [
    "sc_x = StandardScaler()\n",
    "X_train = pd.DataFrame(sc_x.fit_transform(X_train), columns=X.columns.values)\n",
    "X_test = pd.DataFrame(sc_x.transform(X_test), columns=X.columns.values)"
   ]
  },
  {
   "cell_type": "code",
   "execution_count": 7,
   "id": "dbdd5583-f969-48c7-a705-ed980261d759",
   "metadata": {},
   "outputs": [],
   "source": [
    "from sklearn.metrics import classification_report"
   ]
  },
  {
   "cell_type": "code",
   "execution_count": 11,
   "id": "eff79279-4ed9-4235-8899-5bb7ade11d9b",
   "metadata": {
    "scrolled": true,
    "tags": []
   },
   "outputs": [
    {
     "name": "stdout",
     "output_type": "stream",
     "text": [
      "              precision    recall  f1-score   support\n",
      "\n",
      "           1       0.64      0.35      0.46        51\n",
      "           2       0.91      0.80      0.85        61\n",
      "           3       0.98      0.95      0.97       122\n",
      "           4       0.88      0.96      0.92        23\n",
      "           5       1.00      0.85      0.92        13\n",
      "           6       0.65      0.64      0.65       120\n",
      "           7       0.65      0.77      0.71       193\n",
      "\n",
      "    accuracy                           0.76       583\n",
      "   macro avg       0.82      0.76      0.78       583\n",
      "weighted avg       0.76      0.76      0.75       583\n",
      "\n"
     ]
    }
   ],
   "source": [
    "from sklearn.ensemble import RandomForestClassifier\n",
    "model = RandomForestClassifier()\n",
    "model.fit(X_train, y_train)\n",
    "\n",
    "print(classification_report(y_test, model.predict(X_test)))\n"
   ]
  },
  {
   "cell_type": "markdown",
   "id": "b7477604-4163-4052-83c4-f13e4f2caa2e",
   "metadata": {},
   "source": [
    "Die obige Abbildung zeigt die Leistung der maschinellen Lernmethode Random Forest bei dieser Aufgabe. Die Genauigkeit gibt an, wie viele der vom Modell getroffenen Vorhersagen richtig sind, und der Recall gibt den Anteil der entsprechenden Klassen an, die das Modell herausfinden kann. Die Genauigkeit der Kategorie 5 beträgt beispielsweise 1, was bedeutet, dass alle vom Modell Vorhersagen der Kategorie 5 richtig sind. Da das Modell jedoch einige der Datenpunkte, die ursprünglich zur Kategorie 5 gehörten, als andere Kategorien bewertete, führte dies dazu, dass das Modell nur 85 % aller Datenpunkte gefunden hat, die zur Kategorie 5 gehörten. Auch hier zeigt sich, dass ein einzelnes Ergebnis kein guter Indikator für die Leistung des Modells ist.\n",
    "Der F1-Score ist ein Wert, der aus der Kombination von Recall und Genauigkeit berechnet wird. Größere Werte entsprechen besseren Ergebnissen.\n",
    "\n",
    "Ist dieses Ergebnis also das optimale Ergebnis, das mit Methoden des maschinellen Lernens erzielt werden kann? Nein. Es gibt zwei verschiedene Möglichkeiten, die Leistung des Modells weiter zu verbessern. Die eine ist das Feature-Engineering, eine Methode zur automatischen Generierung neuer, nützlicher Merkmale, um bessere Ergebnisse mit dem Modell zu erzielen. Die andere ist das automatische maschinelle Lernen, das die Leistung des Modells durch die automatische Auswahl der optimalen Modellparameter verbessert. Im Folgenden wird der erste Ansatz anhand eines Beispiels erläutert.\n",
    "\n",
    "# Einführung in das Automatische Feature Engineering"
   ]
  },
  {
   "cell_type": "code",
   "execution_count": 12,
   "id": "7f0bfc6b-d7f6-4f33-b930-ce384ca995ba",
   "metadata": {},
   "outputs": [],
   "source": [
    "tmp = copy.deepcopy(X_train)\n",
    "tmp['label'] = y_train\n",
    "tmp.to_csv('./tmp/fault_detection.csv')"
   ]
  },
  {
   "cell_type": "code",
   "execution_count": 13,
   "id": "0f4d333a-62d2-4abc-9474-3d02441575d0",
   "metadata": {},
   "outputs": [],
   "source": [
    "import sys\n",
    "sys.path.append('./src/')\n",
    "import logging\n",
    "logging.basicConfig(level=logging.ERROR, format='%(asctime)s - %(name)s - %(levelname)s - %(message)s')\n",
    "logger = logging.getLogger(__name__)\n",
    "#logger.setLevel(logging.INFO)\n",
    "logger.setLevel(logging.WARNING)"
   ]
  },
  {
   "cell_type": "code",
   "execution_count": 14,
   "id": "80f4f4ee-42d2-4b79-b80c-f57bb1159691",
   "metadata": {},
   "outputs": [],
   "source": [
    "from joblib import Parallel, delayed, parallel_backend\n",
    "import pickle\n",
    "import torch\n",
    "\n",
    "# ignore warning\n",
    "import warnings\n",
    "warnings.filterwarnings(\"ignore\")\n",
    "pd.options.display.max_columns = 50\n",
    "\n",
    "# MCTS\n",
    "from mcafe.mct import MC_node, MC_edge, MCFE_tree\n",
    "from mcafe.state import State\n",
    "from mcafe.agent import Agent\n",
    "from mcafe.game import FE\n",
    "from mcafe.value_network import Value_network\n",
    "from mcafe.nn_scorer import NN_scorer"
   ]
  },
  {
   "cell_type": "markdown",
   "id": "8476575a",
   "metadata": {},
   "source": [
    "Hier wird ein neuronales Netzwerkmodell namens 'Value_network' wird initialisiert:\n",
    "- Dieses Modell hat eine Eingangsgröße von 26, \n",
    "- Eine versteckte Größe von 32\n",
    "- Eine Batch-First-Konfiguration. Wenn 'batch_first' auf 'True gesetzt' ist, bedeutet dies, dass die Eingabedaten in der Form '(batch_size, sequence_length, input_size)' vorliegen. Das heißt, die erste Dimension des Eingabetensors ist die Batch-Dimension, gefolgt von der Sequenzlänge und schließlich den Merkmalsdimensionen. Wenn 'batch_first' auf 'False' gesetzt ist, wird die Eingabe in der Form '(sequence_length, batch_size, input_size)' erwartet.\n",
    "- Und ist bidirektional. Wenn 'bidirectional' auf 'True' gesetzt ist, wird das neuronale Netzwerk als bidirektionales Netzwerk konfiguriert. Das bedeutet, dass es Informationen sowohl von vorwärts als auch von rückwärts durch die Sequenz verarbeitet.Die Netzwerkarchitektur hat dann doppelt so viele versteckte Einheiten wie angegeben, da es separate versteckte Einheiten für die vorwärts- und rückwärtsgerichteten Durchgänge gibt.\n",
    "- Ein logger wird ebenfalls übergeben. Der Logger kann verwendet werden, um Informationen wie Verlustwerte, Metriken, Fortschritt und Fehlermeldungen aufzuzeichnen. Es ist besonders nützlich, um den Trainingsfortschritt zu überwachen, Fehler zu debuggen und die Leistung des Modells zu bewerten.\n",
    "\n",
    "Danach wird ein Objekt 'NN_scorer' erstellt, das das zuvor initialisierte neuronale Netzwerkmodell verwendet. Der 'NN_scorer' wird verwendet, um das neuronale Netzwerk zu trainieren und zu bewerten. Dabei werden die Trainingsdaten 20 mal in das Neueronale Netz gegeben (daher 20 Epochen).\n",
    "\n",
    "Dann wird ein Objekt 'FE' (Feature Engineering) erstellt. Es verwendet die CSV-Datei, die zuvor definiert wurde ('./tmp/fault_detection.csv'). Es verwendet die folgenden Parameter:\n",
    "- Der Parameter art = 'C' zeigt an, dass es sich um ein Klassifikationsproblem handelt. \n",
    "- Es wird angegeben, dass das Feature Engineering nicht parallel erfolgen soll (parallel = False). \n",
    "- Der Parameter datatype = 'normal' zeigt, dass die Daten im normalen Format vorliegen, d. h. es handelt sich um typische numerische oder kategorische Daten, die für das Feature Engineering verwendet werden können.\n",
    "- Darüber hinaus wird Subsampling aktiviert. Subsampling bezieht sich auf die Technik, bei der eine Teilmenge der Daten zufällig ausgewählt wird, um das Trainingsset zu reduzieren. Dies kann nützlich sein, wenn die Datenmenge groß ist und das Training lange dauert oder wenn Speicher- oder Rechenressourcen begrenzt sind. Durch Subsampling kann die Trainingszeit verkürzt werden, ohne die Gesamtleistung des Modells stark zu beeinträchtigen, insbesondere wenn die Daten gut verteilt sind.\n",
    "- Das ausbalancierte Sampling ist deaktiviert. Ausbalanciertes Sampling bezieht sich auf die Technik, bei der die Trainingsdaten so ausgewählt werden, dass jede Klasse in den Daten ungefähr die gleiche Anzahl von Beispielen hat. Dies ist wichtig, um das Modell vor einer Verzerrung zu schützen, wenn eine Klasse im Vergleich zu anderen Klassen überrepräsentiert ist. Durch das Deaktivieren des ausbalancierten Samplings können alle verfügbaren Daten für das Training verwendet werden, unabhängig von der Verteilung der Klassen. Dies kann jedoch dazu führen, dass das Modell für seltene Klassen weniger genau ist oder dass das Modell eine Verzerrung aufweist, wenn die Daten unausgeglichen sind.\n",
    "\n",
    "Anschließend wird ein Agent-Objekt erstellt, das das vorher erstellte Feature-Engineering-Objekt und den Scorern verwendet. Der Agent hat eine maximale Tiefe von 6. Der Algorithmus hat also eine rekursions Tiefe von 6 und stoppt dann. Der Agent wird ausgeführt und es werden verschiedene Ergebnisse ausgegeben. Die Ergebnisse werden in einer .pkl-Datei gespeichert."
   ]
  },
  {
   "cell_type": "code",
   "execution_count": 15,
   "id": "ac104ea4-dca6-4e99-a722-5652c7bbc707",
   "metadata": {
    "scrolled": true
   },
   "outputs": [
    {
     "name": "stderr",
     "output_type": "stream",
     "text": [
      "2024-04-08 15:11:14,923 - __main__ - WARNING - Original shape of the dataset is (1358, 29)\n",
      "2024-04-08 15:11:14,930 - __main__ - WARNING - Shape of the dataset after label encoding is (1358, 29)\n"
     ]
    },
    {
     "name": "stdout",
     "output_type": "stream",
     "text": [
      "   Unnamed: 0         0         1         2         3         4         5  \\\n",
      "0           0  0.937875  0.927113 -0.437239 -0.437257 -0.304946 -0.236440   \n",
      "1           1 -0.762507 -0.852754 -0.728908 -0.728927 -0.316605 -0.221595   \n",
      "2           2 -0.477169 -0.580802 -0.751391 -0.751413 -0.333739 -0.313636   \n",
      "3           3 -1.020670 -0.804046  0.305508  0.305511  0.724909  0.428634   \n",
      "4           4  0.957286  0.945378  0.984134  0.984101 -0.314662 -0.248316   \n",
      "\n",
      "          6         7         8         9        10        11        12  \\\n",
      "0 -0.124827 -0.339143  1.045784  0.238859 -0.569012 -0.797587  0.797587   \n",
      "1 -0.128799 -0.355707  0.643932  0.185156 -0.721417  1.253782 -1.253782   \n",
      "2 -0.162558 -0.376720  1.107607  0.238859 -0.693707 -0.797587  0.797587   \n",
      "3  0.073755  0.772981 -1.427149 -0.244475 -0.693707 -0.797587  0.797587   \n",
      "4 -0.130785 -0.359005 -0.128859 -1.211143 -0.652142  1.253782 -1.253782   \n",
      "\n",
      "         13        14        15        16        17        18        19  \\\n",
      "0 -0.704814  0.366185  0.786167  1.058430 -0.299016  0.103148 -0.140153   \n",
      "1 -0.138393 -0.253960  0.794929  0.115082 -0.307133 -0.349038 -1.047811   \n",
      "2 -0.516007  0.464383 -0.169719  0.010143 -0.462971  1.596472  0.794150   \n",
      "3 -0.704814 -0.908392  0.617481 -0.676729  1.567789  0.317947 -1.127317   \n",
      "4  0.050413  0.276642  1.411253  0.848919 -0.308756  0.322054 -0.065375   \n",
      "\n",
      "         20        21        22        23        24        25        26  label  \n",
      "0 -1.177309 -0.306654 -0.033096 -0.330973 -0.439360  0.722389  0.101286      0  \n",
      "1 -1.177309 -0.560948 -0.077277 -0.720865 -0.949320  0.394718 -0.566131      7  \n",
      "2 -1.177309 -1.620162 -1.027378 -1.777185 -1.006048  0.874810 -1.332228      7  \n",
      "3 -1.177309  1.646175  1.896283  0.946972 -1.377360 -0.392229  1.213352      0  \n",
      "4 -1.177309 -0.509679 -0.077277 -0.444331 -0.552619 -0.907908 -0.176436      7  \n"
     ]
    },
    {
     "name": "stderr",
     "output_type": "stream",
     "text": [
      "2024-04-08 15:11:18,938 - __main__ - WARNING - The Init mean performance of the given dataset is:\t 0.539015637073446, std is:\t 0.017781412601804453\n",
      "2024-04-08 15:11:18,942 - __main__ - WARNING - XXXXXXXXXXXXXXXXXXXXXXXXXXXXXXXXXXXXXXXXXXXXXXXXXXXXXXXXXXXX\n",
      "2024-04-08 15:11:18,943 - __main__ - WARNING - Round:\t0\n",
      "2024-04-08 15:11:18,943 - __main__ - WARNING - XXXXXXXXXXXXXXXXXXXXXXXXXXXXXXXXXXXXXXXXXXXXXXXXXXXXXXXXXXXX\n",
      "2024-04-08 15:11:18,957 - __main__ - WARNING - Run feature transformation: ['prod', 'xgbRegressorTransform', 'radian']\n"
     ]
    },
    {
     "name": "stdout",
     "output_type": "stream",
     "text": [
      "Init performance: 0.539015637073446\n"
     ]
    },
    {
     "name": "stderr",
     "output_type": "stream",
     "text": [
      "2024-04-08 15:11:21,299 - __main__ - WARNING - Add the best feature in set to the best features record.\n",
      "2024-04-08 15:11:21,300 - __main__ - WARNING - Run feature transformation: ['prod', 'xgbRegressorTransform', 'linearRegressorTransform']\n",
      "2024-04-08 15:11:21,646 - __main__ - WARNING - Add the best feature in set to the best features record.\n",
      "2024-04-08 15:11:21,647 - __main__ - WARNING - Run feature transformation: ['prod', 'tanh', 'kernelapproxrbf']\n",
      "2024-04-08 15:11:24,361 - __main__ - WARNING - Add the best feature in set to the best features record.\n",
      "2024-04-08 15:11:24,362 - __main__ - WARNING - Run feature transformation: ['prod', 'relu', 'mlpRegressorTransform']\n",
      "2024-04-08 15:11:30,042 - __main__ - WARNING - Add the best feature in set to the best features record.\n",
      "2024-04-08 15:11:30,044 - __main__ - WARNING - Run feature transformation: ['prod', 'kernelapproxrbf', 'svrTransform']\n",
      "2024-04-08 15:11:32,321 - __main__ - WARNING - Add the best feature in set to the best features record.\n",
      "2024-04-08 15:11:32,323 - __main__ - WARNING - Run feature transformation: ['prod', 'adde', 'degree']\n",
      "2024-04-08 15:11:36,010 - __main__ - WARNING - Add the best feature in set to the best features record.\n",
      "2024-04-08 15:11:36,011 - __main__ - WARNING - Run feature transformation: ['prod', 'diff', 'kernelapproxrbf']\n",
      "2024-04-08 15:11:38,221 - __main__ - WARNING - Run feature transformation: ['prod', 'mlpRegressorTransform', 'prod']\n",
      "2024-04-08 15:11:43,795 - __main__ - WARNING - Add the best feature in set to the best features record.\n",
      "2024-04-08 15:11:43,797 - __main__ - WARNING - Run feature transformation: ['prod', 'tanh', 'xgbRegressorTransform']\n",
      "2024-04-08 15:11:47,526 - __main__ - WARNING - Add the best feature in set to the best features record.\n",
      "2024-04-08 15:11:47,527 - __main__ - WARNING - Run feature transformation: ['prod', 'linearRegressorTransform', 'add']\n",
      "2024-04-08 15:11:51,583 - __main__ - WARNING - Add the best feature in set to the best features record.\n",
      "2024-04-08 15:11:51,585 - __main__ - WARNING - Performances of the given node is: [0.5694186479943981, 0.579763478438029, 0.5484530373619374, 0.5951599283883842, 0.5515380985291802, 0.6022198793048987, 0.5551095167742425, 0.5583235206975551, 0.5757542979238942, 0.5855041617258482]\n",
      "2024-04-08 15:11:51,586 - __main__ - WARNING - Mean perf is: 0.572124, Mean init is: 0.539016, Std init is: 0.017781 ==> reward: 4.000000\n",
      "2024-04-08 15:11:51,588 - __main__ - WARNING - Run feature transformation: ['prod']\n",
      "2024-04-08 15:12:04,239 - __main__ - WARNING - Mean init is: 0.539015637073446, mean of new node is: 0.5359885624959263\n",
      "2024-04-08 15:12:04,247 - __main__ - WARNING - XXXXXXXXXXXXXXXXXXXXXXXXXXXXXXXXXXXXXXXXXXXXXXXXXXXXXXXXXXXX\n",
      "2024-04-08 15:12:04,247 - __main__ - WARNING - Round:\t1\n",
      "2024-04-08 15:12:04,248 - __main__ - WARNING - XXXXXXXXXXXXXXXXXXXXXXXXXXXXXXXXXXXXXXXXXXXXXXXXXXXXXXXXXXXX\n",
      "2024-04-08 15:12:04,251 - __main__ - WARNING - Run feature transformation: ['abs', 'prod', 'radian', 'radian']\n"
     ]
    },
    {
     "name": "stdout",
     "output_type": "stream",
     "text": [
      "['abs', 'cos', 'exp', 'ln', 'sigmoid', 'square', 'tanh', 'relu', 'reciprocal', 'negative', 'adde', 'degree', 'radian', 'div', 'minus', 'prod', 'add', 'timeagg', 'diff', 'kernelapproxrbf', 'zscore', 'decisionTreeRegressorTransform', 'mlpRegressorTransform', 'linearRegressorTransform', 'svrTransform', 'xgbRegressorTransform', 'parameter']\n",
      "W: [1, 1, 1, 1, 1, 1, 1, 1, 1, 1, 1, 1, 1, 1, 1, 4, 1, 1, 1, 1, 1, 1, 1, 1, 1, 1]\n",
      "N: [0, 0, 0, 0, 0, 0, 0, 0, 0, 0, 0, 0, 0, 0, 0, 1, 0, 0, 0, 0, 0, 0, 0, 0, 0, 0]\n",
      "L: [1, 1, 1, 1, 1, 1, 1, 1, 1, 1, 1, 1, 1, 1, 1, 1, 1, 1, 1, 1, 1, 1, 1, 1, 1, 1]\n",
      "W_rate: [0.5, 0.5, 0.5, 0.5, 0.5, 0.5, 0.5, 0.5, 0.5, 0.5, 0.5, 0.5, 0.5, 0.5, 0.5, 0.8, 0.5, 0.5, 0.5, 0.5, 0.5, 0.5, 0.5, 0.5, 0.5, 0.5]\n",
      "Value: [0, 0, 0, 0, 0, 0, 0, 0, 0, 0, 0, 0, 0, 0, 0, 0, 0, 0, 0, 0, 0, 0, 0, 0, 0, 0]\n"
     ]
    },
    {
     "name": "stderr",
     "output_type": "stream",
     "text": [
      "2024-04-08 15:12:06,111 - __main__ - WARNING - Add the best feature in set to the best features record.\n",
      "2024-04-08 15:12:06,112 - __main__ - WARNING - Run feature transformation: ['abs', 'prod', 'svrTransform', 'prod']\n",
      "2024-04-08 15:12:07,787 - __main__ - WARNING - Run feature transformation: ['abs', 'prod', 'cos', 'xgbRegressorTransform']\n",
      "2024-04-08 15:12:09,782 - __main__ - WARNING - Add the best feature in set to the best features record.\n",
      "2024-04-08 15:12:09,783 - __main__ - WARNING - Run feature transformation: ['abs', 'prod', 'xgbRegressorTransform', 'negative']\n",
      "2024-04-08 15:12:11,016 - __main__ - WARNING - Add the best feature in set to the best features record.\n",
      "2024-04-08 15:12:11,017 - __main__ - WARNING - Run feature transformation: ['abs', 'prod', 'relu', 'reciprocal']\n",
      "2024-04-08 15:12:12,506 - __main__ - WARNING - Add the best feature in set to the best features record.\n",
      "2024-04-08 15:12:12,508 - __main__ - WARNING - Run feature transformation: ['abs', 'prod', 'relu', 'timeagg']\n",
      "2024-04-08 15:12:13,506 - __main__ - WARNING - Add the best feature in set to the best features record.\n",
      "2024-04-08 15:12:13,507 - __main__ - WARNING - Run feature transformation: ['abs', 'prod', 'cos', 'cos']\n",
      "2024-04-08 15:12:15,288 - __main__ - WARNING - Run feature transformation: ['abs', 'prod', 'abs', 'radian']\n",
      "2024-04-08 15:12:16,519 - __main__ - WARNING - Add the best feature in set to the best features record.\n",
      "2024-04-08 15:12:16,520 - __main__ - WARNING - Run feature transformation: ['abs', 'prod', 'degree', 'prod']\n",
      "2024-04-08 15:12:18,988 - __main__ - WARNING - Add the best feature in set to the best features record.\n",
      "2024-04-08 15:12:18,989 - __main__ - WARNING - Run feature transformation: ['abs', 'prod', 'sigmoid', 'square']\n",
      "2024-04-08 15:12:20,694 - __main__ - WARNING - Add the best feature in set to the best features record.\n",
      "2024-04-08 15:12:20,695 - __main__ - WARNING - Performances of the given node is: [0.5557520447581951, 0.5695499865047902, 0.5932502788659957, 0.5800964627708801, 0.5498853544785229, 0.5747176635911898, 0.5405217969847089, 0.5567364952429309, 0.5552129505491338, 0.5649182323583745]\n",
      "2024-04-08 15:12:20,697 - __main__ - WARNING - Mean perf is: 0.564064, Mean init is: 0.539016, Std init is: 0.017781 ==> reward: 3.000000\n",
      "2024-04-08 15:12:20,766 - __main__ - WARNING - Performance of scorer is: 0.03749282285571098\n",
      "2024-04-08 15:12:20,766 - __main__ - WARNING - Run feature transformation: ['abs', 'prod']\n",
      "2024-04-08 15:12:28,060 - __main__ - WARNING - Mean init is: 0.539015637073446, mean of new node is: 0.5242190986166003\n",
      "2024-04-08 15:12:28,071 - __main__ - WARNING - XXXXXXXXXXXXXXXXXXXXXXXXXXXXXXXXXXXXXXXXXXXXXXXXXXXXXXXXXXXX\n",
      "2024-04-08 15:12:28,072 - __main__ - WARNING - Round:\t2\n",
      "2024-04-08 15:12:28,072 - __main__ - WARNING - XXXXXXXXXXXXXXXXXXXXXXXXXXXXXXXXXXXXXXXXXXXXXXXXXXXXXXXXXXXX\n",
      "2024-04-08 15:12:28,075 - __main__ - WARNING - Run feature transformation: ['cos', 'timeagg', 'ln', 'diff']\n"
     ]
    },
    {
     "name": "stdout",
     "output_type": "stream",
     "text": [
      "['abs', 'cos', 'exp', 'ln', 'sigmoid', 'square', 'tanh', 'relu', 'reciprocal', 'negative', 'adde', 'degree', 'radian', 'div', 'minus', 'add', 'timeagg', 'diff', 'kernelapproxrbf', 'zscore', 'decisionTreeRegressorTransform', 'mlpRegressorTransform', 'linearRegressorTransform', 'svrTransform', 'xgbRegressorTransform', 'prod', 'parameter']\n",
      "W: [4, 1, 1, 1, 1, 1, 1, 1, 1, 1, 1, 1, 1, 1, 1, 1, 1, 1, 1, 1, 1, 1, 1, 1, 1, 4]\n",
      "N: [1, 0, 0, 0, 0, 0, 0, 0, 0, 0, 0, 0, 0, 0, 0, 0, 0, 0, 0, 0, 0, 0, 0, 0, 0, 1]\n",
      "L: [1, 1, 1, 1, 1, 1, 1, 1, 1, 1, 1, 1, 1, 1, 1, 1, 1, 1, 1, 1, 1, 1, 1, 1, 1, 1]\n",
      "W_rate: [0.8, 0.5, 0.5, 0.5, 0.5, 0.5, 0.5, 0.5, 0.5, 0.5, 0.5, 0.5, 0.5, 0.5, 0.5, 0.5, 0.5, 0.5, 0.5, 0.5, 0.5, 0.5, 0.5, 0.5, 0.5, 0.8]\n",
      "Value: [0, 0, 0, 0, 0, 0, 0, 0, 0, 0, 0, 0, 0, 0, 0, 0, 0, 0, 0, 0, 0, 0, 0, 0, 0, 0]\n"
     ]
    },
    {
     "name": "stderr",
     "output_type": "stream",
     "text": [
      "2024-04-08 15:12:29,181 - __main__ - WARNING - Run feature transformation: ['cos', 'timeagg', 'linearRegressorTransform', 'div']\n",
      "2024-04-08 15:12:30,105 - __main__ - WARNING - Run feature transformation: ['cos', 'timeagg', 'svrTransform', 'radian']\n",
      "2024-04-08 15:12:30,911 - __main__ - WARNING - Run feature transformation: ['cos', 'timeagg', 'minus', 'decisionTreeRegressorTransform']\n",
      "2024-04-08 15:12:31,576 - __main__ - WARNING - Add the best feature in set to the best features record.\n",
      "2024-04-08 15:12:31,577 - __main__ - WARNING - Run feature transformation: ['cos', 'timeagg', 'negative', 'diff']\n",
      "2024-04-08 15:12:32,556 - __main__ - WARNING - Run feature transformation: ['cos', 'timeagg', 'add', 'square']\n",
      "2024-04-08 15:12:33,405 - __main__ - WARNING - Add the best feature in set to the best features record.\n",
      "2024-04-08 15:12:33,406 - __main__ - WARNING - Run feature transformation: ['cos', 'timeagg', 'xgbRegressorTransform', 'zscore']\n",
      "2024-04-08 15:12:34,425 - __main__ - WARNING - Add the best feature in set to the best features record.\n",
      "2024-04-08 15:12:34,425 - __main__ - WARNING - Run feature transformation: ['cos', 'timeagg', 'div', 'relu']\n",
      "2024-04-08 15:12:35,225 - __main__ - WARNING - Add the best feature in set to the best features record.\n",
      "2024-04-08 15:12:35,225 - __main__ - WARNING - Run feature transformation: ['cos', 'timeagg', 'svrTransform', 'timeagg']\n",
      "2024-04-08 15:12:36,204 - __main__ - WARNING - Run feature transformation: ['cos', 'timeagg', 'diff', 'linearRegressorTransform']\n",
      "2024-04-08 15:12:36,936 - __main__ - WARNING - Performances of the given node is: [0.5589398657847707, 0.5736863039059719, 0.5767699883815361, 0.5788888953719433, 0.5753371348380943, 0.5760922804244097, 0.5825086261627697, 0.5753896138160007, 0.5802896263317648, 0.5697700886100449]\n",
      "2024-04-08 15:12:36,938 - __main__ - WARNING - Mean perf is: 0.574767, Mean init is: 0.539016, Std init is: 0.017781 ==> reward: 4.000000\n",
      "2024-04-08 15:12:37,062 - __main__ - WARNING - Performance of scorer is: 0.026472261175513268\n",
      "2024-04-08 15:12:37,063 - __main__ - WARNING - Run feature transformation: ['cos', 'timeagg']\n",
      "2024-04-08 15:12:41,691 - __main__ - WARNING - Mean init is: 0.539015637073446, mean of new node is: 0.56763049815533\n",
      "2024-04-08 15:12:41,692 - __main__ - WARNING - the new init_performance is: [0.579972318020845, 0.5879003422190969, 0.5832965106691982, 0.5528592594040329, 0.5423770528956379, 0.5265590107010546, 0.54937704248366, 0.5886470177255279, 0.5660943461671869, 0.5992220812670588]\n",
      "2024-04-08 15:12:41,698 - __main__ - WARNING - XXXXXXXXXXXXXXXXXXXXXXXXXXXXXXXXXXXXXXXXXXXXXXXXXXXXXXXXXXXX\n",
      "2024-04-08 15:12:41,699 - __main__ - WARNING - Round:\t3\n",
      "2024-04-08 15:12:41,699 - __main__ - WARNING - XXXXXXXXXXXXXXXXXXXXXXXXXXXXXXXXXXXXXXXXXXXXXXXXXXXXXXXXXXXX\n",
      "2024-04-08 15:12:41,702 - __main__ - WARNING - Run feature transformation: ['exp', 'xgbRegressorTransform', 'xgbRegressorTransform', 'tanh']\n"
     ]
    },
    {
     "name": "stdout",
     "output_type": "stream",
     "text": [
      "['cos', 'exp', 'ln', 'sigmoid', 'square', 'tanh', 'relu', 'reciprocal', 'negative', 'adde', 'degree', 'radian', 'div', 'minus', 'add', 'timeagg', 'diff', 'kernelapproxrbf', 'zscore', 'decisionTreeRegressorTransform', 'mlpRegressorTransform', 'linearRegressorTransform', 'svrTransform', 'xgbRegressorTransform', 'abs', 'prod', 'parameter']\n",
      "W: [4, 1, 1, 1, 1, 1, 1, 1, 1, 1, 1, 1, 1, 1, 1, 1, 1, 1, 1, 1, 1, 1, 1, 1, 4, 4]\n",
      "N: [1, 0, 0, 0, 0, 0, 0, 0, 0, 0, 0, 0, 0, 0, 0, 0, 0, 0, 0, 0, 0, 0, 0, 0, 1, 1]\n",
      "L: [1, 1, 1, 1, 1, 1, 1, 1, 1, 1, 1, 1, 1, 1, 1, 1, 1, 1, 1, 1, 1, 1, 1, 1, 1, 1]\n",
      "W_rate: [0.8, 0.5, 0.5, 0.5, 0.5, 0.5, 0.5, 0.5, 0.5, 0.5, 0.5, 0.5, 0.5, 0.5, 0.5, 0.5, 0.5, 0.5, 0.5, 0.5, 0.5, 0.5, 0.5, 0.5, 0.8, 0.8]\n",
      "Value: [0, 0, 0, 0, 0, 0, 0, 0, 0, 0, 0, 0, 0, 0, 0, 0, 0, 0, 0, 0, 0, 0, 0, 0, 0, 0]\n"
     ]
    },
    {
     "name": "stderr",
     "output_type": "stream",
     "text": [
      "2024-04-08 15:12:42,464 - __main__ - WARNING - Run feature transformation: ['exp', 'xgbRegressorTransform', 'radian', 'tanh']\n",
      "2024-04-08 15:12:42,995 - __main__ - WARNING - Run feature transformation: ['exp', 'xgbRegressorTransform', 'sigmoid', 'sigmoid']\n",
      "2024-04-08 15:12:43,560 - __main__ - WARNING - Run feature transformation: ['exp', 'xgbRegressorTransform', 'zscore', 'prod']\n",
      "2024-04-08 15:12:44,086 - __main__ - WARNING - Run feature transformation: ['exp', 'xgbRegressorTransform', 'ln', 'timeagg']\n",
      "2024-04-08 15:12:44,479 - __main__ - WARNING - Add the best feature in set to the best features record.\n",
      "2024-04-08 15:12:44,479 - __main__ - WARNING - Run feature transformation: ['exp', 'xgbRegressorTransform', 'mlpRegressorTransform', 'minus']\n",
      "2024-04-08 15:12:48,161 - __main__ - WARNING - Run feature transformation: ['exp', 'xgbRegressorTransform', 'abs', 'minus']\n",
      "2024-04-08 15:12:48,673 - __main__ - WARNING - Run feature transformation: ['exp', 'xgbRegressorTransform', 'prod', 'kernelapproxrbf']\n",
      "2024-04-08 15:12:49,851 - __main__ - WARNING - Run feature transformation: ['exp', 'xgbRegressorTransform', 'ln', 'add']\n",
      "2024-04-08 15:12:51,325 - __main__ - WARNING - Run feature transformation: ['exp', 'xgbRegressorTransform', 'prod', 'add']\n",
      "2024-04-08 15:12:52,961 - __main__ - WARNING - Performances of the given node is: [0.3854448897756845, 0.4052780239422271, 0.28503327740609413, 0.29819306780567656, 0.5715077679090916, 0.5827360576961407, 0.530559122719766, 0.3845743128042339, 0.5543589239185112, 0.5077862336377691]\n",
      "2024-04-08 15:12:52,963 - __main__ - WARNING - Mean perf is: 0.450547, Mean init is: 0.567630, Std init is: 0.022642 ==> reward: -6.000000\n",
      "2024-04-08 15:12:53,091 - __main__ - WARNING - Performance of scorer is: 0.03705583140254021\n",
      "2024-04-08 15:12:53,098 - __main__ - WARNING - XXXXXXXXXXXXXXXXXXXXXXXXXXXXXXXXXXXXXXXXXXXXXXXXXXXXXXXXXXXX\n",
      "2024-04-08 15:12:53,098 - __main__ - WARNING - Round:\t4\n",
      "2024-04-08 15:12:53,099 - __main__ - WARNING - XXXXXXXXXXXXXXXXXXXXXXXXXXXXXXXXXXXXXXXXXXXXXXXXXXXXXXXXXXXX\n",
      "2024-04-08 15:12:53,101 - __main__ - WARNING - Run feature transformation: ['ln', 'xgbRegressorTransform', 'add', 'prod']\n"
     ]
    },
    {
     "name": "stdout",
     "output_type": "stream",
     "text": [
      "['exp', 'ln', 'sigmoid', 'square', 'tanh', 'relu', 'reciprocal', 'negative', 'adde', 'degree', 'radian', 'div', 'minus', 'add', 'timeagg', 'diff', 'kernelapproxrbf', 'zscore', 'decisionTreeRegressorTransform', 'mlpRegressorTransform', 'linearRegressorTransform', 'svrTransform', 'xgbRegressorTransform', 'cos', 'abs', 'prod', 'parameter']\n",
      "W: [1, 1, 1, 1, 1, 1, 1, 1, 1, 1, 1, 1, 1, 1, 1, 1, 1, 1, 1, 1, 1, 1, 1, 4, 4, 4]\n",
      "N: [1, 0, 0, 0, 0, 0, 0, 0, 0, 0, 0, 0, 0, 0, 0, 0, 0, 0, 0, 0, 0, 0, 0, 1, 1, 1]\n",
      "L: [4, 1, 1, 1, 1, 1, 1, 1, 1, 1, 1, 1, 1, 1, 1, 1, 1, 1, 1, 1, 1, 1, 1, 1, 1, 1]\n",
      "W_rate: [0.2, 0.5, 0.5, 0.5, 0.5, 0.5, 0.5, 0.5, 0.5, 0.5, 0.5, 0.5, 0.5, 0.5, 0.5, 0.5, 0.5, 0.5, 0.5, 0.5, 0.5, 0.5, 0.5, 0.8, 0.8, 0.8]\n",
      "Value: [0, 0, 0, 0, 0, 0, 0, 0, 0, 0, 0, 0, 0, 0, 0, 0, 0, 0, 0, 0, 0, 0, 0, 0, 0, 0]\n"
     ]
    },
    {
     "name": "stderr",
     "output_type": "stream",
     "text": [
      "2024-04-08 15:12:55,714 - __main__ - WARNING - Add the best feature in set to the best features record.\n",
      "2024-04-08 15:12:55,715 - __main__ - WARNING - Run feature transformation: ['ln', 'xgbRegressorTransform', 'degree', 'div']\n",
      "2024-04-08 15:12:56,289 - __main__ - WARNING - Run feature transformation: ['ln', 'xgbRegressorTransform', 'timeagg', 'square']\n",
      "2024-04-08 15:12:56,692 - __main__ - WARNING - Add the best feature in set to the best features record.\n",
      "2024-04-08 15:12:56,693 - __main__ - WARNING - Run feature transformation: ['ln', 'xgbRegressorTransform', 'abs', 'relu']\n",
      "2024-04-08 15:12:57,120 - __main__ - WARNING - Run feature transformation: ['ln', 'xgbRegressorTransform', 'exp', 'abs']\n",
      "2024-04-08 15:12:57,503 - __main__ - WARNING - Run feature transformation: ['ln', 'xgbRegressorTransform', 'minus', 'radian']\n",
      "2024-04-08 15:12:59,294 - __main__ - WARNING - Add the best feature in set to the best features record.\n",
      "2024-04-08 15:12:59,295 - __main__ - WARNING - Run feature transformation: ['ln', 'xgbRegressorTransform', 'minus', 'ln']\n",
      "2024-04-08 15:13:01,920 - __main__ - WARNING - Add the best feature in set to the best features record.\n",
      "2024-04-08 15:13:01,921 - __main__ - WARNING - Run feature transformation: ['ln', 'xgbRegressorTransform', 'decisionTreeRegressorTransform', 'mlpRegressorTransform']\n",
      "2024-04-08 15:13:05,187 - __main__ - WARNING - Run feature transformation: ['ln', 'xgbRegressorTransform', 'zscore', 'reciprocal']\n",
      "2024-04-08 15:13:05,788 - __main__ - WARNING - Run feature transformation: ['ln', 'xgbRegressorTransform', 'sigmoid', 'prod']\n",
      "2024-04-08 15:13:06,406 - __main__ - WARNING - Performances of the given node is: [0.5720101953953782, 0.43183700211842485, 0.5869302987259524, 0.4552715503314079, 0.4876345227866167, 0.5703854718455817, 0.5805042464079827, 0.3667539014869125, 0.5440434669511875, 0.4139369585265532]\n",
      "2024-04-08 15:13:06,407 - __main__ - WARNING - Mean perf is: 0.500931, Mean init is: 0.567630, Std init is: 0.022642 ==> reward: -4.000000\n",
      "2024-04-08 15:13:06,592 - __main__ - WARNING - Performance of scorer is: 0.024935150519013405\n",
      "2024-04-08 15:13:06,599 - __main__ - WARNING - XXXXXXXXXXXXXXXXXXXXXXXXXXXXXXXXXXXXXXXXXXXXXXXXXXXXXXXXXXXX\n",
      "2024-04-08 15:13:06,599 - __main__ - WARNING - Round:\t5\n",
      "2024-04-08 15:13:06,599 - __main__ - WARNING - XXXXXXXXXXXXXXXXXXXXXXXXXXXXXXXXXXXXXXXXXXXXXXXXXXXXXXXXXXXX\n",
      "2024-04-08 15:13:06,601 - __main__ - WARNING - Run feature transformation: ['sigmoid', 'xgbRegressorTransform', 'linearRegressorTransform', 'square']\n"
     ]
    },
    {
     "name": "stdout",
     "output_type": "stream",
     "text": [
      "['ln', 'sigmoid', 'square', 'tanh', 'relu', 'reciprocal', 'negative', 'adde', 'degree', 'radian', 'div', 'minus', 'add', 'timeagg', 'diff', 'kernelapproxrbf', 'zscore', 'decisionTreeRegressorTransform', 'mlpRegressorTransform', 'linearRegressorTransform', 'svrTransform', 'xgbRegressorTransform', 'cos', 'abs', 'prod', 'exp', 'parameter']\n",
      "W: [1, 1, 1, 1, 1, 1, 1, 1, 1, 1, 1, 1, 1, 1, 1, 1, 1, 1, 1, 1, 1, 1, 4, 4, 4, 1]\n",
      "N: [1, 0, 0, 0, 0, 0, 0, 0, 0, 0, 0, 0, 0, 0, 0, 0, 0, 0, 0, 0, 0, 0, 1, 1, 1, 1]\n",
      "L: [4, 1, 1, 1, 1, 1, 1, 1, 1, 1, 1, 1, 1, 1, 1, 1, 1, 1, 1, 1, 1, 1, 1, 1, 1, 4]\n",
      "W_rate: [0.2, 0.5, 0.5, 0.5, 0.5, 0.5, 0.5, 0.5, 0.5, 0.5, 0.5, 0.5, 0.5, 0.5, 0.5, 0.5, 0.5, 0.5, 0.5, 0.5, 0.5, 0.5, 0.8, 0.8, 0.8, 0.2]\n",
      "Value: [0, 0, 0, 0, 0, 0, 0, 0, 0, 0, 0, 0, 0, 0, 0, 0, 0, 0, 0, 0, 0, 0, 0, 0, 0, 0]\n"
     ]
    },
    {
     "name": "stderr",
     "output_type": "stream",
     "text": [
      "2024-04-08 15:13:07,620 - __main__ - WARNING - Run feature transformation: ['sigmoid', 'xgbRegressorTransform', 'minus', 'minus']\n",
      "2024-04-08 15:13:08,190 - __main__ - WARNING - Run feature transformation: ['sigmoid', 'xgbRegressorTransform', 'negative', 'negative']\n",
      "2024-04-08 15:13:08,791 - __main__ - WARNING - Run feature transformation: ['sigmoid', 'xgbRegressorTransform', 'decisionTreeRegressorTransform', 'svrTransform']\n",
      "2024-04-08 15:13:09,186 - __main__ - WARNING - Run feature transformation: ['sigmoid', 'xgbRegressorTransform', 'cos', 'exp']\n",
      "2024-04-08 15:13:10,068 - __main__ - WARNING - Run feature transformation: ['sigmoid', 'xgbRegressorTransform', 'tanh', 'negative']\n",
      "2024-04-08 15:13:10,823 - __main__ - WARNING - Run feature transformation: ['sigmoid', 'xgbRegressorTransform', 'decisionTreeRegressorTransform', 'svrTransform']\n",
      "2024-04-08 15:13:11,049 - __main__ - WARNING - Run feature transformation: ['sigmoid', 'xgbRegressorTransform', 'div', 'ln']\n",
      "2024-04-08 15:13:11,641 - __main__ - WARNING - Run feature transformation: ['sigmoid', 'xgbRegressorTransform', 'minus', 'exp']\n",
      "2024-04-08 15:13:11,779 - __main__ - WARNING - Add the best feature in set to the best features record.\n",
      "2024-04-08 15:13:11,780 - __main__ - WARNING - Run feature transformation: ['sigmoid', 'xgbRegressorTransform', 'minus', 'add']\n",
      "2024-04-08 15:13:11,956 - __main__ - WARNING - Performances of the given node is: [0.3167475266901056, 0.40766452147375937, 0.45573442587371793, 0.39538957638283995, 0.3061485580241598, 0.3179784282070865, 0.39538957638283995, 0.423911346845856, 0.5751319038417824, 0.5580600299917131]\n",
      "2024-04-08 15:13:11,957 - __main__ - WARNING - Mean perf is: 0.415216, Mean init is: 0.567630, Std init is: 0.022642 ==> reward: -8.000000\n",
      "2024-04-08 15:13:12,145 - __main__ - WARNING - Performance of scorer is: 0.11679239571094513\n",
      "2024-04-08 15:13:12,152 - __main__ - WARNING - XXXXXXXXXXXXXXXXXXXXXXXXXXXXXXXXXXXXXXXXXXXXXXXXXXXXXXXXXXXX\n",
      "2024-04-08 15:13:12,152 - __main__ - WARNING - Round:\t6\n",
      "2024-04-08 15:13:12,152 - __main__ - WARNING - XXXXXXXXXXXXXXXXXXXXXXXXXXXXXXXXXXXXXXXXXXXXXXXXXXXXXXXXXXXX\n",
      "2024-04-08 15:13:12,155 - __main__ - WARNING - Run feature transformation: ['square', 'ln', 'ln', 'minus']\n"
     ]
    },
    {
     "name": "stdout",
     "output_type": "stream",
     "text": [
      "['sigmoid', 'square', 'tanh', 'relu', 'reciprocal', 'negative', 'adde', 'degree', 'radian', 'div', 'minus', 'add', 'timeagg', 'diff', 'kernelapproxrbf', 'zscore', 'decisionTreeRegressorTransform', 'mlpRegressorTransform', 'linearRegressorTransform', 'svrTransform', 'xgbRegressorTransform', 'cos', 'abs', 'prod', 'ln', 'exp', 'parameter']\n",
      "W: [1, 1, 1, 1, 1, 1, 1, 1, 1, 1, 1, 1, 1, 1, 1, 1, 1, 1, 1, 1, 1, 4, 4, 4, 1, 1]\n",
      "N: [1, 0, 0, 0, 0, 0, 0, 0, 0, 0, 0, 0, 0, 0, 0, 0, 0, 0, 0, 0, 0, 1, 1, 1, 1, 1]\n",
      "L: [4, 1, 1, 1, 1, 1, 1, 1, 1, 1, 1, 1, 1, 1, 1, 1, 1, 1, 1, 1, 1, 1, 1, 1, 4, 4]\n",
      "W_rate: [0.2, 0.5, 0.5, 0.5, 0.5, 0.5, 0.5, 0.5, 0.5, 0.5, 0.5, 0.5, 0.5, 0.5, 0.5, 0.5, 0.5, 0.5, 0.5, 0.5, 0.5, 0.8, 0.8, 0.8, 0.2, 0.2]\n",
      "Value: [0, 0, 0, 0, 0, 0, 0, 0, 0, 0, 0, 0, 0, 0, 0, 0, 0, 0, 0, 0, 0, 0, 0, 0, 0, 0]\n"
     ]
    },
    {
     "name": "stderr",
     "output_type": "stream",
     "text": [
      "2024-04-08 15:13:13,440 - __main__ - WARNING - Run feature transformation: ['square', 'ln', 'exp', 'minus']\n",
      "2024-04-08 15:13:14,452 - __main__ - WARNING - Add the best feature in set to the best features record.\n",
      "2024-04-08 15:13:14,453 - __main__ - WARNING - Run feature transformation: ['square', 'ln', 'add', 'minus']\n",
      "2024-04-08 15:13:15,978 - __main__ - WARNING - Add the best feature in set to the best features record.\n",
      "2024-04-08 15:13:15,979 - __main__ - WARNING - Run feature transformation: ['square', 'ln', 'decisionTreeRegressorTransform', 'abs']\n",
      "2024-04-08 15:13:16,578 - __main__ - WARNING - Run feature transformation: ['square', 'ln', 'square', 'div']\n",
      "2024-04-08 15:13:17,810 - __main__ - WARNING - Add the best feature in set to the best features record.\n",
      "2024-04-08 15:13:17,811 - __main__ - WARNING - Run feature transformation: ['square', 'ln', 'zscore', 'reciprocal']\n",
      "2024-04-08 15:13:18,920 - __main__ - WARNING - Add the best feature in set to the best features record.\n",
      "2024-04-08 15:13:18,921 - __main__ - WARNING - Run feature transformation: ['square', 'ln', 'exp', 'exp']\n",
      "2024-04-08 15:13:19,502 - __main__ - WARNING - Run feature transformation: ['square', 'ln', 'sigmoid', 'square']\n",
      "2024-04-08 15:13:20,728 - __main__ - WARNING - Add the best feature in set to the best features record.\n",
      "2024-04-08 15:13:20,729 - __main__ - WARNING - Run feature transformation: ['square', 'ln', 'div', 'negative']\n",
      "2024-04-08 15:13:21,736 - __main__ - WARNING - Run feature transformation: ['square', 'ln', 'minus', 'ln']\n",
      "2024-04-08 15:13:22,667 - __main__ - WARNING - Add the best feature in set to the best features record.\n",
      "2024-04-08 15:13:22,669 - __main__ - WARNING - Performances of the given node is: [0.5862790904307169, 0.5868926812539687, 0.5836661495604314, 0.5606514254661631, 0.6172221401652819, 0.5834211573562071, 0.5824633293558324, 0.5844819334348481, 0.5925624018006428, 0.5876394452176292]\n",
      "2024-04-08 15:13:22,670 - __main__ - WARNING - Mean perf is: 0.586528, Mean init is: 0.567630, Std init is: 0.022642 ==> reward: 2.000000\n",
      "2024-04-08 15:13:22,864 - __main__ - WARNING - Performance of scorer is: 0.06974819302558899\n",
      "2024-04-08 15:13:22,865 - __main__ - WARNING - Run feature transformation: ['square', 'ln']\n",
      "2024-04-08 15:13:28,128 - __main__ - WARNING - Mean init is: 0.56763049815533, mean of new node is: 0.5583441457705363\n",
      "2024-04-08 15:13:28,134 - __main__ - WARNING - XXXXXXXXXXXXXXXXXXXXXXXXXXXXXXXXXXXXXXXXXXXXXXXXXXXXXXXXXXXX\n",
      "2024-04-08 15:13:28,135 - __main__ - WARNING - Round:\t7\n",
      "2024-04-08 15:13:28,135 - __main__ - WARNING - XXXXXXXXXXXXXXXXXXXXXXXXXXXXXXXXXXXXXXXXXXXXXXXXXXXXXXXXXXXX\n",
      "2024-04-08 15:13:28,137 - __main__ - WARNING - Run feature transformation: ['tanh', 'abs', 'square', 'div']\n"
     ]
    },
    {
     "name": "stdout",
     "output_type": "stream",
     "text": [
      "['square', 'tanh', 'relu', 'reciprocal', 'negative', 'adde', 'degree', 'radian', 'div', 'minus', 'add', 'timeagg', 'diff', 'kernelapproxrbf', 'zscore', 'decisionTreeRegressorTransform', 'mlpRegressorTransform', 'linearRegressorTransform', 'svrTransform', 'xgbRegressorTransform', 'cos', 'abs', 'prod', 'sigmoid', 'ln', 'exp', 'parameter']\n",
      "W: [3.0, 1, 1, 1, 1, 1, 1, 1, 1, 1, 1, 1, 1, 1, 1, 1, 1, 1, 1, 1, 4, 4, 4, 1, 1, 1]\n",
      "N: [1, 0, 0, 0, 0, 0, 0, 0, 0, 0, 0, 0, 0, 0, 0, 0, 0, 0, 0, 0, 1, 1, 1, 1, 1, 1]\n",
      "L: [1, 1, 1, 1, 1, 1, 1, 1, 1, 1, 1, 1, 1, 1, 1, 1, 1, 1, 1, 1, 1, 1, 1, 4, 4, 4]\n",
      "W_rate: [0.75, 0.5, 0.5, 0.5, 0.5, 0.5, 0.5, 0.5, 0.5, 0.5, 0.5, 0.5, 0.5, 0.5, 0.5, 0.5, 0.5, 0.5, 0.5, 0.5, 0.8, 0.8, 0.8, 0.2, 0.2, 0.2]\n",
      "Value: [0, 0, 0, 0, 0, 0, 0, 0, 0, 0, 0, 0, 0, 0, 0, 0, 0, 0, 0, 0, 0, 0, 0, 0, 0, 0]\n"
     ]
    },
    {
     "name": "stderr",
     "output_type": "stream",
     "text": [
      "2024-04-08 15:13:30,021 - __main__ - WARNING - Run feature transformation: ['tanh', 'abs', 'negative', 'minus']\n",
      "2024-04-08 15:13:31,696 - __main__ - WARNING - Run feature transformation: ['tanh', 'abs', 'ln', 'tanh']\n",
      "2024-04-08 15:13:33,254 - __main__ - WARNING - Run feature transformation: ['tanh', 'abs', 'kernelapproxrbf', 'prod']\n",
      "2024-04-08 15:13:35,433 - __main__ - WARNING - Run feature transformation: ['tanh', 'abs', 'decisionTreeRegressorTransform', 'xgbRegressorTransform']\n",
      "2024-04-08 15:13:36,590 - __main__ - WARNING - Run feature transformation: ['tanh', 'abs', 'exp', 'div']\n",
      "2024-04-08 15:13:38,587 - __main__ - WARNING - Run feature transformation: ['tanh', 'abs', 'zscore', 'zscore']\n",
      "2024-04-08 15:13:39,635 - __main__ - WARNING - Run feature transformation: ['tanh', 'abs', 'sigmoid', 'abs']\n",
      "2024-04-08 15:13:40,711 - __main__ - WARNING - Run feature transformation: ['tanh', 'abs', 'radian', 'kernelapproxrbf']\n",
      "2024-04-08 15:13:41,874 - __main__ - WARNING - Run feature transformation: ['tanh', 'abs', 'zscore', 'negative']\n",
      "2024-04-08 15:13:43,120 - __main__ - WARNING - Performances of the given node is: [0.5975360543769325, 0.5906794123803734, 0.5160088125094318, 0.568862126444494, 0.561977209892625, 0.5381639776569855, 0.5232907082952742, 0.3586321017414655, 0.4360365526046197, 0.5329108234559539]\n",
      "2024-04-08 15:13:43,121 - __main__ - WARNING - Mean perf is: 0.522410, Mean init is: 0.567630, Std init is: 0.022642 ==> reward: -3.000000\n",
      "2024-04-08 15:13:43,370 - __main__ - WARNING - Performance of scorer is: 0.04767105355858803\n",
      "2024-04-08 15:13:43,377 - __main__ - WARNING - XXXXXXXXXXXXXXXXXXXXXXXXXXXXXXXXXXXXXXXXXXXXXXXXXXXXXXXXXXXX\n",
      "2024-04-08 15:13:43,377 - __main__ - WARNING - Round:\t8\n",
      "2024-04-08 15:13:43,378 - __main__ - WARNING - XXXXXXXXXXXXXXXXXXXXXXXXXXXXXXXXXXXXXXXXXXXXXXXXXXXXXXXXXXXX\n",
      "2024-04-08 15:13:43,380 - __main__ - WARNING - Run feature transformation: ['relu', 'degree', 'svrTransform', 'reciprocal']\n"
     ]
    },
    {
     "name": "stdout",
     "output_type": "stream",
     "text": [
      "['tanh', 'relu', 'reciprocal', 'negative', 'adde', 'degree', 'radian', 'div', 'minus', 'add', 'timeagg', 'diff', 'kernelapproxrbf', 'zscore', 'decisionTreeRegressorTransform', 'mlpRegressorTransform', 'linearRegressorTransform', 'svrTransform', 'xgbRegressorTransform', 'cos', 'abs', 'prod', 'square', 'sigmoid', 'ln', 'exp', 'parameter']\n",
      "W: [1, 1, 1, 1, 1, 1, 1, 1, 1, 1, 1, 1, 1, 1, 1, 1, 1, 1, 1, 4, 4, 4, 3.0, 1, 1, 1]\n",
      "N: [1, 0, 0, 0, 0, 0, 0, 0, 0, 0, 0, 0, 0, 0, 0, 0, 0, 0, 0, 1, 1, 1, 1, 1, 1, 1]\n",
      "L: [4.0, 1, 1, 1, 1, 1, 1, 1, 1, 1, 1, 1, 1, 1, 1, 1, 1, 1, 1, 1, 1, 1, 1, 4, 4, 4]\n",
      "W_rate: [0.2, 0.5, 0.5, 0.5, 0.5, 0.5, 0.5, 0.5, 0.5, 0.5, 0.5, 0.5, 0.5, 0.5, 0.5, 0.5, 0.5, 0.5, 0.5, 0.8, 0.8, 0.8, 0.75, 0.2, 0.2, 0.2]\n",
      "Value: [0, 0, 0, 0, 0, 0, 0, 0, 0, 0, 0, 0, 0, 0, 0, 0, 0, 0, 0, 0, 0, 0, 0, 0, 0, 0]\n"
     ]
    },
    {
     "name": "stderr",
     "output_type": "stream",
     "text": [
      "2024-04-08 15:13:44,507 - __main__ - WARNING - Run feature transformation: ['relu', 'degree', 'zscore', 'tanh']\n",
      "2024-04-08 15:13:45,685 - __main__ - WARNING - Add the best feature in set to the best features record.\n",
      "2024-04-08 15:13:45,686 - __main__ - WARNING - Run feature transformation: ['relu', 'degree', 'exp', 'tanh']\n",
      "2024-04-08 15:13:46,488 - __main__ - WARNING - Add the best feature in set to the best features record.\n",
      "2024-04-08 15:13:46,489 - __main__ - WARNING - Run feature transformation: ['relu', 'degree', 'negative', 'add']\n",
      "2024-04-08 15:13:48,730 - __main__ - WARNING - Add the best feature in set to the best features record.\n",
      "2024-04-08 15:13:48,731 - __main__ - WARNING - Run feature transformation: ['relu', 'degree', 'minus', 'svrTransform']\n",
      "2024-04-08 15:13:51,111 - __main__ - WARNING - Add the best feature in set to the best features record.\n",
      "2024-04-08 15:13:51,112 - __main__ - WARNING - Run feature transformation: ['relu', 'degree', 'add', 'sigmoid']\n",
      "2024-04-08 15:13:53,441 - __main__ - WARNING - Add the best feature in set to the best features record.\n",
      "2024-04-08 15:13:53,442 - __main__ - WARNING - Run feature transformation: ['relu', 'degree', 'adde', 'xgbRegressorTransform']\n",
      "2024-04-08 15:13:54,911 - __main__ - WARNING - Add the best feature in set to the best features record.\n",
      "2024-04-08 15:13:54,912 - __main__ - WARNING - Run feature transformation: ['relu', 'degree', 'add', 'xgbRegressorTransform']\n",
      "2024-04-08 15:13:57,289 - __main__ - WARNING - Add the best feature in set to the best features record.\n",
      "2024-04-08 15:13:57,290 - __main__ - WARNING - Run feature transformation: ['relu', 'degree', 'reciprocal', 'timeagg']\n",
      "2024-04-08 15:13:58,113 - __main__ - WARNING - Run feature transformation: ['relu', 'degree', 'mlpRegressorTransform', 'linearRegressorTransform']\n",
      "2024-04-08 15:14:02,056 - __main__ - WARNING - Performances of the given node is: [0.5579255137200448, 0.5746810861465642, 0.5925569481378047, 0.5821464218206276, 0.5802090240393392, 0.5781473974034947, 0.5758636394662819, 0.5807244257914899, 0.565762524717337, 0.5659939728563995]\n",
      "2024-04-08 15:14:02,058 - __main__ - WARNING - Mean perf is: 0.575401, Mean init is: 0.567630, Std init is: 0.022642 ==> reward: 1.000000\n",
      "2024-04-08 15:14:02,308 - __main__ - WARNING - Performance of scorer is: 0.05900486186146736\n",
      "2024-04-08 15:14:02,308 - __main__ - WARNING - Run feature transformation: ['relu', 'degree']\n",
      "2024-04-08 15:14:07,136 - __main__ - WARNING - Mean init is: 0.56763049815533, mean of new node is: 0.5413566649327046\n",
      "2024-04-08 15:14:07,143 - __main__ - WARNING - XXXXXXXXXXXXXXXXXXXXXXXXXXXXXXXXXXXXXXXXXXXXXXXXXXXXXXXXXXXX\n",
      "2024-04-08 15:14:07,143 - __main__ - WARNING - Round:\t9\n",
      "2024-04-08 15:14:07,143 - __main__ - WARNING - XXXXXXXXXXXXXXXXXXXXXXXXXXXXXXXXXXXXXXXXXXXXXXXXXXXXXXXXXXXX\n",
      "2024-04-08 15:14:07,146 - __main__ - WARNING - Run feature transformation: ['reciprocal', 'kernelapproxrbf', 'prod', 'cos']\n"
     ]
    },
    {
     "name": "stdout",
     "output_type": "stream",
     "text": [
      "['relu', 'reciprocal', 'negative', 'adde', 'degree', 'radian', 'div', 'minus', 'add', 'timeagg', 'diff', 'kernelapproxrbf', 'zscore', 'decisionTreeRegressorTransform', 'mlpRegressorTransform', 'linearRegressorTransform', 'svrTransform', 'xgbRegressorTransform', 'cos', 'abs', 'prod', 'square', 'tanh', 'sigmoid', 'ln', 'exp', 'parameter']\n",
      "W: [2.0, 1, 1, 1, 1, 1, 1, 1, 1, 1, 1, 1, 1, 1, 1, 1, 1, 1, 4, 4, 4, 3.0, 1, 1, 1, 1]\n",
      "N: [1, 0, 0, 0, 0, 0, 0, 0, 0, 0, 0, 0, 0, 0, 0, 0, 0, 0, 1, 1, 1, 1, 1, 1, 1, 1]\n",
      "L: [1, 1, 1, 1, 1, 1, 1, 1, 1, 1, 1, 1, 1, 1, 1, 1, 1, 1, 1, 1, 1, 1, 4.0, 4, 4, 4]\n",
      "W_rate: [0.6666666666666666, 0.5, 0.5, 0.5, 0.5, 0.5, 0.5, 0.5, 0.5, 0.5, 0.5, 0.5, 0.5, 0.5, 0.5, 0.5, 0.5, 0.5, 0.8, 0.8, 0.8, 0.75, 0.2, 0.2, 0.2, 0.2]\n",
      "Value: [0, 0, 0, 0, 0, 0, 0, 0, 0, 0, 0, 0, 0, 0, 0, 0, 0, 0, 0, 0, 0, 0, 0, 0, 0, 0]\n"
     ]
    },
    {
     "name": "stderr",
     "output_type": "stream",
     "text": [
      "2024-04-08 15:14:09,612 - __main__ - WARNING - Run feature transformation: ['reciprocal', 'kernelapproxrbf', 'relu', 'sigmoid']\n",
      "2024-04-08 15:14:11,570 - __main__ - WARNING - Run feature transformation: ['reciprocal', 'kernelapproxrbf', 'cos', 'minus']\n",
      "2024-04-08 15:14:13,820 - __main__ - WARNING - Add the best feature in set to the best features record.\n",
      "2024-04-08 15:14:13,821 - __main__ - WARNING - Run feature transformation: ['reciprocal', 'kernelapproxrbf', 'ln', 'add']\n",
      "2024-04-08 15:14:16,082 - __main__ - WARNING - Run feature transformation: ['reciprocal', 'kernelapproxrbf', 'diff', 'ln']\n",
      "2024-04-08 15:14:17,513 - __main__ - WARNING - Run feature transformation: ['reciprocal', 'kernelapproxrbf', 'reciprocal', 'mlpRegressorTransform']\n",
      "2024-04-08 15:14:22,213 - __main__ - WARNING - Add the best feature in set to the best features record.\n",
      "2024-04-08 15:14:22,214 - __main__ - WARNING - Run feature transformation: ['reciprocal', 'kernelapproxrbf', 'minus', 'mlpRegressorTransform']\n",
      "2024-04-08 15:14:27,347 - __main__ - WARNING - Add the best feature in set to the best features record.\n",
      "2024-04-08 15:14:27,348 - __main__ - WARNING - Run feature transformation: ['reciprocal', 'kernelapproxrbf', 'radian', 'decisionTreeRegressorTransform']\n",
      "2024-04-08 15:14:28,884 - __main__ - WARNING - Run feature transformation: ['reciprocal', 'kernelapproxrbf', 'adde', 'adde']\n",
      "2024-04-08 15:14:30,595 - __main__ - WARNING - Add the best feature in set to the best features record.\n",
      "2024-04-08 15:14:30,596 - __main__ - WARNING - Run feature transformation: ['reciprocal', 'kernelapproxrbf', 'degree', 'square']\n",
      "2024-04-08 15:14:32,463 - __main__ - WARNING - Performances of the given node is: [0.5460456713707824, 0.5421644548507654, 0.5878426890669287, 0.561735660694249, 0.5548580123335215, 0.5809628381922789, 0.5757603727630909, 0.5722048622626766, 0.5683668169093508, 0.5543395630373212]\n",
      "2024-04-08 15:14:32,465 - __main__ - WARNING - Mean perf is: 0.564428, Mean init is: 0.567630, Std init is: 0.022642 ==> reward: -1.000000\n",
      "2024-04-08 15:14:32,773 - __main__ - WARNING - Performance of scorer is: 0.04720252379775047\n",
      "2024-04-08 15:14:32,780 - __main__ - WARNING - XXXXXXXXXXXXXXXXXXXXXXXXXXXXXXXXXXXXXXXXXXXXXXXXXXXXXXXXXXXX\n",
      "2024-04-08 15:14:32,781 - __main__ - WARNING - Round:\t10\n",
      "2024-04-08 15:14:32,781 - __main__ - WARNING - XXXXXXXXXXXXXXXXXXXXXXXXXXXXXXXXXXXXXXXXXXXXXXXXXXXXXXXXXXXX\n",
      "2024-04-08 15:14:32,783 - __main__ - WARNING - Run feature transformation: ['negative', 'cos', 'minus', 'ln']\n"
     ]
    },
    {
     "name": "stdout",
     "output_type": "stream",
     "text": [
      "['reciprocal', 'negative', 'adde', 'degree', 'radian', 'div', 'minus', 'add', 'timeagg', 'diff', 'kernelapproxrbf', 'zscore', 'decisionTreeRegressorTransform', 'mlpRegressorTransform', 'linearRegressorTransform', 'svrTransform', 'xgbRegressorTransform', 'cos', 'abs', 'prod', 'square', 'relu', 'tanh', 'sigmoid', 'ln', 'exp', 'parameter']\n",
      "W: [1, 1, 1, 1, 1, 1, 1, 1, 1, 1, 1, 1, 1, 1, 1, 1, 1, 4, 4, 4, 3.0, 2.0, 1, 1, 1, 1]\n",
      "N: [1, 0, 0, 0, 0, 0, 0, 0, 0, 0, 0, 0, 0, 0, 0, 0, 0, 1, 1, 1, 1, 1, 1, 1, 1, 1]\n",
      "L: [2.0, 1, 1, 1, 1, 1, 1, 1, 1, 1, 1, 1, 1, 1, 1, 1, 1, 1, 1, 1, 1, 1, 4.0, 4, 4, 4]\n",
      "W_rate: [0.3333333333333333, 0.5, 0.5, 0.5, 0.5, 0.5, 0.5, 0.5, 0.5, 0.5, 0.5, 0.5, 0.5, 0.5, 0.5, 0.5, 0.5, 0.8, 0.8, 0.8, 0.75, 0.6666666666666666, 0.2, 0.2, 0.2, 0.2]\n",
      "Value: [0, 0, 0, 0, 0, 0, 0, 0, 0, 0, 0, 0, 0, 0, 0, 0, 0, 0, 0, 0, 0, 0, 0, 0, 0, 0]\n"
     ]
    },
    {
     "name": "stderr",
     "output_type": "stream",
     "text": [
      "2024-04-08 15:14:35,284 - __main__ - WARNING - Add the best feature in set to the best features record.\n",
      "2024-04-08 15:14:35,286 - __main__ - WARNING - Run feature transformation: ['negative', 'cos', 'add', 'diff']\n",
      "2024-04-08 15:14:37,610 - __main__ - WARNING - Add the best feature in set to the best features record.\n",
      "2024-04-08 15:14:37,611 - __main__ - WARNING - Run feature transformation: ['negative', 'cos', 'ln', 'reciprocal']\n",
      "2024-04-08 15:14:38,868 - __main__ - WARNING - Add the best feature in set to the best features record.\n",
      "2024-04-08 15:14:38,869 - __main__ - WARNING - Run feature transformation: ['negative', 'cos', 'mlpRegressorTransform', 'minus']\n",
      "2024-04-08 15:14:44,836 - __main__ - WARNING - Add the best feature in set to the best features record.\n",
      "2024-04-08 15:14:44,837 - __main__ - WARNING - Run feature transformation: ['negative', 'cos', 'mlpRegressorTransform', 'radian']\n",
      "2024-04-08 15:14:45,374 - __main__ - WARNING - Run feature transformation: ['negative', 'cos', 'decisionTreeRegressorTransform', 'adde']\n",
      "2024-04-08 15:14:46,347 - __main__ - WARNING - Add the best feature in set to the best features record.\n",
      "2024-04-08 15:14:46,348 - __main__ - WARNING - Run feature transformation: ['negative', 'cos', 'adde', 'degree']\n",
      "2024-04-08 15:14:47,642 - __main__ - WARNING - Run feature transformation: ['negative', 'cos', 'square', 'minus']\n",
      "2024-04-08 15:14:50,006 - __main__ - WARNING - Run feature transformation: ['negative', 'cos', 'adde', 'linearRegressorTransform']\n",
      "2024-04-08 15:14:51,313 - __main__ - WARNING - Run feature transformation: ['negative', 'cos', 'ln', 'zscore']\n",
      "2024-04-08 15:14:52,232 - __main__ - WARNING - Performances of the given node is: [0.5766244982274953, 0.5963963824135607, 0.5820381240310833, 0.569526267808412, 0.5461727089394546, 0.590654711564142, 0.5719496932918322, 0.5653002686873336, 0.5553274920094791, 0.593856931249847]\n",
      "2024-04-08 15:14:52,234 - __main__ - WARNING - Mean perf is: 0.574785, Mean init is: 0.567630, Std init is: 0.022642 ==> reward: 1.000000\n",
      "2024-04-08 15:14:52,545 - __main__ - WARNING - Performance of scorer is: 0.054515060037374496\n",
      "2024-04-08 15:14:52,546 - __main__ - WARNING - Run feature transformation: ['negative', 'cos']\n",
      "2024-04-08 15:14:58,900 - __main__ - WARNING - Mean init is: 0.56763049815533, mean of new node is: 0.5151744054263627\n",
      "2024-04-08 15:14:58,906 - __main__ - WARNING - XXXXXXXXXXXXXXXXXXXXXXXXXXXXXXXXXXXXXXXXXXXXXXXXXXXXXXXXXXXX\n",
      "2024-04-08 15:14:58,907 - __main__ - WARNING - Round:\t11\n",
      "2024-04-08 15:14:58,907 - __main__ - WARNING - XXXXXXXXXXXXXXXXXXXXXXXXXXXXXXXXXXXXXXXXXXXXXXXXXXXXXXXXXXXX\n",
      "2024-04-08 15:14:58,910 - __main__ - WARNING - Run feature transformation: ['adde', 'xgbRegressorTransform', 'adde', 'degree']\n"
     ]
    },
    {
     "name": "stdout",
     "output_type": "stream",
     "text": [
      "['negative', 'adde', 'degree', 'radian', 'div', 'minus', 'add', 'timeagg', 'diff', 'kernelapproxrbf', 'zscore', 'decisionTreeRegressorTransform', 'mlpRegressorTransform', 'linearRegressorTransform', 'svrTransform', 'xgbRegressorTransform', 'cos', 'abs', 'prod', 'square', 'relu', 'reciprocal', 'tanh', 'sigmoid', 'ln', 'exp', 'parameter']\n",
      "W: [2.0, 1, 1, 1, 1, 1, 1, 1, 1, 1, 1, 1, 1, 1, 1, 1, 4, 4, 4, 3.0, 2.0, 1, 1, 1, 1, 1]\n",
      "N: [1, 0, 0, 0, 0, 0, 0, 0, 0, 0, 0, 0, 0, 0, 0, 0, 1, 1, 1, 1, 1, 1, 1, 1, 1, 1]\n",
      "L: [1, 1, 1, 1, 1, 1, 1, 1, 1, 1, 1, 1, 1, 1, 1, 1, 1, 1, 1, 1, 1, 2.0, 4.0, 4, 4, 4]\n",
      "W_rate: [0.6666666666666666, 0.5, 0.5, 0.5, 0.5, 0.5, 0.5, 0.5, 0.5, 0.5, 0.5, 0.5, 0.5, 0.5, 0.5, 0.5, 0.8, 0.8, 0.8, 0.75, 0.6666666666666666, 0.3333333333333333, 0.2, 0.2, 0.2, 0.2]\n",
      "Value: [0, 0, 0, 0, 0, 0, 0, 0, 0, 0, 0, 0, 0, 0, 0, 0, 0, 0, 0, 0, 0, 0, 0, 0, 0, 0]\n"
     ]
    },
    {
     "name": "stderr",
     "output_type": "stream",
     "text": [
      "2024-04-08 15:14:59,970 - __main__ - WARNING - Run feature transformation: ['adde', 'xgbRegressorTransform', 'square', 'minus']\n",
      "2024-04-08 15:15:00,668 - __main__ - WARNING - Add the best feature in set to the best features record.\n",
      "2024-04-08 15:15:00,669 - __main__ - WARNING - Run feature transformation: ['adde', 'xgbRegressorTransform', 'adde', 'linearRegressorTransform']\n",
      "2024-04-08 15:15:01,059 - __main__ - WARNING - Run feature transformation: ['adde', 'xgbRegressorTransform', 'ln', 'zscore']\n",
      "2024-04-08 15:15:01,661 - __main__ - WARNING - Run feature transformation: ['adde', 'xgbRegressorTransform', 'decisionTreeRegressorTransform', 'decisionTreeRegressorTransform']\n",
      "2024-04-08 15:15:02,002 - __main__ - WARNING - Run feature transformation: ['adde', 'xgbRegressorTransform', 'add', 'minus']\n",
      "2024-04-08 15:15:02,629 - __main__ - WARNING - Run feature transformation: ['adde', 'xgbRegressorTransform', 'div', 'kernelapproxrbf']\n",
      "2024-04-08 15:15:03,554 - __main__ - WARNING - Run feature transformation: ['adde', 'xgbRegressorTransform', 'cos', 'degree']\n",
      "2024-04-08 15:15:04,295 - __main__ - WARNING - Run feature transformation: ['adde', 'xgbRegressorTransform', 'exp', 'adde']\n",
      "2024-04-08 15:15:04,730 - __main__ - WARNING - Run feature transformation: ['adde', 'xgbRegressorTransform', 'div', 'degree']\n",
      "2024-04-08 15:15:04,935 - __main__ - WARNING - Performances of the given node is: [0.546099478098803, 0.5677300744237759, 0.5104244929447639, 0.5537072434976861, 0.42157498709387997, 0.5580600299917131, 0.5132261196884874, 0.38786748753374745, 0.5275368850307062, 0.5287935218784376]\n",
      "2024-04-08 15:15:04,936 - __main__ - WARNING - Mean perf is: 0.511502, Mean init is: 0.567630, Std init is: 0.022642 ==> reward: -3.000000\n",
      "2024-04-08 15:15:05,331 - __main__ - WARNING - Performance of scorer is: 0.029676659032702446\n",
      "2024-04-08 15:15:05,337 - __main__ - WARNING - XXXXXXXXXXXXXXXXXXXXXXXXXXXXXXXXXXXXXXXXXXXXXXXXXXXXXXXXXXXX\n",
      "2024-04-08 15:15:05,338 - __main__ - WARNING - Round:\t12\n",
      "2024-04-08 15:15:05,338 - __main__ - WARNING - XXXXXXXXXXXXXXXXXXXXXXXXXXXXXXXXXXXXXXXXXXXXXXXXXXXXXXXXXXXX\n",
      "2024-04-08 15:15:05,340 - __main__ - WARNING - Run feature transformation: ['degree', 'xgbRegressorTransform', 'degree', 'minus']\n"
     ]
    },
    {
     "name": "stdout",
     "output_type": "stream",
     "text": [
      "['adde', 'degree', 'radian', 'div', 'minus', 'add', 'timeagg', 'diff', 'kernelapproxrbf', 'zscore', 'decisionTreeRegressorTransform', 'mlpRegressorTransform', 'linearRegressorTransform', 'svrTransform', 'xgbRegressorTransform', 'cos', 'abs', 'prod', 'square', 'negative', 'relu', 'reciprocal', 'tanh', 'sigmoid', 'ln', 'exp', 'parameter']\n",
      "W: [1, 1, 1, 1, 1, 1, 1, 1, 1, 1, 1, 1, 1, 1, 1, 4, 4, 4, 3.0, 2.0, 2.0, 1, 1, 1, 1, 1]\n",
      "N: [1, 0, 0, 0, 0, 0, 0, 0, 0, 0, 0, 0, 0, 0, 0, 1, 1, 1, 1, 1, 1, 1, 1, 1, 1, 1]\n",
      "L: [4.0, 1, 1, 1, 1, 1, 1, 1, 1, 1, 1, 1, 1, 1, 1, 1, 1, 1, 1, 1, 1, 2.0, 4.0, 4, 4, 4]\n",
      "W_rate: [0.2, 0.5, 0.5, 0.5, 0.5, 0.5, 0.5, 0.5, 0.5, 0.5, 0.5, 0.5, 0.5, 0.5, 0.5, 0.8, 0.8, 0.8, 0.75, 0.6666666666666666, 0.6666666666666666, 0.3333333333333333, 0.2, 0.2, 0.2, 0.2]\n",
      "Value: [0, 0, 0, 0, 0, 0, 0, 0, 0, 0, 0, 0, 0, 0, 0, 0, 0, 0, 0, 0, 0, 0, 0, 0, 0, 0]\n"
     ]
    },
    {
     "name": "stderr",
     "output_type": "stream",
     "text": [
      "2024-04-08 15:15:06,477 - __main__ - WARNING - Run feature transformation: ['degree', 'xgbRegressorTransform', 'diff', 'linearRegressorTransform']\n",
      "2024-04-08 15:15:07,028 - __main__ - WARNING - Run feature transformation: ['degree', 'xgbRegressorTransform', 'degree', 'cos']\n",
      "2024-04-08 15:15:07,706 - __main__ - WARNING - Run feature transformation: ['degree', 'xgbRegressorTransform', 'negative', 'reciprocal']\n",
      "2024-04-08 15:15:08,259 - __main__ - WARNING - Run feature transformation: ['degree', 'xgbRegressorTransform', 'reciprocal', 'exp']\n",
      "2024-04-08 15:15:08,787 - __main__ - WARNING - Run feature transformation: ['degree', 'xgbRegressorTransform', 'relu', 'radian']\n",
      "2024-04-08 15:15:09,264 - __main__ - WARNING - Run feature transformation: ['degree', 'xgbRegressorTransform', 'cos', 'square']\n",
      "2024-04-08 15:15:10,023 - __main__ - WARNING - Run feature transformation: ['degree', 'xgbRegressorTransform', 'square', 'prod']\n",
      "2024-04-08 15:15:10,734 - __main__ - WARNING - Run feature transformation: ['degree', 'xgbRegressorTransform', 'decisionTreeRegressorTransform', 'mlpRegressorTransform']\n",
      "2024-04-08 15:15:14,058 - __main__ - WARNING - Run feature transformation: ['degree', 'xgbRegressorTransform', 'timeagg', 'ln']\n",
      "2024-04-08 15:15:14,516 - __main__ - WARNING - Add the best feature in set to the best features record.\n",
      "2024-04-08 15:15:14,517 - __main__ - WARNING - Performances of the given node is: [0.5631829071417617, 0.565093174049694, 0.39760072307604677, 0.5356594544618755, 0.5638531099473442, 0.5399572407897422, 0.4214282696145467, 0.5038177236632165, 0.44357432618834225, 0.5767639335145819]\n",
      "2024-04-08 15:15:14,518 - __main__ - WARNING - Mean perf is: 0.511093, Mean init is: 0.567630, Std init is: 0.022642 ==> reward: -3.000000\n",
      "2024-04-08 15:15:14,890 - __main__ - WARNING - Performance of scorer is: 0.046576302498579025\n",
      "2024-04-08 15:15:14,896 - __main__ - WARNING - XXXXXXXXXXXXXXXXXXXXXXXXXXXXXXXXXXXXXXXXXXXXXXXXXXXXXXXXXXXX\n",
      "2024-04-08 15:15:14,897 - __main__ - WARNING - Round:\t13\n",
      "2024-04-08 15:15:14,897 - __main__ - WARNING - XXXXXXXXXXXXXXXXXXXXXXXXXXXXXXXXXXXXXXXXXXXXXXXXXXXXXXXXXXXX\n",
      "2024-04-08 15:15:14,899 - __main__ - WARNING - Run feature transformation: ['radian', 'xgbRegressorTransform', 'kernelapproxrbf', 'adde']\n"
     ]
    },
    {
     "name": "stdout",
     "output_type": "stream",
     "text": [
      "['degree', 'radian', 'div', 'minus', 'add', 'timeagg', 'diff', 'kernelapproxrbf', 'zscore', 'decisionTreeRegressorTransform', 'mlpRegressorTransform', 'linearRegressorTransform', 'svrTransform', 'xgbRegressorTransform', 'cos', 'abs', 'prod', 'square', 'negative', 'relu', 'reciprocal', 'adde', 'tanh', 'sigmoid', 'ln', 'exp', 'parameter']\n",
      "W: [1, 1, 1, 1, 1, 1, 1, 1, 1, 1, 1, 1, 1, 1, 4, 4, 4, 3.0, 2.0, 2.0, 1, 1, 1, 1, 1, 1]\n",
      "N: [1, 0, 0, 0, 0, 0, 0, 0, 0, 0, 0, 0, 0, 0, 1, 1, 1, 1, 1, 1, 1, 1, 1, 1, 1, 1]\n",
      "L: [4.0, 1, 1, 1, 1, 1, 1, 1, 1, 1, 1, 1, 1, 1, 1, 1, 1, 1, 1, 1, 2.0, 4.0, 4.0, 4, 4, 4]\n",
      "W_rate: [0.2, 0.5, 0.5, 0.5, 0.5, 0.5, 0.5, 0.5, 0.5, 0.5, 0.5, 0.5, 0.5, 0.5, 0.8, 0.8, 0.8, 0.75, 0.6666666666666666, 0.6666666666666666, 0.3333333333333333, 0.2, 0.2, 0.2, 0.2, 0.2]\n",
      "Value: [0, 0, 0, 0, 0, 0, 0, 0, 0, 0, 0, 0, 0, 0, 0, 0, 0, 0, 0, 0, 0, 0, 0, 0, 0, 0]\n"
     ]
    },
    {
     "name": "stderr",
     "output_type": "stream",
     "text": [
      "2024-04-08 15:15:16,526 - __main__ - WARNING - Run feature transformation: ['radian', 'xgbRegressorTransform', 'relu', 'timeagg']\n",
      "2024-04-08 15:15:16,973 - __main__ - WARNING - Run feature transformation: ['radian', 'xgbRegressorTransform', 'linearRegressorTransform', 'timeagg']\n",
      "2024-04-08 15:15:17,362 - __main__ - WARNING - Run feature transformation: ['radian', 'xgbRegressorTransform', 'cos', 'reciprocal']\n",
      "2024-04-08 15:15:18,146 - __main__ - WARNING - Run feature transformation: ['radian', 'xgbRegressorTransform', 'tanh', 'sigmoid']\n",
      "2024-04-08 15:15:19,011 - __main__ - WARNING - Run feature transformation: ['radian', 'xgbRegressorTransform', 'relu', 'negative']\n",
      "2024-04-08 15:15:19,430 - __main__ - WARNING - Run feature transformation: ['radian', 'xgbRegressorTransform', 'ln', 'diff']\n",
      "2024-04-08 15:15:19,890 - __main__ - WARNING - Run feature transformation: ['radian', 'xgbRegressorTransform', 'minus', 'sigmoid']\n",
      "2024-04-08 15:15:20,458 - __main__ - WARNING - Add the best feature in set to the best features record.\n",
      "2024-04-08 15:15:20,459 - __main__ - WARNING - Run feature transformation: ['radian', 'xgbRegressorTransform', 'exp', 'mlpRegressorTransform']\n",
      "2024-04-08 15:15:23,986 - __main__ - WARNING - Add the best feature in set to the best features record.\n",
      "2024-04-08 15:15:23,987 - __main__ - WARNING - Run feature transformation: ['radian', 'xgbRegressorTransform', 'minus', 'negative']\n",
      "2024-04-08 15:15:24,165 - __main__ - WARNING - Performances of the given node is: [0.5500572714200701, 0.5657851531662661, 0.5565377779085178, 0.4536362050358451, 0.48835829775794004, 0.5596811740900397, 0.46091944741722024, 0.5787782965868481, 0.5930283828881495, 0.5606299995737344]\n",
      "2024-04-08 15:15:24,167 - __main__ - WARNING - Mean perf is: 0.536741, Mean init is: 0.567630, Std init is: 0.022642 ==> reward: -2.000000\n",
      "2024-04-08 15:15:24,593 - __main__ - WARNING - Performance of scorer is: 0.02646850235760212\n",
      "2024-04-08 15:15:24,599 - __main__ - WARNING - XXXXXXXXXXXXXXXXXXXXXXXXXXXXXXXXXXXXXXXXXXXXXXXXXXXXXXXXXXXX\n",
      "2024-04-08 15:15:24,600 - __main__ - WARNING - Round:\t14\n",
      "2024-04-08 15:15:24,600 - __main__ - WARNING - XXXXXXXXXXXXXXXXXXXXXXXXXXXXXXXXXXXXXXXXXXXXXXXXXXXXXXXXXXXX\n",
      "2024-04-08 15:15:24,602 - __main__ - WARNING - Run feature transformation: ['div', 'negative', 'reciprocal', 'tanh']\n"
     ]
    },
    {
     "name": "stdout",
     "output_type": "stream",
     "text": [
      "['radian', 'div', 'minus', 'add', 'timeagg', 'diff', 'kernelapproxrbf', 'zscore', 'decisionTreeRegressorTransform', 'mlpRegressorTransform', 'linearRegressorTransform', 'svrTransform', 'xgbRegressorTransform', 'cos', 'abs', 'prod', 'square', 'negative', 'relu', 'reciprocal', 'degree', 'adde', 'tanh', 'sigmoid', 'ln', 'exp', 'parameter']\n",
      "W: [1, 1, 1, 1, 1, 1, 1, 1, 1, 1, 1, 1, 1, 4, 4, 4, 3.0, 2.0, 2.0, 1, 1, 1, 1, 1, 1, 1]\n",
      "N: [1, 0, 0, 0, 0, 0, 0, 0, 0, 0, 0, 0, 0, 1, 1, 1, 1, 1, 1, 1, 1, 1, 1, 1, 1, 1]\n",
      "L: [3.0, 1, 1, 1, 1, 1, 1, 1, 1, 1, 1, 1, 1, 1, 1, 1, 1, 1, 1, 2.0, 4.0, 4.0, 4.0, 4, 4, 4]\n",
      "W_rate: [0.25, 0.5, 0.5, 0.5, 0.5, 0.5, 0.5, 0.5, 0.5, 0.5, 0.5, 0.5, 0.5, 0.8, 0.8, 0.8, 0.75, 0.6666666666666666, 0.6666666666666666, 0.3333333333333333, 0.2, 0.2, 0.2, 0.2, 0.2, 0.2]\n",
      "Value: [0, 0, 0, 0, 0, 0, 0, 0, 0, 0, 0, 0, 0, 0, 0, 0, 0, 0, 0, 0, 0, 0, 0, 0, 0, 0]\n"
     ]
    },
    {
     "name": "stderr",
     "output_type": "stream",
     "text": [
      "2024-04-08 15:15:31,224 - __main__ - WARNING - Run feature transformation: ['div', 'negative', 'sigmoid', 'relu']\n",
      "2024-04-08 15:15:36,042 - __main__ - WARNING - Add the best feature in set to the best features record.\n",
      "2024-04-08 15:15:36,043 - __main__ - WARNING - Run feature transformation: ['div', 'negative', 'negative', 'ln']\n",
      "2024-04-08 15:15:40,450 - __main__ - WARNING - Run feature transformation: ['div', 'negative', 'diff', 'minus']\n",
      "2024-04-08 15:15:46,078 - __main__ - WARNING - Add the best feature in set to the best features record.\n",
      "2024-04-08 15:15:46,079 - __main__ - WARNING - Run feature transformation: ['div', 'negative', 'sigmoid', 'exp']\n",
      "2024-04-08 15:15:48,114 - __main__ - WARNING - Run feature transformation: ['div', 'negative', 'mlpRegressorTransform', 'minus']\n",
      "2024-04-08 15:15:56,844 - __main__ - WARNING - Add the best feature in set to the best features record.\n",
      "2024-04-08 15:15:56,845 - __main__ - WARNING - Run feature transformation: ['div', 'negative', 'negative', 'timeagg']\n",
      "2024-04-08 15:15:58,387 - __main__ - WARNING - Run feature transformation: ['div', 'negative', 'radian', 'diff']\n",
      "2024-04-08 15:16:03,362 - __main__ - WARNING - Run feature transformation: ['div', 'negative', 'relu', 'degree']\n",
      "2024-04-08 15:16:07,679 - __main__ - WARNING - Run feature transformation: ['div', 'negative', 'linearRegressorTransform', 'xgbRegressorTransform']\n",
      "2024-04-08 15:16:12,029 - __main__ - WARNING - Add the best feature in set to the best features record.\n",
      "2024-04-08 15:16:12,031 - __main__ - WARNING - Performances of the given node is: [0.5878331110531875, 0.5868447033952432, 0.5975880734384392, 0.5826621619602413, 0.5519011843224395, 0.5928742166339638, 0.5841103584614968, 0.5825027426493384, 0.5941583553856634, 0.6020910735451389]\n",
      "2024-04-08 15:16:12,032 - __main__ - WARNING - Mean perf is: 0.586257, Mean init is: 0.567630, Std init is: 0.022642 ==> reward: 2.000000\n",
      "2024-04-08 15:16:12,465 - __main__ - WARNING - Performance of scorer is: 0.04636402800679207\n",
      "2024-04-08 15:16:12,465 - __main__ - WARNING - Run feature transformation: ['div', 'negative']\n",
      "2024-04-08 15:16:35,897 - __main__ - WARNING - Mean init is: 0.56763049815533, mean of new node is: 0.5460727191865549\n",
      "2024-04-08 15:16:35,904 - __main__ - WARNING - XXXXXXXXXXXXXXXXXXXXXXXXXXXXXXXXXXXXXXXXXXXXXXXXXXXXXXXXXXXX\n",
      "2024-04-08 15:16:35,904 - __main__ - WARNING - Round:\t15\n",
      "2024-04-08 15:16:35,904 - __main__ - WARNING - XXXXXXXXXXXXXXXXXXXXXXXXXXXXXXXXXXXXXXXXXXXXXXXXXXXXXXXXXXXX\n",
      "2024-04-08 15:16:35,907 - __main__ - WARNING - Run feature transformation: ['minus', 'exp', 'ln', 'tanh']\n"
     ]
    },
    {
     "name": "stdout",
     "output_type": "stream",
     "text": [
      "['div', 'minus', 'add', 'timeagg', 'diff', 'kernelapproxrbf', 'zscore', 'decisionTreeRegressorTransform', 'mlpRegressorTransform', 'linearRegressorTransform', 'svrTransform', 'xgbRegressorTransform', 'cos', 'abs', 'prod', 'square', 'negative', 'relu', 'reciprocal', 'radian', 'degree', 'adde', 'tanh', 'sigmoid', 'ln', 'exp', 'parameter']\n",
      "W: [3.0, 1, 1, 1, 1, 1, 1, 1, 1, 1, 1, 1, 4, 4, 4, 3.0, 2.0, 2.0, 1, 1, 1, 1, 1, 1, 1, 1]\n",
      "N: [1, 0, 0, 0, 0, 0, 0, 0, 0, 0, 0, 0, 1, 1, 1, 1, 1, 1, 1, 1, 1, 1, 1, 1, 1, 1]\n",
      "L: [1, 1, 1, 1, 1, 1, 1, 1, 1, 1, 1, 1, 1, 1, 1, 1, 1, 1, 2.0, 3.0, 4.0, 4.0, 4.0, 4, 4, 4]\n",
      "W_rate: [0.75, 0.5, 0.5, 0.5, 0.5, 0.5, 0.5, 0.5, 0.5, 0.5, 0.5, 0.5, 0.8, 0.8, 0.8, 0.75, 0.6666666666666666, 0.6666666666666666, 0.3333333333333333, 0.25, 0.2, 0.2, 0.2, 0.2, 0.2, 0.2]\n",
      "Value: [0, 0, 0, 0, 0, 0, 0, 0, 0, 0, 0, 0, 0, 0, 0, 0, 0, 0, 0, 0, 0, 0, 0, 0, 0, 0]\n"
     ]
    },
    {
     "name": "stderr",
     "output_type": "stream",
     "text": [
      "2024-04-08 15:16:40,413 - __main__ - WARNING - Run feature transformation: ['minus', 'exp', 'kernelapproxrbf', 'exp']\n",
      "2024-04-08 15:16:42,312 - __main__ - WARNING - Add the best feature in set to the best features record.\n",
      "2024-04-08 15:16:42,313 - __main__ - WARNING - Run feature transformation: ['minus', 'exp', 'prod', 'sigmoid']\n",
      "2024-04-08 15:16:46,013 - __main__ - WARNING - Add the best feature in set to the best features record.\n",
      "2024-04-08 15:16:46,014 - __main__ - WARNING - Run feature transformation: ['minus', 'exp', 'radian', 'add']\n",
      "2024-04-08 15:16:51,571 - __main__ - WARNING - Add the best feature in set to the best features record.\n",
      "2024-04-08 15:16:51,573 - __main__ - WARNING - Run feature transformation: ['minus', 'exp', 'reciprocal', 'prod']\n",
      "2024-04-08 15:16:56,274 - __main__ - WARNING - Add the best feature in set to the best features record.\n",
      "2024-04-08 15:16:56,275 - __main__ - WARNING - Run feature transformation: ['minus', 'exp', 'degree', 'minus']\n",
      "2024-04-08 15:17:01,733 - __main__ - WARNING - Run feature transformation: ['minus', 'exp', 'cos', 'add']\n",
      "2024-04-08 15:17:06,333 - __main__ - WARNING - Add the best feature in set to the best features record.\n",
      "2024-04-08 15:17:06,334 - __main__ - WARNING - Run feature transformation: ['minus', 'exp', 'div', 'abs']\n",
      "2024-04-08 15:17:11,234 - __main__ - WARNING - Add the best feature in set to the best features record.\n",
      "2024-04-08 15:17:11,235 - __main__ - WARNING - Run feature transformation: ['minus', 'exp', 'diff', 'relu']\n",
      "2024-04-08 15:17:13,157 - __main__ - WARNING - Add the best feature in set to the best features record.\n",
      "2024-04-08 15:17:13,157 - __main__ - WARNING - Run feature transformation: ['minus', 'exp', 'decisionTreeRegressorTransform', 'negative']\n",
      "2024-04-08 15:17:14,784 - __main__ - WARNING - Performances of the given node is: [0.5663005471750879, 0.5843363171993212, 0.5793572891673291, 0.5840600106867726, 0.5977505517323898, 0.561997381220425, 0.5727124787991543, 0.5857711094081467, 0.5899654917736841, 0.5968094001966529]\n",
      "2024-04-08 15:17:14,786 - __main__ - WARNING - Mean perf is: 0.581906, Mean init is: 0.567630, Std init is: 0.022642 ==> reward: 2.000000\n",
      "2024-04-08 15:17:15,275 - __main__ - WARNING - Performance of scorer is: 0.025901859626173973\n",
      "2024-04-08 15:17:15,276 - __main__ - WARNING - Run feature transformation: ['minus', 'exp']\n",
      "2024-04-08 15:17:27,374 - __main__ - WARNING - Mean init is: 0.56763049815533, mean of new node is: 0.5814751034102423\n",
      "2024-04-08 15:17:27,375 - __main__ - WARNING - the new init_performance is: [0.5851246525702343, 0.5950885222757554, 0.5893924569327881, 0.5850094281116931, 0.5716708639342858, 0.5653368205336361, 0.581949066176178, 0.5921610118315852, 0.5562813357298269, 0.5927368760064412]\n",
      "2024-04-08 15:17:27,381 - __main__ - WARNING - XXXXXXXXXXXXXXXXXXXXXXXXXXXXXXXXXXXXXXXXXXXXXXXXXXXXXXXXXXXX\n",
      "2024-04-08 15:17:27,382 - __main__ - WARNING - Round:\t16\n",
      "2024-04-08 15:17:27,382 - __main__ - WARNING - XXXXXXXXXXXXXXXXXXXXXXXXXXXXXXXXXXXXXXXXXXXXXXXXXXXXXXXXXXXX\n",
      "2024-04-08 15:17:27,385 - __main__ - WARNING - Run feature transformation: ['add', 'kernelapproxrbf', 'kernelapproxrbf', 'exp']\n"
     ]
    },
    {
     "name": "stdout",
     "output_type": "stream",
     "text": [
      "['minus', 'add', 'timeagg', 'diff', 'kernelapproxrbf', 'zscore', 'decisionTreeRegressorTransform', 'mlpRegressorTransform', 'linearRegressorTransform', 'svrTransform', 'xgbRegressorTransform', 'cos', 'abs', 'prod', 'div', 'square', 'negative', 'relu', 'reciprocal', 'radian', 'degree', 'adde', 'tanh', 'sigmoid', 'ln', 'exp', 'parameter']\n",
      "W: [3.0, 1, 1, 1, 1, 1, 1, 1, 1, 1, 1, 4, 4, 4, 3.0, 3.0, 2.0, 2.0, 1, 1, 1, 1, 1, 1, 1, 1]\n",
      "N: [1, 0, 0, 0, 0, 0, 0, 0, 0, 0, 0, 1, 1, 1, 1, 1, 1, 1, 1, 1, 1, 1, 1, 1, 1, 1]\n",
      "L: [1, 1, 1, 1, 1, 1, 1, 1, 1, 1, 1, 1, 1, 1, 1, 1, 1, 1, 2.0, 3.0, 4.0, 4.0, 4.0, 4, 4, 4]\n",
      "W_rate: [0.75, 0.5, 0.5, 0.5, 0.5, 0.5, 0.5, 0.5, 0.5, 0.5, 0.5, 0.8, 0.8, 0.8, 0.75, 0.75, 0.6666666666666666, 0.6666666666666666, 0.3333333333333333, 0.25, 0.2, 0.2, 0.2, 0.2, 0.2, 0.2]\n",
      "Value: [0, 0, 0, 0, 0, 0, 0, 0, 0, 0, 0, 0, 0, 0, 0, 0, 0, 0, 0, 0, 0, 0, 0, 0, 0, 0]\n"
     ]
    },
    {
     "name": "stderr",
     "output_type": "stream",
     "text": [
      "2024-04-08 15:17:29,458 - __main__ - WARNING - Add the best feature in set to the best features record.\n",
      "2024-04-08 15:17:29,459 - __main__ - WARNING - Run feature transformation: ['add', 'kernelapproxrbf', 'prod', 'sigmoid']\n",
      "2024-04-08 15:17:35,176 - __main__ - WARNING - Run feature transformation: ['add', 'kernelapproxrbf', 'radian', 'add']\n",
      "2024-04-08 15:17:39,985 - __main__ - WARNING - Run feature transformation: ['add', 'kernelapproxrbf', 'reciprocal', 'prod']\n",
      "2024-04-08 15:17:45,259 - __main__ - WARNING - Add the best feature in set to the best features record.\n",
      "2024-04-08 15:17:45,260 - __main__ - WARNING - Run feature transformation: ['add', 'kernelapproxrbf', 'degree', 'minus']\n",
      "2024-04-08 15:17:49,937 - __main__ - WARNING - Add the best feature in set to the best features record.\n",
      "2024-04-08 15:17:49,938 - __main__ - WARNING - Run feature transformation: ['add', 'kernelapproxrbf', 'cos', 'add']\n",
      "2024-04-08 15:17:55,154 - __main__ - WARNING - Run feature transformation: ['add', 'kernelapproxrbf', 'div', 'abs']\n",
      "2024-04-08 15:18:03,499 - __main__ - WARNING - Add the best feature in set to the best features record.\n",
      "2024-04-08 15:18:03,500 - __main__ - WARNING - Run feature transformation: ['add', 'kernelapproxrbf', 'diff', 'relu']\n",
      "2024-04-08 15:18:05,724 - __main__ - WARNING - Run feature transformation: ['add', 'kernelapproxrbf', 'decisionTreeRegressorTransform', 'negative']\n",
      "2024-04-08 15:18:07,624 - __main__ - WARNING - Run feature transformation: ['add', 'kernelapproxrbf', 'timeagg', 'relu']\n",
      "2024-04-08 15:18:09,920 - __main__ - WARNING - Add the best feature in set to the best features record.\n",
      "2024-04-08 15:18:09,921 - __main__ - WARNING - Performances of the given node is: [0.5937578104950528, 0.5663935798570259, 0.5645398818209719, 0.5935124729781568, 0.5843932035241598, 0.564731839812602, 0.5874644996495707, 0.5663001324065038, 0.5342806084997482, 0.5963946023808582]\n",
      "2024-04-08 15:18:09,923 - __main__ - WARNING - Mean perf is: 0.575177, Mean init is: 0.581475, Std init is: 0.012273 ==> reward: -1.000000\n",
      "2024-04-08 15:18:10,414 - __main__ - WARNING - Performance of scorer is: 0.042275071144104004\n",
      "2024-04-08 15:18:10,421 - __main__ - WARNING - XXXXXXXXXXXXXXXXXXXXXXXXXXXXXXXXXXXXXXXXXXXXXXXXXXXXXXXXXXXX\n",
      "2024-04-08 15:18:10,422 - __main__ - WARNING - Round:\t17\n",
      "2024-04-08 15:18:10,422 - __main__ - WARNING - XXXXXXXXXXXXXXXXXXXXXXXXXXXXXXXXXXXXXXXXXXXXXXXXXXXXXXXXXXXX\n",
      "2024-04-08 15:18:10,424 - __main__ - WARNING - Run feature transformation: ['timeagg', 'minus', 'svrTransform', 'radian']\n"
     ]
    },
    {
     "name": "stdout",
     "output_type": "stream",
     "text": [
      "['add', 'timeagg', 'diff', 'kernelapproxrbf', 'zscore', 'decisionTreeRegressorTransform', 'mlpRegressorTransform', 'linearRegressorTransform', 'svrTransform', 'xgbRegressorTransform', 'cos', 'abs', 'prod', 'minus', 'div', 'square', 'negative', 'relu', 'reciprocal', 'radian', 'degree', 'adde', 'tanh', 'sigmoid', 'ln', 'exp', 'parameter']\n",
      "W: [1, 1, 1, 1, 1, 1, 1, 1, 1, 1, 4, 4, 4, 3.0, 3.0, 3.0, 2.0, 2.0, 1, 1, 1, 1, 1, 1, 1, 1]\n",
      "N: [1, 0, 0, 0, 0, 0, 0, 0, 0, 0, 1, 1, 1, 1, 1, 1, 1, 1, 1, 1, 1, 1, 1, 1, 1, 1]\n",
      "L: [2.0, 1, 1, 1, 1, 1, 1, 1, 1, 1, 1, 1, 1, 1, 1, 1, 1, 1, 2.0, 3.0, 4.0, 4.0, 4.0, 4, 4, 4]\n",
      "W_rate: [0.3333333333333333, 0.5, 0.5, 0.5, 0.5, 0.5, 0.5, 0.5, 0.5, 0.5, 0.8, 0.8, 0.8, 0.75, 0.75, 0.75, 0.6666666666666666, 0.6666666666666666, 0.3333333333333333, 0.25, 0.2, 0.2, 0.2, 0.2, 0.2, 0.2]\n",
      "Value: [0, 0, 0, 0, 0, 0, 0, 0, 0, 0, 0, 0, 0, 0, 0, 0, 0, 0, 0, 0, 0, 0, 0, 0, 0, 0]\n"
     ]
    },
    {
     "name": "stderr",
     "output_type": "stream",
     "text": [
      "2024-04-08 15:18:13,500 - __main__ - WARNING - Add the best feature in set to the best features record.\n",
      "2024-04-08 15:18:13,501 - __main__ - WARNING - Run feature transformation: ['timeagg', 'minus', 'minus', 'diff']\n",
      "2024-04-08 15:18:22,046 - __main__ - WARNING - Add the best feature in set to the best features record.\n",
      "2024-04-08 15:18:22,047 - __main__ - WARNING - Run feature transformation: ['timeagg', 'minus', 'exp', 'diff']\n",
      "2024-04-08 15:18:25,475 - __main__ - WARNING - Add the best feature in set to the best features record.\n",
      "2024-04-08 15:18:25,476 - __main__ - WARNING - Run feature transformation: ['timeagg', 'minus', 'decisionTreeRegressorTransform', 'abs']\n",
      "2024-04-08 15:18:27,779 - __main__ - WARNING - Run feature transformation: ['timeagg', 'minus', 'linearRegressorTransform', 'relu']\n",
      "2024-04-08 15:18:30,174 - __main__ - WARNING - Run feature transformation: ['timeagg', 'minus', 'exp', 'reciprocal']\n",
      "2024-04-08 15:18:33,128 - __main__ - WARNING - Run feature transformation: ['timeagg', 'minus', 'relu', 'prod']\n",
      "2024-04-08 15:18:38,841 - __main__ - WARNING - Run feature transformation: ['timeagg', 'minus', 'square', 'linearRegressorTransform']\n",
      "2024-04-08 15:18:43,328 - __main__ - WARNING - Run feature transformation: ['timeagg', 'minus', 'add', 'radian']\n",
      "2024-04-08 15:18:50,777 - __main__ - WARNING - Add the best feature in set to the best features record.\n",
      "2024-04-08 15:18:50,779 - __main__ - WARNING - Run feature transformation: ['timeagg', 'minus', 'reciprocal', 'minus']\n",
      "2024-04-08 15:18:58,064 - __main__ - WARNING - Add the best feature in set to the best features record.\n",
      "2024-04-08 15:18:58,066 - __main__ - WARNING - Performances of the given node is: [0.5904769209447991, 0.5894380724670355, 0.5969704712414758, 0.6084581910474951, 0.5666285054833691, 0.5645141541817418, 0.5752724702704223, 0.5645920931284969, 0.6092915673602051, 0.5836158062425592]\n",
      "2024-04-08 15:18:58,067 - __main__ - WARNING - Mean perf is: 0.584926, Mean init is: 0.581475, Std init is: 0.012273 ==> reward: 1.000000\n",
      "2024-04-08 15:18:58,567 - __main__ - WARNING - Performance of scorer is: 0.026388803496956825\n",
      "2024-04-08 15:18:58,568 - __main__ - WARNING - Run feature transformation: ['timeagg', 'minus']\n",
      "2024-04-08 15:19:13,383 - __main__ - WARNING - Mean init is: 0.5814751034102423, mean of new node is: 0.5354396650660456\n",
      "2024-04-08 15:19:13,390 - __main__ - WARNING - XXXXXXXXXXXXXXXXXXXXXXXXXXXXXXXXXXXXXXXXXXXXXXXXXXXXXXXXXXXX\n",
      "2024-04-08 15:19:13,391 - __main__ - WARNING - Round:\t18\n",
      "2024-04-08 15:19:13,391 - __main__ - WARNING - XXXXXXXXXXXXXXXXXXXXXXXXXXXXXXXXXXXXXXXXXXXXXXXXXXXXXXXXXXXX\n",
      "2024-04-08 15:19:13,394 - __main__ - WARNING - Run feature transformation: ['diff', 'prod', 'xgbRegressorTransform', 'abs']\n"
     ]
    },
    {
     "name": "stdout",
     "output_type": "stream",
     "text": [
      "['timeagg', 'diff', 'kernelapproxrbf', 'zscore', 'decisionTreeRegressorTransform', 'mlpRegressorTransform', 'linearRegressorTransform', 'svrTransform', 'xgbRegressorTransform', 'cos', 'abs', 'prod', 'minus', 'div', 'square', 'negative', 'relu', 'add', 'reciprocal', 'radian', 'degree', 'adde', 'tanh', 'sigmoid', 'ln', 'exp', 'parameter']\n",
      "W: [2.0, 1, 1, 1, 1, 1, 1, 1, 1, 4, 4, 4, 3.0, 3.0, 3.0, 2.0, 2.0, 1, 1, 1, 1, 1, 1, 1, 1, 1]\n",
      "N: [1, 0, 0, 0, 0, 0, 0, 0, 0, 1, 1, 1, 1, 1, 1, 1, 1, 1, 1, 1, 1, 1, 1, 1, 1, 1]\n",
      "L: [1, 1, 1, 1, 1, 1, 1, 1, 1, 1, 1, 1, 1, 1, 1, 1, 1, 2.0, 2.0, 3.0, 4.0, 4.0, 4.0, 4, 4, 4]\n",
      "W_rate: [0.6666666666666666, 0.5, 0.5, 0.5, 0.5, 0.5, 0.5, 0.5, 0.5, 0.8, 0.8, 0.8, 0.75, 0.75, 0.75, 0.6666666666666666, 0.6666666666666666, 0.3333333333333333, 0.3333333333333333, 0.25, 0.2, 0.2, 0.2, 0.2, 0.2, 0.2]\n",
      "Value: [0, 0, 0, 0, 0, 0, 0, 0, 0, 0, 0, 0, 0, 0, 0, 0, 0, 0, 0, 0, 0, 0, 0, 0, 0, 0]\n"
     ]
    },
    {
     "name": "stderr",
     "output_type": "stream",
     "text": [
      "2024-04-08 15:19:14,204 - __main__ - WARNING - Run feature transformation: ['diff', 'prod', 'reciprocal', 'kernelapproxrbf']\n",
      "2024-04-08 15:19:14,938 - __main__ - WARNING - Run feature transformation: ['diff', 'prod', 'xgbRegressorTransform', 'prod']\n",
      "2024-04-08 15:19:15,175 - __main__ - WARNING - Run feature transformation: ['diff', 'prod', 'kernelapproxrbf', 'adde']\n",
      "2024-04-08 15:19:16,254 - __main__ - WARNING - Run feature transformation: ['diff', 'prod', 'relu', 'negative']\n",
      "2024-04-08 15:19:16,603 - __main__ - WARNING - Run feature transformation: ['diff', 'prod', 'square', 'svrTransform']\n",
      "2024-04-08 15:19:17,008 - __main__ - WARNING - Run feature transformation: ['diff', 'prod', 'exp', 'timeagg']\n",
      "2024-04-08 15:19:17,300 - __main__ - WARNING - Run feature transformation: ['diff', 'prod', 'negative', 'abs']\n",
      "2024-04-08 15:19:17,675 - __main__ - WARNING - Run feature transformation: ['diff', 'prod', 'ln', 'exp']\n",
      "2024-04-08 15:19:17,971 - __main__ - WARNING - Run feature transformation: ['diff', 'prod', 'cos', 'decisionTreeRegressorTransform']\n",
      "2024-04-08 15:19:18,191 - __main__ - WARNING - Performances of the given node is: [0.5394614242728731, 0.5453081505470467, 0.5361678320195017, 0.5382307577612694, 0.5720461970636231, 0.5792181218313066, 0.5685703602077382, 0.566359453033324, 0.5709867321634394, 0.576478602349029]\n",
      "2024-04-08 15:19:18,192 - __main__ - WARNING - Mean perf is: 0.559283, Mean init is: 0.581475, Std init is: 0.012273 ==> reward: -2.000000\n",
      "2024-04-08 15:19:18,755 - __main__ - WARNING - Performance of scorer is: 0.029873518273234367\n",
      "2024-04-08 15:19:18,762 - __main__ - WARNING - XXXXXXXXXXXXXXXXXXXXXXXXXXXXXXXXXXXXXXXXXXXXXXXXXXXXXXXXXXXX\n",
      "2024-04-08 15:19:18,762 - __main__ - WARNING - Round:\t19\n",
      "2024-04-08 15:19:18,762 - __main__ - WARNING - XXXXXXXXXXXXXXXXXXXXXXXXXXXXXXXXXXXXXXXXXXXXXXXXXXXXXXXXXXXX\n",
      "2024-04-08 15:19:18,765 - __main__ - WARNING - Run feature transformation: ['kernelapproxrbf', 'ln', 'exp', 'radian']\n"
     ]
    },
    {
     "name": "stdout",
     "output_type": "stream",
     "text": [
      "['diff', 'kernelapproxrbf', 'zscore', 'decisionTreeRegressorTransform', 'mlpRegressorTransform', 'linearRegressorTransform', 'svrTransform', 'xgbRegressorTransform', 'cos', 'abs', 'prod', 'minus', 'div', 'square', 'timeagg', 'negative', 'relu', 'add', 'reciprocal', 'radian', 'degree', 'adde', 'tanh', 'sigmoid', 'ln', 'exp', 'parameter']\n",
      "W: [1, 1, 1, 1, 1, 1, 1, 1, 4, 4, 4, 3.0, 3.0, 3.0, 2.0, 2.0, 2.0, 1, 1, 1, 1, 1, 1, 1, 1, 1]\n",
      "N: [1, 0, 0, 0, 0, 0, 0, 0, 1, 1, 1, 1, 1, 1, 1, 1, 1, 1, 1, 1, 1, 1, 1, 1, 1, 1]\n",
      "L: [3.0, 1, 1, 1, 1, 1, 1, 1, 1, 1, 1, 1, 1, 1, 1, 1, 1, 2.0, 2.0, 3.0, 4.0, 4.0, 4.0, 4, 4, 4]\n",
      "W_rate: [0.25, 0.5, 0.5, 0.5, 0.5, 0.5, 0.5, 0.5, 0.8, 0.8, 0.8, 0.75, 0.75, 0.75, 0.6666666666666666, 0.6666666666666666, 0.6666666666666666, 0.3333333333333333, 0.3333333333333333, 0.25, 0.2, 0.2, 0.2, 0.2, 0.2, 0.2]\n",
      "Value: [0, 0, 0, 0, 0, 0, 0, 0, 0, 0, 0, 0, 0, 0, 0, 0, 0, 0, 0, 0, 0, 0, 0, 0, 0, 0]\n"
     ]
    },
    {
     "name": "stderr",
     "output_type": "stream",
     "text": [
      "2024-04-08 15:19:21,237 - __main__ - WARNING - Run feature transformation: ['kernelapproxrbf', 'ln', 'mlpRegressorTransform', 'prod']\n",
      "2024-04-08 15:19:26,759 - __main__ - WARNING - Run feature transformation: ['kernelapproxrbf', 'ln', 'negative', 'degree']\n",
      "2024-04-08 15:19:28,573 - __main__ - WARNING - Run feature transformation: ['kernelapproxrbf', 'ln', 'adde', 'reciprocal']\n",
      "2024-04-08 15:19:30,637 - __main__ - WARNING - Run feature transformation: ['kernelapproxrbf', 'ln', 'sigmoid', 'ln']\n",
      "2024-04-08 15:19:33,281 - __main__ - WARNING - Run feature transformation: ['kernelapproxrbf', 'ln', 'kernelapproxrbf', 'cos']\n",
      "2024-04-08 15:19:34,809 - __main__ - WARNING - Run feature transformation: ['kernelapproxrbf', 'ln', 'cos', 'degree']\n",
      "2024-04-08 15:19:37,008 - __main__ - WARNING - Run feature transformation: ['kernelapproxrbf', 'ln', 'square', 'ln']\n",
      "2024-04-08 15:19:39,360 - __main__ - WARNING - Run feature transformation: ['kernelapproxrbf', 'ln', 'zscore', 'adde']\n",
      "2024-04-08 15:19:41,295 - __main__ - WARNING - Run feature transformation: ['kernelapproxrbf', 'ln', 'prod', 'degree']\n",
      "2024-04-08 15:19:44,635 - __main__ - WARNING - Performances of the given node is: [0.43265623589915564, 0.5617243930079631, 0.4987052882123689, 0.5649943777336165, 0.5397361255281871, 0.47324959347499856, 0.5050769899184373, 0.5740379906925042, 0.5672535558552602, 0.543613670203224]\n",
      "2024-04-08 15:19:44,637 - __main__ - WARNING - Mean perf is: 0.526105, Mean init is: 0.581475, Std init is: 0.012273 ==> reward: -3.000000\n",
      "2024-04-08 15:19:45,198 - __main__ - WARNING - Performance of scorer is: 0.015953628346323967\n",
      "2024-04-08 15:19:45,204 - __main__ - WARNING - XXXXXXXXXXXXXXXXXXXXXXXXXXXXXXXXXXXXXXXXXXXXXXXXXXXXXXXXXXXX\n",
      "2024-04-08 15:19:45,205 - __main__ - WARNING - Round:\t20\n",
      "2024-04-08 15:19:45,205 - __main__ - WARNING - XXXXXXXXXXXXXXXXXXXXXXXXXXXXXXXXXXXXXXXXXXXXXXXXXXXXXXXXXXXX\n",
      "2024-04-08 15:19:45,207 - __main__ - WARNING - Run feature transformation: ['zscore', 'abs', 'reciprocal', 'sigmoid']\n"
     ]
    },
    {
     "name": "stdout",
     "output_type": "stream",
     "text": [
      "['kernelapproxrbf', 'zscore', 'decisionTreeRegressorTransform', 'mlpRegressorTransform', 'linearRegressorTransform', 'svrTransform', 'xgbRegressorTransform', 'cos', 'abs', 'prod', 'minus', 'div', 'square', 'timeagg', 'negative', 'relu', 'add', 'reciprocal', 'diff', 'radian', 'degree', 'adde', 'tanh', 'sigmoid', 'ln', 'exp', 'parameter']\n",
      "W: [1, 1, 1, 1, 1, 1, 1, 4, 4, 4, 3.0, 3.0, 3.0, 2.0, 2.0, 2.0, 1, 1, 1, 1, 1, 1, 1, 1, 1, 1]\n",
      "N: [1, 0, 0, 0, 0, 0, 0, 1, 1, 1, 1, 1, 1, 1, 1, 1, 1, 1, 1, 1, 1, 1, 1, 1, 1, 1]\n",
      "L: [4.0, 1, 1, 1, 1, 1, 1, 1, 1, 1, 1, 1, 1, 1, 1, 1, 2.0, 2.0, 3.0, 3.0, 4.0, 4.0, 4.0, 4, 4, 4]\n",
      "W_rate: [0.2, 0.5, 0.5, 0.5, 0.5, 0.5, 0.5, 0.8, 0.8, 0.8, 0.75, 0.75, 0.75, 0.6666666666666666, 0.6666666666666666, 0.6666666666666666, 0.3333333333333333, 0.3333333333333333, 0.25, 0.25, 0.2, 0.2, 0.2, 0.2, 0.2, 0.2]\n",
      "Value: [0, 0, 0, 0, 0, 0, 0, 0, 0, 0, 0, 0, 0, 0, 0, 0, 0, 0, 0, 0, 0, 0, 0, 0, 0, 0]\n"
     ]
    },
    {
     "name": "stderr",
     "output_type": "stream",
     "text": [
      "2024-04-08 15:19:46,784 - __main__ - WARNING - Run feature transformation: ['zscore', 'abs', 'ln', 'kernelapproxrbf']\n",
      "2024-04-08 15:19:48,015 - __main__ - WARNING - Run feature transformation: ['zscore', 'abs', 'cos', 'cos']\n",
      "2024-04-08 15:19:49,506 - __main__ - WARNING - Run feature transformation: ['zscore', 'abs', 'degree', 'square']\n",
      "2024-04-08 15:19:50,805 - __main__ - WARNING - Run feature transformation: ['zscore', 'abs', 'ln', 'zscore']\n",
      "2024-04-08 15:19:51,645 - __main__ - WARNING - Add the best feature in set to the best features record.\n",
      "2024-04-08 15:19:51,646 - __main__ - WARNING - Run feature transformation: ['zscore', 'abs', 'adde', 'prod']\n",
      "2024-04-08 15:19:53,533 - __main__ - WARNING - Run feature transformation: ['zscore', 'abs', 'degree', 'reciprocal']\n",
      "2024-04-08 15:19:54,783 - __main__ - WARNING - Add the best feature in set to the best features record.\n",
      "2024-04-08 15:19:54,784 - __main__ - WARNING - Run feature transformation: ['zscore', 'abs', 'mlpRegressorTransform', 'zscore']\n",
      "2024-04-08 15:19:58,880 - __main__ - WARNING - Run feature transformation: ['zscore', 'abs', 'minus', 'ln']\n",
      "2024-04-08 15:20:00,790 - __main__ - WARNING - Run feature transformation: ['zscore', 'abs', 'timeagg', 'zscore']\n",
      "2024-04-08 15:20:01,564 - __main__ - WARNING - Add the best feature in set to the best features record.\n",
      "2024-04-08 15:20:01,566 - __main__ - WARNING - Performances of the given node is: [0.5795785743970227, 0.5521810209643677, 0.6002828297890573, 0.5774033266838907, 0.5894105310467496, 0.5587940444422137, 0.596462806056925, 0.5606394969291422, 0.5494175140019772, 0.5972488196985853]\n",
      "2024-04-08 15:20:01,567 - __main__ - WARNING - Mean perf is: 0.576142, Mean init is: 0.581475, Std init is: 0.012273 ==> reward: -1.000000\n",
      "2024-04-08 15:20:02,248 - __main__ - WARNING - Performance of scorer is: 0.04652497544884682\n",
      "2024-04-08 15:20:02,255 - __main__ - WARNING - XXXXXXXXXXXXXXXXXXXXXXXXXXXXXXXXXXXXXXXXXXXXXXXXXXXXXXXXXXXX\n",
      "2024-04-08 15:20:02,256 - __main__ - WARNING - Round:\t21\n",
      "2024-04-08 15:20:02,256 - __main__ - WARNING - XXXXXXXXXXXXXXXXXXXXXXXXXXXXXXXXXXXXXXXXXXXXXXXXXXXXXXXXXXXX\n",
      "2024-04-08 15:20:02,259 - __main__ - WARNING - Run feature transformation: ['decisionTreeRegressorTransform', 'abs', 'zscore', 'adde']\n"
     ]
    },
    {
     "name": "stdout",
     "output_type": "stream",
     "text": [
      "['zscore', 'decisionTreeRegressorTransform', 'mlpRegressorTransform', 'linearRegressorTransform', 'svrTransform', 'xgbRegressorTransform', 'cos', 'abs', 'prod', 'minus', 'div', 'square', 'timeagg', 'negative', 'relu', 'add', 'reciprocal', 'diff', 'radian', 'kernelapproxrbf', 'degree', 'adde', 'tanh', 'sigmoid', 'ln', 'exp', 'parameter']\n",
      "W: [1, 1, 1, 1, 1, 1, 4, 4, 4, 3.0, 3.0, 3.0, 2.0, 2.0, 2.0, 1, 1, 1, 1, 1, 1, 1, 1, 1, 1, 1]\n",
      "N: [1, 0, 0, 0, 0, 0, 1, 1, 1, 1, 1, 1, 1, 1, 1, 1, 1, 1, 1, 1, 1, 1, 1, 1, 1, 1]\n",
      "L: [2.0, 1, 1, 1, 1, 1, 1, 1, 1, 1, 1, 1, 1, 1, 1, 2.0, 2.0, 3.0, 3.0, 4.0, 4.0, 4.0, 4.0, 4, 4, 4]\n",
      "W_rate: [0.3333333333333333, 0.5, 0.5, 0.5, 0.5, 0.5, 0.8, 0.8, 0.8, 0.75, 0.75, 0.75, 0.6666666666666666, 0.6666666666666666, 0.6666666666666666, 0.3333333333333333, 0.3333333333333333, 0.25, 0.25, 0.2, 0.2, 0.2, 0.2, 0.2, 0.2, 0.2]\n",
      "Value: [0, 0, 0, 0, 0, 0, 0, 0, 0, 0, 0, 0, 0, 0, 0, 0, 0, 0, 0, 0, 0, 0, 0, 0, 0, 0]\n"
     ]
    },
    {
     "name": "stderr",
     "output_type": "stream",
     "text": [
      "2024-04-08 15:20:02,891 - __main__ - WARNING - Add the best feature in set to the best features record.\n",
      "2024-04-08 15:20:02,892 - __main__ - WARNING - Run feature transformation: ['decisionTreeRegressorTransform', 'abs', 'prod', 'degree']\n",
      "2024-04-08 15:20:03,412 - __main__ - WARNING - Run feature transformation: ['decisionTreeRegressorTransform', 'abs', 'reciprocal', 'mlpRegressorTransform']\n",
      "2024-04-08 15:20:07,016 - __main__ - WARNING - Run feature transformation: ['decisionTreeRegressorTransform', 'abs', 'zscore', 'minus']\n",
      "2024-04-08 15:20:07,763 - __main__ - WARNING - Run feature transformation: ['decisionTreeRegressorTransform', 'abs', 'ln', 'timeagg']\n",
      "2024-04-08 15:20:08,412 - __main__ - WARNING - Add the best feature in set to the best features record.\n",
      "2024-04-08 15:20:08,413 - __main__ - WARNING - Run feature transformation: ['decisionTreeRegressorTransform', 'abs', 'zscore', 'xgbRegressorTransform']\n",
      "2024-04-08 15:20:08,978 - __main__ - WARNING - Add the best feature in set to the best features record.\n",
      "2024-04-08 15:20:08,979 - __main__ - WARNING - Run feature transformation: ['decisionTreeRegressorTransform', 'abs', 'diff', 'tanh']\n",
      "2024-04-08 15:20:09,483 - __main__ - WARNING - Run feature transformation: ['decisionTreeRegressorTransform', 'abs', 'cos', 'kernelapproxrbf']\n",
      "2024-04-08 15:20:10,312 - __main__ - WARNING - Run feature transformation: ['decisionTreeRegressorTransform', 'abs', 'square', 'reciprocal']\n",
      "2024-04-08 15:20:10,956 - __main__ - WARNING - Run feature transformation: ['decisionTreeRegressorTransform', 'abs', 'svrTransform', 'diff']\n",
      "2024-04-08 15:20:11,565 - __main__ - WARNING - Add the best feature in set to the best features record.\n",
      "2024-04-08 15:20:11,567 - __main__ - WARNING - Performances of the given node is: [0.5862873439896963, 0.5598711574887714, 0.5907894395140133, 0.5721424098718373, 0.5909620182161072, 0.5843008624121946, 0.5327878334850376, 0.5192975898441906, 0.5677137321552604, 0.5907894395140133]\n",
      "2024-04-08 15:20:11,568 - __main__ - WARNING - Mean perf is: 0.569494, Mean init is: 0.581475, Std init is: 0.012273 ==> reward: -1.000000\n",
      "2024-04-08 15:20:12,187 - __main__ - WARNING - Performance of scorer is: 0.023841863498091698\n",
      "2024-04-08 15:20:12,194 - __main__ - WARNING - XXXXXXXXXXXXXXXXXXXXXXXXXXXXXXXXXXXXXXXXXXXXXXXXXXXXXXXXXXXX\n",
      "2024-04-08 15:20:12,194 - __main__ - WARNING - Round:\t22\n",
      "2024-04-08 15:20:12,194 - __main__ - WARNING - XXXXXXXXXXXXXXXXXXXXXXXXXXXXXXXXXXXXXXXXXXXXXXXXXXXXXXXXXXXX\n",
      "2024-04-08 15:20:12,197 - __main__ - WARNING - Run feature transformation: ['mlpRegressorTransform', 'xgbRegressorTransform', 'xgbRegressorTransform', 'tanh']\n"
     ]
    },
    {
     "name": "stdout",
     "output_type": "stream",
     "text": [
      "['decisionTreeRegressorTransform', 'mlpRegressorTransform', 'linearRegressorTransform', 'svrTransform', 'xgbRegressorTransform', 'cos', 'abs', 'prod', 'minus', 'div', 'square', 'timeagg', 'negative', 'relu', 'zscore', 'add', 'reciprocal', 'diff', 'radian', 'kernelapproxrbf', 'degree', 'adde', 'tanh', 'sigmoid', 'ln', 'exp', 'parameter']\n",
      "W: [1, 1, 1, 1, 1, 4, 4, 4, 3.0, 3.0, 3.0, 2.0, 2.0, 2.0, 1, 1, 1, 1, 1, 1, 1, 1, 1, 1, 1, 1]\n",
      "N: [1, 0, 0, 0, 0, 1, 1, 1, 1, 1, 1, 1, 1, 1, 1, 1, 1, 1, 1, 1, 1, 1, 1, 1, 1, 1]\n",
      "L: [2.0, 1, 1, 1, 1, 1, 1, 1, 1, 1, 1, 1, 1, 1, 2.0, 2.0, 2.0, 3.0, 3.0, 4.0, 4.0, 4.0, 4.0, 4, 4, 4]\n",
      "W_rate: [0.3333333333333333, 0.5, 0.5, 0.5, 0.5, 0.8, 0.8, 0.8, 0.75, 0.75, 0.75, 0.6666666666666666, 0.6666666666666666, 0.6666666666666666, 0.3333333333333333, 0.3333333333333333, 0.3333333333333333, 0.25, 0.25, 0.2, 0.2, 0.2, 0.2, 0.2, 0.2, 0.2]\n",
      "Value: [0, 0, 0, 0, 0, 0, 0, 0, 0, 0, 0, 0, 0, 0, 0, 0, 0, 0, 0, 0, 0, 0, 0, 0, 0, 0]\n"
     ]
    },
    {
     "name": "stderr",
     "output_type": "stream",
     "text": [
      "2024-04-08 15:20:16,244 - __main__ - WARNING - Run feature transformation: ['mlpRegressorTransform', 'xgbRegressorTransform', 'reciprocal', 'ln']\n",
      "2024-04-08 15:20:16,967 - __main__ - WARNING - Run feature transformation: ['mlpRegressorTransform', 'xgbRegressorTransform', 'square', 'zscore']\n",
      "2024-04-08 15:20:17,461 - __main__ - WARNING - Run feature transformation: ['mlpRegressorTransform', 'xgbRegressorTransform', 'prod', 'add']\n",
      "2024-04-08 15:20:18,863 - __main__ - WARNING - Run feature transformation: ['mlpRegressorTransform', 'xgbRegressorTransform', 'add', 'div']\n",
      "2024-04-08 15:20:20,811 - __main__ - WARNING - Run feature transformation: ['mlpRegressorTransform', 'xgbRegressorTransform', 'tanh', 'timeagg']\n",
      "2024-04-08 15:20:21,307 - __main__ - WARNING - Add the best feature in set to the best features record.\n",
      "2024-04-08 15:20:21,308 - __main__ - WARNING - Run feature transformation: ['mlpRegressorTransform', 'xgbRegressorTransform', 'exp', 'kernelapproxrbf']\n",
      "2024-04-08 15:20:21,981 - __main__ - WARNING - Run feature transformation: ['mlpRegressorTransform', 'xgbRegressorTransform', 'add', 'div']\n",
      "2024-04-08 15:20:22,768 - __main__ - WARNING - Run feature transformation: ['mlpRegressorTransform', 'xgbRegressorTransform', 'degree', 'kernelapproxrbf']\n",
      "2024-04-08 15:20:23,435 - __main__ - WARNING - Add the best feature in set to the best features record.\n",
      "2024-04-08 15:20:23,436 - __main__ - WARNING - Run feature transformation: ['mlpRegressorTransform', 'xgbRegressorTransform', 'tanh', 'adde']\n",
      "2024-04-08 15:20:23,937 - __main__ - WARNING - Add the best feature in set to the best features record.\n",
      "2024-04-08 15:20:23,939 - __main__ - WARNING - Performances of the given node is: [0.5705229039529998, 0.5795797782948682, 0.5688505619318631, 0.45545874485863874, 0.4775079760757734, 0.5957052099022287, 0.5728309866912193, 0.4775079760757734, 0.5919266252549635, 0.5849120485527534]\n",
      "2024-04-08 15:20:23,940 - __main__ - WARNING - Mean perf is: 0.547480, Mean init is: 0.581475, Std init is: 0.012273 ==> reward: -2.000000\n",
      "2024-04-08 15:20:24,614 - __main__ - WARNING - Performance of scorer is: 0.02713974379003048\n",
      "2024-04-08 15:20:24,621 - __main__ - WARNING - XXXXXXXXXXXXXXXXXXXXXXXXXXXXXXXXXXXXXXXXXXXXXXXXXXXXXXXXXXXX\n",
      "2024-04-08 15:20:24,622 - __main__ - WARNING - Round:\t23\n",
      "2024-04-08 15:20:24,622 - __main__ - WARNING - XXXXXXXXXXXXXXXXXXXXXXXXXXXXXXXXXXXXXXXXXXXXXXXXXXXXXXXXXXXX\n",
      "2024-04-08 15:20:24,624 - __main__ - WARNING - Run feature transformation: ['linearRegressorTransform', 'abs', 'kernelapproxrbf', 'add']\n"
     ]
    },
    {
     "name": "stdout",
     "output_type": "stream",
     "text": [
      "['mlpRegressorTransform', 'linearRegressorTransform', 'svrTransform', 'xgbRegressorTransform', 'cos', 'abs', 'prod', 'minus', 'div', 'square', 'timeagg', 'negative', 'relu', 'decisionTreeRegressorTransform', 'zscore', 'add', 'reciprocal', 'diff', 'radian', 'kernelapproxrbf', 'degree', 'adde', 'tanh', 'sigmoid', 'ln', 'exp', 'parameter']\n",
      "W: [1, 1, 1, 1, 4, 4, 4, 3.0, 3.0, 3.0, 2.0, 2.0, 2.0, 1, 1, 1, 1, 1, 1, 1, 1, 1, 1, 1, 1, 1]\n",
      "N: [1, 0, 0, 0, 1, 1, 1, 1, 1, 1, 1, 1, 1, 1, 1, 1, 1, 1, 1, 1, 1, 1, 1, 1, 1, 1]\n",
      "L: [3.0, 1, 1, 1, 1, 1, 1, 1, 1, 1, 1, 1, 1, 2.0, 2.0, 2.0, 2.0, 3.0, 3.0, 4.0, 4.0, 4.0, 4.0, 4, 4, 4]\n",
      "W_rate: [0.25, 0.5, 0.5, 0.5, 0.8, 0.8, 0.8, 0.75, 0.75, 0.75, 0.6666666666666666, 0.6666666666666666, 0.6666666666666666, 0.3333333333333333, 0.3333333333333333, 0.3333333333333333, 0.3333333333333333, 0.25, 0.25, 0.2, 0.2, 0.2, 0.2, 0.2, 0.2, 0.2]\n",
      "Value: [0, 0, 0, 0, 0, 0, 0, 0, 0, 0, 0, 0, 0, 0, 0, 0, 0, 0, 0, 0, 0, 0, 0, 0, 0, 0]\n"
     ]
    },
    {
     "name": "stderr",
     "output_type": "stream",
     "text": [
      "2024-04-08 15:20:26,867 - __main__ - WARNING - Run feature transformation: ['linearRegressorTransform', 'abs', 'div', 'degree']\n",
      "2024-04-08 15:20:28,405 - __main__ - WARNING - Run feature transformation: ['linearRegressorTransform', 'abs', 'kernelapproxrbf', 'tanh']\n",
      "2024-04-08 15:20:29,988 - __main__ - WARNING - Run feature transformation: ['linearRegressorTransform', 'abs', 'adde', 'add']\n",
      "2024-04-08 15:20:31,231 - __main__ - WARNING - Run feature transformation: ['linearRegressorTransform', 'abs', 'sigmoid', 'zscore']\n",
      "2024-04-08 15:20:32,198 - __main__ - WARNING - Run feature transformation: ['linearRegressorTransform', 'abs', 'decisionTreeRegressorTransform', 'diff']\n",
      "2024-04-08 15:20:32,747 - __main__ - WARNING - Run feature transformation: ['linearRegressorTransform', 'abs', 'tanh', 'abs']\n",
      "2024-04-08 15:20:33,566 - __main__ - WARNING - Run feature transformation: ['linearRegressorTransform', 'abs', 'cos', 'mlpRegressorTransform']\n",
      "2024-04-08 15:20:37,695 - __main__ - WARNING - Run feature transformation: ['linearRegressorTransform', 'abs', 'reciprocal', 'negative']\n",
      "2024-04-08 15:20:38,629 - __main__ - WARNING - Run feature transformation: ['linearRegressorTransform', 'abs', 'mlpRegressorTransform', 'div']\n",
      "2024-04-08 15:20:43,020 - __main__ - WARNING - Performances of the given node is: [0.5810728334819547, 0.5738462236551409, 0.4047110324750492, 0.5515540891455535, 0.5521842609805756, 0.5936893151960754, 0.4929396163108862, 0.5514197424547339, 0.5783431248509789, 0.5971260168418352]\n",
      "2024-04-08 15:20:43,022 - __main__ - WARNING - Mean perf is: 0.547689, Mean init is: 0.581475, Std init is: 0.012273 ==> reward: -2.000000\n",
      "2024-04-08 15:20:43,701 - __main__ - WARNING - Performance of scorer is: 0.018244799226522446\n",
      "2024-04-08 15:20:43,708 - __main__ - WARNING - XXXXXXXXXXXXXXXXXXXXXXXXXXXXXXXXXXXXXXXXXXXXXXXXXXXXXXXXXXXX\n",
      "2024-04-08 15:20:43,708 - __main__ - WARNING - Round:\t24\n",
      "2024-04-08 15:20:43,709 - __main__ - WARNING - XXXXXXXXXXXXXXXXXXXXXXXXXXXXXXXXXXXXXXXXXXXXXXXXXXXXXXXXXXXX\n",
      "2024-04-08 15:20:43,711 - __main__ - WARNING - Run feature transformation: ['svrTransform', 'diff', 'adde', 'add']\n"
     ]
    },
    {
     "name": "stdout",
     "output_type": "stream",
     "text": [
      "['linearRegressorTransform', 'svrTransform', 'xgbRegressorTransform', 'cos', 'abs', 'prod', 'minus', 'div', 'square', 'timeagg', 'negative', 'relu', 'decisionTreeRegressorTransform', 'zscore', 'add', 'reciprocal', 'mlpRegressorTransform', 'diff', 'radian', 'kernelapproxrbf', 'degree', 'adde', 'tanh', 'sigmoid', 'ln', 'exp', 'parameter']\n",
      "W: [1, 1, 1, 4, 4, 4, 3.0, 3.0, 3.0, 2.0, 2.0, 2.0, 1, 1, 1, 1, 1, 1, 1, 1, 1, 1, 1, 1, 1, 1]\n",
      "N: [1, 0, 0, 1, 1, 1, 1, 1, 1, 1, 1, 1, 1, 1, 1, 1, 1, 1, 1, 1, 1, 1, 1, 1, 1, 1]\n",
      "L: [3.0, 1, 1, 1, 1, 1, 1, 1, 1, 1, 1, 1, 2.0, 2.0, 2.0, 2.0, 3.0, 3.0, 3.0, 4.0, 4.0, 4.0, 4.0, 4, 4, 4]\n",
      "W_rate: [0.25, 0.5, 0.5, 0.8, 0.8, 0.8, 0.75, 0.75, 0.75, 0.6666666666666666, 0.6666666666666666, 0.6666666666666666, 0.3333333333333333, 0.3333333333333333, 0.3333333333333333, 0.3333333333333333, 0.25, 0.25, 0.25, 0.2, 0.2, 0.2, 0.2, 0.2, 0.2, 0.2]\n",
      "Value: [0, 0, 0, 0, 0, 0, 0, 0, 0, 0, 0, 0, 0, 0, 0, 0, 0, 0, 0, 0, 0, 0, 0, 0, 0, 0]\n"
     ]
    },
    {
     "name": "stderr",
     "output_type": "stream",
     "text": [
      "2024-04-08 15:20:44,997 - __main__ - WARNING - Add the best feature in set to the best features record.\n",
      "2024-04-08 15:20:44,999 - __main__ - WARNING - Run feature transformation: ['svrTransform', 'diff', 'sigmoid', 'zscore']\n",
      "2024-04-08 15:20:45,975 - __main__ - WARNING - Run feature transformation: ['svrTransform', 'diff', 'decisionTreeRegressorTransform', 'diff']\n",
      "2024-04-08 15:20:46,541 - __main__ - WARNING - Run feature transformation: ['svrTransform', 'diff', 'tanh', 'abs']\n",
      "2024-04-08 15:20:47,474 - __main__ - WARNING - Run feature transformation: ['svrTransform', 'diff', 'cos', 'mlpRegressorTransform']\n",
      "2024-04-08 15:20:51,509 - __main__ - WARNING - Run feature transformation: ['svrTransform', 'diff', 'reciprocal', 'negative']\n",
      "2024-04-08 15:20:52,503 - __main__ - WARNING - Add the best feature in set to the best features record.\n",
      "2024-04-08 15:20:52,504 - __main__ - WARNING - Run feature transformation: ['svrTransform', 'diff', 'mlpRegressorTransform', 'div']\n",
      "2024-04-08 15:20:56,995 - __main__ - WARNING - Run feature transformation: ['svrTransform', 'diff', 'minus', 'square']\n",
      "2024-04-08 15:20:57,863 - __main__ - WARNING - Run feature transformation: ['svrTransform', 'diff', 'mlpRegressorTransform', 'mlpRegressorTransform']\n",
      "2024-04-08 15:21:01,478 - __main__ - WARNING - Add the best feature in set to the best features record.\n",
      "2024-04-08 15:21:01,479 - __main__ - WARNING - Run feature transformation: ['svrTransform', 'diff', 'timeagg', 'exp']\n",
      "2024-04-08 15:21:02,046 - __main__ - WARNING - Performances of the given node is: [0.5892268823900537, 0.581107789064594, 0.5882090074572591, 0.585209890746556, 0.5604610429654443, 0.5922971734292906, 0.6077393829124161, 0.5812525821867736, 0.6017122391439517, 0.5786270836816687]\n",
      "2024-04-08 15:21:02,048 - __main__ - WARNING - Mean perf is: 0.586584, Mean init is: 0.581475, Std init is: 0.012273 ==> reward: 1.000000\n",
      "2024-04-08 15:21:02,782 - __main__ - WARNING - Performance of scorer is: 0.020430536940693855\n",
      "2024-04-08 15:21:02,783 - __main__ - WARNING - Run feature transformation: ['svrTransform', 'diff']\n",
      "2024-04-08 15:21:07,632 - __main__ - WARNING - Mean init is: 0.5814751034102423, mean of new node is: 0.5710694595325009\n",
      "2024-04-08 15:21:07,639 - __main__ - WARNING - XXXXXXXXXXXXXXXXXXXXXXXXXXXXXXXXXXXXXXXXXXXXXXXXXXXXXXXXXXXX\n",
      "2024-04-08 15:21:07,639 - __main__ - WARNING - Round:\t25\n",
      "2024-04-08 15:21:07,640 - __main__ - WARNING - XXXXXXXXXXXXXXXXXXXXXXXXXXXXXXXXXXXXXXXXXXXXXXXXXXXXXXXXXXXX\n",
      "2024-04-08 15:21:07,642 - __main__ - WARNING - Run feature transformation: ['xgbRegressorTransform', 'negative', 'sigmoid', 'timeagg']\n"
     ]
    },
    {
     "name": "stdout",
     "output_type": "stream",
     "text": [
      "['svrTransform', 'xgbRegressorTransform', 'cos', 'abs', 'prod', 'minus', 'div', 'square', 'timeagg', 'negative', 'relu', 'decisionTreeRegressorTransform', 'zscore', 'add', 'reciprocal', 'linearRegressorTransform', 'mlpRegressorTransform', 'diff', 'radian', 'kernelapproxrbf', 'degree', 'adde', 'tanh', 'sigmoid', 'ln', 'exp', 'parameter']\n",
      "W: [2.0, 1, 4, 4, 4, 3.0, 3.0, 3.0, 2.0, 2.0, 2.0, 1, 1, 1, 1, 1, 1, 1, 1, 1, 1, 1, 1, 1, 1, 1]\n",
      "N: [1, 0, 1, 1, 1, 1, 1, 1, 1, 1, 1, 1, 1, 1, 1, 1, 1, 1, 1, 1, 1, 1, 1, 1, 1, 1]\n",
      "L: [1, 1, 1, 1, 1, 1, 1, 1, 1, 1, 1, 2.0, 2.0, 2.0, 2.0, 3.0, 3.0, 3.0, 3.0, 4.0, 4.0, 4.0, 4.0, 4, 4, 4]\n",
      "W_rate: [0.6666666666666666, 0.5, 0.8, 0.8, 0.8, 0.75, 0.75, 0.75, 0.6666666666666666, 0.6666666666666666, 0.6666666666666666, 0.3333333333333333, 0.3333333333333333, 0.3333333333333333, 0.3333333333333333, 0.25, 0.25, 0.25, 0.25, 0.2, 0.2, 0.2, 0.2, 0.2, 0.2, 0.2]\n",
      "Value: [0, 0, 0, 0, 0, 0, 0, 0, 0, 0, 0, 0, 0, 0, 0, 0, 0, 0, 0, 0, 0, 0, 0, 0, 0, 0]\n"
     ]
    },
    {
     "name": "stderr",
     "output_type": "stream",
     "text": [
      "2024-04-08 15:21:08,482 - __main__ - WARNING - Run feature transformation: ['xgbRegressorTransform', 'negative', 'timeagg', 'radian']\n",
      "2024-04-08 15:21:08,881 - __main__ - WARNING - Run feature transformation: ['xgbRegressorTransform', 'negative', 'sigmoid', 'cos']\n",
      "2024-04-08 15:21:09,570 - __main__ - WARNING - Run feature transformation: ['xgbRegressorTransform', 'negative', 'mlpRegressorTransform', 'svrTransform']\n",
      "2024-04-08 15:21:13,070 - __main__ - WARNING - Run feature transformation: ['xgbRegressorTransform', 'negative', 'radian', 'kernelapproxrbf']\n",
      "2024-04-08 15:21:13,749 - __main__ - WARNING - Run feature transformation: ['xgbRegressorTransform', 'negative', 'tanh', 'relu']\n",
      "2024-04-08 15:21:14,374 - __main__ - WARNING - Run feature transformation: ['xgbRegressorTransform', 'negative', 'xgbRegressorTransform', 'ln']\n",
      "2024-04-08 15:21:14,922 - __main__ - WARNING - Run feature transformation: ['xgbRegressorTransform', 'negative', 'linearRegressorTransform', 'exp']\n",
      "2024-04-08 15:21:15,289 - __main__ - WARNING - Run feature transformation: ['xgbRegressorTransform', 'negative', 'degree', 'decisionTreeRegressorTransform']\n",
      "2024-04-08 15:21:15,629 - __main__ - WARNING - Run feature transformation: ['xgbRegressorTransform', 'negative', 'sigmoid', 'prod']\n",
      "2024-04-08 15:21:16,245 - __main__ - WARNING - Performances of the given node is: [0.485310056152991, 0.5805766720360984, 0.22166050571416063, 0.5608237035370696, 0.4780216309344876, 0.2968246436045724, 0.429512586899397, 0.25133082221236125, 0.33331705371785414, 0.2813105957207689]\n",
      "2024-04-08 15:21:16,247 - __main__ - WARNING - Mean perf is: 0.391869, Mean init is: 0.581475, Std init is: 0.012273 ==> reward: -10.000000\n",
      "2024-04-08 15:21:16,987 - __main__ - WARNING - Performance of scorer is: 0.03334594890475273\n",
      "2024-04-08 15:21:16,993 - __main__ - WARNING - XXXXXXXXXXXXXXXXXXXXXXXXXXXXXXXXXXXXXXXXXXXXXXXXXXXXXXXXXXXX\n",
      "2024-04-08 15:21:16,994 - __main__ - WARNING - Round:\t26\n",
      "2024-04-08 15:21:16,994 - __main__ - WARNING - XXXXXXXXXXXXXXXXXXXXXXXXXXXXXXXXXXXXXXXXXXXXXXXXXXXXXXXXXXXX\n",
      "2024-04-08 15:21:16,997 - __main__ - WARNING - Run feature transformation: ['cos', 'abs', 'decisionTreeRegressorTransform', 'mlpRegressorTransform', 'svrTransform']\n"
     ]
    },
    {
     "name": "stdout",
     "output_type": "stream",
     "text": [
      "['xgbRegressorTransform', 'cos', 'abs', 'prod', 'minus', 'div', 'square', 'svrTransform', 'timeagg', 'negative', 'relu', 'decisionTreeRegressorTransform', 'zscore', 'add', 'reciprocal', 'linearRegressorTransform', 'mlpRegressorTransform', 'diff', 'radian', 'kernelapproxrbf', 'degree', 'adde', 'tanh', 'sigmoid', 'ln', 'exp', 'parameter']\n",
      "W: [1, 4, 4, 4, 3.0, 3.0, 3.0, 2.0, 2.0, 2.0, 2.0, 1, 1, 1, 1, 1, 1, 1, 1, 1, 1, 1, 1, 1, 1, 1]\n",
      "N: [1, 1, 1, 1, 1, 1, 1, 1, 1, 1, 1, 1, 1, 1, 1, 1, 1, 1, 1, 1, 1, 1, 1, 1, 1, 1]\n",
      "L: [4, 1, 1, 1, 1, 1, 1, 1, 1, 1, 1, 2.0, 2.0, 2.0, 2.0, 3.0, 3.0, 3.0, 3.0, 4.0, 4.0, 4.0, 4.0, 4, 4, 4]\n",
      "W_rate: [0.2, 0.8, 0.8, 0.8, 0.75, 0.75, 0.75, 0.6666666666666666, 0.6666666666666666, 0.6666666666666666, 0.6666666666666666, 0.3333333333333333, 0.3333333333333333, 0.3333333333333333, 0.3333333333333333, 0.25, 0.25, 0.25, 0.25, 0.2, 0.2, 0.2, 0.2, 0.2, 0.2, 0.2]\n",
      "Value: [0, 0, 0, 0, 0, 0, 0, 0, 0, 0, 0, 0, 0, 0, 0, 0, 0, 0, 0, 0, 0, 0, 0, 0, 0, 0]\n"
     ]
    },
    {
     "name": "stderr",
     "output_type": "stream",
     "text": [
      "2024-04-08 15:21:21,243 - __main__ - WARNING - Run feature transformation: ['cos', 'abs', 'decisionTreeRegressorTransform', 'radian', 'kernelapproxrbf']\n",
      "2024-04-08 15:21:21,954 - __main__ - WARNING - Run feature transformation: ['cos', 'abs', 'decisionTreeRegressorTransform', 'tanh', 'relu']\n",
      "2024-04-08 15:21:22,606 - __main__ - WARNING - Run feature transformation: ['cos', 'abs', 'decisionTreeRegressorTransform', 'xgbRegressorTransform', 'ln']\n",
      "2024-04-08 15:21:23,308 - __main__ - WARNING - Run feature transformation: ['cos', 'abs', 'decisionTreeRegressorTransform', 'linearRegressorTransform', 'exp']\n",
      "2024-04-08 15:21:23,760 - __main__ - WARNING - Run feature transformation: ['cos', 'abs', 'decisionTreeRegressorTransform', 'degree', 'decisionTreeRegressorTransform']\n",
      "2024-04-08 15:21:24,322 - __main__ - WARNING - Run feature transformation: ['cos', 'abs', 'decisionTreeRegressorTransform', 'sigmoid', 'prod']\n",
      "2024-04-08 15:21:24,996 - __main__ - WARNING - Run feature transformation: ['cos', 'abs', 'decisionTreeRegressorTransform', 'radian', 'degree']\n",
      "2024-04-08 15:21:25,472 - __main__ - WARNING - Run feature transformation: ['cos', 'abs', 'decisionTreeRegressorTransform', 'zscore', 'ln']\n",
      "2024-04-08 15:21:26,297 - __main__ - WARNING - Run feature transformation: ['cos', 'abs', 'decisionTreeRegressorTransform', 'add', 'diff']\n",
      "2024-04-08 15:21:26,980 - __main__ - WARNING - Performances of the given node is: [0.5798128190735985, 0.5538523622865827, 0.5470005752372601, 0.5802639580805844, 0.5587631905622914, 0.5485263729297462, 0.5278878750243898, 0.5635434023096185, 0.5638261931883939, 0.5299704540952591]\n",
      "2024-04-08 15:21:26,981 - __main__ - WARNING - Mean perf is: 0.555345, Mean init is: 0.581475, Std init is: 0.012273 ==> reward: -2.000000\n",
      "2024-04-08 15:21:27,739 - __main__ - WARNING - Performance of scorer is: 0.07217185944318771\n",
      "2024-04-08 15:21:27,746 - __main__ - WARNING - XXXXXXXXXXXXXXXXXXXXXXXXXXXXXXXXXXXXXXXXXXXXXXXXXXXXXXXXXXXX\n",
      "2024-04-08 15:21:27,746 - __main__ - WARNING - Round:\t27\n",
      "2024-04-08 15:21:27,746 - __main__ - WARNING - XXXXXXXXXXXXXXXXXXXXXXXXXXXXXXXXXXXXXXXXXXXXXXXXXXXXXXXXXXXX\n",
      "2024-04-08 15:21:27,749 - __main__ - WARNING - Run feature transformation: ['abs', 'abs', 'xgbRegressorTransform', 'timeagg', 'abs']\n"
     ]
    },
    {
     "name": "stdout",
     "output_type": "stream",
     "text": [
      "['cos', 'abs', 'prod', 'minus', 'div', 'square', 'svrTransform', 'timeagg', 'negative', 'relu', 'decisionTreeRegressorTransform', 'zscore', 'add', 'reciprocal', 'linearRegressorTransform', 'mlpRegressorTransform', 'diff', 'radian', 'xgbRegressorTransform', 'kernelapproxrbf', 'degree', 'adde', 'tanh', 'sigmoid', 'ln', 'exp', 'parameter']\n",
      "W: [4, 4, 4, 3.0, 3.0, 3.0, 2.0, 2.0, 2.0, 2.0, 1, 1, 1, 1, 1, 1, 1, 1, 1, 1, 1, 1, 1, 1, 1, 1]\n",
      "N: [2, 1, 1, 1, 1, 1, 1, 1, 1, 1, 1, 1, 1, 1, 1, 1, 1, 1, 1, 1, 1, 1, 1, 1, 1, 1]\n",
      "L: [3.0, 1, 1, 1, 1, 1, 1, 1, 1, 1, 2.0, 2.0, 2.0, 2.0, 3.0, 3.0, 3.0, 3.0, 4, 4.0, 4.0, 4.0, 4.0, 4, 4, 4]\n",
      "W_rate: [0.5714285714285714, 0.8, 0.8, 0.75, 0.75, 0.75, 0.6666666666666666, 0.6666666666666666, 0.6666666666666666, 0.6666666666666666, 0.3333333333333333, 0.3333333333333333, 0.3333333333333333, 0.3333333333333333, 0.25, 0.25, 0.25, 0.25, 0.2, 0.2, 0.2, 0.2, 0.2, 0.2, 0.2, 0.2]\n",
      "Value: [0, 0, 0, 0, 0, 0, 0, 0, 0, 0, 0, 0, 0, 0, 0, 0, 0, 0, 0, 0, 0, 0, 0, 0, 0, 0]\n"
     ]
    },
    {
     "name": "stderr",
     "output_type": "stream",
     "text": [
      "2024-04-08 15:21:28,622 - __main__ - WARNING - Add the best feature in set to the best features record.\n",
      "2024-04-08 15:21:28,623 - __main__ - WARNING - Run feature transformation: ['abs', 'abs', 'xgbRegressorTransform', 'decisionTreeRegressorTransform', 'prod']\n",
      "2024-04-08 15:21:29,048 - __main__ - WARNING - Run feature transformation: ['abs', 'abs', 'xgbRegressorTransform', 'square', 'adde']\n",
      "2024-04-08 15:21:29,717 - __main__ - WARNING - Run feature transformation: ['abs', 'abs', 'xgbRegressorTransform', 'prod', 'minus']\n",
      "2024-04-08 15:21:30,308 - __main__ - WARNING - Run feature transformation: ['abs', 'abs', 'xgbRegressorTransform', 'sigmoid', 'reciprocal']\n",
      "2024-04-08 15:21:31,100 - __main__ - WARNING - Run feature transformation: ['abs', 'abs', 'xgbRegressorTransform', 'sigmoid', 'xgbRegressorTransform']\n",
      "2024-04-08 15:21:31,782 - __main__ - WARNING - Run feature transformation: ['abs', 'abs', 'xgbRegressorTransform', 'negative', 'adde']\n",
      "2024-04-08 15:21:32,463 - __main__ - WARNING - Run feature transformation: ['abs', 'abs', 'xgbRegressorTransform', 'negative', 'add']\n",
      "2024-04-08 15:21:33,120 - __main__ - WARNING - Run feature transformation: ['abs', 'abs', 'xgbRegressorTransform', 'prod', 'radian']\n",
      "2024-04-08 15:21:33,295 - __main__ - WARNING - Run feature transformation: ['abs', 'abs', 'xgbRegressorTransform', 'negative', 'kernelapproxrbf']\n",
      "2024-04-08 15:21:34,091 - __main__ - WARNING - Performances of the given node is: [0.5865552411888038, 0.4084875564972615, 0.45515230263953116, 0.46362412429681177, 0.26477912169860623, 0.2987387334117463, 0.4642565585878417, 0.5308257928379594, 0.3825980552757183, 0.41833948425586326]\n",
      "2024-04-08 15:21:34,092 - __main__ - WARNING - Mean perf is: 0.427336, Mean init is: 0.581475, Std init is: 0.012273 ==> reward: -8.000000\n",
      "2024-04-08 15:21:34,945 - __main__ - WARNING - Performance of scorer is: 0.041367825120687485\n",
      "2024-04-08 15:21:34,952 - __main__ - WARNING - XXXXXXXXXXXXXXXXXXXXXXXXXXXXXXXXXXXXXXXXXXXXXXXXXXXXXXXXXXXX\n",
      "2024-04-08 15:21:34,953 - __main__ - WARNING - Round:\t28\n",
      "2024-04-08 15:21:34,953 - __main__ - WARNING - XXXXXXXXXXXXXXXXXXXXXXXXXXXXXXXXXXXXXXXXXXXXXXXXXXXXXXXXXXXX\n",
      "2024-04-08 15:21:34,955 - __main__ - WARNING - Run feature transformation: ['prod', 'negative', 'square', 'adde']\n"
     ]
    },
    {
     "name": "stdout",
     "output_type": "stream",
     "text": [
      "['abs', 'prod', 'minus', 'div', 'square', 'svrTransform', 'timeagg', 'negative', 'relu', 'decisionTreeRegressorTransform', 'zscore', 'add', 'reciprocal', 'linearRegressorTransform', 'mlpRegressorTransform', 'diff', 'radian', 'xgbRegressorTransform', 'kernelapproxrbf', 'degree', 'adde', 'tanh', 'sigmoid', 'ln', 'exp', 'cos', 'parameter']\n",
      "W: [4, 4, 3.0, 3.0, 3.0, 2.0, 2.0, 2.0, 2.0, 1, 1, 1, 1, 1, 1, 1, 1, 1, 1, 1, 1, 1, 1, 1, 1, 4]\n",
      "N: [2, 1, 1, 1, 1, 1, 1, 1, 1, 1, 1, 1, 1, 1, 1, 1, 1, 1, 1, 1, 1, 1, 1, 1, 1, 2]\n",
      "L: [4, 1, 1, 1, 1, 1, 1, 1, 1, 2.0, 2.0, 2.0, 2.0, 3.0, 3.0, 3.0, 3.0, 4, 4.0, 4.0, 4.0, 4.0, 4, 4, 4, 3.0]\n",
      "W_rate: [0.5, 0.8, 0.75, 0.75, 0.75, 0.6666666666666666, 0.6666666666666666, 0.6666666666666666, 0.6666666666666666, 0.3333333333333333, 0.3333333333333333, 0.3333333333333333, 0.3333333333333333, 0.25, 0.25, 0.25, 0.25, 0.2, 0.2, 0.2, 0.2, 0.2, 0.2, 0.2, 0.2, 0.5714285714285714]\n",
      "Value: [0, 0, 0, 0, 0, 0, 0, 0, 0, 0, 0, 0, 0, 0, 0, 0, 0, 0, 0, 0, 0, 0, 0, 0, 0, 0]\n"
     ]
    },
    {
     "name": "stderr",
     "output_type": "stream",
     "text": [
      "2024-04-08 15:21:40,512 - __main__ - WARNING - Add the best feature in set to the best features record.\n",
      "2024-04-08 15:21:40,513 - __main__ - WARNING - Run feature transformation: ['prod', 'negative', 'prod', 'minus']\n",
      "2024-04-08 15:21:45,718 - __main__ - WARNING - Run feature transformation: ['prod', 'negative', 'sigmoid', 'reciprocal']\n",
      "2024-04-08 15:21:51,826 - __main__ - WARNING - Run feature transformation: ['prod', 'negative', 'sigmoid', 'xgbRegressorTransform']\n",
      "2024-04-08 15:21:56,089 - __main__ - WARNING - Add the best feature in set to the best features record.\n",
      "2024-04-08 15:21:56,090 - __main__ - WARNING - Run feature transformation: ['prod', 'negative', 'negative', 'adde']\n",
      "2024-04-08 15:22:00,097 - __main__ - WARNING - Run feature transformation: ['prod', 'negative', 'negative', 'add']\n",
      "2024-04-08 15:22:04,876 - __main__ - WARNING - Add the best feature in set to the best features record.\n",
      "2024-04-08 15:22:04,877 - __main__ - WARNING - Run feature transformation: ['prod', 'negative', 'prod', 'radian']\n",
      "2024-04-08 15:22:06,197 - __main__ - WARNING - Add the best feature in set to the best features record.\n",
      "2024-04-08 15:22:06,198 - __main__ - WARNING - Run feature transformation: ['prod', 'negative', 'negative', 'kernelapproxrbf']\n",
      "2024-04-08 15:22:09,401 - __main__ - WARNING - Run feature transformation: ['prod', 'negative', 'radian', 'radian']\n",
      "2024-04-08 15:22:13,136 - __main__ - WARNING - Run feature transformation: ['prod', 'negative', 'decisionTreeRegressorTransform', 'abs']\n",
      "2024-04-08 15:22:15,690 - __main__ - WARNING - Performances of the given node is: [0.5933442747302504, 0.5908469811627154, 0.5977196703178896, 0.5991541832172359, 0.5920566934159517, 0.5891328509833217, 0.5828356378344082, 0.5715592330650442, 0.5922820006386906, 0.5973381428729095]\n",
      "2024-04-08 15:22:15,691 - __main__ - WARNING - Mean perf is: 0.590627, Mean init is: 0.581475, Std init is: 0.012273 ==> reward: 1.000000\n",
      "2024-04-08 15:22:16,547 - __main__ - WARNING - Performance of scorer is: 0.029262103140354156\n",
      "2024-04-08 15:22:16,548 - __main__ - WARNING - Run feature transformation: ['prod', 'negative']\n",
      "2024-04-08 15:22:33,789 - __main__ - WARNING - Mean init is: 0.5814751034102423, mean of new node is: 0.5667445160473298\n",
      "2024-04-08 15:22:33,797 - __main__ - WARNING - XXXXXXXXXXXXXXXXXXXXXXXXXXXXXXXXXXXXXXXXXXXXXXXXXXXXXXXXXXXX\n",
      "2024-04-08 15:22:33,797 - __main__ - WARNING - Round:\t29\n",
      "2024-04-08 15:22:33,798 - __main__ - WARNING - XXXXXXXXXXXXXXXXXXXXXXXXXXXXXXXXXXXXXXXXXXXXXXXXXXXXXXXXXXXX\n",
      "2024-04-08 15:22:33,802 - __main__ - WARNING - Run feature transformation: ['minus', 'abs', 'adde', 'linearRegressorTransform', 'negative']\n"
     ]
    },
    {
     "name": "stdout",
     "output_type": "stream",
     "text": [
      "['prod', 'minus', 'div', 'square', 'svrTransform', 'timeagg', 'negative', 'relu', 'decisionTreeRegressorTransform', 'zscore', 'add', 'reciprocal', 'linearRegressorTransform', 'mlpRegressorTransform', 'diff', 'radian', 'xgbRegressorTransform', 'kernelapproxrbf', 'degree', 'adde', 'tanh', 'sigmoid', 'ln', 'exp', 'cos', 'abs', 'parameter']\n",
      "W: [5.0, 3.0, 3.0, 3.0, 2.0, 2.0, 2.0, 2.0, 1, 1, 1, 1, 1, 1, 1, 1, 1, 1, 1, 1, 1, 1, 1, 1, 4, 4]\n",
      "N: [2, 1, 1, 1, 1, 1, 1, 1, 1, 1, 1, 1, 1, 1, 1, 1, 1, 1, 1, 1, 1, 1, 1, 1, 2, 2]\n",
      "L: [1, 1, 1, 1, 1, 1, 1, 1, 2.0, 2.0, 2.0, 2.0, 3.0, 3.0, 3.0, 3.0, 4, 4.0, 4.0, 4.0, 4.0, 4, 4, 4, 3.0, 4]\n",
      "W_rate: [0.8333333333333334, 0.75, 0.75, 0.75, 0.6666666666666666, 0.6666666666666666, 0.6666666666666666, 0.6666666666666666, 0.3333333333333333, 0.3333333333333333, 0.3333333333333333, 0.3333333333333333, 0.25, 0.25, 0.25, 0.25, 0.2, 0.2, 0.2, 0.2, 0.2, 0.2, 0.2, 0.2, 0.5714285714285714, 0.5]\n",
      "Value: [0, 0, 0, 0, 0, 0, 0, 0, 0, 0, 0, 0, 0, 0, 0, 0, 0, 0, 0, 0, 0, 0, 0, 0, 0, 0]\n"
     ]
    },
    {
     "name": "stderr",
     "output_type": "stream",
     "text": [
      "2024-04-08 15:22:38,734 - __main__ - WARNING - Run feature transformation: ['minus', 'abs', 'adde', 'exp', 'degree']\n",
      "2024-04-08 15:22:42,494 - __main__ - WARNING - Add the best feature in set to the best features record.\n",
      "2024-04-08 15:22:42,496 - __main__ - WARNING - Run feature transformation: ['minus', 'abs', 'adde', 'add', 'linearRegressorTransform']\n",
      "2024-04-08 15:22:48,476 - __main__ - WARNING - Run feature transformation: ['minus', 'abs', 'adde', 'adde', 'prod']\n",
      "2024-04-08 15:22:54,485 - __main__ - WARNING - Run feature transformation: ['minus', 'abs', 'adde', 'zscore', 'degree']\n",
      "2024-04-08 15:22:59,048 - __main__ - WARNING - Run feature transformation: ['minus', 'abs', 'adde', 'timeagg', 'radian']\n",
      "2024-04-08 15:23:02,961 - __main__ - WARNING - Add the best feature in set to the best features record.\n",
      "2024-04-08 15:23:02,962 - __main__ - WARNING - Run feature transformation: ['minus', 'abs', 'adde', 'div', 'minus']\n",
      "2024-04-08 15:23:11,168 - __main__ - WARNING - Run feature transformation: ['minus', 'abs', 'adde', 'prod', 'xgbRegressorTransform']\n",
      "2024-04-08 15:23:19,126 - __main__ - WARNING - Run feature transformation: ['minus', 'abs', 'adde', 'svrTransform', 'exp']\n",
      "2024-04-08 15:23:23,144 - __main__ - WARNING - Add the best feature in set to the best features record.\n",
      "2024-04-08 15:23:23,145 - __main__ - WARNING - Run feature transformation: ['minus', 'abs', 'adde', 'exp', 'svrTransform']\n",
      "2024-04-08 15:23:24,809 - __main__ - WARNING - Performances of the given node is: [0.5773296817485982, 0.5831170241680952, 0.5551375698576531, 0.5625377111783519, 0.5649342782869949, 0.5883044283193967, 0.5809472318349234, 0.5810112439991093, 0.5823938880884038, 0.5823938880884038]\n",
      "2024-04-08 15:23:24,811 - __main__ - WARNING - Mean perf is: 0.575811, Mean init is: 0.581475, Std init is: 0.012273 ==> reward: -1.000000\n",
      "2024-04-08 15:23:25,743 - __main__ - WARNING - Performance of scorer is: 0.04489060491323471\n",
      "2024-04-08 15:23:25,749 - __main__ - WARNING - XXXXXXXXXXXXXXXXXXXXXXXXXXXXXXXXXXXXXXXXXXXXXXXXXXXXXXXXXXXX\n",
      "2024-04-08 15:23:25,750 - __main__ - WARNING - Round:\t30\n",
      "2024-04-08 15:23:25,750 - __main__ - WARNING - XXXXXXXXXXXXXXXXXXXXXXXXXXXXXXXXXXXXXXXXXXXXXXXXXXXXXXXXXXXX\n",
      "2024-04-08 15:23:25,753 - __main__ - WARNING - Run feature transformation: ['div', 'abs', 'ln', 'timeagg', 'radian']\n"
     ]
    },
    {
     "name": "stdout",
     "output_type": "stream",
     "text": [
      "['minus', 'div', 'square', 'svrTransform', 'timeagg', 'negative', 'relu', 'decisionTreeRegressorTransform', 'zscore', 'add', 'reciprocal', 'linearRegressorTransform', 'mlpRegressorTransform', 'diff', 'radian', 'xgbRegressorTransform', 'kernelapproxrbf', 'degree', 'adde', 'tanh', 'sigmoid', 'ln', 'exp', 'prod', 'cos', 'abs', 'parameter']\n",
      "W: [3.0, 3.0, 3.0, 2.0, 2.0, 2.0, 2.0, 1, 1, 1, 1, 1, 1, 1, 1, 1, 1, 1, 1, 1, 1, 1, 1, 5.0, 4, 4]\n",
      "N: [2, 1, 1, 1, 1, 1, 1, 1, 1, 1, 1, 1, 1, 1, 1, 1, 1, 1, 1, 1, 1, 1, 1, 2, 2, 2]\n",
      "L: [2.0, 1, 1, 1, 1, 1, 1, 2.0, 2.0, 2.0, 2.0, 3.0, 3.0, 3.0, 3.0, 4, 4.0, 4.0, 4.0, 4.0, 4, 4, 4, 1, 3.0, 4]\n",
      "W_rate: [0.6, 0.75, 0.75, 0.6666666666666666, 0.6666666666666666, 0.6666666666666666, 0.6666666666666666, 0.3333333333333333, 0.3333333333333333, 0.3333333333333333, 0.3333333333333333, 0.25, 0.25, 0.25, 0.25, 0.2, 0.2, 0.2, 0.2, 0.2, 0.2, 0.2, 0.2, 0.8333333333333334, 0.5714285714285714, 0.5]\n",
      "Value: [0, 0, 0, 0, 0, 0, 0, 0, 0, 0, 0, 0, 0, 0, 0, 0, 0, 0, 0, 0, 0, 0, 0, 0, 0, 0]\n"
     ]
    },
    {
     "name": "stderr",
     "output_type": "stream",
     "text": [
      "2024-04-08 15:23:31,224 - __main__ - WARNING - Run feature transformation: ['div', 'abs', 'ln', 'div', 'minus']\n",
      "2024-04-08 15:23:36,918 - __main__ - WARNING - Run feature transformation: ['div', 'abs', 'ln', 'prod', 'xgbRegressorTransform']\n",
      "2024-04-08 15:23:41,465 - __main__ - WARNING - Add the best feature in set to the best features record.\n",
      "2024-04-08 15:23:41,466 - __main__ - WARNING - Run feature transformation: ['div', 'abs', 'ln', 'svrTransform', 'exp']\n",
      "2024-04-08 15:23:43,726 - __main__ - WARNING - Run feature transformation: ['div', 'abs', 'ln', 'exp', 'svrTransform']\n",
      "2024-04-08 15:23:46,275 - __main__ - WARNING - Run feature transformation: ['div', 'abs', 'ln', 'diff', 'degree']\n",
      "2024-04-08 15:23:48,925 - __main__ - WARNING - Run feature transformation: ['div', 'abs', 'ln', 'xgbRegressorTransform', 'degree']\n",
      "2024-04-08 15:23:51,872 - __main__ - WARNING - Add the best feature in set to the best features record.\n",
      "2024-04-08 15:23:51,873 - __main__ - WARNING - Run feature transformation: ['div', 'abs', 'ln', 'sigmoid', 'tanh']\n",
      "2024-04-08 15:23:57,190 - __main__ - WARNING - Run feature transformation: ['div', 'abs', 'ln', 'negative', 'sigmoid']\n",
      "2024-04-08 15:24:01,265 - __main__ - WARNING - Run feature transformation: ['div', 'abs', 'ln', 'degree', 'reciprocal']\n",
      "2024-04-08 15:24:04,637 - __main__ - WARNING - Performances of the given node is: [0.5997818655382863, 0.5793020022212413, 0.58170781649464, 0.5887494542477829, 0.5927634474194965, 0.5907423586550737, 0.5923965234506493, 0.5747649857047987, 0.5846252692246287, 0.5923818333162996]\n",
      "2024-04-08 15:24:04,638 - __main__ - WARNING - Mean perf is: 0.587722, Mean init is: 0.581475, Std init is: 0.012273 ==> reward: 1.000000\n",
      "2024-04-08 15:24:05,715 - __main__ - WARNING - Performance of scorer is: 0.04607013612985611\n",
      "2024-04-08 15:24:05,716 - __main__ - WARNING - Run feature transformation: ['div', 'abs', 'ln']\n",
      "2024-04-08 15:24:18,919 - __main__ - WARNING - Mean init is: 0.5814751034102423, mean of new node is: 0.5363693446957531\n",
      "2024-04-08 15:24:18,927 - __main__ - WARNING - XXXXXXXXXXXXXXXXXXXXXXXXXXXXXXXXXXXXXXXXXXXXXXXXXXXXXXXXXXXX\n",
      "2024-04-08 15:24:18,927 - __main__ - WARNING - Round:\t31\n",
      "2024-04-08 15:24:18,928 - __main__ - WARNING - XXXXXXXXXXXXXXXXXXXXXXXXXXXXXXXXXXXXXXXXXXXXXXXXXXXXXXXXXXXX\n",
      "2024-04-08 15:24:18,931 - __main__ - WARNING - Run feature transformation: ['square', 'abs', 'prod', 'degree', 'reciprocal']\n"
     ]
    },
    {
     "name": "stdout",
     "output_type": "stream",
     "text": [
      "['div', 'square', 'svrTransform', 'timeagg', 'negative', 'relu', 'decisionTreeRegressorTransform', 'zscore', 'add', 'reciprocal', 'linearRegressorTransform', 'mlpRegressorTransform', 'diff', 'radian', 'xgbRegressorTransform', 'kernelapproxrbf', 'degree', 'adde', 'tanh', 'sigmoid', 'ln', 'exp', 'prod', 'minus', 'cos', 'abs', 'parameter']\n",
      "W: [4.0, 3.0, 2.0, 2.0, 2.0, 2.0, 1, 1, 1, 1, 1, 1, 1, 1, 1, 1, 1, 1, 1, 1, 1, 1, 5.0, 3.0, 4, 4]\n",
      "N: [2, 1, 1, 1, 1, 1, 1, 1, 1, 1, 1, 1, 1, 1, 1, 1, 1, 1, 1, 1, 1, 1, 2, 2, 2, 2]\n",
      "L: [1, 1, 1, 1, 1, 1, 2.0, 2.0, 2.0, 2.0, 3.0, 3.0, 3.0, 3.0, 4, 4.0, 4.0, 4.0, 4.0, 4, 4, 4, 1, 2.0, 3.0, 4]\n",
      "W_rate: [0.8, 0.75, 0.6666666666666666, 0.6666666666666666, 0.6666666666666666, 0.6666666666666666, 0.3333333333333333, 0.3333333333333333, 0.3333333333333333, 0.3333333333333333, 0.25, 0.25, 0.25, 0.25, 0.2, 0.2, 0.2, 0.2, 0.2, 0.2, 0.2, 0.2, 0.8333333333333334, 0.6, 0.5714285714285714, 0.5]\n",
      "Value: [0, 0, 0, 0, 0, 0, 0, 0, 0, 0, 0, 0, 0, 0, 0, 0, 0, 0, 0, 0, 0, 0, 0, 0, 0, 0]\n"
     ]
    },
    {
     "name": "stderr",
     "output_type": "stream",
     "text": [
      "2024-04-08 15:24:20,868 - __main__ - WARNING - Run feature transformation: ['square', 'abs', 'prod', 'add', 'radian']\n",
      "2024-04-08 15:24:22,534 - __main__ - WARNING - Run feature transformation: ['square', 'abs', 'prod', 'prod', 'adde']\n",
      "2024-04-08 15:24:24,189 - __main__ - WARNING - Run feature transformation: ['square', 'abs', 'prod', 'square', 'adde']\n",
      "2024-04-08 15:24:25,525 - __main__ - WARNING - Run feature transformation: ['square', 'abs', 'prod', 'degree', 'diff']\n",
      "2024-04-08 15:24:26,863 - __main__ - WARNING - Run feature transformation: ['square', 'abs', 'prod', 'add', 'cos']\n",
      "2024-04-08 15:24:27,993 - __main__ - WARNING - Run feature transformation: ['square', 'abs', 'prod', 'div', 'minus']\n",
      "2024-04-08 15:24:30,769 - __main__ - WARNING - Add the best feature in set to the best features record.\n",
      "2024-04-08 15:24:30,770 - __main__ - WARNING - Run feature transformation: ['square', 'abs', 'prod', 'reciprocal', 'zscore']\n",
      "2024-04-08 15:24:31,990 - __main__ - WARNING - Run feature transformation: ['square', 'abs', 'prod', 'add', 'xgbRegressorTransform']\n",
      "2024-04-08 15:24:33,483 - __main__ - WARNING - Add the best feature in set to the best features record.\n",
      "2024-04-08 15:24:33,484 - __main__ - WARNING - Run feature transformation: ['square', 'abs', 'prod', 'zscore', 'exp']\n",
      "2024-04-08 15:24:34,380 - __main__ - WARNING - Performances of the given node is: [0.5787441251071596, 0.5794776508728303, 0.5634478535831859, 0.5689335483702329, 0.5729572058146416, 0.5536327798543894, 0.5990734193087375, 0.5557633967335245, 0.5945895056442339, 0.5716203792876733]\n",
      "2024-04-08 15:24:34,381 - __main__ - WARNING - Mean perf is: 0.573824, Mean init is: 0.581475, Std init is: 0.012273 ==> reward: -1.000000\n",
      "2024-04-08 15:24:35,386 - __main__ - WARNING - Performance of scorer is: 0.04540179669857025\n",
      "2024-04-08 15:24:35,393 - __main__ - WARNING - XXXXXXXXXXXXXXXXXXXXXXXXXXXXXXXXXXXXXXXXXXXXXXXXXXXXXXXXXXXX\n",
      "2024-04-08 15:24:35,393 - __main__ - WARNING - Round:\t32\n",
      "2024-04-08 15:24:35,394 - __main__ - WARNING - XXXXXXXXXXXXXXXXXXXXXXXXXXXXXXXXXXXXXXXXXXXXXXXXXXXXXXXXXXXX\n",
      "2024-04-08 15:24:35,396 - __main__ - WARNING - Run feature transformation: ['svrTransform', 'abs', 'reciprocal', 'adde', 'prod']\n"
     ]
    },
    {
     "name": "stdout",
     "output_type": "stream",
     "text": [
      "['square', 'svrTransform', 'timeagg', 'negative', 'relu', 'decisionTreeRegressorTransform', 'zscore', 'add', 'reciprocal', 'linearRegressorTransform', 'mlpRegressorTransform', 'diff', 'radian', 'xgbRegressorTransform', 'kernelapproxrbf', 'degree', 'adde', 'tanh', 'sigmoid', 'ln', 'exp', 'prod', 'div', 'minus', 'cos', 'abs', 'parameter']\n",
      "W: [3.0, 2.0, 2.0, 2.0, 2.0, 1, 1, 1, 1, 1, 1, 1, 1, 1, 1, 1, 1, 1, 1, 1, 1, 5.0, 4.0, 3.0, 4, 4]\n",
      "N: [2, 1, 1, 1, 1, 1, 1, 1, 1, 1, 1, 1, 1, 1, 1, 1, 1, 1, 1, 1, 1, 2, 2, 2, 2, 2]\n",
      "L: [2.0, 1, 1, 1, 1, 2.0, 2.0, 2.0, 2.0, 3.0, 3.0, 3.0, 3.0, 4, 4.0, 4.0, 4.0, 4.0, 4, 4, 4, 1, 1, 2.0, 3.0, 4]\n",
      "W_rate: [0.6, 0.6666666666666666, 0.6666666666666666, 0.6666666666666666, 0.6666666666666666, 0.3333333333333333, 0.3333333333333333, 0.3333333333333333, 0.3333333333333333, 0.25, 0.25, 0.25, 0.25, 0.2, 0.2, 0.2, 0.2, 0.2, 0.2, 0.2, 0.2, 0.8333333333333334, 0.8, 0.6, 0.5714285714285714, 0.5]\n",
      "Value: [0, 0, 0, 0, 0, 0, 0, 0, 0, 0, 0, 0, 0, 0, 0, 0, 0, 0, 0, 0, 0, 0, 0, 0, 0, 0]\n"
     ]
    },
    {
     "name": "stderr",
     "output_type": "stream",
     "text": [
      "2024-04-08 15:24:37,041 - __main__ - WARNING - Run feature transformation: ['svrTransform', 'abs', 'reciprocal', 'cos', 'add']\n",
      "2024-04-08 15:24:38,944 - __main__ - WARNING - Run feature transformation: ['svrTransform', 'abs', 'reciprocal', 'sigmoid', 'kernelapproxrbf']\n",
      "2024-04-08 15:24:40,190 - __main__ - WARNING - Run feature transformation: ['svrTransform', 'abs', 'reciprocal', 'diff', 'tanh']\n",
      "2024-04-08 15:24:41,143 - __main__ - WARNING - Add the best feature in set to the best features record.\n",
      "2024-04-08 15:24:41,144 - __main__ - WARNING - Run feature transformation: ['svrTransform', 'abs', 'reciprocal', 'degree', 'sigmoid']\n",
      "2024-04-08 15:24:42,526 - __main__ - WARNING - Run feature transformation: ['svrTransform', 'abs', 'reciprocal', 'timeagg', 'kernelapproxrbf']\n",
      "2024-04-08 15:24:43,480 - __main__ - WARNING - Run feature transformation: ['svrTransform', 'abs', 'reciprocal', 'radian', 'minus']\n",
      "2024-04-08 15:24:45,052 - __main__ - WARNING - Run feature transformation: ['svrTransform', 'abs', 'reciprocal', 'reciprocal', 'decisionTreeRegressorTransform']\n",
      "2024-04-08 15:24:46,032 - __main__ - WARNING - Run feature transformation: ['svrTransform', 'abs', 'reciprocal', 'adde', 'square']\n",
      "2024-04-08 15:24:47,271 - __main__ - WARNING - Add the best feature in set to the best features record.\n",
      "2024-04-08 15:24:47,272 - __main__ - WARNING - Run feature transformation: ['svrTransform', 'abs', 'reciprocal', 'timeagg', 'xgbRegressorTransform']\n",
      "2024-04-08 15:24:48,159 - __main__ - WARNING - Performances of the given node is: [0.5622060559328509, 0.5589570781864772, 0.5768203402445302, 0.6172619400368272, 0.5873621230833633, 0.5714088367577622, 0.5578013782590551, 0.5613316083581216, 0.5848887449388984, 0.5288562029259487]\n",
      "2024-04-08 15:24:48,160 - __main__ - WARNING - Mean perf is: 0.570689, Mean init is: 0.581475, Std init is: 0.012273 ==> reward: -1.000000\n",
      "2024-04-08 15:24:49,194 - __main__ - WARNING - Performance of scorer is: 0.03337150812149048\n",
      "2024-04-08 15:24:49,201 - __main__ - WARNING - XXXXXXXXXXXXXXXXXXXXXXXXXXXXXXXXXXXXXXXXXXXXXXXXXXXXXXXXXXXX\n",
      "2024-04-08 15:24:49,201 - __main__ - WARNING - Round:\t33\n",
      "2024-04-08 15:24:49,202 - __main__ - WARNING - XXXXXXXXXXXXXXXXXXXXXXXXXXXXXXXXXXXXXXXXXXXXXXXXXXXXXXXXXXXX\n",
      "2024-04-08 15:24:49,204 - __main__ - WARNING - Run feature transformation: ['timeagg', 'abs', 'square', 'timeagg', 'ln']\n"
     ]
    },
    {
     "name": "stdout",
     "output_type": "stream",
     "text": [
      "['svrTransform', 'timeagg', 'negative', 'relu', 'decisionTreeRegressorTransform', 'zscore', 'add', 'reciprocal', 'linearRegressorTransform', 'mlpRegressorTransform', 'diff', 'radian', 'xgbRegressorTransform', 'kernelapproxrbf', 'degree', 'adde', 'tanh', 'sigmoid', 'ln', 'exp', 'prod', 'div', 'square', 'minus', 'cos', 'abs', 'parameter']\n",
      "W: [2.0, 2.0, 2.0, 2.0, 1, 1, 1, 1, 1, 1, 1, 1, 1, 1, 1, 1, 1, 1, 1, 1, 5.0, 4.0, 3.0, 3.0, 4, 4]\n",
      "N: [2, 1, 1, 1, 1, 1, 1, 1, 1, 1, 1, 1, 1, 1, 1, 1, 1, 1, 1, 1, 2, 2, 2, 2, 2, 2]\n",
      "L: [2.0, 1, 1, 1, 2.0, 2.0, 2.0, 2.0, 3.0, 3.0, 3.0, 3.0, 4, 4.0, 4.0, 4.0, 4.0, 4, 4, 4, 1, 1, 2.0, 2.0, 3.0, 4]\n",
      "W_rate: [0.5, 0.6666666666666666, 0.6666666666666666, 0.6666666666666666, 0.3333333333333333, 0.3333333333333333, 0.3333333333333333, 0.3333333333333333, 0.25, 0.25, 0.25, 0.25, 0.2, 0.2, 0.2, 0.2, 0.2, 0.2, 0.2, 0.2, 0.8333333333333334, 0.8, 0.6, 0.6, 0.5714285714285714, 0.5]\n",
      "Value: [0, 0, 0, 0, 0, 0, 0, 0, 0, 0, 0, 0, 0, 0, 0, 0, 0, 0, 0, 0, 0, 0, 0, 0, 0, 0]\n"
     ]
    },
    {
     "name": "stderr",
     "output_type": "stream",
     "text": [
      "2024-04-08 15:24:51,030 - __main__ - WARNING - Run feature transformation: ['timeagg', 'abs', 'square', 'minus', 'linearRegressorTransform']\n",
      "2024-04-08 15:24:52,233 - __main__ - WARNING - Run feature transformation: ['timeagg', 'abs', 'square', 'cos', 'reciprocal']\n",
      "2024-04-08 15:24:53,854 - __main__ - WARNING - Add the best feature in set to the best features record.\n",
      "2024-04-08 15:24:53,856 - __main__ - WARNING - Run feature transformation: ['timeagg', 'abs', 'square', 'degree', 'reciprocal']\n",
      "2024-04-08 15:24:55,439 - __main__ - WARNING - Add the best feature in set to the best features record.\n",
      "2024-04-08 15:24:55,440 - __main__ - WARNING - Run feature transformation: ['timeagg', 'abs', 'square', 'diff', 'negative']\n",
      "2024-04-08 15:24:56,568 - __main__ - WARNING - Run feature transformation: ['timeagg', 'abs', 'square', 'mlpRegressorTransform', 'reciprocal']\n",
      "2024-04-08 15:25:00,575 - __main__ - WARNING - Run feature transformation: ['timeagg', 'abs', 'square', 'reciprocal', 'decisionTreeRegressorTransform']\n",
      "2024-04-08 15:25:01,763 - __main__ - WARNING - Run feature transformation: ['timeagg', 'abs', 'square', 'sigmoid', 'timeagg']\n",
      "2024-04-08 15:25:03,923 - __main__ - WARNING - Add the best feature in set to the best features record.\n",
      "2024-04-08 15:25:03,925 - __main__ - WARNING - Run feature transformation: ['timeagg', 'abs', 'square', 'exp', 'degree']\n",
      "2024-04-08 15:25:04,903 - __main__ - WARNING - Add the best feature in set to the best features record.\n",
      "2024-04-08 15:25:04,904 - __main__ - WARNING - Run feature transformation: ['timeagg', 'abs', 'square', 'kernelapproxrbf', 'add']\n",
      "2024-04-08 15:25:06,673 - __main__ - WARNING - Performances of the given node is: [0.5978772218222773, 0.5755557694432636, 0.5880381537383611, 0.5980101365976804, 0.5753477133700949, 0.5666584458334237, 0.5747634262935949, 0.5833548779180121, 0.601804423232085, 0.5588535324801428]\n",
      "2024-04-08 15:25:06,674 - __main__ - WARNING - Mean perf is: 0.582026, Mean init is: 0.581475, Std init is: 0.012273 ==> reward: 1.000000\n",
      "2024-04-08 15:25:07,718 - __main__ - WARNING - Performance of scorer is: 0.0334976390004158\n",
      "2024-04-08 15:25:07,719 - __main__ - WARNING - Run feature transformation: ['timeagg', 'abs', 'square']\n",
      "2024-04-08 15:25:14,127 - __main__ - WARNING - Mean init is: 0.5814751034102423, mean of new node is: 0.556577295048475\n",
      "2024-04-08 15:25:14,133 - __main__ - WARNING - XXXXXXXXXXXXXXXXXXXXXXXXXXXXXXXXXXXXXXXXXXXXXXXXXXXXXXXXXXXX\n",
      "2024-04-08 15:25:14,134 - __main__ - WARNING - Round:\t34\n",
      "2024-04-08 15:25:14,134 - __main__ - WARNING - XXXXXXXXXXXXXXXXXXXXXXXXXXXXXXXXXXXXXXXXXXXXXXXXXXXXXXXXXXXX\n",
      "2024-04-08 15:25:14,137 - __main__ - WARNING - Run feature transformation: ['negative', 'abs', 'degree', 'minus', 'linearRegressorTransform']\n"
     ]
    },
    {
     "name": "stdout",
     "output_type": "stream",
     "text": [
      "['timeagg', 'negative', 'relu', 'decisionTreeRegressorTransform', 'zscore', 'add', 'reciprocal', 'linearRegressorTransform', 'mlpRegressorTransform', 'diff', 'radian', 'xgbRegressorTransform', 'kernelapproxrbf', 'degree', 'adde', 'tanh', 'sigmoid', 'ln', 'exp', 'prod', 'div', 'square', 'minus', 'cos', 'svrTransform', 'abs', 'parameter']\n",
      "W: [3.0, 2.0, 2.0, 1, 1, 1, 1, 1, 1, 1, 1, 1, 1, 1, 1, 1, 1, 1, 1, 5.0, 4.0, 3.0, 3.0, 4, 2.0, 4]\n",
      "N: [2, 1, 1, 1, 1, 1, 1, 1, 1, 1, 1, 1, 1, 1, 1, 1, 1, 1, 1, 2, 2, 2, 2, 2, 2, 2]\n",
      "L: [1, 1, 1, 2.0, 2.0, 2.0, 2.0, 3.0, 3.0, 3.0, 3.0, 4, 4.0, 4.0, 4.0, 4.0, 4, 4, 4, 1, 1, 2.0, 2.0, 3.0, 2.0, 4]\n",
      "W_rate: [0.75, 0.6666666666666666, 0.6666666666666666, 0.3333333333333333, 0.3333333333333333, 0.3333333333333333, 0.3333333333333333, 0.25, 0.25, 0.25, 0.25, 0.2, 0.2, 0.2, 0.2, 0.2, 0.2, 0.2, 0.2, 0.8333333333333334, 0.8, 0.6, 0.6, 0.5714285714285714, 0.5, 0.5]\n",
      "Value: [0, 0, 0, 0, 0, 0, 0, 0, 0, 0, 0, 0, 0, 0, 0, 0, 0, 0, 0, 0, 0, 0, 0, 0, 0, 0]\n"
     ]
    },
    {
     "name": "stderr",
     "output_type": "stream",
     "text": [
      "2024-04-08 15:25:16,484 - __main__ - WARNING - Add the best feature in set to the best features record.\n",
      "2024-04-08 15:25:16,485 - __main__ - WARNING - Run feature transformation: ['negative', 'abs', 'degree', 'cos', 'reciprocal']\n",
      "2024-04-08 15:25:18,591 - __main__ - WARNING - Run feature transformation: ['negative', 'abs', 'degree', 'degree', 'reciprocal']\n",
      "2024-04-08 15:25:20,107 - __main__ - WARNING - Run feature transformation: ['negative', 'abs', 'degree', 'diff', 'negative']\n",
      "2024-04-08 15:25:21,433 - __main__ - WARNING - Run feature transformation: ['negative', 'abs', 'degree', 'mlpRegressorTransform', 'reciprocal']\n",
      "2024-04-08 15:25:25,704 - __main__ - WARNING - Run feature transformation: ['negative', 'abs', 'degree', 'reciprocal', 'decisionTreeRegressorTransform']\n",
      "2024-04-08 15:25:27,209 - __main__ - WARNING - Run feature transformation: ['negative', 'abs', 'degree', 'sigmoid', 'timeagg']\n",
      "2024-04-08 15:25:28,632 - __main__ - WARNING - Run feature transformation: ['negative', 'abs', 'degree', 'exp', 'degree']\n",
      "2024-04-08 15:25:29,614 - __main__ - WARNING - Add the best feature in set to the best features record.\n",
      "2024-04-08 15:25:29,615 - __main__ - WARNING - Run feature transformation: ['negative', 'abs', 'degree', 'kernelapproxrbf', 'add']\n",
      "2024-04-08 15:25:31,569 - __main__ - WARNING - Run feature transformation: ['negative', 'abs', 'degree', 'degree', 'xgbRegressorTransform']\n",
      "2024-04-08 15:25:32,961 - __main__ - WARNING - Performances of the given node is: [0.5824148594628591, 0.5766726416944811, 0.5690170175367071, 0.5641021455900497, 0.5698778120986361, 0.6095340300071732, 0.5568216421346708, 0.5904730736988455, 0.5758551037767148, 0.5644133241807101]\n",
      "2024-04-08 15:25:32,962 - __main__ - WARNING - Mean perf is: 0.575918, Mean init is: 0.581475, Std init is: 0.012273 ==> reward: -1.000000\n",
      "2024-04-08 15:25:34,059 - __main__ - WARNING - Performance of scorer is: 0.048129767179489136\n",
      "2024-04-08 15:25:34,066 - __main__ - WARNING - XXXXXXXXXXXXXXXXXXXXXXXXXXXXXXXXXXXXXXXXXXXXXXXXXXXXXXXXXXXX\n",
      "2024-04-08 15:25:34,066 - __main__ - WARNING - Round:\t35\n",
      "2024-04-08 15:25:34,066 - __main__ - WARNING - XXXXXXXXXXXXXXXXXXXXXXXXXXXXXXXXXXXXXXXXXXXXXXXXXXXXXXXXXXXX\n",
      "2024-04-08 15:25:34,069 - __main__ - WARNING - Run feature transformation: ['relu', 'abs', 'prod', 'square', 'prod']\n"
     ]
    },
    {
     "name": "stdout",
     "output_type": "stream",
     "text": [
      "['negative', 'relu', 'decisionTreeRegressorTransform', 'zscore', 'add', 'reciprocal', 'linearRegressorTransform', 'mlpRegressorTransform', 'diff', 'radian', 'xgbRegressorTransform', 'kernelapproxrbf', 'degree', 'adde', 'tanh', 'sigmoid', 'ln', 'exp', 'prod', 'div', 'timeagg', 'square', 'minus', 'cos', 'svrTransform', 'abs', 'parameter']\n",
      "W: [2.0, 2.0, 1, 1, 1, 1, 1, 1, 1, 1, 1, 1, 1, 1, 1, 1, 1, 1, 5.0, 4.0, 3.0, 3.0, 3.0, 4, 2.0, 4]\n",
      "N: [2, 1, 1, 1, 1, 1, 1, 1, 1, 1, 1, 1, 1, 1, 1, 1, 1, 1, 2, 2, 2, 2, 2, 2, 2, 2]\n",
      "L: [2.0, 1, 2.0, 2.0, 2.0, 2.0, 3.0, 3.0, 3.0, 3.0, 4, 4.0, 4.0, 4.0, 4.0, 4, 4, 4, 1, 1, 1, 2.0, 2.0, 3.0, 2.0, 4]\n",
      "W_rate: [0.5, 0.6666666666666666, 0.3333333333333333, 0.3333333333333333, 0.3333333333333333, 0.3333333333333333, 0.25, 0.25, 0.25, 0.25, 0.2, 0.2, 0.2, 0.2, 0.2, 0.2, 0.2, 0.2, 0.8333333333333334, 0.8, 0.75, 0.6, 0.6, 0.5714285714285714, 0.5, 0.5]\n",
      "Value: [0, 0, 0, 0, 0, 0, 0, 0, 0, 0, 0, 0, 0, 0, 0, 0, 0, 0, 0, 0, 0, 0, 0, 0, 0, 0]\n"
     ]
    },
    {
     "name": "stderr",
     "output_type": "stream",
     "text": [
      "2024-04-08 15:25:38,317 - __main__ - WARNING - Run feature transformation: ['relu', 'abs', 'prod', 'minus', 'relu']\n",
      "2024-04-08 15:25:41,997 - __main__ - WARNING - Add the best feature in set to the best features record.\n",
      "2024-04-08 15:25:41,998 - __main__ - WARNING - Run feature transformation: ['relu', 'abs', 'prod', 'adde', 'prod']\n",
      "2024-04-08 15:25:44,568 - __main__ - WARNING - Run feature transformation: ['relu', 'abs', 'prod', 'negative', 'cos']\n",
      "2024-04-08 15:25:47,399 - __main__ - WARNING - Run feature transformation: ['relu', 'abs', 'prod', 'add', 'relu']\n",
      "2024-04-08 15:25:51,421 - __main__ - WARNING - Run feature transformation: ['relu', 'abs', 'prod', 'degree', 'ln']\n",
      "2024-04-08 15:25:53,889 - __main__ - WARNING - Run feature transformation: ['relu', 'abs', 'prod', 'degree', 'minus']\n",
      "2024-04-08 15:25:56,226 - __main__ - WARNING - Run feature transformation: ['relu', 'abs', 'prod', 'exp', 'decisionTreeRegressorTransform']\n",
      "2024-04-08 15:25:57,585 - __main__ - WARNING - Run feature transformation: ['relu', 'abs', 'prod', 'relu', 'minus']\n",
      "2024-04-08 15:25:59,912 - __main__ - WARNING - Run feature transformation: ['relu', 'abs', 'prod', 'minus', 'linearRegressorTransform']\n",
      "2024-04-08 15:26:02,047 - __main__ - WARNING - Performances of the given node is: [0.5607146663165493, 0.5883737156756914, 0.58012494098257, 0.5530477947941593, 0.5790275403937567, 0.5555737408289417, 0.58012494098257, 0.5829646133997128, 0.58012494098257, 0.5744109493996795]\n",
      "2024-04-08 15:26:02,049 - __main__ - WARNING - Mean perf is: 0.573449, Mean init is: 0.581475, Std init is: 0.012273 ==> reward: -1.000000\n",
      "2024-04-08 15:26:03,167 - __main__ - WARNING - Performance of scorer is: 0.05260607600212097\n",
      "2024-04-08 15:26:03,174 - __main__ - WARNING - XXXXXXXXXXXXXXXXXXXXXXXXXXXXXXXXXXXXXXXXXXXXXXXXXXXXXXXXXXXX\n",
      "2024-04-08 15:26:03,175 - __main__ - WARNING - Round:\t36\n",
      "2024-04-08 15:26:03,175 - __main__ - WARNING - XXXXXXXXXXXXXXXXXXXXXXXXXXXXXXXXXXXXXXXXXXXXXXXXXXXXXXXXXXXX\n",
      "2024-04-08 15:26:03,177 - __main__ - WARNING - Run feature transformation: ['decisionTreeRegressorTransform', 'cos', 'prod', 'diff', 'square']\n"
     ]
    },
    {
     "name": "stdout",
     "output_type": "stream",
     "text": [
      "['relu', 'decisionTreeRegressorTransform', 'zscore', 'add', 'reciprocal', 'linearRegressorTransform', 'mlpRegressorTransform', 'diff', 'radian', 'xgbRegressorTransform', 'kernelapproxrbf', 'degree', 'adde', 'tanh', 'sigmoid', 'ln', 'exp', 'prod', 'div', 'timeagg', 'square', 'minus', 'cos', 'negative', 'svrTransform', 'abs', 'parameter']\n",
      "W: [2.0, 1, 1, 1, 1, 1, 1, 1, 1, 1, 1, 1, 1, 1, 1, 1, 1, 5.0, 4.0, 3.0, 3.0, 3.0, 4, 2.0, 2.0, 4]\n",
      "N: [2, 1, 1, 1, 1, 1, 1, 1, 1, 1, 1, 1, 1, 1, 1, 1, 1, 2, 2, 2, 2, 2, 2, 2, 2, 2]\n",
      "L: [2.0, 2.0, 2.0, 2.0, 2.0, 3.0, 3.0, 3.0, 3.0, 4, 4.0, 4.0, 4.0, 4.0, 4, 4, 4, 1, 1, 1, 2.0, 2.0, 3.0, 2.0, 2.0, 4]\n",
      "W_rate: [0.5, 0.3333333333333333, 0.3333333333333333, 0.3333333333333333, 0.3333333333333333, 0.25, 0.25, 0.25, 0.25, 0.2, 0.2, 0.2, 0.2, 0.2, 0.2, 0.2, 0.2, 0.8333333333333334, 0.8, 0.75, 0.6, 0.6, 0.5714285714285714, 0.5, 0.5, 0.5]\n",
      "Value: [0, 0, 0, 0, 0, 0, 0, 0, 0, 0, 0, 0, 0, 0, 0, 0, 0, 0, 0, 0, 0, 0, 0, 0, 0, 0]\n"
     ]
    },
    {
     "name": "stderr",
     "output_type": "stream",
     "text": [
      "2024-04-08 15:26:04,120 - __main__ - WARNING - Run feature transformation: ['decisionTreeRegressorTransform', 'cos', 'prod', 'svrTransform', 'ln']\n",
      "2024-04-08 15:26:04,679 - __main__ - WARNING - Run feature transformation: ['decisionTreeRegressorTransform', 'cos', 'prod', 'ln', 'adde']\n",
      "2024-04-08 15:26:05,393 - __main__ - WARNING - Run feature transformation: ['decisionTreeRegressorTransform', 'cos', 'prod', 'ln', 'tanh']\n",
      "2024-04-08 15:26:05,933 - __main__ - WARNING - Run feature transformation: ['decisionTreeRegressorTransform', 'cos', 'prod', 'adde', 'svrTransform']\n",
      "2024-04-08 15:26:06,514 - __main__ - WARNING - Run feature transformation: ['decisionTreeRegressorTransform', 'cos', 'prod', 'add', 'sigmoid']\n",
      "2024-04-08 15:26:08,573 - __main__ - WARNING - Run feature transformation: ['decisionTreeRegressorTransform', 'cos', 'prod', 'xgbRegressorTransform', 'xgbRegressorTransform']\n",
      "2024-04-08 15:26:09,069 - __main__ - WARNING - Run feature transformation: ['decisionTreeRegressorTransform', 'cos', 'prod', 'decisionTreeRegressorTransform', 'sigmoid']\n",
      "2024-04-08 15:26:09,483 - __main__ - WARNING - Run feature transformation: ['decisionTreeRegressorTransform', 'cos', 'prod', 'kernelapproxrbf', 'radian']\n",
      "2024-04-08 15:26:10,001 - __main__ - WARNING - Run feature transformation: ['decisionTreeRegressorTransform', 'cos', 'prod', 'timeagg', 'prod']\n",
      "2024-04-08 15:26:10,709 - __main__ - WARNING - Performances of the given node is: [0.5327878334850376, 0.5327878334850376, 0.5327878334850376, 0.5327878334850376, 0.5327878334850376, 0.5327878334850376, 0.5327878334850376, 0.5327878334850376, 0.5327878334850376, 0.5325587739480502]\n",
      "2024-04-08 15:26:10,710 - __main__ - WARNING - Mean perf is: 0.532765, Mean init is: 0.581475, Std init is: 0.012273 ==> reward: -3.000000\n",
      "2024-04-08 15:26:11,886 - __main__ - WARNING - Performance of scorer is: 0.056992512196302414\n",
      "2024-04-08 15:26:11,892 - __main__ - WARNING - XXXXXXXXXXXXXXXXXXXXXXXXXXXXXXXXXXXXXXXXXXXXXXXXXXXXXXXXXXXX\n",
      "2024-04-08 15:26:11,893 - __main__ - WARNING - Round:\t37\n",
      "2024-04-08 15:26:11,893 - __main__ - WARNING - XXXXXXXXXXXXXXXXXXXXXXXXXXXXXXXXXXXXXXXXXXXXXXXXXXXXXXXXXXXX\n",
      "2024-04-08 15:26:11,895 - __main__ - WARNING - Run feature transformation: ['zscore', 'cos', 'degree', 'div', 'zscore']\n"
     ]
    },
    {
     "name": "stdout",
     "output_type": "stream",
     "text": [
      "['decisionTreeRegressorTransform', 'zscore', 'add', 'reciprocal', 'linearRegressorTransform', 'mlpRegressorTransform', 'diff', 'radian', 'xgbRegressorTransform', 'kernelapproxrbf', 'degree', 'adde', 'tanh', 'sigmoid', 'ln', 'exp', 'prod', 'div', 'timeagg', 'square', 'minus', 'cos', 'relu', 'negative', 'svrTransform', 'abs', 'parameter']\n",
      "W: [1, 1, 1, 1, 1, 1, 1, 1, 1, 1, 1, 1, 1, 1, 1, 1, 5.0, 4.0, 3.0, 3.0, 3.0, 4, 2.0, 2.0, 2.0, 4]\n",
      "N: [2, 1, 1, 1, 1, 1, 1, 1, 1, 1, 1, 1, 1, 1, 1, 1, 2, 2, 2, 2, 2, 2, 2, 2, 2, 2]\n",
      "L: [5.0, 2.0, 2.0, 2.0, 3.0, 3.0, 3.0, 3.0, 4, 4.0, 4.0, 4.0, 4.0, 4, 4, 4, 1, 1, 1, 2.0, 2.0, 3.0, 2.0, 2.0, 2.0, 4]\n",
      "W_rate: [0.16666666666666666, 0.3333333333333333, 0.3333333333333333, 0.3333333333333333, 0.25, 0.25, 0.25, 0.25, 0.2, 0.2, 0.2, 0.2, 0.2, 0.2, 0.2, 0.2, 0.8333333333333334, 0.8, 0.75, 0.6, 0.6, 0.5714285714285714, 0.5, 0.5, 0.5, 0.5]\n",
      "Value: [0, 0, 0, 0, 0, 0, 0, 0, 0, 0, 0, 0, 0, 0, 0, 0, 0, 0, 0, 0, 0, 0, 0, 0, 0, 0]\n"
     ]
    },
    {
     "name": "stderr",
     "output_type": "stream",
     "text": [
      "2024-04-08 15:26:15,496 - __main__ - WARNING - Run feature transformation: ['zscore', 'cos', 'degree', 'svrTransform', 'div']\n",
      "2024-04-08 15:26:18,520 - __main__ - WARNING - Run feature transformation: ['zscore', 'cos', 'degree', 'add', 'cos']\n",
      "2024-04-08 15:26:22,067 - __main__ - WARNING - Run feature transformation: ['zscore', 'cos', 'degree', 'add', 'decisionTreeRegressorTransform']\n",
      "2024-04-08 15:26:23,817 - __main__ - WARNING - Run feature transformation: ['zscore', 'cos', 'degree', 'exp', 'add']\n",
      "2024-04-08 15:26:26,428 - __main__ - WARNING - Run feature transformation: ['zscore', 'cos', 'degree', 'exp', 'timeagg']\n",
      "2024-04-08 15:26:27,433 - __main__ - WARNING - Run feature transformation: ['zscore', 'cos', 'degree', 'tanh', 'adde']\n",
      "2024-04-08 15:26:29,406 - __main__ - WARNING - Add the best feature in set to the best features record.\n",
      "2024-04-08 15:26:29,407 - __main__ - WARNING - Run feature transformation: ['zscore', 'cos', 'degree', 'timeagg', 'timeagg']\n",
      "2024-04-08 15:26:34,287 - __main__ - WARNING - Run feature transformation: ['zscore', 'cos', 'degree', 'adde', 'mlpRegressorTransform']\n",
      "2024-04-08 15:26:38,996 - __main__ - WARNING - Run feature transformation: ['zscore', 'cos', 'degree', 'diff', 'xgbRegressorTransform']\n",
      "2024-04-08 15:26:40,803 - __main__ - WARNING - Add the best feature in set to the best features record.\n",
      "2024-04-08 15:26:40,805 - __main__ - WARNING - Performances of the given node is: [0.5639612165937151, 0.5630082634818212, 0.5380753503200871, 0.5925243686222343, 0.5625295698022057, 0.5622458750598618, 0.5878401982545137, 0.5803130396735443, 0.5675806932493522, 0.6013055820095897]\n",
      "2024-04-08 15:26:40,806 - __main__ - WARNING - Mean perf is: 0.571938, Mean init is: 0.581475, Std init is: 0.012273 ==> reward: -1.000000\n",
      "2024-04-08 15:26:41,978 - __main__ - WARNING - Performance of scorer is: 0.03893410414457321\n",
      "2024-04-08 15:26:41,985 - __main__ - WARNING - XXXXXXXXXXXXXXXXXXXXXXXXXXXXXXXXXXXXXXXXXXXXXXXXXXXXXXXXXXXX\n",
      "2024-04-08 15:26:41,985 - __main__ - WARNING - Round:\t38\n",
      "2024-04-08 15:26:41,986 - __main__ - WARNING - XXXXXXXXXXXXXXXXXXXXXXXXXXXXXXXXXXXXXXXXXXXXXXXXXXXXXXXXXXXX\n",
      "2024-04-08 15:26:41,988 - __main__ - WARNING - Run feature transformation: ['add', 'abs', 'div', 'add', 'cos']\n"
     ]
    },
    {
     "name": "stdout",
     "output_type": "stream",
     "text": [
      "['zscore', 'add', 'reciprocal', 'linearRegressorTransform', 'mlpRegressorTransform', 'diff', 'radian', 'xgbRegressorTransform', 'kernelapproxrbf', 'degree', 'adde', 'tanh', 'sigmoid', 'ln', 'exp', 'prod', 'div', 'timeagg', 'square', 'minus', 'cos', 'relu', 'negative', 'svrTransform', 'abs', 'decisionTreeRegressorTransform', 'parameter']\n",
      "W: [1, 1, 1, 1, 1, 1, 1, 1, 1, 1, 1, 1, 1, 1, 1, 5.0, 4.0, 3.0, 3.0, 3.0, 4, 2.0, 2.0, 2.0, 4, 1]\n",
      "N: [2, 1, 1, 1, 1, 1, 1, 1, 1, 1, 1, 1, 1, 1, 1, 2, 2, 2, 2, 2, 2, 2, 2, 2, 2, 2]\n",
      "L: [3.0, 2.0, 2.0, 3.0, 3.0, 3.0, 3.0, 4, 4.0, 4.0, 4.0, 4.0, 4, 4, 4, 1, 1, 1, 2.0, 2.0, 3.0, 2.0, 2.0, 2.0, 4, 5.0]\n",
      "W_rate: [0.25, 0.3333333333333333, 0.3333333333333333, 0.25, 0.25, 0.25, 0.25, 0.2, 0.2, 0.2, 0.2, 0.2, 0.2, 0.2, 0.2, 0.8333333333333334, 0.8, 0.75, 0.6, 0.6, 0.5714285714285714, 0.5, 0.5, 0.5, 0.5, 0.16666666666666666]\n",
      "Value: [0, 0, 0, 0, 0, 0, 0, 0, 0, 0, 0, 0, 0, 0, 0, 0, 0, 0, 0, 0, 0, 0, 0, 0, 0, 0]\n"
     ]
    },
    {
     "name": "stderr",
     "output_type": "stream",
     "text": [
      "2024-04-08 15:26:53,056 - __main__ - WARNING - Run feature transformation: ['add', 'abs', 'div', 'add', 'decisionTreeRegressorTransform']\n",
      "2024-04-08 15:26:55,707 - __main__ - WARNING - Run feature transformation: ['add', 'abs', 'div', 'exp', 'add']\n",
      "2024-04-08 15:27:00,768 - __main__ - WARNING - Add the best feature in set to the best features record.\n",
      "2024-04-08 15:27:00,769 - __main__ - WARNING - Run feature transformation: ['add', 'abs', 'div', 'exp', 'timeagg']\n",
      "2024-04-08 15:27:02,001 - __main__ - WARNING - Run feature transformation: ['add', 'abs', 'div', 'tanh', 'adde']\n",
      "2024-04-08 15:27:06,480 - __main__ - WARNING - Run feature transformation: ['add', 'abs', 'div', 'timeagg', 'timeagg']\n",
      "2024-04-08 15:27:22,838 - __main__ - WARNING - Run feature transformation: ['add', 'abs', 'div', 'adde', 'mlpRegressorTransform']\n",
      "2024-04-08 15:27:30,055 - __main__ - WARNING - Run feature transformation: ['add', 'abs', 'div', 'diff', 'xgbRegressorTransform']\n",
      "2024-04-08 15:27:34,506 - __main__ - WARNING - Add the best feature in set to the best features record.\n",
      "2024-04-08 15:27:34,507 - __main__ - WARNING - Run feature transformation: ['add', 'abs', 'div', 'degree', 'square']\n",
      "2024-04-08 15:27:39,023 - __main__ - WARNING - Run feature transformation: ['add', 'abs', 'div', 'div', 'relu']\n",
      "2024-04-08 15:27:47,220 - __main__ - WARNING - Add the best feature in set to the best features record.\n",
      "2024-04-08 15:27:47,221 - __main__ - WARNING - Performances of the given node is: [0.5471526050481235, 0.5686800263906773, 0.5894114154436314, 0.5661852792450888, 0.5687502155873075, 0.5538048725664955, 0.5699662569342918, 0.5957296198838572, 0.5670146968990462, 0.581517927648025]\n",
      "2024-04-08 15:27:47,223 - __main__ - WARNING - Mean perf is: 0.570821, Mean init is: 0.581475, Std init is: 0.012273 ==> reward: -1.000000\n",
      "2024-04-08 15:27:48,450 - __main__ - WARNING - Performance of scorer is: 0.04057135060429573\n",
      "2024-04-08 15:27:48,456 - __main__ - WARNING - XXXXXXXXXXXXXXXXXXXXXXXXXXXXXXXXXXXXXXXXXXXXXXXXXXXXXXXXXXXX\n",
      "2024-04-08 15:27:48,457 - __main__ - WARNING - Round:\t39\n",
      "2024-04-08 15:27:48,457 - __main__ - WARNING - XXXXXXXXXXXXXXXXXXXXXXXXXXXXXXXXXXXXXXXXXXXXXXXXXXXXXXXXXXXX\n",
      "2024-04-08 15:27:48,459 - __main__ - WARNING - Run feature transformation: ['reciprocal', 'abs', 'abs', 'adde', 'timeagg']\n"
     ]
    },
    {
     "name": "stdout",
     "output_type": "stream",
     "text": [
      "['add', 'reciprocal', 'linearRegressorTransform', 'mlpRegressorTransform', 'diff', 'radian', 'xgbRegressorTransform', 'kernelapproxrbf', 'degree', 'adde', 'tanh', 'sigmoid', 'ln', 'exp', 'prod', 'div', 'timeagg', 'square', 'minus', 'cos', 'relu', 'negative', 'svrTransform', 'abs', 'zscore', 'decisionTreeRegressorTransform', 'parameter']\n",
      "W: [1, 1, 1, 1, 1, 1, 1, 1, 1, 1, 1, 1, 1, 1, 5.0, 4.0, 3.0, 3.0, 3.0, 4, 2.0, 2.0, 2.0, 4, 1, 1]\n",
      "N: [2, 1, 1, 1, 1, 1, 1, 1, 1, 1, 1, 1, 1, 1, 2, 2, 2, 2, 2, 2, 2, 2, 2, 2, 2, 2]\n",
      "L: [3.0, 2.0, 3.0, 3.0, 3.0, 3.0, 4, 4.0, 4.0, 4.0, 4.0, 4, 4, 4, 1, 1, 1, 2.0, 2.0, 3.0, 2.0, 2.0, 2.0, 4, 3.0, 5.0]\n",
      "W_rate: [0.25, 0.3333333333333333, 0.25, 0.25, 0.25, 0.25, 0.2, 0.2, 0.2, 0.2, 0.2, 0.2, 0.2, 0.2, 0.8333333333333334, 0.8, 0.75, 0.6, 0.6, 0.5714285714285714, 0.5, 0.5, 0.5, 0.5, 0.25, 0.16666666666666666]\n",
      "Value: [0, 0, 0, 0, 0, 0, 0, 0, 0, 0, 0, 0, 0, 0, 0, 0, 0, 0, 0, 0, 0, 0, 0, 0, 0, 0]\n"
     ]
    },
    {
     "name": "stderr",
     "output_type": "stream",
     "text": [
      "2024-04-08 15:27:49,504 - __main__ - WARNING - Add the best feature in set to the best features record.\n",
      "2024-04-08 15:27:49,505 - __main__ - WARNING - Run feature transformation: ['reciprocal', 'abs', 'abs', 'timeagg', 'adde']\n",
      "2024-04-08 15:27:50,465 - __main__ - WARNING - Run feature transformation: ['reciprocal', 'abs', 'abs', 'mlpRegressorTransform', 'diff']\n",
      "2024-04-08 15:27:54,828 - __main__ - WARNING - Run feature transformation: ['reciprocal', 'abs', 'abs', 'xgbRegressorTransform', 'degree']\n",
      "2024-04-08 15:27:56,126 - __main__ - WARNING - Run feature transformation: ['reciprocal', 'abs', 'abs', 'square', 'div']\n",
      "2024-04-08 15:27:59,637 - __main__ - WARNING - Run feature transformation: ['reciprocal', 'abs', 'abs', 'relu', 'tanh']\n",
      "2024-04-08 15:28:01,054 - __main__ - WARNING - Run feature transformation: ['reciprocal', 'abs', 'abs', 'decisionTreeRegressorTransform', 'square']\n",
      "2024-04-08 15:28:02,058 - __main__ - WARNING - Run feature transformation: ['reciprocal', 'abs', 'abs', 'radian', 'timeagg']\n",
      "2024-04-08 15:28:03,043 - __main__ - WARNING - Run feature transformation: ['reciprocal', 'abs', 'abs', 'minus', 'square']\n",
      "2024-04-08 15:28:05,612 - __main__ - WARNING - Run feature transformation: ['reciprocal', 'abs', 'abs', 'xgbRegressorTransform', 'kernelapproxrbf']\n",
      "2024-04-08 15:28:06,371 - __main__ - WARNING - Performances of the given node is: [0.5846607118400304, 0.570469219926876, 0.5563619045447971, 0.5842339129896269, 0.5705527929563754, 0.578204065170638, 0.590298087846548, 0.5731593911403887, 0.5766545596210295, 0.5473243070423278]\n",
      "2024-04-08 15:28:06,372 - __main__ - WARNING - Mean perf is: 0.573192, Mean init is: 0.581475, Std init is: 0.012273 ==> reward: -1.000000\n",
      "2024-04-08 15:28:07,618 - __main__ - WARNING - Performance of scorer is: 0.03321417048573494\n",
      "2024-04-08 15:28:07,625 - __main__ - WARNING - XXXXXXXXXXXXXXXXXXXXXXXXXXXXXXXXXXXXXXXXXXXXXXXXXXXXXXXXXXXX\n",
      "2024-04-08 15:28:07,625 - __main__ - WARNING - Round:\t40\n",
      "2024-04-08 15:28:07,626 - __main__ - WARNING - XXXXXXXXXXXXXXXXXXXXXXXXXXXXXXXXXXXXXXXXXXXXXXXXXXXXXXXXXXXX\n",
      "2024-04-08 15:28:07,628 - __main__ - WARNING - Run feature transformation: ['linearRegressorTransform', 'cos', 'ln', 'ln', 'zscore']\n"
     ]
    },
    {
     "name": "stdout",
     "output_type": "stream",
     "text": [
      "['reciprocal', 'linearRegressorTransform', 'mlpRegressorTransform', 'diff', 'radian', 'xgbRegressorTransform', 'kernelapproxrbf', 'degree', 'adde', 'tanh', 'sigmoid', 'ln', 'exp', 'prod', 'div', 'timeagg', 'square', 'minus', 'cos', 'relu', 'negative', 'svrTransform', 'abs', 'add', 'zscore', 'decisionTreeRegressorTransform', 'parameter']\n",
      "W: [1, 1, 1, 1, 1, 1, 1, 1, 1, 1, 1, 1, 1, 5.0, 4.0, 3.0, 3.0, 3.0, 4, 2.0, 2.0, 2.0, 4, 1, 1, 1]\n",
      "N: [2, 1, 1, 1, 1, 1, 1, 1, 1, 1, 1, 1, 1, 2, 2, 2, 2, 2, 2, 2, 2, 2, 2, 2, 2, 2]\n",
      "L: [3.0, 3.0, 3.0, 3.0, 3.0, 4, 4.0, 4.0, 4.0, 4.0, 4, 4, 4, 1, 1, 1, 2.0, 2.0, 3.0, 2.0, 2.0, 2.0, 4, 3.0, 3.0, 5.0]\n",
      "W_rate: [0.25, 0.25, 0.25, 0.25, 0.25, 0.2, 0.2, 0.2, 0.2, 0.2, 0.2, 0.2, 0.2, 0.8333333333333334, 0.8, 0.75, 0.6, 0.6, 0.5714285714285714, 0.5, 0.5, 0.5, 0.5, 0.25, 0.25, 0.16666666666666666]\n",
      "Value: [0, 0, 0, 0, 0, 0, 0, 0, 0, 0, 0, 0, 0, 0, 0, 0, 0, 0, 0, 0, 0, 0, 0, 0, 0, 0]\n"
     ]
    },
    {
     "name": "stderr",
     "output_type": "stream",
     "text": [
      "2024-04-08 15:28:08,798 - __main__ - WARNING - Run feature transformation: ['linearRegressorTransform', 'cos', 'ln', 'abs', 'prod']\n",
      "2024-04-08 15:28:10,842 - __main__ - WARNING - Run feature transformation: ['linearRegressorTransform', 'cos', 'ln', 'relu', 'zscore']\n",
      "2024-04-08 15:28:11,723 - __main__ - WARNING - Run feature transformation: ['linearRegressorTransform', 'cos', 'ln', 'linearRegressorTransform', 'add']\n",
      "2024-04-08 15:28:12,840 - __main__ - WARNING - Run feature transformation: ['linearRegressorTransform', 'cos', 'ln', 'sigmoid', 'decisionTreeRegressorTransform']\n",
      "2024-04-08 15:28:14,007 - __main__ - WARNING - Run feature transformation: ['linearRegressorTransform', 'cos', 'ln', 'degree', 'degree']\n",
      "2024-04-08 15:28:14,894 - __main__ - WARNING - Run feature transformation: ['linearRegressorTransform', 'cos', 'ln', 'degree', 'abs']\n",
      "2024-04-08 15:28:15,836 - __main__ - WARNING - Run feature transformation: ['linearRegressorTransform', 'cos', 'ln', 'minus', 'negative']\n",
      "2024-04-08 15:28:16,986 - __main__ - WARNING - Run feature transformation: ['linearRegressorTransform', 'cos', 'ln', 'square', 'prod']\n",
      "2024-04-08 15:28:18,717 - __main__ - WARNING - Run feature transformation: ['linearRegressorTransform', 'cos', 'ln', 'kernelapproxrbf', 'adde']\n",
      "2024-04-08 15:28:20,065 - __main__ - WARNING - Performances of the given node is: [0.5917987569531468, 0.5702311781697867, 0.5801123552843264, 0.5772416437903128, 0.5706470634953392, 0.5735750231843229, 0.5600457920562212, 0.552626280761648, 0.5696316065885793, 0.5347181259640642]\n",
      "2024-04-08 15:28:20,066 - __main__ - WARNING - Mean perf is: 0.568063, Mean init is: 0.581475, Std init is: 0.012273 ==> reward: -1.000000\n",
      "2024-04-08 15:28:21,316 - __main__ - WARNING - Performance of scorer is: 0.025770781561732292\n",
      "2024-04-08 15:28:21,322 - __main__ - WARNING - XXXXXXXXXXXXXXXXXXXXXXXXXXXXXXXXXXXXXXXXXXXXXXXXXXXXXXXXXXXX\n",
      "2024-04-08 15:28:21,323 - __main__ - WARNING - Round:\t41\n",
      "2024-04-08 15:28:21,323 - __main__ - WARNING - XXXXXXXXXXXXXXXXXXXXXXXXXXXXXXXXXXXXXXXXXXXXXXXXXXXXXXXXXXXX\n",
      "2024-04-08 15:28:21,325 - __main__ - WARNING - Run feature transformation: ['mlpRegressorTransform', 'abs', 'reciprocal', 'minus', 'svrTransform']\n"
     ]
    },
    {
     "name": "stdout",
     "output_type": "stream",
     "text": [
      "['linearRegressorTransform', 'mlpRegressorTransform', 'diff', 'radian', 'xgbRegressorTransform', 'kernelapproxrbf', 'degree', 'adde', 'tanh', 'sigmoid', 'ln', 'exp', 'prod', 'div', 'timeagg', 'square', 'minus', 'cos', 'relu', 'negative', 'svrTransform', 'abs', 'reciprocal', 'add', 'zscore', 'decisionTreeRegressorTransform', 'parameter']\n",
      "W: [1, 1, 1, 1, 1, 1, 1, 1, 1, 1, 1, 1, 5.0, 4.0, 3.0, 3.0, 3.0, 4, 2.0, 2.0, 2.0, 4, 1, 1, 1, 1]\n",
      "N: [2, 1, 1, 1, 1, 1, 1, 1, 1, 1, 1, 1, 2, 2, 2, 2, 2, 2, 2, 2, 2, 2, 2, 2, 2, 2]\n",
      "L: [4.0, 3.0, 3.0, 3.0, 4, 4.0, 4.0, 4.0, 4.0, 4, 4, 4, 1, 1, 1, 2.0, 2.0, 3.0, 2.0, 2.0, 2.0, 4, 3.0, 3.0, 3.0, 5.0]\n",
      "W_rate: [0.2, 0.25, 0.25, 0.25, 0.2, 0.2, 0.2, 0.2, 0.2, 0.2, 0.2, 0.2, 0.8333333333333334, 0.8, 0.75, 0.6, 0.6, 0.5714285714285714, 0.5, 0.5, 0.5, 0.5, 0.25, 0.25, 0.25, 0.16666666666666666]\n",
      "Value: [0, 0, 0, 0, 0, 0, 0, 0, 0, 0, 0, 0, 0, 0, 0, 0, 0, 0, 0, 0, 0, 0, 0, 0, 0, 0]\n"
     ]
    },
    {
     "name": "stderr",
     "output_type": "stream",
     "text": [
      "2024-04-08 15:28:24,139 - __main__ - WARNING - Run feature transformation: ['mlpRegressorTransform', 'abs', 'reciprocal', 'mlpRegressorTransform', 'tanh']\n",
      "2024-04-08 15:28:28,335 - __main__ - WARNING - Run feature transformation: ['mlpRegressorTransform', 'abs', 'reciprocal', 'negative', 'ln']\n",
      "2024-04-08 15:28:30,043 - __main__ - WARNING - Run feature transformation: ['mlpRegressorTransform', 'abs', 'reciprocal', 'xgbRegressorTransform', 'relu']\n",
      "2024-04-08 15:28:31,391 - __main__ - WARNING - Add the best feature in set to the best features record.\n",
      "2024-04-08 15:28:31,392 - __main__ - WARNING - Run feature transformation: ['mlpRegressorTransform', 'abs', 'reciprocal', 'minus', 'prod']\n",
      "2024-04-08 15:28:34,530 - __main__ - WARNING - Add the best feature in set to the best features record.\n",
      "2024-04-08 15:28:34,531 - __main__ - WARNING - Run feature transformation: ['mlpRegressorTransform', 'abs', 'reciprocal', 'add', 'timeagg']\n",
      "2024-04-08 15:28:37,118 - __main__ - WARNING - Run feature transformation: ['mlpRegressorTransform', 'abs', 'reciprocal', 'div', 'degree']\n",
      "2024-04-08 15:28:41,018 - __main__ - WARNING - Run feature transformation: ['mlpRegressorTransform', 'abs', 'reciprocal', 'degree', 'adde']\n",
      "2024-04-08 15:28:42,587 - __main__ - WARNING - Run feature transformation: ['mlpRegressorTransform', 'abs', 'reciprocal', 'diff', 'sigmoid']\n",
      "2024-04-08 15:28:44,000 - __main__ - WARNING - Run feature transformation: ['mlpRegressorTransform', 'abs', 'reciprocal', 'add', 'linearRegressorTransform']\n",
      "2024-04-08 15:28:45,877 - __main__ - WARNING - Performances of the given node is: [0.5778510582760059, 0.5873119878973437, 0.5858100154852657, 0.613566107977887, 0.5977081899072287, 0.5710639992793133, 0.565299707969496, 0.5672655602151433, 0.5690480541490675, 0.5594308449543051]\n",
      "2024-04-08 15:28:45,879 - __main__ - WARNING - Mean perf is: 0.579436, Mean init is: 0.581475, Std init is: 0.012273 ==> reward: -1.000000\n",
      "2024-04-08 15:28:47,199 - __main__ - WARNING - Performance of scorer is: 0.03641844168305397\n",
      "2024-04-08 15:28:47,205 - __main__ - WARNING - XXXXXXXXXXXXXXXXXXXXXXXXXXXXXXXXXXXXXXXXXXXXXXXXXXXXXXXXXXXX\n",
      "2024-04-08 15:28:47,206 - __main__ - WARNING - Round:\t42\n",
      "2024-04-08 15:28:47,206 - __main__ - WARNING - XXXXXXXXXXXXXXXXXXXXXXXXXXXXXXXXXXXXXXXXXXXXXXXXXXXXXXXXXXXX\n",
      "2024-04-08 15:28:47,209 - __main__ - WARNING - Run feature transformation: ['diff', 'abs', 'minus', 'exp', 'xgbRegressorTransform']\n"
     ]
    },
    {
     "name": "stdout",
     "output_type": "stream",
     "text": [
      "['mlpRegressorTransform', 'diff', 'radian', 'xgbRegressorTransform', 'kernelapproxrbf', 'degree', 'adde', 'tanh', 'sigmoid', 'ln', 'exp', 'prod', 'div', 'timeagg', 'square', 'minus', 'cos', 'relu', 'negative', 'svrTransform', 'abs', 'reciprocal', 'add', 'zscore', 'linearRegressorTransform', 'decisionTreeRegressorTransform', 'parameter']\n",
      "W: [1, 1, 1, 1, 1, 1, 1, 1, 1, 1, 1, 5.0, 4.0, 3.0, 3.0, 3.0, 4, 2.0, 2.0, 2.0, 4, 1, 1, 1, 1, 1]\n",
      "N: [2, 1, 1, 1, 1, 1, 1, 1, 1, 1, 1, 2, 2, 2, 2, 2, 2, 2, 2, 2, 2, 2, 2, 2, 2, 2]\n",
      "L: [4.0, 3.0, 3.0, 4, 4.0, 4.0, 4.0, 4.0, 4, 4, 4, 1, 1, 1, 2.0, 2.0, 3.0, 2.0, 2.0, 2.0, 4, 3.0, 3.0, 3.0, 4.0, 5.0]\n",
      "W_rate: [0.2, 0.25, 0.25, 0.2, 0.2, 0.2, 0.2, 0.2, 0.2, 0.2, 0.2, 0.8333333333333334, 0.8, 0.75, 0.6, 0.6, 0.5714285714285714, 0.5, 0.5, 0.5, 0.5, 0.25, 0.25, 0.25, 0.2, 0.16666666666666666]\n",
      "Value: [0, 0, 0, 0, 0, 0, 0, 0, 0, 0, 0, 0, 0, 0, 0, 0, 0, 0, 0, 0, 0, 0, 0, 0, 0, 0]\n"
     ]
    },
    {
     "name": "stderr",
     "output_type": "stream",
     "text": [
      "2024-04-08 15:28:48,633 - __main__ - WARNING - Run feature transformation: ['diff', 'abs', 'minus', 'radian', 'radian']\n",
      "2024-04-08 15:28:49,300 - __main__ - WARNING - Run feature transformation: ['diff', 'abs', 'minus', 'div', 'abs']\n",
      "2024-04-08 15:28:52,302 - __main__ - WARNING - Run feature transformation: ['diff', 'abs', 'minus', 'degree', 'square']\n",
      "2024-04-08 15:28:53,063 - __main__ - WARNING - Add the best feature in set to the best features record.\n",
      "2024-04-08 15:28:53,064 - __main__ - WARNING - Run feature transformation: ['diff', 'abs', 'minus', 'exp', 'decisionTreeRegressorTransform']\n",
      "2024-04-08 15:28:53,365 - __main__ - WARNING - Run feature transformation: ['diff', 'abs', 'minus', 'cos', 'degree']\n",
      "2024-04-08 15:28:54,168 - __main__ - WARNING - Run feature transformation: ['diff', 'abs', 'minus', 'decisionTreeRegressorTransform', 'xgbRegressorTransform']\n",
      "2024-04-08 15:28:54,585 - __main__ - WARNING - Run feature transformation: ['diff', 'abs', 'minus', 'relu', 'diff']\n",
      "2024-04-08 15:28:55,609 - __main__ - WARNING - Add the best feature in set to the best features record.\n",
      "2024-04-08 15:28:55,610 - __main__ - WARNING - Run feature transformation: ['diff', 'abs', 'minus', 'prod', 'radian']\n",
      "2024-04-08 15:28:57,708 - __main__ - WARNING - Add the best feature in set to the best features record.\n",
      "2024-04-08 15:28:57,709 - __main__ - WARNING - Run feature transformation: ['diff', 'abs', 'minus', 'degree', 'add']\n",
      "2024-04-08 15:28:59,507 - __main__ - WARNING - Add the best feature in set to the best features record.\n",
      "2024-04-08 15:28:59,509 - __main__ - WARNING - Performances of the given node is: [0.5738039927950248, 0.5916915279541306, 0.5806030756582979, 0.5957470421108724, 0.5853381869748875, 0.5567037195538335, 0.583997359732024, 0.5915936361277601, 0.5872266100388367, 0.5921555066868238]\n",
      "2024-04-08 15:28:59,510 - __main__ - WARNING - Mean perf is: 0.583886, Mean init is: 0.581475, Std init is: 0.012273 ==> reward: 1.000000\n",
      "2024-04-08 15:29:00,836 - __main__ - WARNING - Performance of scorer is: 0.028840787708759308\n",
      "2024-04-08 15:29:00,837 - __main__ - WARNING - Run feature transformation: ['diff', 'abs', 'minus']\n",
      "2024-04-08 15:29:04,896 - __main__ - WARNING - Mean init is: 0.5814751034102423, mean of new node is: 0.5788595732787036\n",
      "2024-04-08 15:29:04,902 - __main__ - WARNING - XXXXXXXXXXXXXXXXXXXXXXXXXXXXXXXXXXXXXXXXXXXXXXXXXXXXXXXXXXXX\n",
      "2024-04-08 15:29:04,903 - __main__ - WARNING - Round:\t43\n",
      "2024-04-08 15:29:04,903 - __main__ - WARNING - XXXXXXXXXXXXXXXXXXXXXXXXXXXXXXXXXXXXXXXXXXXXXXXXXXXXXXXXXXXX\n",
      "2024-04-08 15:29:04,906 - __main__ - WARNING - Run feature transformation: ['radian', 'abs', 'minus', 'ln', 'ln']\n"
     ]
    },
    {
     "name": "stdout",
     "output_type": "stream",
     "text": [
      "['diff', 'radian', 'xgbRegressorTransform', 'kernelapproxrbf', 'degree', 'adde', 'tanh', 'sigmoid', 'ln', 'exp', 'prod', 'div', 'timeagg', 'square', 'minus', 'cos', 'relu', 'negative', 'svrTransform', 'abs', 'reciprocal', 'add', 'zscore', 'mlpRegressorTransform', 'linearRegressorTransform', 'decisionTreeRegressorTransform', 'parameter']\n",
      "W: [2.0, 1, 1, 1, 1, 1, 1, 1, 1, 1, 5.0, 4.0, 3.0, 3.0, 3.0, 4, 2.0, 2.0, 2.0, 4, 1, 1, 1, 1, 1, 1]\n",
      "N: [2, 1, 1, 1, 1, 1, 1, 1, 1, 1, 2, 2, 2, 2, 2, 2, 2, 2, 2, 2, 2, 2, 2, 2, 2, 2]\n",
      "L: [3.0, 3.0, 4, 4.0, 4.0, 4.0, 4.0, 4, 4, 4, 1, 1, 1, 2.0, 2.0, 3.0, 2.0, 2.0, 2.0, 4, 3.0, 3.0, 3.0, 4.0, 4.0, 5.0]\n",
      "W_rate: [0.4, 0.25, 0.2, 0.2, 0.2, 0.2, 0.2, 0.2, 0.2, 0.2, 0.8333333333333334, 0.8, 0.75, 0.6, 0.6, 0.5714285714285714, 0.5, 0.5, 0.5, 0.5, 0.25, 0.25, 0.25, 0.2, 0.2, 0.16666666666666666]\n",
      "Value: [0, 0, 0, 0, 0, 0, 0, 0, 0, 0, 0, 0, 0, 0, 0, 0, 0, 0, 0, 0, 0, 0, 0, 0, 0, 0]\n"
     ]
    },
    {
     "name": "stderr",
     "output_type": "stream",
     "text": [
      "2024-04-08 15:29:08,978 - __main__ - WARNING - Run feature transformation: ['radian', 'abs', 'minus', 'adde', 'linearRegressorTransform']\n",
      "2024-04-08 15:29:11,271 - __main__ - WARNING - Run feature transformation: ['radian', 'abs', 'minus', 'negative', 'sigmoid']\n",
      "2024-04-08 15:29:14,391 - __main__ - WARNING - Run feature transformation: ['radian', 'abs', 'minus', 'exp', 'reciprocal']\n",
      "2024-04-08 15:29:16,607 - __main__ - WARNING - Run feature transformation: ['radian', 'abs', 'minus', 'linearRegressorTransform', 'tanh']\n",
      "2024-04-08 15:29:18,159 - __main__ - WARNING - Add the best feature in set to the best features record.\n",
      "2024-04-08 15:29:18,160 - __main__ - WARNING - Run feature transformation: ['radian', 'abs', 'minus', 'negative', 'linearRegressorTransform']\n",
      "2024-04-08 15:29:20,230 - __main__ - WARNING - Run feature transformation: ['radian', 'abs', 'minus', 'ln', 'timeagg']\n",
      "2024-04-08 15:29:21,748 - __main__ - WARNING - Run feature transformation: ['radian', 'abs', 'minus', 'ln', 'timeagg']\n",
      "2024-04-08 15:29:22,976 - __main__ - WARNING - Run feature transformation: ['radian', 'abs', 'minus', 'prod', 'negative']\n",
      "2024-04-08 15:29:28,010 - __main__ - WARNING - Run feature transformation: ['radian', 'abs', 'minus', 'timeagg', 'add']\n",
      "2024-04-08 15:29:32,799 - __main__ - WARNING - Performances of the given node is: [0.5660337266245131, 0.5843268722978981, 0.5798255996388365, 0.5749968367840134, 0.5914381329386181, 0.5659083789898719, 0.5537002922490498, 0.5537002922490498, 0.5738120820019329, 0.5673367510558592]\n",
      "2024-04-08 15:29:32,801 - __main__ - WARNING - Mean perf is: 0.571108, Mean init is: 0.581475, Std init is: 0.012273 ==> reward: -1.000000\n",
      "2024-04-08 15:29:34,198 - __main__ - WARNING - Performance of scorer is: 0.030892549082636833\n",
      "2024-04-08 15:29:34,204 - __main__ - WARNING - XXXXXXXXXXXXXXXXXXXXXXXXXXXXXXXXXXXXXXXXXXXXXXXXXXXXXXXXXXXX\n",
      "2024-04-08 15:29:34,205 - __main__ - WARNING - Round:\t44\n",
      "2024-04-08 15:29:34,205 - __main__ - WARNING - XXXXXXXXXXXXXXXXXXXXXXXXXXXXXXXXXXXXXXXXXXXXXXXXXXXXXXXXXXXX\n",
      "2024-04-08 15:29:34,208 - __main__ - WARNING - Run feature transformation: ['xgbRegressorTransform', 'abs', 'prod', 'ln', 'ln']\n"
     ]
    },
    {
     "name": "stdout",
     "output_type": "stream",
     "text": [
      "['radian', 'xgbRegressorTransform', 'kernelapproxrbf', 'degree', 'adde', 'tanh', 'sigmoid', 'ln', 'exp', 'prod', 'div', 'timeagg', 'square', 'minus', 'cos', 'relu', 'negative', 'svrTransform', 'abs', 'diff', 'reciprocal', 'add', 'zscore', 'mlpRegressorTransform', 'linearRegressorTransform', 'decisionTreeRegressorTransform', 'parameter']\n",
      "W: [1, 1, 1, 1, 1, 1, 1, 1, 1, 5.0, 4.0, 3.0, 3.0, 3.0, 4, 2.0, 2.0, 2.0, 4, 2.0, 1, 1, 1, 1, 1, 1]\n",
      "N: [2, 1, 1, 1, 1, 1, 1, 1, 1, 2, 2, 2, 2, 2, 2, 2, 2, 2, 2, 2, 2, 2, 2, 2, 2, 2]\n",
      "L: [4.0, 4, 4.0, 4.0, 4.0, 4.0, 4, 4, 4, 1, 1, 1, 2.0, 2.0, 3.0, 2.0, 2.0, 2.0, 4, 3.0, 3.0, 3.0, 3.0, 4.0, 4.0, 5.0]\n",
      "W_rate: [0.2, 0.2, 0.2, 0.2, 0.2, 0.2, 0.2, 0.2, 0.2, 0.8333333333333334, 0.8, 0.75, 0.6, 0.6, 0.5714285714285714, 0.5, 0.5, 0.5, 0.5, 0.4, 0.25, 0.25, 0.25, 0.2, 0.2, 0.16666666666666666]\n",
      "Value: [0, 0, 0, 0, 0, 0, 0, 0, 0, 0, 0, 0, 0, 0, 0, 0, 0, 0, 0, 0, 0, 0, 0, 0, 0, 0]\n"
     ]
    },
    {
     "name": "stderr",
     "output_type": "stream",
     "text": [
      "2024-04-08 15:29:34,831 - __main__ - WARNING - Run feature transformation: ['xgbRegressorTransform', 'abs', 'prod', 'adde', 'linearRegressorTransform']\n",
      "2024-04-08 15:29:35,039 - __main__ - WARNING - Run feature transformation: ['xgbRegressorTransform', 'abs', 'prod', 'negative', 'sigmoid']\n",
      "2024-04-08 15:29:35,280 - __main__ - WARNING - Run feature transformation: ['xgbRegressorTransform', 'abs', 'prod', 'exp', 'reciprocal']\n",
      "2024-04-08 15:29:35,477 - __main__ - WARNING - Run feature transformation: ['xgbRegressorTransform', 'abs', 'prod', 'linearRegressorTransform', 'tanh']\n",
      "2024-04-08 15:29:35,675 - __main__ - WARNING - Run feature transformation: ['xgbRegressorTransform', 'abs', 'prod', 'negative', 'linearRegressorTransform']\n",
      "2024-04-08 15:29:35,871 - __main__ - WARNING - Run feature transformation: ['xgbRegressorTransform', 'abs', 'prod', 'ln', 'timeagg']\n",
      "2024-04-08 15:29:36,080 - __main__ - WARNING - Run feature transformation: ['xgbRegressorTransform', 'abs', 'prod', 'ln', 'timeagg']\n",
      "2024-04-08 15:29:36,264 - __main__ - WARNING - Run feature transformation: ['xgbRegressorTransform', 'abs', 'prod', 'prod', 'negative']\n",
      "2024-04-08 15:29:36,575 - __main__ - WARNING - Run feature transformation: ['xgbRegressorTransform', 'abs', 'prod', 'timeagg', 'add']\n",
      "2024-04-08 15:29:37,003 - __main__ - WARNING - Performances of the given node is: [0.23230911233013166, 0.24883683675034823, 0.21950330143396868, 0.2556354904373276, 0.22590052219071965, 0.24418377426606502, 0.24943830548446905, 0.24943830548446905, 0.29887762586951705, 0.4025669190860069]\n",
      "2024-04-08 15:29:37,004 - __main__ - WARNING - Mean perf is: 0.262669, Mean init is: 0.581475, Std init is: 0.012273 ==> reward: -16.000000\n",
      "2024-04-08 15:29:38,403 - __main__ - WARNING - Performance of scorer is: 0.026513084769248962\n",
      "2024-04-08 15:29:38,410 - __main__ - WARNING - XXXXXXXXXXXXXXXXXXXXXXXXXXXXXXXXXXXXXXXXXXXXXXXXXXXXXXXXXXXX\n",
      "2024-04-08 15:29:38,411 - __main__ - WARNING - Round:\t45\n",
      "2024-04-08 15:29:38,411 - __main__ - WARNING - XXXXXXXXXXXXXXXXXXXXXXXXXXXXXXXXXXXXXXXXXXXXXXXXXXXXXXXXXXXX\n",
      "2024-04-08 15:29:38,413 - __main__ - WARNING - Run feature transformation: ['kernelapproxrbf', 'abs', 'add', 'abs', 'prod']\n"
     ]
    },
    {
     "name": "stdout",
     "output_type": "stream",
     "text": [
      "['xgbRegressorTransform', 'kernelapproxrbf', 'degree', 'adde', 'tanh', 'sigmoid', 'ln', 'exp', 'prod', 'div', 'timeagg', 'square', 'minus', 'cos', 'relu', 'negative', 'svrTransform', 'abs', 'diff', 'reciprocal', 'add', 'zscore', 'radian', 'mlpRegressorTransform', 'linearRegressorTransform', 'decisionTreeRegressorTransform', 'parameter']\n",
      "W: [1, 1, 1, 1, 1, 1, 1, 1, 5.0, 4.0, 3.0, 3.0, 3.0, 4, 2.0, 2.0, 2.0, 4, 2.0, 1, 1, 1, 1, 1, 1, 1]\n",
      "N: [2, 1, 1, 1, 1, 1, 1, 1, 2, 2, 2, 2, 2, 2, 2, 2, 2, 2, 2, 2, 2, 2, 2, 2, 2, 2]\n",
      "L: [7, 4.0, 4.0, 4.0, 4.0, 4, 4, 4, 1, 1, 1, 2.0, 2.0, 3.0, 2.0, 2.0, 2.0, 4, 3.0, 3.0, 3.0, 3.0, 4.0, 4.0, 4.0, 5.0]\n",
      "W_rate: [0.125, 0.2, 0.2, 0.2, 0.2, 0.2, 0.2, 0.2, 0.8333333333333334, 0.8, 0.75, 0.6, 0.6, 0.5714285714285714, 0.5, 0.5, 0.5, 0.5, 0.4, 0.25, 0.25, 0.25, 0.2, 0.2, 0.2, 0.16666666666666666]\n",
      "Value: [0, 0, 0, 0, 0, 0, 0, 0, 0, 0, 0, 0, 0, 0, 0, 0, 0, 0, 0, 0, 0, 0, 0, 0, 0, 0]\n"
     ]
    },
    {
     "name": "stderr",
     "output_type": "stream",
     "text": [
      "2024-04-08 15:29:41,706 - __main__ - WARNING - Run feature transformation: ['kernelapproxrbf', 'abs', 'add', 'abs', 'abs']\n",
      "2024-04-08 15:29:42,124 - __main__ - WARNING - Add the best feature in set to the best features record.\n",
      "2024-04-08 15:29:42,125 - __main__ - WARNING - Run feature transformation: ['kernelapproxrbf', 'abs', 'add', 'kernelapproxrbf', 'negative']\n",
      "2024-04-08 15:29:43,180 - __main__ - WARNING - Run feature transformation: ['kernelapproxrbf', 'abs', 'add', 'ln', 'tanh']\n",
      "2024-04-08 15:29:43,788 - __main__ - WARNING - Run feature transformation: ['kernelapproxrbf', 'abs', 'add', 'xgbRegressorTransform', 'decisionTreeRegressorTransform']\n",
      "2024-04-08 15:29:44,271 - __main__ - WARNING - Run feature transformation: ['kernelapproxrbf', 'abs', 'add', 'svrTransform', 'decisionTreeRegressorTransform']\n",
      "2024-04-08 15:29:44,638 - __main__ - WARNING - Run feature transformation: ['kernelapproxrbf', 'abs', 'add', 'kernelapproxrbf', 'zscore']\n",
      "2024-04-08 15:29:45,649 - __main__ - WARNING - Run feature transformation: ['kernelapproxrbf', 'abs', 'add', 'negative', 'div']\n",
      "2024-04-08 15:29:49,419 - __main__ - WARNING - Run feature transformation: ['kernelapproxrbf', 'abs', 'add', 'xgbRegressorTransform', 'mlpRegressorTransform']\n",
      "2024-04-08 15:29:52,602 - __main__ - WARNING - Add the best feature in set to the best features record.\n",
      "2024-04-08 15:29:52,603 - __main__ - WARNING - Run feature transformation: ['kernelapproxrbf', 'abs', 'add', 'prod', 'mlpRegressorTransform']\n",
      "2024-04-08 15:29:56,923 - __main__ - WARNING - Performances of the given node is: [0.5637031194514087, 0.5884456699569439, 0.540778489906308, 0.5804653484302109, 0.438813939873611, 0.5501150310747343, 0.5564384466633902, 0.5638754679572617, 0.621259690344617, 0.5706050116542485]\n",
      "2024-04-08 15:29:56,924 - __main__ - WARNING - Mean perf is: 0.557450, Mean init is: 0.581475, Std init is: 0.012273 ==> reward: -2.000000\n",
      "2024-04-08 15:29:58,381 - __main__ - WARNING - Performance of scorer is: 0.045033492147922516\n",
      "2024-04-08 15:29:58,387 - __main__ - WARNING - XXXXXXXXXXXXXXXXXXXXXXXXXXXXXXXXXXXXXXXXXXXXXXXXXXXXXXXXXXXX\n",
      "2024-04-08 15:29:58,388 - __main__ - WARNING - Round:\t46\n",
      "2024-04-08 15:29:58,388 - __main__ - WARNING - XXXXXXXXXXXXXXXXXXXXXXXXXXXXXXXXXXXXXXXXXXXXXXXXXXXXXXXXXXXX\n",
      "2024-04-08 15:29:58,390 - __main__ - WARNING - Run feature transformation: ['degree', 'abs', 'add', 'abs', 'prod']\n"
     ]
    },
    {
     "name": "stdout",
     "output_type": "stream",
     "text": [
      "['kernelapproxrbf', 'degree', 'adde', 'tanh', 'sigmoid', 'ln', 'exp', 'prod', 'div', 'timeagg', 'square', 'minus', 'cos', 'relu', 'negative', 'svrTransform', 'abs', 'diff', 'reciprocal', 'add', 'zscore', 'radian', 'mlpRegressorTransform', 'linearRegressorTransform', 'decisionTreeRegressorTransform', 'xgbRegressorTransform', 'parameter']\n",
      "W: [1, 1, 1, 1, 1, 1, 1, 5.0, 4.0, 3.0, 3.0, 3.0, 4, 2.0, 2.0, 2.0, 4, 2.0, 1, 1, 1, 1, 1, 1, 1, 1]\n",
      "N: [2, 1, 1, 1, 1, 1, 1, 2, 2, 2, 2, 2, 2, 2, 2, 2, 2, 2, 2, 2, 2, 2, 2, 2, 2, 2]\n",
      "L: [6.0, 4.0, 4.0, 4.0, 4, 4, 4, 1, 1, 1, 2.0, 2.0, 3.0, 2.0, 2.0, 2.0, 4, 3.0, 3.0, 3.0, 3.0, 4.0, 4.0, 4.0, 5.0, 7]\n",
      "W_rate: [0.14285714285714285, 0.2, 0.2, 0.2, 0.2, 0.2, 0.2, 0.8333333333333334, 0.8, 0.75, 0.6, 0.6, 0.5714285714285714, 0.5, 0.5, 0.5, 0.5, 0.4, 0.25, 0.25, 0.25, 0.2, 0.2, 0.2, 0.16666666666666666, 0.125]\n",
      "Value: [0, 0, 0, 0, 0, 0, 0, 0, 0, 0, 0, 0, 0, 0, 0, 0, 0, 0, 0, 0, 0, 0, 0, 0, 0, 0]\n"
     ]
    },
    {
     "name": "stderr",
     "output_type": "stream",
     "text": [
      "2024-04-08 15:30:02,256 - __main__ - WARNING - Run feature transformation: ['degree', 'abs', 'add', 'abs', 'abs']\n",
      "2024-04-08 15:30:03,481 - __main__ - WARNING - Run feature transformation: ['degree', 'abs', 'add', 'kernelapproxrbf', 'negative']\n",
      "2024-04-08 15:30:05,511 - __main__ - WARNING - Run feature transformation: ['degree', 'abs', 'add', 'ln', 'tanh']\n",
      "2024-04-08 15:30:08,896 - __main__ - WARNING - Run feature transformation: ['degree', 'abs', 'add', 'xgbRegressorTransform', 'decisionTreeRegressorTransform']\n",
      "2024-04-08 15:30:10,841 - __main__ - WARNING - Run feature transformation: ['degree', 'abs', 'add', 'svrTransform', 'decisionTreeRegressorTransform']\n",
      "2024-04-08 15:30:12,418 - __main__ - WARNING - Run feature transformation: ['degree', 'abs', 'add', 'kernelapproxrbf', 'zscore']\n",
      "2024-04-08 15:30:14,211 - __main__ - WARNING - Run feature transformation: ['degree', 'abs', 'add', 'negative', 'div']\n",
      "2024-04-08 15:30:18,468 - __main__ - WARNING - Run feature transformation: ['degree', 'abs', 'add', 'xgbRegressorTransform', 'mlpRegressorTransform']\n",
      "2024-04-08 15:30:21,831 - __main__ - WARNING - Run feature transformation: ['degree', 'abs', 'add', 'prod', 'mlpRegressorTransform']\n",
      "2024-04-08 15:30:30,515 - __main__ - WARNING - Performances of the given node is: [0.572816343555353, 0.5750555260187075, 0.5467776960324502, 0.56218729441721, 0.517828212623104, 0.5872692635777242, 0.5533674871799931, 0.5617073206273012, 0.5604094110672334, 0.5783910023281813]\n",
      "2024-04-08 15:30:30,516 - __main__ - WARNING - Mean perf is: 0.561581, Mean init is: 0.581475, Std init is: 0.012273 ==> reward: -1.000000\n",
      "2024-04-08 15:30:31,985 - __main__ - WARNING - Performance of scorer is: 0.040400855243206024\n",
      "2024-04-08 15:30:31,992 - __main__ - WARNING - XXXXXXXXXXXXXXXXXXXXXXXXXXXXXXXXXXXXXXXXXXXXXXXXXXXXXXXXXXXX\n",
      "2024-04-08 15:30:31,992 - __main__ - WARNING - Round:\t47\n",
      "2024-04-08 15:30:31,992 - __main__ - WARNING - XXXXXXXXXXXXXXXXXXXXXXXXXXXXXXXXXXXXXXXXXXXXXXXXXXXXXXXXXXXX\n",
      "2024-04-08 15:30:31,995 - __main__ - WARNING - Run feature transformation: ['adde', 'abs', 'add', 'abs', 'tanh']\n"
     ]
    },
    {
     "name": "stdout",
     "output_type": "stream",
     "text": [
      "['degree', 'adde', 'tanh', 'sigmoid', 'ln', 'exp', 'prod', 'div', 'timeagg', 'square', 'minus', 'cos', 'relu', 'negative', 'svrTransform', 'abs', 'diff', 'reciprocal', 'add', 'zscore', 'radian', 'mlpRegressorTransform', 'linearRegressorTransform', 'decisionTreeRegressorTransform', 'kernelapproxrbf', 'xgbRegressorTransform', 'parameter']\n",
      "W: [1, 1, 1, 1, 1, 1, 5.0, 4.0, 3.0, 3.0, 3.0, 4, 2.0, 2.0, 2.0, 4, 2.0, 1, 1, 1, 1, 1, 1, 1, 1, 1]\n",
      "N: [2, 1, 1, 1, 1, 1, 2, 2, 2, 2, 2, 2, 2, 2, 2, 2, 2, 2, 2, 2, 2, 2, 2, 2, 2, 2]\n",
      "L: [5.0, 4.0, 4.0, 4, 4, 4, 1, 1, 1, 2.0, 2.0, 3.0, 2.0, 2.0, 2.0, 4, 3.0, 3.0, 3.0, 3.0, 4.0, 4.0, 4.0, 5.0, 6.0, 7]\n",
      "W_rate: [0.16666666666666666, 0.2, 0.2, 0.2, 0.2, 0.2, 0.8333333333333334, 0.8, 0.75, 0.6, 0.6, 0.5714285714285714, 0.5, 0.5, 0.5, 0.5, 0.4, 0.25, 0.25, 0.25, 0.2, 0.2, 0.2, 0.16666666666666666, 0.14285714285714285, 0.125]\n",
      "Value: [0, 0, 0, 0, 0, 0, 0, 0, 0, 0, 0, 0, 0, 0, 0, 0, 0, 0, 0, 0, 0, 0, 0, 0, 0, 0]\n"
     ]
    },
    {
     "name": "stderr",
     "output_type": "stream",
     "text": [
      "2024-04-08 15:30:33,695 - __main__ - WARNING - Run feature transformation: ['adde', 'abs', 'add', 'timeagg', 'kernelapproxrbf']\n",
      "2024-04-08 15:30:34,690 - __main__ - WARNING - Run feature transformation: ['adde', 'abs', 'add', 'sigmoid', 'xgbRegressorTransform']\n",
      "2024-04-08 15:30:36,250 - __main__ - WARNING - Add the best feature in set to the best features record.\n",
      "2024-04-08 15:30:36,251 - __main__ - WARNING - Run feature transformation: ['adde', 'abs', 'add', 'negative', 'negative']\n",
      "2024-04-08 15:30:37,355 - __main__ - WARNING - Run feature transformation: ['adde', 'abs', 'add', 'minus', 'degree']\n",
      "2024-04-08 15:30:39,712 - __main__ - WARNING - Add the best feature in set to the best features record.\n",
      "2024-04-08 15:30:39,714 - __main__ - WARNING - Run feature transformation: ['adde', 'abs', 'add', 'decisionTreeRegressorTransform', 'timeagg']\n",
      "2024-04-08 15:30:40,352 - __main__ - WARNING - Run feature transformation: ['adde', 'abs', 'add', 'negative', 'degree']\n",
      "2024-04-08 15:30:41,428 - __main__ - WARNING - Run feature transformation: ['adde', 'abs', 'add', 'reciprocal', 'tanh']\n",
      "2024-04-08 15:30:42,838 - __main__ - WARNING - Add the best feature in set to the best features record.\n",
      "2024-04-08 15:30:42,839 - __main__ - WARNING - Run feature transformation: ['adde', 'abs', 'add', 'exp', 'radian']\n",
      "2024-04-08 15:30:43,724 - __main__ - WARNING - Add the best feature in set to the best features record.\n",
      "2024-04-08 15:30:43,725 - __main__ - WARNING - Run feature transformation: ['adde', 'abs', 'add', 'minus', 'div']\n",
      "2024-04-08 15:30:48,943 - __main__ - WARNING - Performances of the given node is: [0.567686600081081, 0.5500274909784547, 0.5952283003585734, 0.5698386651347787, 0.5846761133882055, 0.5500288978741801, 0.5619446974590402, 0.5817024275313467, 0.5860677578759059, 0.5813249036895851]\n",
      "2024-04-08 15:30:48,944 - __main__ - WARNING - Mean perf is: 0.572853, Mean init is: 0.581475, Std init is: 0.012273 ==> reward: -1.000000\n",
      "2024-04-08 15:30:50,480 - __main__ - WARNING - Performance of scorer is: 0.03040929324924946\n",
      "2024-04-08 15:30:50,486 - __main__ - WARNING - XXXXXXXXXXXXXXXXXXXXXXXXXXXXXXXXXXXXXXXXXXXXXXXXXXXXXXXXXXXX\n",
      "2024-04-08 15:30:50,487 - __main__ - WARNING - Round:\t48\n",
      "2024-04-08 15:30:50,487 - __main__ - WARNING - XXXXXXXXXXXXXXXXXXXXXXXXXXXXXXXXXXXXXXXXXXXXXXXXXXXXXXXXXXXX\n",
      "2024-04-08 15:30:50,489 - __main__ - WARNING - Run feature transformation: ['tanh', 'cos', 'radian', 'tanh', 'exp']\n"
     ]
    },
    {
     "name": "stdout",
     "output_type": "stream",
     "text": [
      "['adde', 'tanh', 'sigmoid', 'ln', 'exp', 'prod', 'div', 'timeagg', 'square', 'minus', 'cos', 'relu', 'negative', 'svrTransform', 'abs', 'diff', 'reciprocal', 'add', 'zscore', 'radian', 'mlpRegressorTransform', 'linearRegressorTransform', 'degree', 'decisionTreeRegressorTransform', 'kernelapproxrbf', 'xgbRegressorTransform', 'parameter']\n",
      "W: [1, 1, 1, 1, 1, 5.0, 4.0, 3.0, 3.0, 3.0, 4, 2.0, 2.0, 2.0, 4, 2.0, 1, 1, 1, 1, 1, 1, 1, 1, 1, 1]\n",
      "N: [2, 1, 1, 1, 1, 2, 2, 2, 2, 2, 2, 2, 2, 2, 2, 2, 2, 2, 2, 2, 2, 2, 2, 2, 2, 2]\n",
      "L: [5.0, 4.0, 4, 4, 4, 1, 1, 1, 2.0, 2.0, 3.0, 2.0, 2.0, 2.0, 4, 3.0, 3.0, 3.0, 3.0, 4.0, 4.0, 4.0, 5.0, 5.0, 6.0, 7]\n",
      "W_rate: [0.16666666666666666, 0.2, 0.2, 0.2, 0.2, 0.8333333333333334, 0.8, 0.75, 0.6, 0.6, 0.5714285714285714, 0.5, 0.5, 0.5, 0.5, 0.4, 0.25, 0.25, 0.25, 0.2, 0.2, 0.2, 0.16666666666666666, 0.16666666666666666, 0.14285714285714285, 0.125]\n",
      "Value: [0, 0, 0, 0, 0, 0, 0, 0, 0, 0, 0, 0, 0, 0, 0, 0, 0, 0, 0, 0, 0, 0, 0, 0, 0, 0]\n"
     ]
    },
    {
     "name": "stderr",
     "output_type": "stream",
     "text": [
      "2024-04-08 15:30:53,515 - __main__ - WARNING - Run feature transformation: ['tanh', 'cos', 'radian', 'radian', 'minus']\n",
      "2024-04-08 15:30:55,554 - __main__ - WARNING - Run feature transformation: ['tanh', 'cos', 'radian', 'div', 'mlpRegressorTransform']\n",
      "2024-04-08 15:31:00,210 - __main__ - WARNING - Run feature transformation: ['tanh', 'cos', 'radian', 'sigmoid', 'exp']\n",
      "2024-04-08 15:31:02,993 - __main__ - WARNING - Run feature transformation: ['tanh', 'cos', 'radian', 'tanh', 'kernelapproxrbf']\n",
      "2024-04-08 15:31:04,331 - __main__ - WARNING - Run feature transformation: ['tanh', 'cos', 'radian', 'div', 'zscore']\n",
      "2024-04-08 15:31:04,535 - __main__ - WARNING - Run feature transformation: ['tanh', 'cos', 'radian', 'tanh', 'minus']\n",
      "2024-04-08 15:31:06,981 - __main__ - WARNING - Add the best feature in set to the best features record.\n",
      "2024-04-08 15:31:06,982 - __main__ - WARNING - Run feature transformation: ['tanh', 'cos', 'radian', 'prod', 'ln']\n",
      "2024-04-08 15:31:08,771 - __main__ - WARNING - Run feature transformation: ['tanh', 'cos', 'radian', 'kernelapproxrbf', 'degree']\n",
      "2024-04-08 15:31:10,409 - __main__ - WARNING - Run feature transformation: ['tanh', 'cos', 'radian', 'abs', 'div']\n",
      "2024-04-08 15:31:12,900 - __main__ - WARNING - Performances of the given node is: [0.47636516345616586, 0.5819386552042126, 0.5818818627142699, 0.4504896035384217, 0.4583963375210815, 0.5738998059700998, 0.6161494644684237, 0.579547445320244, 0.4481880129149484, 0.5958521969553716]\n",
      "2024-04-08 15:31:12,902 - __main__ - WARNING - Mean perf is: 0.536271, Mean init is: 0.581475, Std init is: 0.012273 ==> reward: -3.000000\n",
      "2024-04-08 15:31:14,437 - __main__ - WARNING - Performance of scorer is: 0.03678204119205475\n",
      "2024-04-08 15:31:14,444 - __main__ - WARNING - XXXXXXXXXXXXXXXXXXXXXXXXXXXXXXXXXXXXXXXXXXXXXXXXXXXXXXXXXXXX\n",
      "2024-04-08 15:31:14,444 - __main__ - WARNING - Round:\t49\n",
      "2024-04-08 15:31:14,445 - __main__ - WARNING - XXXXXXXXXXXXXXXXXXXXXXXXXXXXXXXXXXXXXXXXXXXXXXXXXXXXXXXXXXXX\n",
      "2024-04-08 15:31:14,447 - __main__ - WARNING - Run feature transformation: ['sigmoid', 'abs', 'sigmoid', 'square', 'ln']\n"
     ]
    },
    {
     "name": "stdout",
     "output_type": "stream",
     "text": [
      "['tanh', 'sigmoid', 'ln', 'exp', 'prod', 'div', 'timeagg', 'square', 'minus', 'cos', 'relu', 'negative', 'svrTransform', 'abs', 'diff', 'reciprocal', 'add', 'zscore', 'radian', 'mlpRegressorTransform', 'linearRegressorTransform', 'adde', 'degree', 'decisionTreeRegressorTransform', 'kernelapproxrbf', 'xgbRegressorTransform', 'parameter']\n",
      "W: [1, 1, 1, 1, 5.0, 4.0, 3.0, 3.0, 3.0, 4, 2.0, 2.0, 2.0, 4, 2.0, 1, 1, 1, 1, 1, 1, 1, 1, 1, 1, 1]\n",
      "N: [2, 1, 1, 1, 2, 2, 2, 2, 2, 2, 2, 2, 2, 2, 2, 2, 2, 2, 2, 2, 2, 2, 2, 2, 2, 2]\n",
      "L: [7.0, 4, 4, 4, 1, 1, 1, 2.0, 2.0, 3.0, 2.0, 2.0, 2.0, 4, 3.0, 3.0, 3.0, 3.0, 4.0, 4.0, 4.0, 5.0, 5.0, 5.0, 6.0, 7]\n",
      "W_rate: [0.125, 0.2, 0.2, 0.2, 0.8333333333333334, 0.8, 0.75, 0.6, 0.6, 0.5714285714285714, 0.5, 0.5, 0.5, 0.5, 0.4, 0.25, 0.25, 0.25, 0.2, 0.2, 0.2, 0.16666666666666666, 0.16666666666666666, 0.16666666666666666, 0.14285714285714285, 0.125]\n",
      "Value: [0, 0, 0, 0, 0, 0, 0, 0, 0, 0, 0, 0, 0, 0, 0, 0, 0, 0, 0, 0, 0, 0, 0, 0, 0, 0]\n"
     ]
    },
    {
     "name": "stderr",
     "output_type": "stream",
     "text": [
      "2024-04-08 15:31:16,531 - __main__ - WARNING - Run feature transformation: ['sigmoid', 'abs', 'sigmoid', 'adde', 'sigmoid']\n",
      "2024-04-08 15:31:18,380 - __main__ - WARNING - Run feature transformation: ['sigmoid', 'abs', 'sigmoid', 'add', 'negative']\n",
      "2024-04-08 15:31:19,967 - __main__ - WARNING - Run feature transformation: ['sigmoid', 'abs', 'sigmoid', 'xgbRegressorTransform', 'minus']\n",
      "2024-04-08 15:31:21,879 - __main__ - WARNING - Add the best feature in set to the best features record.\n",
      "2024-04-08 15:31:21,880 - __main__ - WARNING - Run feature transformation: ['sigmoid', 'abs', 'sigmoid', 'sigmoid', 'svrTransform']\n",
      "2024-04-08 15:31:23,721 - __main__ - WARNING - Run feature transformation: ['sigmoid', 'abs', 'sigmoid', 'sigmoid', 'sigmoid']\n",
      "2024-04-08 15:31:24,971 - __main__ - WARNING - Run feature transformation: ['sigmoid', 'abs', 'sigmoid', 'tanh', 'radian']\n",
      "2024-04-08 15:31:26,719 - __main__ - WARNING - Run feature transformation: ['sigmoid', 'abs', 'sigmoid', 'prod', 'adde']\n",
      "2024-04-08 15:31:28,309 - __main__ - WARNING - Run feature transformation: ['sigmoid', 'abs', 'sigmoid', 'prod', 'reciprocal']\n",
      "2024-04-08 15:31:28,605 - __main__ - WARNING - Run feature transformation: ['sigmoid', 'abs', 'sigmoid', 'negative', 'decisionTreeRegressorTransform']\n",
      "2024-04-08 15:31:30,197 - __main__ - WARNING - Performances of the given node is: [0.5224513205203416, 0.3792191109336571, 0.5798361482455057, 0.5820717464552077, 0.5517817312693295, 0.37655646787341646, 0.39330034672728953, 0.5663700388137907, 0.5696605915261191, 0.5728585636254481]\n",
      "2024-04-08 15:31:30,199 - __main__ - WARNING - Mean perf is: 0.509411, Mean init is: 0.581475, Std init is: 0.012273 ==> reward: -4.000000\n",
      "2024-04-08 15:31:31,827 - __main__ - WARNING - Performance of scorer is: 0.03263390064239502\n",
      "2024-04-08 15:31:31,834 - __main__ - WARNING - XXXXXXXXXXXXXXXXXXXXXXXXXXXXXXXXXXXXXXXXXXXXXXXXXXXXXXXXXXXX\n",
      "2024-04-08 15:31:31,834 - __main__ - WARNING - Round:\t50\n",
      "2024-04-08 15:31:31,835 - __main__ - WARNING - XXXXXXXXXXXXXXXXXXXXXXXXXXXXXXXXXXXXXXXXXXXXXXXXXXXXXXXXXXXX\n",
      "2024-04-08 15:31:31,837 - __main__ - WARNING - Run feature transformation: ['ln', 'abs', 'kernelapproxrbf', 'xgbRegressorTransform', 'minus']\n"
     ]
    },
    {
     "name": "stdout",
     "output_type": "stream",
     "text": [
      "['sigmoid', 'ln', 'exp', 'prod', 'div', 'timeagg', 'square', 'minus', 'cos', 'relu', 'negative', 'svrTransform', 'abs', 'diff', 'reciprocal', 'add', 'zscore', 'radian', 'mlpRegressorTransform', 'linearRegressorTransform', 'adde', 'degree', 'decisionTreeRegressorTransform', 'kernelapproxrbf', 'tanh', 'xgbRegressorTransform', 'parameter']\n",
      "W: [1, 1, 1, 5.0, 4.0, 3.0, 3.0, 3.0, 4, 2.0, 2.0, 2.0, 4, 2.0, 1, 1, 1, 1, 1, 1, 1, 1, 1, 1, 1, 1]\n",
      "N: [2, 1, 1, 2, 2, 2, 2, 2, 2, 2, 2, 2, 2, 2, 2, 2, 2, 2, 2, 2, 2, 2, 2, 2, 2, 2]\n",
      "L: [7, 4, 4, 1, 1, 1, 2.0, 2.0, 3.0, 2.0, 2.0, 2.0, 4, 3.0, 3.0, 3.0, 3.0, 4.0, 4.0, 4.0, 5.0, 5.0, 5.0, 6.0, 7.0, 7]\n",
      "W_rate: [0.125, 0.2, 0.2, 0.8333333333333334, 0.8, 0.75, 0.6, 0.6, 0.5714285714285714, 0.5, 0.5, 0.5, 0.5, 0.4, 0.25, 0.25, 0.25, 0.2, 0.2, 0.2, 0.16666666666666666, 0.16666666666666666, 0.16666666666666666, 0.14285714285714285, 0.125, 0.125]\n",
      "Value: [0, 0, 0, 0, 0, 0, 0, 0, 0, 0, 0, 0, 0, 0, 0, 0, 0, 0, 0, 0, 0, 0, 0, 0, 0, 0]\n"
     ]
    },
    {
     "name": "stderr",
     "output_type": "stream",
     "text": [
      "2024-04-08 15:31:34,816 - __main__ - WARNING - Run feature transformation: ['ln', 'abs', 'kernelapproxrbf', 'sigmoid', 'svrTransform']\n",
      "2024-04-08 15:31:37,048 - __main__ - WARNING - Run feature transformation: ['ln', 'abs', 'kernelapproxrbf', 'sigmoid', 'sigmoid']\n",
      "2024-04-08 15:31:39,074 - __main__ - WARNING - Run feature transformation: ['ln', 'abs', 'kernelapproxrbf', 'tanh', 'radian']\n",
      "2024-04-08 15:31:41,166 - __main__ - WARNING - Run feature transformation: ['ln', 'abs', 'kernelapproxrbf', 'prod', 'adde']\n",
      "2024-04-08 15:31:45,799 - __main__ - WARNING - Run feature transformation: ['ln', 'abs', 'kernelapproxrbf', 'prod', 'reciprocal']\n",
      "2024-04-08 15:31:49,627 - __main__ - WARNING - Run feature transformation: ['ln', 'abs', 'kernelapproxrbf', 'negative', 'decisionTreeRegressorTransform']\n",
      "2024-04-08 15:31:51,447 - __main__ - WARNING - Run feature transformation: ['ln', 'abs', 'kernelapproxrbf', 'degree', 'relu']\n",
      "2024-04-08 15:31:53,145 - __main__ - WARNING - Run feature transformation: ['ln', 'abs', 'kernelapproxrbf', 'decisionTreeRegressorTransform', 'add']\n",
      "2024-04-08 15:31:54,609 - __main__ - WARNING - Run feature transformation: ['ln', 'abs', 'kernelapproxrbf', 'mlpRegressorTransform', 'relu']\n",
      "2024-04-08 15:31:58,996 - __main__ - WARNING - Performances of the given node is: [0.4569448852379206, 0.5324612901592232, 0.4644336354382711, 0.491005367588946, 0.5377982955536076, 0.5276189458924122, 0.5560982408655198, 0.5293060170332808, 0.5703396758137355, 0.5546610058515108]\n",
      "2024-04-08 15:31:58,997 - __main__ - WARNING - Mean perf is: 0.522067, Mean init is: 0.581475, Std init is: 0.012273 ==> reward: -3.000000\n",
      "2024-04-08 15:32:00,606 - __main__ - WARNING - Performance of scorer is: 0.0359191931784153\n",
      "2024-04-08 15:32:00,613 - __main__ - WARNING - XXXXXXXXXXXXXXXXXXXXXXXXXXXXXXXXXXXXXXXXXXXXXXXXXXXXXXXXXXXX\n",
      "2024-04-08 15:32:00,613 - __main__ - WARNING - Round:\t51\n",
      "2024-04-08 15:32:00,613 - __main__ - WARNING - XXXXXXXXXXXXXXXXXXXXXXXXXXXXXXXXXXXXXXXXXXXXXXXXXXXXXXXXXXXX\n",
      "2024-04-08 15:32:00,616 - __main__ - WARNING - Run feature transformation: ['exp', 'abs', 'kernelapproxrbf', 'zscore', 'svrTransform']\n"
     ]
    },
    {
     "name": "stdout",
     "output_type": "stream",
     "text": [
      "['ln', 'exp', 'prod', 'div', 'timeagg', 'square', 'minus', 'cos', 'relu', 'negative', 'svrTransform', 'abs', 'diff', 'reciprocal', 'add', 'zscore', 'radian', 'mlpRegressorTransform', 'linearRegressorTransform', 'adde', 'degree', 'decisionTreeRegressorTransform', 'kernelapproxrbf', 'sigmoid', 'tanh', 'xgbRegressorTransform', 'parameter']\n",
      "W: [1, 1, 5.0, 4.0, 3.0, 3.0, 3.0, 4, 2.0, 2.0, 2.0, 4, 2.0, 1, 1, 1, 1, 1, 1, 1, 1, 1, 1, 1, 1, 1]\n",
      "N: [2, 1, 2, 2, 2, 2, 2, 2, 2, 2, 2, 2, 2, 2, 2, 2, 2, 2, 2, 2, 2, 2, 2, 2, 2, 2]\n",
      "L: [7.0, 4, 1, 1, 1, 2.0, 2.0, 3.0, 2.0, 2.0, 2.0, 4, 3.0, 3.0, 3.0, 3.0, 4.0, 4.0, 4.0, 5.0, 5.0, 5.0, 6.0, 7, 7.0, 7]\n",
      "W_rate: [0.125, 0.2, 0.8333333333333334, 0.8, 0.75, 0.6, 0.6, 0.5714285714285714, 0.5, 0.5, 0.5, 0.5, 0.4, 0.25, 0.25, 0.25, 0.2, 0.2, 0.2, 0.16666666666666666, 0.16666666666666666, 0.16666666666666666, 0.14285714285714285, 0.125, 0.125, 0.125]\n",
      "Value: [0, 0, 0, 0, 0, 0, 0, 0, 0, 0, 0, 0, 0, 0, 0, 0, 0, 0, 0, 0, 0, 0, 0, 0, 0, 0]\n"
     ]
    },
    {
     "name": "stderr",
     "output_type": "stream",
     "text": [
      "2024-04-08 15:32:02,725 - __main__ - WARNING - Run feature transformation: ['exp', 'abs', 'kernelapproxrbf', 'radian', 'mlpRegressorTransform']\n",
      "2024-04-08 15:32:07,698 - __main__ - WARNING - Run feature transformation: ['exp', 'abs', 'kernelapproxrbf', 'relu', 'zscore']\n",
      "2024-04-08 15:32:09,204 - __main__ - WARNING - Run feature transformation: ['exp', 'abs', 'kernelapproxrbf', 'relu', 'adde']\n",
      "2024-04-08 15:32:10,836 - __main__ - WARNING - Run feature transformation: ['exp', 'abs', 'kernelapproxrbf', 'square', 'adde']\n",
      "2024-04-08 15:32:12,877 - __main__ - WARNING - Run feature transformation: ['exp', 'abs', 'kernelapproxrbf', 'zscore', 'degree']\n",
      "2024-04-08 15:32:14,709 - __main__ - WARNING - Run feature transformation: ['exp', 'abs', 'kernelapproxrbf', 'degree', 'radian']\n",
      "2024-04-08 15:32:16,293 - __main__ - WARNING - Run feature transformation: ['exp', 'abs', 'kernelapproxrbf', 'diff', 'div']\n",
      "2024-04-08 15:32:17,994 - __main__ - WARNING - Run feature transformation: ['exp', 'abs', 'kernelapproxrbf', 'tanh', 'diff']\n",
      "2024-04-08 15:32:20,828 - __main__ - WARNING - Run feature transformation: ['exp', 'abs', 'kernelapproxrbf', 'ln', 'zscore']\n",
      "2024-04-08 15:32:22,569 - __main__ - WARNING - Performances of the given node is: [0.5518192228665325, 0.5695061756312938, 0.511617191637136, 0.511617191637136, 0.4778642679334693, 0.4846343517203482, 0.4765184086508602, 0.58012494098257, 0.5802910168974547, 0.5480192171630963]\n",
      "2024-04-08 15:32:22,570 - __main__ - WARNING - Mean perf is: 0.529201, Mean init is: 0.581475, Std init is: 0.012273 ==> reward: -3.000000\n",
      "2024-04-08 15:32:24,162 - __main__ - WARNING - Performance of scorer is: 0.04125773534178734\n",
      "2024-04-08 15:32:24,168 - __main__ - WARNING - XXXXXXXXXXXXXXXXXXXXXXXXXXXXXXXXXXXXXXXXXXXXXXXXXXXXXXXXXXXX\n",
      "2024-04-08 15:32:24,169 - __main__ - WARNING - Round:\t52\n",
      "2024-04-08 15:32:24,169 - __main__ - WARNING - XXXXXXXXXXXXXXXXXXXXXXXXXXXXXXXXXXXXXXXXXXXXXXXXXXXXXXXXXXXX\n",
      "2024-04-08 15:32:24,172 - __main__ - WARNING - Run feature transformation: ['prod', 'abs', 'ln', 'mlpRegressorTransform', 'relu']\n"
     ]
    },
    {
     "name": "stdout",
     "output_type": "stream",
     "text": [
      "['exp', 'prod', 'div', 'timeagg', 'square', 'minus', 'cos', 'relu', 'negative', 'svrTransform', 'abs', 'diff', 'reciprocal', 'add', 'zscore', 'radian', 'mlpRegressorTransform', 'linearRegressorTransform', 'adde', 'degree', 'decisionTreeRegressorTransform', 'kernelapproxrbf', 'ln', 'sigmoid', 'tanh', 'xgbRegressorTransform', 'parameter']\n",
      "W: [1, 5.0, 4.0, 3.0, 3.0, 3.0, 4, 2.0, 2.0, 2.0, 4, 2.0, 1, 1, 1, 1, 1, 1, 1, 1, 1, 1, 1, 1, 1, 1]\n",
      "N: [2, 2, 2, 2, 2, 2, 2, 2, 2, 2, 2, 2, 2, 2, 2, 2, 2, 2, 2, 2, 2, 2, 2, 2, 2, 2]\n",
      "L: [7.0, 1, 1, 1, 2.0, 2.0, 3.0, 2.0, 2.0, 2.0, 4, 3.0, 3.0, 3.0, 3.0, 4.0, 4.0, 4.0, 5.0, 5.0, 5.0, 6.0, 7.0, 7, 7.0, 7]\n",
      "W_rate: [0.125, 0.8333333333333334, 0.8, 0.75, 0.6, 0.6, 0.5714285714285714, 0.5, 0.5, 0.5, 0.5, 0.4, 0.25, 0.25, 0.25, 0.2, 0.2, 0.2, 0.16666666666666666, 0.16666666666666666, 0.16666666666666666, 0.14285714285714285, 0.125, 0.125, 0.125, 0.125]\n",
      "Value: [0, 0, 0, 0, 0, 0, 0, 0, 0, 0, 0, 0, 0, 0, 0, 0, 0, 0, 0, 0, 0, 0, 0, 0, 0, 0]\n"
     ]
    },
    {
     "name": "stderr",
     "output_type": "stream",
     "text": [
      "2024-04-08 15:32:33,194 - __main__ - WARNING - Run feature transformation: ['prod', 'abs', 'ln', 'zscore', 'relu']\n",
      "2024-04-08 15:32:37,389 - __main__ - WARNING - Run feature transformation: ['prod', 'abs', 'ln', 'adde', 'square']\n",
      "2024-04-08 15:32:42,110 - __main__ - WARNING - Run feature transformation: ['prod', 'abs', 'ln', 'adde', 'zscore']\n",
      "2024-04-08 15:32:44,069 - __main__ - WARNING - Run feature transformation: ['prod', 'abs', 'ln', 'degree', 'degree']\n",
      "2024-04-08 15:32:48,144 - __main__ - WARNING - Run feature transformation: ['prod', 'abs', 'ln', 'radian', 'diff']\n",
      "2024-04-08 15:32:52,720 - __main__ - WARNING - Run feature transformation: ['prod', 'abs', 'ln', 'div', 'tanh']\n",
      "2024-04-08 15:33:01,574 - __main__ - WARNING - Add the best feature in set to the best features record.\n",
      "2024-04-08 15:33:01,575 - __main__ - WARNING - Run feature transformation: ['prod', 'abs', 'ln', 'diff', 'ln']\n",
      "2024-04-08 15:33:05,643 - __main__ - WARNING - Run feature transformation: ['prod', 'abs', 'ln', 'zscore', 'negative']\n",
      "2024-04-08 15:33:07,697 - __main__ - WARNING - Run feature transformation: ['prod', 'abs', 'ln', 'sigmoid', 'negative']\n",
      "2024-04-08 15:33:12,358 - __main__ - WARNING - Performances of the given node is: [0.5809581373253155, 0.5838282683447003, 0.5881774543840999, 0.5958310985935402, 0.580374500930725, 0.5639730522867905, 0.5984302018887074, 0.5745306081363547, 0.5920124640052826, 0.5921485492993721]\n",
      "2024-04-08 15:33:12,359 - __main__ - WARNING - Mean perf is: 0.585026, Mean init is: 0.581475, Std init is: 0.012273 ==> reward: 1.000000\n",
      "2024-04-08 15:33:14,017 - __main__ - WARNING - Performance of scorer is: 0.03158355876803398\n",
      "2024-04-08 15:33:14,018 - __main__ - WARNING - Run feature transformation: ['prod', 'abs', 'ln']\n",
      "2024-04-08 15:33:35,831 - __main__ - WARNING - Mean init is: 0.5814751034102423, mean of new node is: 0.5496198471260457\n",
      "2024-04-08 15:33:35,837 - __main__ - WARNING - XXXXXXXXXXXXXXXXXXXXXXXXXXXXXXXXXXXXXXXXXXXXXXXXXXXXXXXXXXXX\n",
      "2024-04-08 15:33:35,837 - __main__ - WARNING - Round:\t53\n",
      "2024-04-08 15:33:35,838 - __main__ - WARNING - XXXXXXXXXXXXXXXXXXXXXXXXXXXXXXXXXXXXXXXXXXXXXXXXXXXXXXXXXXXX\n",
      "2024-04-08 15:33:35,841 - __main__ - WARNING - Run feature transformation: ['div', 'cos', 'decisionTreeRegressorTransform', 'svrTransform', 'adde']\n"
     ]
    },
    {
     "name": "stdout",
     "output_type": "stream",
     "text": [
      "['prod', 'div', 'timeagg', 'square', 'minus', 'cos', 'relu', 'negative', 'svrTransform', 'abs', 'diff', 'reciprocal', 'add', 'zscore', 'radian', 'mlpRegressorTransform', 'linearRegressorTransform', 'adde', 'degree', 'decisionTreeRegressorTransform', 'kernelapproxrbf', 'exp', 'ln', 'sigmoid', 'tanh', 'xgbRegressorTransform', 'parameter']\n",
      "W: [6.0, 4.0, 3.0, 3.0, 3.0, 4, 2.0, 2.0, 2.0, 4, 2.0, 1, 1, 1, 1, 1, 1, 1, 1, 1, 1, 1, 1, 1, 1, 1]\n",
      "N: [3, 2, 2, 2, 2, 2, 2, 2, 2, 2, 2, 2, 2, 2, 2, 2, 2, 2, 2, 2, 2, 2, 2, 2, 2, 2]\n",
      "L: [1, 1, 1, 2.0, 2.0, 3.0, 2.0, 2.0, 2.0, 4, 3.0, 3.0, 3.0, 3.0, 4.0, 4.0, 4.0, 5.0, 5.0, 5.0, 6.0, 7.0, 7.0, 7, 7.0, 7]\n",
      "W_rate: [0.8571428571428571, 0.8, 0.75, 0.6, 0.6, 0.5714285714285714, 0.5, 0.5, 0.5, 0.5, 0.4, 0.25, 0.25, 0.25, 0.2, 0.2, 0.2, 0.16666666666666666, 0.16666666666666666, 0.16666666666666666, 0.14285714285714285, 0.125, 0.125, 0.125, 0.125, 0.125]\n",
      "Value: [0, 0, 0, 0, 0, 0, 0, 0, 0, 0, 0, 0, 0, 0, 0, 0, 0, 0, 0, 0, 0, 0, 0, 0, 0, 0]\n"
     ]
    },
    {
     "name": "stderr",
     "output_type": "stream",
     "text": [
      "2024-04-08 15:33:41,475 - __main__ - WARNING - Run feature transformation: ['div', 'cos', 'decisionTreeRegressorTransform', 'adde', 'square']\n",
      "2024-04-08 15:33:42,069 - __main__ - WARNING - Run feature transformation: ['div', 'cos', 'decisionTreeRegressorTransform', 'relu', 'ln']\n",
      "2024-04-08 15:33:42,869 - __main__ - WARNING - Run feature transformation: ['div', 'cos', 'decisionTreeRegressorTransform', 'kernelapproxrbf', 'tanh']\n",
      "2024-04-08 15:33:43,961 - __main__ - WARNING - Run feature transformation: ['div', 'cos', 'decisionTreeRegressorTransform', 'relu', 'timeagg']\n",
      "2024-04-08 15:33:44,381 - __main__ - WARNING - Run feature transformation: ['div', 'cos', 'decisionTreeRegressorTransform', 'div', 'mlpRegressorTransform']\n",
      "2024-04-08 15:33:48,316 - __main__ - WARNING - Run feature transformation: ['div', 'cos', 'decisionTreeRegressorTransform', 'mlpRegressorTransform', 'div']\n",
      "2024-04-08 15:33:52,691 - __main__ - WARNING - Run feature transformation: ['div', 'cos', 'decisionTreeRegressorTransform', 'diff', 'tanh']\n",
      "2024-04-08 15:33:53,282 - __main__ - WARNING - Run feature transformation: ['div', 'cos', 'decisionTreeRegressorTransform', 'svrTransform', 'diff']\n",
      "2024-04-08 15:33:53,847 - __main__ - WARNING - Run feature transformation: ['div', 'cos', 'decisionTreeRegressorTransform', 'mlpRegressorTransform', 'adde']\n",
      "2024-04-08 15:33:54,344 - __main__ - WARNING - Performances of the given node is: [0.572720620060581, 0.57277755527166, 0.5683581102237492, 0.5658022461213444, 0.572720620060581, 0.5508745451851996, 0.5465130844941695, 0.5488105583816544, 0.5659315647670469, 0.572720620060581]\n",
      "2024-04-08 15:33:54,345 - __main__ - WARNING - Mean perf is: 0.563723, Mean init is: 0.581475, Std init is: 0.012273 ==> reward: -1.000000\n",
      "2024-04-08 15:33:56,002 - __main__ - WARNING - Performance of scorer is: 0.043677523732185364\n",
      "2024-04-08 15:33:56,009 - __main__ - WARNING - XXXXXXXXXXXXXXXXXXXXXXXXXXXXXXXXXXXXXXXXXXXXXXXXXXXXXXXXXXXX\n",
      "2024-04-08 15:33:56,009 - __main__ - WARNING - Round:\t54\n",
      "2024-04-08 15:33:56,010 - __main__ - WARNING - XXXXXXXXXXXXXXXXXXXXXXXXXXXXXXXXXXXXXXXXXXXXXXXXXXXXXXXXXXXX\n",
      "2024-04-08 15:33:56,012 - __main__ - WARNING - Run feature transformation: ['timeagg', 'cos', 'xgbRegressorTransform', 'cos', 'diff']\n"
     ]
    },
    {
     "name": "stdout",
     "output_type": "stream",
     "text": [
      "['div', 'timeagg', 'square', 'minus', 'cos', 'relu', 'negative', 'svrTransform', 'abs', 'prod', 'diff', 'reciprocal', 'add', 'zscore', 'radian', 'mlpRegressorTransform', 'linearRegressorTransform', 'adde', 'degree', 'decisionTreeRegressorTransform', 'kernelapproxrbf', 'exp', 'ln', 'sigmoid', 'tanh', 'xgbRegressorTransform', 'parameter']\n",
      "W: [4.0, 3.0, 3.0, 3.0, 4, 2.0, 2.0, 2.0, 4, 6.0, 2.0, 1, 1, 1, 1, 1, 1, 1, 1, 1, 1, 1, 1, 1, 1, 1]\n",
      "N: [3, 2, 2, 2, 2, 2, 2, 2, 2, 3, 2, 2, 2, 2, 2, 2, 2, 2, 2, 2, 2, 2, 2, 2, 2, 2]\n",
      "L: [2.0, 1, 2.0, 2.0, 3.0, 2.0, 2.0, 2.0, 4, 1, 3.0, 3.0, 3.0, 3.0, 4.0, 4.0, 4.0, 5.0, 5.0, 5.0, 6.0, 7.0, 7.0, 7, 7.0, 7]\n",
      "W_rate: [0.6666666666666666, 0.75, 0.6, 0.6, 0.5714285714285714, 0.5, 0.5, 0.5, 0.5, 0.8571428571428571, 0.4, 0.25, 0.25, 0.25, 0.2, 0.2, 0.2, 0.16666666666666666, 0.16666666666666666, 0.16666666666666666, 0.14285714285714285, 0.125, 0.125, 0.125, 0.125, 0.125]\n",
      "Value: [0, 0, 0, 0, 0, 0, 0, 0, 0, 0, 0, 0, 0, 0, 0, 0, 0, 0, 0, 0, 0, 0, 0, 0, 0, 0]\n"
     ]
    },
    {
     "name": "stderr",
     "output_type": "stream",
     "text": [
      "2024-04-08 15:33:57,428 - __main__ - WARNING - Run feature transformation: ['timeagg', 'cos', 'xgbRegressorTransform', 'cos', 'linearRegressorTransform']\n",
      "2024-04-08 15:33:58,039 - __main__ - WARNING - Run feature transformation: ['timeagg', 'cos', 'xgbRegressorTransform', 'zscore', 'adde']\n",
      "2024-04-08 15:33:58,724 - __main__ - WARNING - Run feature transformation: ['timeagg', 'cos', 'xgbRegressorTransform', 'timeagg', 'diff']\n",
      "2024-04-08 15:33:59,641 - __main__ - WARNING - Add the best feature in set to the best features record.\n",
      "2024-04-08 15:33:59,642 - __main__ - WARNING - Run feature transformation: ['timeagg', 'cos', 'xgbRegressorTransform', 'add', 'degree']\n",
      "2024-04-08 15:34:00,311 - __main__ - WARNING - Run feature transformation: ['timeagg', 'cos', 'xgbRegressorTransform', 'negative', 'negative']\n",
      "2024-04-08 15:34:00,919 - __main__ - WARNING - Run feature transformation: ['timeagg', 'cos', 'xgbRegressorTransform', 'tanh', 'prod']\n",
      "2024-04-08 15:34:01,754 - __main__ - WARNING - Run feature transformation: ['timeagg', 'cos', 'xgbRegressorTransform', 'square', 'linearRegressorTransform']\n",
      "2024-04-08 15:34:02,489 - __main__ - WARNING - Run feature transformation: ['timeagg', 'cos', 'xgbRegressorTransform', 'sigmoid', 'degree']\n",
      "2024-04-08 15:34:03,297 - __main__ - WARNING - Run feature transformation: ['timeagg', 'cos', 'xgbRegressorTransform', 'abs', 'mlpRegressorTransform']\n",
      "2024-04-08 15:34:06,871 - __main__ - WARNING - Add the best feature in set to the best features record.\n",
      "2024-04-08 15:34:06,873 - __main__ - WARNING - Performances of the given node is: [0.4739915682711008, 0.4291937018806314, 0.5765645695781179, 0.5846704477368998, 0.5675242307366573, 0.5700147688349462, 0.5056453561188338, 0.526535636123471, 0.5649821956880156, 0.5828207427777652]\n",
      "2024-04-08 15:34:06,874 - __main__ - WARNING - Mean perf is: 0.538194, Mean init is: 0.581475, Std init is: 0.012273 ==> reward: -3.000000\n",
      "2024-04-08 15:34:08,592 - __main__ - WARNING - Performance of scorer is: 0.038349758833646774\n",
      "2024-04-08 15:34:08,598 - __main__ - WARNING - XXXXXXXXXXXXXXXXXXXXXXXXXXXXXXXXXXXXXXXXXXXXXXXXXXXXXXXXXXXX\n",
      "2024-04-08 15:34:08,599 - __main__ - WARNING - Round:\t55\n",
      "2024-04-08 15:34:08,599 - __main__ - WARNING - XXXXXXXXXXXXXXXXXXXXXXXXXXXXXXXXXXXXXXXXXXXXXXXXXXXXXXXXXXXX\n",
      "2024-04-08 15:34:08,601 - __main__ - WARNING - Run feature transformation: ['square', 'cos', 'div', 'reciprocal', 'abs']\n"
     ]
    },
    {
     "name": "stdout",
     "output_type": "stream",
     "text": [
      "['timeagg', 'square', 'minus', 'cos', 'relu', 'negative', 'svrTransform', 'abs', 'prod', 'diff', 'div', 'reciprocal', 'add', 'zscore', 'radian', 'mlpRegressorTransform', 'linearRegressorTransform', 'adde', 'degree', 'decisionTreeRegressorTransform', 'kernelapproxrbf', 'exp', 'ln', 'sigmoid', 'tanh', 'xgbRegressorTransform', 'parameter']\n",
      "W: [3.0, 3.0, 3.0, 4, 2.0, 2.0, 2.0, 4, 6.0, 2.0, 4.0, 1, 1, 1, 1, 1, 1, 1, 1, 1, 1, 1, 1, 1, 1, 1]\n",
      "N: [3, 2, 2, 2, 2, 2, 2, 2, 3, 2, 3, 2, 2, 2, 2, 2, 2, 2, 2, 2, 2, 2, 2, 2, 2, 2]\n",
      "L: [4.0, 2.0, 2.0, 3.0, 2.0, 2.0, 2.0, 4, 1, 3.0, 2.0, 3.0, 3.0, 3.0, 4.0, 4.0, 4.0, 5.0, 5.0, 5.0, 6.0, 7.0, 7.0, 7, 7.0, 7]\n",
      "W_rate: [0.42857142857142855, 0.6, 0.6, 0.5714285714285714, 0.5, 0.5, 0.5, 0.5, 0.8571428571428571, 0.4, 0.6666666666666666, 0.25, 0.25, 0.25, 0.2, 0.2, 0.2, 0.16666666666666666, 0.16666666666666666, 0.16666666666666666, 0.14285714285714285, 0.125, 0.125, 0.125, 0.125, 0.125]\n",
      "Value: [0, 0, 0, 0, 0, 0, 0, 0, 0, 0, 0, 0, 0, 0, 0, 0, 0, 0, 0, 0, 0, 0, 0, 0, 0, 0]\n"
     ]
    },
    {
     "name": "stderr",
     "output_type": "stream",
     "text": [
      "2024-04-08 15:34:12,152 - __main__ - WARNING - Run feature transformation: ['square', 'cos', 'div', 'reciprocal', 'timeagg']\n",
      "2024-04-08 15:34:14,347 - __main__ - WARNING - Run feature transformation: ['square', 'cos', 'div', 'xgbRegressorTransform', 'kernelapproxrbf']\n",
      "2024-04-08 15:34:16,874 - __main__ - WARNING - Run feature transformation: ['square', 'cos', 'div', 'linearRegressorTransform', 'reciprocal']\n",
      "2024-04-08 15:34:18,794 - __main__ - WARNING - Run feature transformation: ['square', 'cos', 'div', 'add', 'diff']\n",
      "2024-04-08 15:34:25,310 - __main__ - WARNING - Run feature transformation: ['square', 'cos', 'div', 'ln', 'exp']\n",
      "2024-04-08 15:34:27,899 - __main__ - WARNING - Run feature transformation: ['square', 'cos', 'div', 'exp', 'tanh']\n",
      "2024-04-08 15:34:30,458 - __main__ - WARNING - Run feature transformation: ['square', 'cos', 'div', 'cos', 'timeagg']\n",
      "2024-04-08 15:34:33,076 - __main__ - WARNING - Run feature transformation: ['square', 'cos', 'div', 'timeagg', 'minus']\n",
      "2024-04-08 15:34:40,526 - __main__ - WARNING - Run feature transformation: ['square', 'cos', 'div', 'timeagg', 'adde']\n",
      "2024-04-08 15:34:42,599 - __main__ - WARNING - Performances of the given node is: [0.539489114793716, 0.5295881940588788, 0.5655183098146142, 0.548640641534092, 0.5575913262674501, 0.5475464047090561, 0.5464734942485429, 0.541041659763876, 0.562569781740709, 0.5489821754840332]\n",
      "2024-04-08 15:34:42,601 - __main__ - WARNING - Mean perf is: 0.548744, Mean init is: 0.581475, Std init is: 0.012273 ==> reward: -2.000000\n",
      "2024-04-08 15:34:44,326 - __main__ - WARNING - Performance of scorer is: 0.0744704082608223\n",
      "2024-04-08 15:34:44,333 - __main__ - WARNING - XXXXXXXXXXXXXXXXXXXXXXXXXXXXXXXXXXXXXXXXXXXXXXXXXXXXXXXXXXXX\n",
      "2024-04-08 15:34:44,333 - __main__ - WARNING - Round:\t56\n",
      "2024-04-08 15:34:44,333 - __main__ - WARNING - XXXXXXXXXXXXXXXXXXXXXXXXXXXXXXXXXXXXXXXXXXXXXXXXXXXXXXXXXXXX\n",
      "2024-04-08 15:34:44,336 - __main__ - WARNING - Run feature transformation: ['minus', 'cos', 'svrTransform', 'cos', 'timeagg']\n"
     ]
    },
    {
     "name": "stdout",
     "output_type": "stream",
     "text": [
      "['square', 'minus', 'cos', 'relu', 'negative', 'svrTransform', 'abs', 'prod', 'diff', 'div', 'reciprocal', 'add', 'zscore', 'radian', 'mlpRegressorTransform', 'linearRegressorTransform', 'adde', 'degree', 'decisionTreeRegressorTransform', 'kernelapproxrbf', 'exp', 'ln', 'sigmoid', 'tanh', 'xgbRegressorTransform', 'timeagg', 'parameter']\n",
      "W: [3.0, 3.0, 4, 2.0, 2.0, 2.0, 4, 6.0, 2.0, 4.0, 1, 1, 1, 1, 1, 1, 1, 1, 1, 1, 1, 1, 1, 1, 1, 3.0]\n",
      "N: [3, 2, 2, 2, 2, 2, 2, 3, 2, 3, 2, 2, 2, 2, 2, 2, 2, 2, 2, 2, 2, 2, 2, 2, 2, 3]\n",
      "L: [4.0, 2.0, 3.0, 2.0, 2.0, 2.0, 4, 1, 3.0, 2.0, 3.0, 3.0, 3.0, 4.0, 4.0, 4.0, 5.0, 5.0, 5.0, 6.0, 7.0, 7.0, 7, 7.0, 7, 4.0]\n",
      "W_rate: [0.42857142857142855, 0.6, 0.5714285714285714, 0.5, 0.5, 0.5, 0.5, 0.8571428571428571, 0.4, 0.6666666666666666, 0.25, 0.25, 0.25, 0.2, 0.2, 0.2, 0.16666666666666666, 0.16666666666666666, 0.16666666666666666, 0.14285714285714285, 0.125, 0.125, 0.125, 0.125, 0.125, 0.42857142857142855]\n",
      "Value: [0, 0, 0, 0, 0, 0, 0, 0, 0, 0, 0, 0, 0, 0, 0, 0, 0, 0, 0, 0, 0, 0, 0, 0, 0, 0]\n"
     ]
    },
    {
     "name": "stderr",
     "output_type": "stream",
     "text": [
      "2024-04-08 15:34:47,830 - __main__ - WARNING - Run feature transformation: ['minus', 'cos', 'svrTransform', 'timeagg', 'minus']\n",
      "2024-04-08 15:34:49,931 - __main__ - WARNING - Add the best feature in set to the best features record.\n",
      "2024-04-08 15:34:49,932 - __main__ - WARNING - Run feature transformation: ['minus', 'cos', 'svrTransform', 'timeagg', 'adde']\n",
      "2024-04-08 15:34:50,735 - __main__ - WARNING - Run feature transformation: ['minus', 'cos', 'svrTransform', 'radian', 'zscore']\n",
      "2024-04-08 15:34:51,763 - __main__ - WARNING - Run feature transformation: ['minus', 'cos', 'svrTransform', 'zscore', 'square']\n",
      "2024-04-08 15:34:52,840 - __main__ - WARNING - Run feature transformation: ['minus', 'cos', 'svrTransform', 'tanh', 'degree']\n",
      "2024-04-08 15:34:53,795 - __main__ - WARNING - Run feature transformation: ['minus', 'cos', 'svrTransform', 'sigmoid', 'square']\n",
      "2024-04-08 15:34:54,794 - __main__ - WARNING - Run feature transformation: ['minus', 'cos', 'svrTransform', 'reciprocal', 'div']\n",
      "2024-04-08 15:35:00,000 - __main__ - WARNING - Add the best feature in set to the best features record.\n",
      "2024-04-08 15:35:00,001 - __main__ - WARNING - Run feature transformation: ['minus', 'cos', 'svrTransform', 'kernelapproxrbf', 'zscore']\n",
      "2024-04-08 15:35:01,167 - __main__ - WARNING - Run feature transformation: ['minus', 'cos', 'svrTransform', 'decisionTreeRegressorTransform', 'ln']\n",
      "2024-04-08 15:35:01,914 - __main__ - WARNING - Performances of the given node is: [0.5480060494546308, 0.5891121807630458, 0.5691455545048025, 0.5567287927011069, 0.551597522821157, 0.5428821772957134, 0.5590875785296663, 0.5910986343200147, 0.532116582102273, 0.5736621846062766]\n",
      "2024-04-08 15:35:01,915 - __main__ - WARNING - Mean perf is: 0.561344, Mean init is: 0.581475, Std init is: 0.012273 ==> reward: -2.000000\n",
      "2024-04-08 15:35:03,730 - __main__ - WARNING - Performance of scorer is: 0.0512951985001564\n",
      "2024-04-08 15:35:03,737 - __main__ - WARNING - XXXXXXXXXXXXXXXXXXXXXXXXXXXXXXXXXXXXXXXXXXXXXXXXXXXXXXXXXXXX\n",
      "2024-04-08 15:35:03,737 - __main__ - WARNING - Round:\t57\n",
      "2024-04-08 15:35:03,738 - __main__ - WARNING - XXXXXXXXXXXXXXXXXXXXXXXXXXXXXXXXXXXXXXXXXXXXXXXXXXXXXXXXXXXX\n",
      "2024-04-08 15:35:03,740 - __main__ - WARNING - Run feature transformation: ['cos', 'cos', 'xgbRegressorTransform', 'timeagg', 'adde']\n"
     ]
    },
    {
     "name": "stdout",
     "output_type": "stream",
     "text": [
      "['minus', 'cos', 'relu', 'negative', 'svrTransform', 'abs', 'prod', 'diff', 'div', 'reciprocal', 'add', 'zscore', 'radian', 'mlpRegressorTransform', 'linearRegressorTransform', 'adde', 'degree', 'decisionTreeRegressorTransform', 'kernelapproxrbf', 'exp', 'ln', 'sigmoid', 'tanh', 'xgbRegressorTransform', 'square', 'timeagg', 'parameter']\n",
      "W: [3.0, 4, 2.0, 2.0, 2.0, 4, 6.0, 2.0, 4.0, 1, 1, 1, 1, 1, 1, 1, 1, 1, 1, 1, 1, 1, 1, 1, 3.0, 3.0]\n",
      "N: [3, 2, 2, 2, 2, 2, 3, 2, 3, 2, 2, 2, 2, 2, 2, 2, 2, 2, 2, 2, 2, 2, 2, 2, 3, 3]\n",
      "L: [4.0, 3.0, 2.0, 2.0, 2.0, 4, 1, 3.0, 2.0, 3.0, 3.0, 3.0, 4.0, 4.0, 4.0, 5.0, 5.0, 5.0, 6.0, 7.0, 7.0, 7, 7.0, 7, 4.0, 4.0]\n",
      "W_rate: [0.42857142857142855, 0.5714285714285714, 0.5, 0.5, 0.5, 0.5, 0.8571428571428571, 0.4, 0.6666666666666666, 0.25, 0.25, 0.25, 0.2, 0.2, 0.2, 0.16666666666666666, 0.16666666666666666, 0.16666666666666666, 0.14285714285714285, 0.125, 0.125, 0.125, 0.125, 0.125, 0.42857142857142855, 0.42857142857142855]\n",
      "Value: [0, 0, 0, 0, 0, 0, 0, 0, 0, 0, 0, 0, 0, 0, 0, 0, 0, 0, 0, 0, 0, 0, 0, 0, 0, 0]\n"
     ]
    },
    {
     "name": "stderr",
     "output_type": "stream",
     "text": [
      "2024-04-08 15:35:05,224 - __main__ - WARNING - Add the best feature in set to the best features record.\n",
      "2024-04-08 15:35:05,225 - __main__ - WARNING - Run feature transformation: ['cos', 'cos', 'xgbRegressorTransform', 'radian', 'zscore']\n",
      "2024-04-08 15:35:05,997 - __main__ - WARNING - Run feature transformation: ['cos', 'cos', 'xgbRegressorTransform', 'zscore', 'square']\n",
      "2024-04-08 15:35:06,863 - __main__ - WARNING - Run feature transformation: ['cos', 'cos', 'xgbRegressorTransform', 'tanh', 'degree']\n",
      "2024-04-08 15:35:07,885 - __main__ - WARNING - Run feature transformation: ['cos', 'cos', 'xgbRegressorTransform', 'sigmoid', 'square']\n",
      "2024-04-08 15:35:08,936 - __main__ - WARNING - Run feature transformation: ['cos', 'cos', 'xgbRegressorTransform', 'reciprocal', 'div']\n",
      "2024-04-08 15:35:09,826 - __main__ - WARNING - Run feature transformation: ['cos', 'cos', 'xgbRegressorTransform', 'kernelapproxrbf', 'zscore']\n",
      "2024-04-08 15:35:10,936 - __main__ - WARNING - Run feature transformation: ['cos', 'cos', 'xgbRegressorTransform', 'decisionTreeRegressorTransform', 'ln']\n",
      "2024-04-08 15:35:11,565 - __main__ - WARNING - Run feature transformation: ['cos', 'cos', 'xgbRegressorTransform', 'adde', 'add']\n",
      "2024-04-08 15:35:12,421 - __main__ - WARNING - Run feature transformation: ['cos', 'cos', 'xgbRegressorTransform', 'exp', 'relu']\n",
      "2024-04-08 15:35:13,387 - __main__ - WARNING - Performances of the given node is: [0.5880095897505114, 0.5149160386569495, 0.5119201222626256, 0.35528171043160317, 0.386606535678515, 0.3801316025423535, 0.39556285059177676, 0.4284242689043362, 0.5344917366204893, 0.4616765310364124]\n",
      "2024-04-08 15:35:13,389 - __main__ - WARNING - Mean perf is: 0.455702, Mean init is: 0.581475, Std init is: 0.012273 ==> reward: -7.000000\n",
      "2024-04-08 15:35:15,176 - __main__ - WARNING - Performance of scorer is: 0.03448299691081047\n",
      "2024-04-08 15:35:15,183 - __main__ - WARNING - XXXXXXXXXXXXXXXXXXXXXXXXXXXXXXXXXXXXXXXXXXXXXXXXXXXXXXXXXXXX\n",
      "2024-04-08 15:35:15,183 - __main__ - WARNING - Round:\t58\n",
      "2024-04-08 15:35:15,183 - __main__ - WARNING - XXXXXXXXXXXXXXXXXXXXXXXXXXXXXXXXXXXXXXXXXXXXXXXXXXXXXXXXXXXX\n",
      "2024-04-08 15:35:15,186 - __main__ - WARNING - Run feature transformation: ['relu', 'cos', 'relu', 'kernelapproxrbf', 'decisionTreeRegressorTransform']\n"
     ]
    },
    {
     "name": "stdout",
     "output_type": "stream",
     "text": [
      "['cos', 'relu', 'negative', 'svrTransform', 'abs', 'prod', 'diff', 'div', 'reciprocal', 'add', 'zscore', 'radian', 'mlpRegressorTransform', 'linearRegressorTransform', 'adde', 'degree', 'decisionTreeRegressorTransform', 'kernelapproxrbf', 'exp', 'ln', 'sigmoid', 'tanh', 'xgbRegressorTransform', 'minus', 'square', 'timeagg', 'parameter']\n",
      "W: [4, 2.0, 2.0, 2.0, 4, 6.0, 2.0, 4.0, 1, 1, 1, 1, 1, 1, 1, 1, 1, 1, 1, 1, 1, 1, 1, 3.0, 3.0, 3.0]\n",
      "N: [3, 2, 2, 2, 2, 3, 2, 3, 2, 2, 2, 2, 2, 2, 2, 2, 2, 2, 2, 2, 2, 2, 2, 3, 3, 3]\n",
      "L: [6.0, 2.0, 2.0, 2.0, 4, 1, 3.0, 2.0, 3.0, 3.0, 3.0, 4.0, 4.0, 4.0, 5.0, 5.0, 5.0, 6.0, 7.0, 7.0, 7, 7.0, 7, 4.0, 4.0, 4.0]\n",
      "W_rate: [0.4, 0.5, 0.5, 0.5, 0.5, 0.8571428571428571, 0.4, 0.6666666666666666, 0.25, 0.25, 0.25, 0.2, 0.2, 0.2, 0.16666666666666666, 0.16666666666666666, 0.16666666666666666, 0.14285714285714285, 0.125, 0.125, 0.125, 0.125, 0.125, 0.42857142857142855, 0.42857142857142855, 0.42857142857142855]\n",
      "Value: [0, 0, 0, 0, 0, 0, 0, 0, 0, 0, 0, 0, 0, 0, 0, 0, 0, 0, 0, 0, 0, 0, 0, 0, 0, 0]\n"
     ]
    },
    {
     "name": "stderr",
     "output_type": "stream",
     "text": [
      "2024-04-08 15:35:17,096 - __main__ - WARNING - Run feature transformation: ['relu', 'cos', 'relu', 'tanh', 'prod']\n",
      "2024-04-08 15:35:19,275 - __main__ - WARNING - Run feature transformation: ['relu', 'cos', 'relu', 'square', 'minus']\n",
      "2024-04-08 15:35:21,162 - __main__ - WARNING - Run feature transformation: ['relu', 'cos', 'relu', 'square', 'minus']\n",
      "2024-04-08 15:35:21,461 - __main__ - WARNING - Run feature transformation: ['relu', 'cos', 'relu', 'add', 'square']\n",
      "2024-04-08 15:35:22,957 - __main__ - WARNING - Run feature transformation: ['relu', 'cos', 'relu', 'zscore', 'diff']\n",
      "2024-04-08 15:35:24,594 - __main__ - WARNING - Add the best feature in set to the best features record.\n",
      "2024-04-08 15:35:24,595 - __main__ - WARNING - Run feature transformation: ['relu', 'cos', 'relu', 'radian', 'mlpRegressorTransform']\n",
      "2024-04-08 15:35:29,108 - __main__ - WARNING - Run feature transformation: ['relu', 'cos', 'relu', 'timeagg', 'degree']\n",
      "2024-04-08 15:35:30,097 - __main__ - WARNING - Run feature transformation: ['relu', 'cos', 'relu', 'timeagg', 'tanh']\n",
      "2024-04-08 15:35:31,272 - __main__ - WARNING - Run feature transformation: ['relu', 'cos', 'relu', 'xgbRegressorTransform', 'div']\n",
      "2024-04-08 15:35:33,134 - __main__ - WARNING - Performances of the given node is: [0.5472047418270474, 0.554608432021516, 0.58012494098257, 0.58012494098257, 0.58012494098257, 0.5838781128547321, 0.5654716166815771, 0.5903266358657686, 0.5747309480685956, 0.4915612364517744]\n",
      "2024-04-08 15:35:33,136 - __main__ - WARNING - Mean perf is: 0.564816, Mean init is: 0.581475, Std init is: 0.012273 ==> reward: -1.000000\n",
      "2024-04-08 15:35:34,987 - __main__ - WARNING - Performance of scorer is: 0.027797481045126915\n",
      "2024-04-08 15:35:34,994 - __main__ - WARNING - XXXXXXXXXXXXXXXXXXXXXXXXXXXXXXXXXXXXXXXXXXXXXXXXXXXXXXXXXXXX\n",
      "2024-04-08 15:35:34,994 - __main__ - WARNING - Round:\t59\n",
      "2024-04-08 15:35:34,994 - __main__ - WARNING - XXXXXXXXXXXXXXXXXXXXXXXXXXXXXXXXXXXXXXXXXXXXXXXXXXXXXXXXXXXX\n",
      "2024-04-08 15:35:34,997 - __main__ - WARNING - Run feature transformation: ['negative', 'exp', 'tanh', 'sigmoid', 'negative']\n"
     ]
    },
    {
     "name": "stdout",
     "output_type": "stream",
     "text": [
      "['relu', 'negative', 'svrTransform', 'abs', 'prod', 'diff', 'div', 'reciprocal', 'add', 'zscore', 'radian', 'mlpRegressorTransform', 'linearRegressorTransform', 'adde', 'degree', 'decisionTreeRegressorTransform', 'kernelapproxrbf', 'exp', 'ln', 'sigmoid', 'tanh', 'xgbRegressorTransform', 'minus', 'square', 'timeagg', 'cos', 'parameter']\n",
      "W: [2.0, 2.0, 2.0, 4, 6.0, 2.0, 4.0, 1, 1, 1, 1, 1, 1, 1, 1, 1, 1, 1, 1, 1, 1, 1, 3.0, 3.0, 3.0, 4]\n",
      "N: [3, 2, 2, 2, 3, 2, 3, 2, 2, 2, 2, 2, 2, 2, 2, 2, 2, 2, 2, 2, 2, 2, 3, 3, 3, 3]\n",
      "L: [3.0, 2.0, 2.0, 4, 1, 3.0, 2.0, 3.0, 3.0, 3.0, 4.0, 4.0, 4.0, 5.0, 5.0, 5.0, 6.0, 7.0, 7.0, 7, 7.0, 7, 4.0, 4.0, 4.0, 6.0]\n",
      "W_rate: [0.4, 0.5, 0.5, 0.5, 0.8571428571428571, 0.4, 0.6666666666666666, 0.25, 0.25, 0.25, 0.2, 0.2, 0.2, 0.16666666666666666, 0.16666666666666666, 0.16666666666666666, 0.14285714285714285, 0.125, 0.125, 0.125, 0.125, 0.125, 0.42857142857142855, 0.42857142857142855, 0.42857142857142855, 0.4]\n",
      "Value: [0, 0, 0, 0, 0, 0, 0, 0, 0, 0, 0, 0, 0, 0, 0, 0, 0, 0, 0, 0, 0, 0, 0, 0, 0, 0]\n"
     ]
    },
    {
     "name": "stderr",
     "output_type": "stream",
     "text": [
      "2024-04-08 15:35:36,781 - __main__ - WARNING - Run feature transformation: ['negative', 'exp', 'tanh', 'minus', 'abs']\n",
      "2024-04-08 15:35:40,483 - __main__ - WARNING - Run feature transformation: ['negative', 'exp', 'tanh', 'reciprocal', 'add']\n",
      "2024-04-08 15:35:42,338 - __main__ - WARNING - Run feature transformation: ['negative', 'exp', 'tanh', 'mlpRegressorTransform', 'sigmoid']\n",
      "2024-04-08 15:35:46,624 - __main__ - WARNING - Run feature transformation: ['negative', 'exp', 'tanh', 'prod', 'reciprocal']\n",
      "2024-04-08 15:35:51,035 - __main__ - WARNING - Run feature transformation: ['negative', 'exp', 'tanh', 'exp', 'decisionTreeRegressorTransform']\n",
      "2024-04-08 15:35:52,516 - __main__ - WARNING - Run feature transformation: ['negative', 'exp', 'tanh', 'sigmoid', 'negative']\n",
      "2024-04-08 15:35:53,732 - __main__ - WARNING - Run feature transformation: ['negative', 'exp', 'tanh', 'mlpRegressorTransform', 'div']\n",
      "2024-04-08 15:35:54,881 - __main__ - WARNING - Run feature transformation: ['negative', 'exp', 'tanh', 'add', 'degree']\n",
      "2024-04-08 15:35:59,229 - __main__ - WARNING - Add the best feature in set to the best features record.\n",
      "2024-04-08 15:35:59,230 - __main__ - WARNING - Run feature transformation: ['negative', 'exp', 'tanh', 'prod', 'xgbRegressorTransform']\n",
      "2024-04-08 15:36:03,037 - __main__ - WARNING - Add the best feature in set to the best features record.\n",
      "2024-04-08 15:36:03,038 - __main__ - WARNING - Performances of the given node is: [0.4871132673883151, 0.5701783643034166, 0.5673275613916587, 0.5645000892845538, 0.5766679211233121, 0.517240809435173, 0.4871132673883151, 0.5914735331055299, 0.599881946553027, 0.5992813557853963]\n",
      "2024-04-08 15:36:03,040 - __main__ - WARNING - Mean perf is: 0.556078, Mean init is: 0.581475, Std init is: 0.012273 ==> reward: -2.000000\n",
      "2024-04-08 15:36:04,890 - __main__ - WARNING - Performance of scorer is: 0.029256073758006096\n",
      "2024-04-08 15:36:04,897 - __main__ - WARNING - XXXXXXXXXXXXXXXXXXXXXXXXXXXXXXXXXXXXXXXXXXXXXXXXXXXXXXXXXXXX\n",
      "2024-04-08 15:36:04,897 - __main__ - WARNING - Round:\t60\n",
      "2024-04-08 15:36:04,897 - __main__ - WARNING - XXXXXXXXXXXXXXXXXXXXXXXXXXXXXXXXXXXXXXXXXXXXXXXXXXXXXXXXXXXX\n",
      "2024-04-08 15:36:04,900 - __main__ - WARNING - Run feature transformation: ['svrTransform', 'cos', 'svrTransform', 'exp', 'decisionTreeRegressorTransform']\n"
     ]
    },
    {
     "name": "stdout",
     "output_type": "stream",
     "text": [
      "['negative', 'svrTransform', 'abs', 'prod', 'diff', 'div', 'reciprocal', 'add', 'zscore', 'radian', 'mlpRegressorTransform', 'linearRegressorTransform', 'adde', 'degree', 'decisionTreeRegressorTransform', 'kernelapproxrbf', 'exp', 'ln', 'sigmoid', 'tanh', 'xgbRegressorTransform', 'minus', 'square', 'timeagg', 'relu', 'cos', 'parameter']\n",
      "W: [2.0, 2.0, 4, 6.0, 2.0, 4.0, 1, 1, 1, 1, 1, 1, 1, 1, 1, 1, 1, 1, 1, 1, 1, 3.0, 3.0, 3.0, 2.0, 4]\n",
      "N: [3, 2, 2, 3, 2, 3, 2, 2, 2, 2, 2, 2, 2, 2, 2, 2, 2, 2, 2, 2, 2, 3, 3, 3, 3, 3]\n",
      "L: [4.0, 2.0, 4, 1, 3.0, 2.0, 3.0, 3.0, 3.0, 4.0, 4.0, 4.0, 5.0, 5.0, 5.0, 6.0, 7.0, 7.0, 7, 7.0, 7, 4.0, 4.0, 4.0, 3.0, 6.0]\n",
      "W_rate: [0.3333333333333333, 0.5, 0.5, 0.8571428571428571, 0.4, 0.6666666666666666, 0.25, 0.25, 0.25, 0.2, 0.2, 0.2, 0.16666666666666666, 0.16666666666666666, 0.16666666666666666, 0.14285714285714285, 0.125, 0.125, 0.125, 0.125, 0.125, 0.42857142857142855, 0.42857142857142855, 0.42857142857142855, 0.4, 0.4]\n",
      "Value: [0, 0, 0, 0, 0, 0, 0, 0, 0, 0, 0, 0, 0, 0, 0, 0, 0, 0, 0, 0, 0, 0, 0, 0, 0, 0]\n"
     ]
    },
    {
     "name": "stderr",
     "output_type": "stream",
     "text": [
      "2024-04-08 15:36:05,618 - __main__ - WARNING - Run feature transformation: ['svrTransform', 'cos', 'svrTransform', 'sigmoid', 'negative']\n",
      "2024-04-08 15:36:06,575 - __main__ - WARNING - Run feature transformation: ['svrTransform', 'cos', 'svrTransform', 'mlpRegressorTransform', 'div']\n",
      "2024-04-08 15:36:10,855 - __main__ - WARNING - Run feature transformation: ['svrTransform', 'cos', 'svrTransform', 'add', 'degree']\n",
      "2024-04-08 15:36:11,694 - __main__ - WARNING - Run feature transformation: ['svrTransform', 'cos', 'svrTransform', 'prod', 'xgbRegressorTransform']\n",
      "2024-04-08 15:36:12,506 - __main__ - WARNING - Run feature transformation: ['svrTransform', 'cos', 'svrTransform', 'add', 'relu']\n",
      "2024-04-08 15:36:12,874 - __main__ - WARNING - Run feature transformation: ['svrTransform', 'cos', 'svrTransform', 'timeagg', 'radian']\n",
      "2024-04-08 15:36:13,572 - __main__ - WARNING - Run feature transformation: ['svrTransform', 'cos', 'svrTransform', 'timeagg', 'diff']\n",
      "2024-04-08 15:36:14,368 - __main__ - WARNING - Run feature transformation: ['svrTransform', 'cos', 'svrTransform', 'tanh', 'xgbRegressorTransform']\n",
      "2024-04-08 15:36:15,406 - __main__ - WARNING - Add the best feature in set to the best features record.\n",
      "2024-04-08 15:36:15,407 - __main__ - WARNING - Run feature transformation: ['svrTransform', 'cos', 'svrTransform', 'relu', 'add']\n",
      "2024-04-08 15:36:16,720 - __main__ - WARNING - Performances of the given node is: [0.6073067884702866, 0.5783143523880538, 0.5913285322325326, 0.5599144044973319, 0.5635838111929377, 0.5564267466587586, 0.597360178460439, 0.5710832999376537, 0.5859246455041777, 0.5790089034448256]\n",
      "2024-04-08 15:36:16,722 - __main__ - WARNING - Mean perf is: 0.579025, Mean init is: 0.581475, Std init is: 0.012273 ==> reward: -1.000000\n",
      "2024-04-08 15:36:18,582 - __main__ - WARNING - Performance of scorer is: 0.0361761637032032\n",
      "2024-04-08 15:36:18,588 - __main__ - WARNING - XXXXXXXXXXXXXXXXXXXXXXXXXXXXXXXXXXXXXXXXXXXXXXXXXXXXXXXXXXXX\n",
      "2024-04-08 15:36:18,589 - __main__ - WARNING - Round:\t61\n",
      "2024-04-08 15:36:18,589 - __main__ - WARNING - XXXXXXXXXXXXXXXXXXXXXXXXXXXXXXXXXXXXXXXXXXXXXXXXXXXXXXXXXXXX\n",
      "2024-04-08 15:36:18,591 - __main__ - WARNING - Run feature transformation: ['abs', 'cos', 'add', 'svrTransform', 'decisionTreeRegressorTransform']\n"
     ]
    },
    {
     "name": "stdout",
     "output_type": "stream",
     "text": [
      "['svrTransform', 'abs', 'prod', 'diff', 'div', 'reciprocal', 'add', 'zscore', 'radian', 'mlpRegressorTransform', 'linearRegressorTransform', 'adde', 'degree', 'decisionTreeRegressorTransform', 'kernelapproxrbf', 'exp', 'ln', 'sigmoid', 'tanh', 'xgbRegressorTransform', 'minus', 'square', 'timeagg', 'relu', 'cos', 'negative', 'parameter']\n",
      "W: [2.0, 4, 6.0, 2.0, 4.0, 1, 1, 1, 1, 1, 1, 1, 1, 1, 1, 1, 1, 1, 1, 1, 3.0, 3.0, 3.0, 2.0, 4, 2.0]\n",
      "N: [3, 2, 3, 2, 3, 2, 2, 2, 2, 2, 2, 2, 2, 2, 2, 2, 2, 2, 2, 2, 3, 3, 3, 3, 3, 3]\n",
      "L: [3.0, 4, 1, 3.0, 2.0, 3.0, 3.0, 3.0, 4.0, 4.0, 4.0, 5.0, 5.0, 5.0, 6.0, 7.0, 7.0, 7, 7.0, 7, 4.0, 4.0, 4.0, 3.0, 6.0, 4.0]\n",
      "W_rate: [0.4, 0.5, 0.8571428571428571, 0.4, 0.6666666666666666, 0.25, 0.25, 0.25, 0.2, 0.2, 0.2, 0.16666666666666666, 0.16666666666666666, 0.16666666666666666, 0.14285714285714285, 0.125, 0.125, 0.125, 0.125, 0.125, 0.42857142857142855, 0.42857142857142855, 0.42857142857142855, 0.4, 0.4, 0.3333333333333333]\n",
      "Value: [0, 0, 0, 0, 0, 0, 0, 0, 0, 0, 0, 0, 0, 0, 0, 0, 0, 0, 0, 0, 0, 0, 0, 0, 0, 0]\n"
     ]
    },
    {
     "name": "stderr",
     "output_type": "stream",
     "text": [
      "2024-04-08 15:36:21,961 - __main__ - WARNING - Run feature transformation: ['abs', 'cos', 'add', 'svrTransform', 'sigmoid']\n",
      "2024-04-08 15:36:22,563 - __main__ - WARNING - Add the best feature in set to the best features record.\n",
      "2024-04-08 15:36:22,564 - __main__ - WARNING - Run feature transformation: ['abs', 'cos', 'add', 'reciprocal', 'sigmoid']\n",
      "2024-04-08 15:36:27,194 - __main__ - WARNING - Run feature transformation: ['abs', 'cos', 'add', 'degree', 'decisionTreeRegressorTransform']\n",
      "2024-04-08 15:36:31,283 - __main__ - WARNING - Run feature transformation: ['abs', 'cos', 'add', 'negative', 'exp']\n",
      "2024-04-08 15:36:35,015 - __main__ - WARNING - Run feature transformation: ['abs', 'cos', 'add', 'add', 'adde']\n",
      "2024-04-08 15:36:41,956 - __main__ - WARNING - Run feature transformation: ['abs', 'cos', 'add', 'minus', 'minus']\n",
      "2024-04-08 15:36:51,196 - __main__ - WARNING - Add the best feature in set to the best features record.\n",
      "2024-04-08 15:36:51,197 - __main__ - WARNING - Run feature transformation: ['abs', 'cos', 'add', 'square', 'square']\n",
      "2024-04-08 15:36:55,317 - __main__ - WARNING - Run feature transformation: ['abs', 'cos', 'add', 'linearRegressorTransform', 'linearRegressorTransform']\n",
      "2024-04-08 15:36:57,515 - __main__ - WARNING - Add the best feature in set to the best features record.\n",
      "2024-04-08 15:36:57,516 - __main__ - WARNING - Run feature transformation: ['abs', 'cos', 'add', 'add', 'reciprocal']\n",
      "2024-04-08 15:37:01,847 - __main__ - WARNING - Performances of the given node is: [0.5553753386250444, 0.5815772670726168, 0.5750345891054788, 0.5769928036817495, 0.5426489085661869, 0.5714529019118026, 0.5925218500741043, 0.5658716545553947, 0.5851641281833235, 0.5701772781939339]\n",
      "2024-04-08 15:37:01,848 - __main__ - WARNING - Mean perf is: 0.571682, Mean init is: 0.581475, Std init is: 0.012273 ==> reward: -1.000000\n",
      "2024-04-08 15:37:03,786 - __main__ - WARNING - Performance of scorer is: 0.040998294949531555\n",
      "2024-04-08 15:37:03,793 - __main__ - WARNING - XXXXXXXXXXXXXXXXXXXXXXXXXXXXXXXXXXXXXXXXXXXXXXXXXXXXXXXXXXXX\n",
      "2024-04-08 15:37:03,794 - __main__ - WARNING - Round:\t62\n",
      "2024-04-08 15:37:03,794 - __main__ - WARNING - XXXXXXXXXXXXXXXXXXXXXXXXXXXXXXXXXXXXXXXXXXXXXXXXXXXXXXXXXXXX\n",
      "2024-04-08 15:37:03,796 - __main__ - WARNING - Run feature transformation: ['prod', 'cos', 'adde', 'square', 'linearRegressorTransform']\n"
     ]
    },
    {
     "name": "stdout",
     "output_type": "stream",
     "text": [
      "['abs', 'prod', 'diff', 'div', 'reciprocal', 'add', 'zscore', 'radian', 'mlpRegressorTransform', 'linearRegressorTransform', 'adde', 'degree', 'decisionTreeRegressorTransform', 'kernelapproxrbf', 'exp', 'ln', 'sigmoid', 'tanh', 'xgbRegressorTransform', 'minus', 'square', 'timeagg', 'svrTransform', 'relu', 'cos', 'negative', 'parameter']\n",
      "W: [4, 6.0, 2.0, 4.0, 1, 1, 1, 1, 1, 1, 1, 1, 1, 1, 1, 1, 1, 1, 1, 3.0, 3.0, 3.0, 2.0, 2.0, 4, 2.0]\n",
      "N: [3, 3, 2, 3, 2, 2, 2, 2, 2, 2, 2, 2, 2, 2, 2, 2, 2, 2, 2, 3, 3, 3, 3, 3, 3, 3]\n",
      "L: [5.0, 1, 3.0, 2.0, 3.0, 3.0, 3.0, 4.0, 4.0, 4.0, 5.0, 5.0, 5.0, 6.0, 7.0, 7.0, 7, 7.0, 7, 4.0, 4.0, 4.0, 3.0, 3.0, 6.0, 4.0]\n",
      "W_rate: [0.4444444444444444, 0.8571428571428571, 0.4, 0.6666666666666666, 0.25, 0.25, 0.25, 0.2, 0.2, 0.2, 0.16666666666666666, 0.16666666666666666, 0.16666666666666666, 0.14285714285714285, 0.125, 0.125, 0.125, 0.125, 0.125, 0.42857142857142855, 0.42857142857142855, 0.42857142857142855, 0.4, 0.4, 0.4, 0.3333333333333333]\n",
      "Value: [0, 0, 0, 0, 0, 0, 0, 0, 0, 0, 0, 0, 0, 0, 0, 0, 0, 0, 0, 0, 0, 0, 0, 0, 0, 0]\n"
     ]
    },
    {
     "name": "stderr",
     "output_type": "stream",
     "text": [
      "2024-04-08 15:37:10,389 - __main__ - WARNING - Run feature transformation: ['prod', 'cos', 'adde', 'linearRegressorTransform', 'add']\n",
      "2024-04-08 15:37:16,339 - __main__ - WARNING - Run feature transformation: ['prod', 'cos', 'adde', 'reciprocal', 'svrTransform']\n",
      "2024-04-08 15:37:21,384 - __main__ - WARNING - Run feature transformation: ['prod', 'cos', 'adde', 'tanh', 'exp']\n",
      "2024-04-08 15:37:26,924 - __main__ - WARNING - Run feature transformation: ['prod', 'cos', 'adde', 'div', 'tanh']\n",
      "2024-04-08 15:37:35,972 - __main__ - WARNING - Run feature transformation: ['prod', 'cos', 'adde', 'mlpRegressorTransform', 'tanh']\n",
      "2024-04-08 15:37:43,044 - __main__ - WARNING - Run feature transformation: ['prod', 'cos', 'adde', 'timeagg', 'relu']\n",
      "2024-04-08 15:37:47,447 - __main__ - WARNING - Add the best feature in set to the best features record.\n",
      "2024-04-08 15:37:47,449 - __main__ - WARNING - Run feature transformation: ['prod', 'cos', 'adde', 'decisionTreeRegressorTransform', 'svrTransform']\n",
      "2024-04-08 15:37:51,546 - __main__ - WARNING - Run feature transformation: ['prod', 'cos', 'adde', 'add', 'kernelapproxrbf']\n",
      "2024-04-08 15:37:57,451 - __main__ - WARNING - Run feature transformation: ['prod', 'cos', 'adde', 'radian', 'zscore']\n",
      "2024-04-08 15:38:02,279 - __main__ - WARNING - Add the best feature in set to the best features record.\n",
      "2024-04-08 15:38:02,280 - __main__ - WARNING - Performances of the given node is: [0.592998787893879, 0.5684515733307962, 0.6105174010786683, 0.5603166331768118, 0.5612548793310497, 0.5983186118188838, 0.5897857327482623, 0.5802263261585335, 0.5779607596290921, 0.5860102526547064]\n",
      "2024-04-08 15:38:02,281 - __main__ - WARNING - Mean perf is: 0.582584, Mean init is: 0.581475, Std init is: 0.012273 ==> reward: 1.000000\n",
      "2024-04-08 15:38:04,240 - __main__ - WARNING - Performance of scorer is: 0.17723576724529266\n",
      "2024-04-08 15:38:04,241 - __main__ - WARNING - Run feature transformation: ['prod', 'cos', 'adde']\n",
      "2024-04-08 15:38:28,833 - __main__ - WARNING - Mean init is: 0.5814751034102423, mean of new node is: 0.5108120687758875\n",
      "2024-04-08 15:38:28,840 - __main__ - WARNING - XXXXXXXXXXXXXXXXXXXXXXXXXXXXXXXXXXXXXXXXXXXXXXXXXXXXXXXXXXXX\n",
      "2024-04-08 15:38:28,840 - __main__ - WARNING - Round:\t63\n",
      "2024-04-08 15:38:28,841 - __main__ - WARNING - XXXXXXXXXXXXXXXXXXXXXXXXXXXXXXXXXXXXXXXXXXXXXXXXXXXXXXXXXXXX\n",
      "2024-04-08 15:38:28,844 - __main__ - WARNING - Run feature transformation: ['diff', 'cos', 'add', 'degree', 'decisionTreeRegressorTransform']\n"
     ]
    },
    {
     "name": "stdout",
     "output_type": "stream",
     "text": [
      "['prod', 'diff', 'div', 'reciprocal', 'add', 'zscore', 'radian', 'mlpRegressorTransform', 'linearRegressorTransform', 'adde', 'degree', 'decisionTreeRegressorTransform', 'kernelapproxrbf', 'exp', 'ln', 'sigmoid', 'tanh', 'xgbRegressorTransform', 'abs', 'minus', 'square', 'timeagg', 'svrTransform', 'relu', 'cos', 'negative', 'parameter']\n",
      "W: [7.0, 2.0, 4.0, 1, 1, 1, 1, 1, 1, 1, 1, 1, 1, 1, 1, 1, 1, 1, 4, 3.0, 3.0, 3.0, 2.0, 2.0, 4, 2.0]\n",
      "N: [4, 2, 3, 2, 2, 2, 2, 2, 2, 2, 2, 2, 2, 2, 2, 2, 2, 2, 3, 3, 3, 3, 3, 3, 3, 3]\n",
      "L: [1, 3.0, 2.0, 3.0, 3.0, 3.0, 4.0, 4.0, 4.0, 5.0, 5.0, 5.0, 6.0, 7.0, 7.0, 7, 7.0, 7, 5.0, 4.0, 4.0, 4.0, 3.0, 3.0, 6.0, 4.0]\n",
      "W_rate: [0.875, 0.4, 0.6666666666666666, 0.25, 0.25, 0.25, 0.2, 0.2, 0.2, 0.16666666666666666, 0.16666666666666666, 0.16666666666666666, 0.14285714285714285, 0.125, 0.125, 0.125, 0.125, 0.125, 0.4444444444444444, 0.42857142857142855, 0.42857142857142855, 0.42857142857142855, 0.4, 0.4, 0.4, 0.3333333333333333]\n",
      "Value: [0, 0, 0, 0, 0, 0, 0, 0, 0, 0, 0, 0, 0, 0, 0, 0, 0, 0, 0, 0, 0, 0, 0, 0, 0, 0]\n"
     ]
    },
    {
     "name": "stderr",
     "output_type": "stream",
     "text": [
      "2024-04-08 15:38:31,283 - __main__ - WARNING - Run feature transformation: ['diff', 'cos', 'add', 'negative', 'exp']\n",
      "2024-04-08 15:38:32,532 - __main__ - WARNING - Run feature transformation: ['diff', 'cos', 'add', 'add', 'adde']\n",
      "2024-04-08 15:38:36,060 - __main__ - WARNING - Run feature transformation: ['diff', 'cos', 'add', 'minus', 'minus']\n",
      "2024-04-08 15:38:42,466 - __main__ - WARNING - Run feature transformation: ['diff', 'cos', 'add', 'square', 'square']\n",
      "2024-04-08 15:38:44,045 - __main__ - WARNING - Run feature transformation: ['diff', 'cos', 'add', 'linearRegressorTransform', 'linearRegressorTransform']\n",
      "2024-04-08 15:38:45,271 - __main__ - WARNING - Run feature transformation: ['diff', 'cos', 'add', 'add', 'reciprocal']\n",
      "2024-04-08 15:38:47,742 - __main__ - WARNING - Run feature transformation: ['diff', 'cos', 'add', 'svrTransform', 'tanh']\n",
      "2024-04-08 15:38:49,050 - __main__ - WARNING - Run feature transformation: ['diff', 'cos', 'add', 'exp', 'div']\n",
      "2024-04-08 15:38:52,309 - __main__ - WARNING - Run feature transformation: ['diff', 'cos', 'add', 'tanh', 'mlpRegressorTransform']\n",
      "2024-04-08 15:38:56,843 - __main__ - WARNING - Performances of the given node is: [0.5488507972978067, 0.5471578673588167, 0.562780969597241, 0.5566580514409037, 0.551541547530495, 0.5644422901636368, 0.5696260629009585, 0.5642300509261913, 0.5558225960329242, 0.5626756848201109]\n",
      "2024-04-08 15:38:56,844 - __main__ - WARNING - Mean perf is: 0.558379, Mean init is: 0.581475, Std init is: 0.012273 ==> reward: -2.000000\n",
      "2024-04-08 15:38:58,837 - __main__ - WARNING - Performance of scorer is: 0.037516962736845016\n",
      "2024-04-08 15:38:58,845 - __main__ - WARNING - XXXXXXXXXXXXXXXXXXXXXXXXXXXXXXXXXXXXXXXXXXXXXXXXXXXXXXXXXXXX\n",
      "2024-04-08 15:38:58,845 - __main__ - WARNING - Round:\t64\n",
      "2024-04-08 15:38:58,846 - __main__ - WARNING - XXXXXXXXXXXXXXXXXXXXXXXXXXXXXXXXXXXXXXXXXXXXXXXXXXXXXXXXXXXX\n",
      "2024-04-08 15:38:58,848 - __main__ - WARNING - Run feature transformation: ['div', 'exp', 'square', 'minus', 'square']\n"
     ]
    },
    {
     "name": "stdout",
     "output_type": "stream",
     "text": [
      "['diff', 'div', 'prod', 'reciprocal', 'add', 'zscore', 'radian', 'mlpRegressorTransform', 'linearRegressorTransform', 'adde', 'degree', 'decisionTreeRegressorTransform', 'kernelapproxrbf', 'exp', 'ln', 'sigmoid', 'tanh', 'xgbRegressorTransform', 'abs', 'minus', 'square', 'timeagg', 'svrTransform', 'relu', 'cos', 'negative', 'parameter']\n",
      "W: [2.0, 4.0, 7.0, 1, 1, 1, 1, 1, 1, 1, 1, 1, 1, 1, 1, 1, 1, 1, 4, 3.0, 3.0, 3.0, 2.0, 2.0, 4, 2.0]\n",
      "N: [3, 3, 4, 2, 2, 2, 2, 2, 2, 2, 2, 2, 2, 2, 2, 2, 2, 2, 3, 3, 3, 3, 3, 3, 3, 3]\n",
      "L: [5.0, 2.0, 1, 3.0, 3.0, 3.0, 4.0, 4.0, 4.0, 5.0, 5.0, 5.0, 6.0, 7.0, 7.0, 7, 7.0, 7, 5.0, 4.0, 4.0, 4.0, 3.0, 3.0, 6.0, 4.0]\n",
      "W_rate: [0.2857142857142857, 0.6666666666666666, 0.875, 0.25, 0.25, 0.25, 0.2, 0.2, 0.2, 0.16666666666666666, 0.16666666666666666, 0.16666666666666666, 0.14285714285714285, 0.125, 0.125, 0.125, 0.125, 0.125, 0.4444444444444444, 0.42857142857142855, 0.42857142857142855, 0.42857142857142855, 0.4, 0.4, 0.4, 0.3333333333333333]\n",
      "Value: [0, 0, 0, 0, 0, 0, 0, 0, 0, 0, 0, 0, 0, 0, 0, 0, 0, 0, 0, 0, 0, 0, 0, 0, 0, 0]\n"
     ]
    },
    {
     "name": "stderr",
     "output_type": "stream",
     "text": [
      "2024-04-08 15:39:05,030 - __main__ - WARNING - Add the best feature in set to the best features record.\n",
      "2024-04-08 15:39:05,031 - __main__ - WARNING - Run feature transformation: ['div', 'exp', 'square', 'zscore', 'square']\n",
      "2024-04-08 15:39:09,671 - __main__ - WARNING - Run feature transformation: ['div', 'exp', 'square', 'decisionTreeRegressorTransform', 'abs']\n",
      "2024-04-08 15:39:13,630 - __main__ - WARNING - Run feature transformation: ['div', 'exp', 'square', 'timeagg', 'relu']\n",
      "2024-04-08 15:39:17,675 - __main__ - WARNING - Run feature transformation: ['div', 'exp', 'square', 'add', 'reciprocal']\n",
      "2024-04-08 15:39:22,735 - __main__ - WARNING - Run feature transformation: ['div', 'exp', 'square', 'tanh', 'div']\n",
      "2024-04-08 15:39:29,996 - __main__ - WARNING - Run feature transformation: ['div', 'exp', 'square', 'ln', 'abs']\n",
      "2024-04-08 15:39:34,632 - __main__ - WARNING - Run feature transformation: ['div', 'exp', 'square', 'minus', 'zscore']\n",
      "2024-04-08 15:39:35,616 - __main__ - WARNING - Run feature transformation: ['div', 'exp', 'square', 'minus', 'minus']\n",
      "2024-04-08 15:39:37,238 - __main__ - WARNING - Add the best feature in set to the best features record.\n",
      "2024-04-08 15:39:37,239 - __main__ - WARNING - Run feature transformation: ['div', 'exp', 'square', 'radian', 'exp']\n",
      "2024-04-08 15:39:41,652 - __main__ - WARNING - Performances of the given node is: [0.5860391437678305, 0.5860373625517538, 0.567483756244631, 0.595426461907966, 0.5554247225064353, 0.5727976880680181, 0.5811462651694392, 0.5664377519124212, 0.5888010687480673, 0.5791739349032887]\n",
      "2024-04-08 15:39:41,654 - __main__ - WARNING - Mean perf is: 0.577877, Mean init is: 0.581475, Std init is: 0.012273 ==> reward: -1.000000\n",
      "2024-04-08 15:39:43,651 - __main__ - WARNING - Performance of scorer is: 0.026900161057710648\n",
      "2024-04-08 15:39:43,657 - __main__ - WARNING - XXXXXXXXXXXXXXXXXXXXXXXXXXXXXXXXXXXXXXXXXXXXXXXXXXXXXXXXXXXX\n",
      "2024-04-08 15:39:43,658 - __main__ - WARNING - Round:\t65\n",
      "2024-04-08 15:39:43,658 - __main__ - WARNING - XXXXXXXXXXXXXXXXXXXXXXXXXXXXXXXXXXXXXXXXXXXXXXXXXXXXXXXXXXXX\n",
      "2024-04-08 15:39:43,661 - __main__ - WARNING - Run feature transformation: ['prod', 'exp', 'add', 'exp', 'adde']\n"
     ]
    },
    {
     "name": "stdout",
     "output_type": "stream",
     "text": [
      "['div', 'prod', 'reciprocal', 'add', 'zscore', 'radian', 'mlpRegressorTransform', 'linearRegressorTransform', 'adde', 'degree', 'decisionTreeRegressorTransform', 'kernelapproxrbf', 'exp', 'ln', 'sigmoid', 'tanh', 'xgbRegressorTransform', 'abs', 'minus', 'square', 'timeagg', 'svrTransform', 'relu', 'cos', 'negative', 'diff', 'parameter']\n",
      "W: [4.0, 7.0, 1, 1, 1, 1, 1, 1, 1, 1, 1, 1, 1, 1, 1, 1, 1, 4, 3.0, 3.0, 3.0, 2.0, 2.0, 4, 2.0, 2.0]\n",
      "N: [4, 4, 2, 2, 2, 2, 2, 2, 2, 2, 2, 2, 2, 2, 2, 2, 2, 3, 3, 3, 3, 3, 3, 3, 3, 3]\n",
      "L: [3.0, 1, 3.0, 3.0, 3.0, 4.0, 4.0, 4.0, 5.0, 5.0, 5.0, 6.0, 7.0, 7.0, 7, 7.0, 7, 5.0, 4.0, 4.0, 4.0, 3.0, 3.0, 6.0, 4.0, 5.0]\n",
      "W_rate: [0.5714285714285714, 0.875, 0.25, 0.25, 0.25, 0.2, 0.2, 0.2, 0.16666666666666666, 0.16666666666666666, 0.16666666666666666, 0.14285714285714285, 0.125, 0.125, 0.125, 0.125, 0.125, 0.4444444444444444, 0.42857142857142855, 0.42857142857142855, 0.42857142857142855, 0.4, 0.4, 0.4, 0.3333333333333333, 0.2857142857142857]\n",
      "Value: [0, 0, 0, 0, 0, 0, 0, 0, 0, 0, 0, 0, 0, 0, 0, 0, 0, 0, 0, 0, 0, 0, 0, 0, 0, 0]\n"
     ]
    },
    {
     "name": "stderr",
     "output_type": "stream",
     "text": [
      "2024-04-08 15:39:49,216 - __main__ - WARNING - Run feature transformation: ['prod', 'exp', 'add', 'negative', 'minus']\n",
      "2024-04-08 15:39:56,182 - __main__ - WARNING - Add the best feature in set to the best features record.\n",
      "2024-04-08 15:39:56,183 - __main__ - WARNING - Run feature transformation: ['prod', 'exp', 'add', 'linearRegressorTransform', 'xgbRegressorTransform']\n",
      "2024-04-08 15:39:59,791 - __main__ - WARNING - Add the best feature in set to the best features record.\n",
      "2024-04-08 15:39:59,792 - __main__ - WARNING - Run feature transformation: ['prod', 'exp', 'add', 'linearRegressorTransform', 'relu']\n",
      "2024-04-08 15:40:00,784 - __main__ - WARNING - Add the best feature in set to the best features record.\n",
      "2024-04-08 15:40:00,785 - __main__ - WARNING - Run feature transformation: ['prod', 'exp', 'add', 'adde', 'square']\n",
      "2024-04-08 15:40:05,934 - __main__ - WARNING - Run feature transformation: ['prod', 'exp', 'add', 'diff', 'svrTransform']\n",
      "2024-04-08 15:40:09,586 - __main__ - WARNING - Add the best feature in set to the best features record.\n",
      "2024-04-08 15:40:09,587 - __main__ - WARNING - Run feature transformation: ['prod', 'exp', 'add', 'minus', 'tanh']\n",
      "2024-04-08 15:40:13,720 - __main__ - WARNING - Add the best feature in set to the best features record.\n",
      "2024-04-08 15:40:13,721 - __main__ - WARNING - Run feature transformation: ['prod', 'exp', 'add', 'tanh', 'abs']\n",
      "2024-04-08 15:40:19,118 - __main__ - WARNING - Add the best feature in set to the best features record.\n",
      "2024-04-08 15:40:19,119 - __main__ - WARNING - Run feature transformation: ['prod', 'exp', 'add', 'reciprocal', 'mlpRegressorTransform']\n",
      "2024-04-08 15:40:27,586 - __main__ - WARNING - Run feature transformation: ['prod', 'exp', 'add', 'zscore', 'sigmoid']\n",
      "2024-04-08 15:40:31,950 - __main__ - WARNING - Performances of the given node is: [0.5710953379868361, 0.5918028305697519, 0.5856578320076824, 0.6113758435146944, 0.5774119269672819, 0.5864221523134642, 0.598896281567473, 0.6006197958079962, 0.5719786113868794, 0.5888533319854772]\n",
      "2024-04-08 15:40:31,952 - __main__ - WARNING - Mean perf is: 0.588411, Mean init is: 0.581475, Std init is: 0.012273 ==> reward: 1.000000\n",
      "2024-04-08 15:40:33,963 - __main__ - WARNING - Performance of scorer is: 0.034003451466560364\n",
      "2024-04-08 15:40:33,964 - __main__ - WARNING - Run feature transformation: ['prod', 'exp', 'add']\n",
      "2024-04-08 15:40:52,104 - __main__ - WARNING - Mean init is: 0.5814751034102423, mean of new node is: 0.5506626990075034\n",
      "2024-04-08 15:40:52,110 - __main__ - WARNING - XXXXXXXXXXXXXXXXXXXXXXXXXXXXXXXXXXXXXXXXXXXXXXXXXXXXXXXXXXXX\n",
      "2024-04-08 15:40:52,111 - __main__ - WARNING - Round:\t66\n",
      "2024-04-08 15:40:52,111 - __main__ - WARNING - XXXXXXXXXXXXXXXXXXXXXXXXXXXXXXXXXXXXXXXXXXXXXXXXXXXXXXXXXXXX\n",
      "2024-04-08 15:40:52,114 - __main__ - WARNING - Run feature transformation: ['reciprocal', 'cos', 'ln', 'exp', 'adde']\n"
     ]
    },
    {
     "name": "stdout",
     "output_type": "stream",
     "text": [
      "['prod', 'reciprocal', 'add', 'zscore', 'radian', 'mlpRegressorTransform', 'linearRegressorTransform', 'adde', 'degree', 'decisionTreeRegressorTransform', 'kernelapproxrbf', 'exp', 'ln', 'sigmoid', 'tanh', 'xgbRegressorTransform', 'abs', 'minus', 'square', 'timeagg', 'svrTransform', 'relu', 'cos', 'div', 'negative', 'diff', 'parameter']\n",
      "W: [8.0, 1, 1, 1, 1, 1, 1, 1, 1, 1, 1, 1, 1, 1, 1, 1, 4, 3.0, 3.0, 3.0, 2.0, 2.0, 4, 4.0, 2.0, 2.0]\n",
      "N: [5, 2, 2, 2, 2, 2, 2, 2, 2, 2, 2, 2, 2, 2, 2, 2, 3, 3, 3, 3, 3, 3, 3, 4, 3, 3]\n",
      "L: [1, 3.0, 3.0, 3.0, 4.0, 4.0, 4.0, 5.0, 5.0, 5.0, 6.0, 7.0, 7.0, 7, 7.0, 7, 5.0, 4.0, 4.0, 4.0, 3.0, 3.0, 6.0, 3.0, 4.0, 5.0]\n",
      "W_rate: [0.8888888888888888, 0.25, 0.25, 0.25, 0.2, 0.2, 0.2, 0.16666666666666666, 0.16666666666666666, 0.16666666666666666, 0.14285714285714285, 0.125, 0.125, 0.125, 0.125, 0.125, 0.4444444444444444, 0.42857142857142855, 0.42857142857142855, 0.42857142857142855, 0.4, 0.4, 0.4, 0.5714285714285714, 0.3333333333333333, 0.2857142857142857]\n",
      "Value: [0, 0, 0, 0, 0, 0, 0, 0, 0, 0, 0, 0, 0, 0, 0, 0, 0, 0, 0, 0, 0, 0, 0, 0, 0, 0]\n"
     ]
    },
    {
     "name": "stderr",
     "output_type": "stream",
     "text": [
      "2024-04-08 15:40:54,094 - __main__ - WARNING - Run feature transformation: ['reciprocal', 'cos', 'ln', 'negative', 'minus']\n",
      "2024-04-08 15:40:56,176 - __main__ - WARNING - Run feature transformation: ['reciprocal', 'cos', 'ln', 'linearRegressorTransform', 'xgbRegressorTransform']\n",
      "2024-04-08 15:40:57,331 - __main__ - WARNING - Run feature transformation: ['reciprocal', 'cos', 'ln', 'linearRegressorTransform', 'relu']\n",
      "2024-04-08 15:40:57,705 - __main__ - WARNING - Run feature transformation: ['reciprocal', 'cos', 'ln', 'adde', 'square']\n",
      "2024-04-08 15:40:59,394 - __main__ - WARNING - Add the best feature in set to the best features record.\n",
      "2024-04-08 15:40:59,395 - __main__ - WARNING - Run feature transformation: ['reciprocal', 'cos', 'ln', 'diff', 'svrTransform']\n",
      "2024-04-08 15:41:00,601 - __main__ - WARNING - Run feature transformation: ['reciprocal', 'cos', 'ln', 'minus', 'tanh']\n",
      "2024-04-08 15:41:02,504 - __main__ - WARNING - Run feature transformation: ['reciprocal', 'cos', 'ln', 'tanh', 'abs']\n",
      "2024-04-08 15:41:04,225 - __main__ - WARNING - Run feature transformation: ['reciprocal', 'cos', 'ln', 'reciprocal', 'mlpRegressorTransform']\n",
      "2024-04-08 15:41:08,560 - __main__ - WARNING - Run feature transformation: ['reciprocal', 'cos', 'ln', 'zscore', 'sigmoid']\n",
      "2024-04-08 15:41:10,476 - __main__ - WARNING - Performances of the given node is: [0.5704978328752945, 0.5559165697531275, 0.5581470049826429, 0.5392341497125401, 0.5946449915151596, 0.5589533914673659, 0.5517195305019551, 0.55966015915073, 0.5494055568079055, 0.5768796082167932]\n",
      "2024-04-08 15:41:10,477 - __main__ - WARNING - Mean perf is: 0.561506, Mean init is: 0.581475, Std init is: 0.012273 ==> reward: -1.000000\n",
      "2024-04-08 15:41:12,482 - __main__ - WARNING - Performance of scorer is: 0.03356001898646355\n",
      "2024-04-08 15:41:12,489 - __main__ - WARNING - XXXXXXXXXXXXXXXXXXXXXXXXXXXXXXXXXXXXXXXXXXXXXXXXXXXXXXXXXXXX\n",
      "2024-04-08 15:41:12,489 - __main__ - WARNING - Round:\t67\n",
      "2024-04-08 15:41:12,489 - __main__ - WARNING - XXXXXXXXXXXXXXXXXXXXXXXXXXXXXXXXXXXXXXXXXXXXXXXXXXXXXXXXXXXX\n",
      "2024-04-08 15:41:12,492 - __main__ - WARNING - Run feature transformation: ['add', 'cos', 'timeagg', 'diff', 'svrTransform']\n"
     ]
    },
    {
     "name": "stdout",
     "output_type": "stream",
     "text": [
      "['reciprocal', 'add', 'zscore', 'radian', 'mlpRegressorTransform', 'linearRegressorTransform', 'adde', 'degree', 'decisionTreeRegressorTransform', 'kernelapproxrbf', 'prod', 'exp', 'ln', 'sigmoid', 'tanh', 'xgbRegressorTransform', 'abs', 'minus', 'square', 'timeagg', 'svrTransform', 'relu', 'cos', 'div', 'negative', 'diff', 'parameter']\n",
      "W: [1, 1, 1, 1, 1, 1, 1, 1, 1, 1, 8.0, 1, 1, 1, 1, 1, 4, 3.0, 3.0, 3.0, 2.0, 2.0, 4, 4.0, 2.0, 2.0]\n",
      "N: [3, 2, 2, 2, 2, 2, 2, 2, 2, 2, 5, 2, 2, 2, 2, 2, 3, 3, 3, 3, 3, 3, 3, 4, 3, 3]\n",
      "L: [4.0, 3.0, 3.0, 4.0, 4.0, 4.0, 5.0, 5.0, 5.0, 6.0, 1, 7.0, 7.0, 7, 7.0, 7, 5.0, 4.0, 4.0, 4.0, 3.0, 3.0, 6.0, 3.0, 4.0, 5.0]\n",
      "W_rate: [0.2, 0.25, 0.25, 0.2, 0.2, 0.2, 0.16666666666666666, 0.16666666666666666, 0.16666666666666666, 0.14285714285714285, 0.8888888888888888, 0.125, 0.125, 0.125, 0.125, 0.125, 0.4444444444444444, 0.42857142857142855, 0.42857142857142855, 0.42857142857142855, 0.4, 0.4, 0.4, 0.5714285714285714, 0.3333333333333333, 0.2857142857142857]\n",
      "Value: [0, 0, 0, 0, 0, 0, 0, 0, 0, 0, 0, 0, 0, 0, 0, 0, 0, 0, 0, 0, 0, 0, 0, 0, 0, 0]\n"
     ]
    },
    {
     "name": "stderr",
     "output_type": "stream",
     "text": [
      "2024-04-08 15:41:16,632 - __main__ - WARNING - Run feature transformation: ['add', 'cos', 'timeagg', 'minus', 'tanh']\n",
      "2024-04-08 15:41:23,528 - __main__ - WARNING - Run feature transformation: ['add', 'cos', 'timeagg', 'tanh', 'abs']\n",
      "2024-04-08 15:41:29,696 - __main__ - WARNING - Run feature transformation: ['add', 'cos', 'timeagg', 'reciprocal', 'mlpRegressorTransform']\n",
      "2024-04-08 15:41:38,220 - __main__ - WARNING - Add the best feature in set to the best features record.\n",
      "2024-04-08 15:41:38,221 - __main__ - WARNING - Run feature transformation: ['add', 'cos', 'timeagg', 'zscore', 'sigmoid']\n",
      "2024-04-08 15:41:42,320 - __main__ - WARNING - Run feature transformation: ['add', 'cos', 'timeagg', 'mlpRegressorTransform', 'degree']\n",
      "2024-04-08 15:41:47,871 - __main__ - WARNING - Run feature transformation: ['add', 'cos', 'timeagg', 'sigmoid', 'relu']\n",
      "2024-04-08 15:41:54,135 - __main__ - WARNING - Run feature transformation: ['add', 'cos', 'timeagg', 'zscore', 'prod']\n",
      "2024-04-08 15:41:59,524 - __main__ - WARNING - Add the best feature in set to the best features record.\n",
      "2024-04-08 15:41:59,526 - __main__ - WARNING - Run feature transformation: ['add', 'cos', 'timeagg', 'xgbRegressorTransform', 'minus']\n",
      "2024-04-08 15:42:04,992 - __main__ - WARNING - Run feature transformation: ['add', 'cos', 'timeagg', 'svrTransform', 'negative']\n",
      "2024-04-08 15:42:07,775 - __main__ - WARNING - Performances of the given node is: [0.5684591936816287, 0.5683753946360182, 0.5677417589522821, 0.5980437049287688, 0.5601761627801195, 0.5676221696013122, 0.5697725553310401, 0.5823814122514122, 0.5732280743596995, 0.5706639270534268]\n",
      "2024-04-08 15:42:07,903 - __main__ - WARNING - Mean perf is: 0.572646, Mean init is: 0.581475, Std init is: 0.012273 ==> reward: -1.000000\n",
      "2024-04-08 15:42:10,236 - __main__ - WARNING - Performance of scorer is: 0.04456198960542679\n",
      "2024-04-08 15:42:10,289 - __main__ - WARNING - XXXXXXXXXXXXXXXXXXXXXXXXXXXXXXXXXXXXXXXXXXXXXXXXXXXXXXXXXXXX\n",
      "2024-04-08 15:42:10,290 - __main__ - WARNING - Round:\t68\n",
      "2024-04-08 15:42:10,290 - __main__ - WARNING - XXXXXXXXXXXXXXXXXXXXXXXXXXXXXXXXXXXXXXXXXXXXXXXXXXXXXXXXXXXX\n",
      "2024-04-08 15:42:10,293 - __main__ - WARNING - Run feature transformation: ['zscore', 'exp', 'add', 'reciprocal', 'mlpRegressorTransform']\n"
     ]
    },
    {
     "name": "stdout",
     "output_type": "stream",
     "text": [
      "['add', 'zscore', 'radian', 'mlpRegressorTransform', 'linearRegressorTransform', 'adde', 'degree', 'decisionTreeRegressorTransform', 'kernelapproxrbf', 'prod', 'exp', 'ln', 'sigmoid', 'tanh', 'xgbRegressorTransform', 'abs', 'minus', 'square', 'timeagg', 'svrTransform', 'relu', 'cos', 'div', 'negative', 'diff', 'reciprocal', 'parameter']\n",
      "W: [1, 1, 1, 1, 1, 1, 1, 1, 1, 8.0, 1, 1, 1, 1, 1, 4, 3.0, 3.0, 3.0, 2.0, 2.0, 4, 4.0, 2.0, 2.0, 1]\n",
      "N: [3, 2, 2, 2, 2, 2, 2, 2, 2, 5, 2, 2, 2, 2, 2, 3, 3, 3, 3, 3, 3, 3, 4, 3, 3, 3]\n",
      "L: [4.0, 3.0, 4.0, 4.0, 4.0, 5.0, 5.0, 5.0, 6.0, 1, 7.0, 7.0, 7, 7.0, 7, 5.0, 4.0, 4.0, 4.0, 3.0, 3.0, 6.0, 3.0, 4.0, 5.0, 4.0]\n",
      "W_rate: [0.2, 0.25, 0.2, 0.2, 0.2, 0.16666666666666666, 0.16666666666666666, 0.16666666666666666, 0.14285714285714285, 0.8888888888888888, 0.125, 0.125, 0.125, 0.125, 0.125, 0.4444444444444444, 0.42857142857142855, 0.42857142857142855, 0.42857142857142855, 0.4, 0.4, 0.4, 0.5714285714285714, 0.3333333333333333, 0.2857142857142857, 0.2]\n",
      "Value: [0, 0, 0, 0, 0, 0, 0, 0, 0, 0, 0, 0, 0, 0, 0, 0, 0, 0, 0, 0, 0, 0, 0, 0, 0, 0]\n"
     ]
    },
    {
     "name": "stderr",
     "output_type": "stream",
     "text": [
      "2024-04-08 15:42:15,414 - __main__ - WARNING - Run feature transformation: ['zscore', 'exp', 'add', 'zscore', 'sigmoid']\n",
      "2024-04-08 15:42:17,270 - __main__ - WARNING - Run feature transformation: ['zscore', 'exp', 'add', 'mlpRegressorTransform', 'degree']\n",
      "2024-04-08 15:42:21,499 - __main__ - WARNING - Run feature transformation: ['zscore', 'exp', 'add', 'sigmoid', 'relu']\n",
      "2024-04-08 15:42:23,398 - __main__ - WARNING - Add the best feature in set to the best features record.\n",
      "2024-04-08 15:42:23,399 - __main__ - WARNING - Run feature transformation: ['zscore', 'exp', 'add', 'zscore', 'prod']\n",
      "2024-04-08 15:42:26,092 - __main__ - WARNING - Run feature transformation: ['zscore', 'exp', 'add', 'xgbRegressorTransform', 'minus']\n",
      "2024-04-08 15:42:27,876 - __main__ - WARNING - Run feature transformation: ['zscore', 'exp', 'add', 'svrTransform', 'negative']\n",
      "2024-04-08 15:42:29,207 - __main__ - WARNING - Run feature transformation: ['zscore', 'exp', 'add', 'diff', 'negative']\n",
      "2024-04-08 15:42:30,577 - __main__ - WARNING - Run feature transformation: ['zscore', 'exp', 'add', 'div', 'diff']\n",
      "2024-04-08 15:42:34,406 - __main__ - WARNING - Run feature transformation: ['zscore', 'exp', 'add', 'tanh', 'square']\n",
      "2024-04-08 15:42:36,210 - __main__ - WARNING - Add the best feature in set to the best features record.\n",
      "2024-04-08 15:42:36,211 - __main__ - WARNING - Performances of the given node is: [0.5720511307513587, 0.5810609730992187, 0.5577783814370794, 0.5911314976663782, 0.5692479960768831, 0.5458396960737982, 0.5725917571401863, 0.5595521008206624, 0.58006519536678, 0.5881193477570306]\n",
      "2024-04-08 15:42:36,212 - __main__ - WARNING - Mean perf is: 0.571744, Mean init is: 0.581475, Std init is: 0.012273 ==> reward: -1.000000\n",
      "2024-04-08 15:42:38,281 - __main__ - WARNING - Performance of scorer is: 0.056923333555459976\n",
      "2024-04-08 15:42:38,287 - __main__ - WARNING - XXXXXXXXXXXXXXXXXXXXXXXXXXXXXXXXXXXXXXXXXXXXXXXXXXXXXXXXXXXX\n",
      "2024-04-08 15:42:38,288 - __main__ - WARNING - Round:\t69\n",
      "2024-04-08 15:42:38,288 - __main__ - WARNING - XXXXXXXXXXXXXXXXXXXXXXXXXXXXXXXXXXXXXXXXXXXXXXXXXXXXXXXXXXXX\n",
      "2024-04-08 15:42:38,290 - __main__ - WARNING - Run feature transformation: ['radian', 'cos', 'ln', 'minus', 'sigmoid']\n"
     ]
    },
    {
     "name": "stdout",
     "output_type": "stream",
     "text": [
      "['zscore', 'radian', 'mlpRegressorTransform', 'linearRegressorTransform', 'adde', 'degree', 'decisionTreeRegressorTransform', 'kernelapproxrbf', 'prod', 'exp', 'ln', 'sigmoid', 'tanh', 'xgbRegressorTransform', 'abs', 'minus', 'square', 'timeagg', 'svrTransform', 'relu', 'cos', 'div', 'negative', 'diff', 'add', 'reciprocal', 'parameter']\n",
      "W: [1, 1, 1, 1, 1, 1, 1, 1, 8.0, 1, 1, 1, 1, 1, 4, 3.0, 3.0, 3.0, 2.0, 2.0, 4, 4.0, 2.0, 2.0, 1, 1]\n",
      "N: [3, 2, 2, 2, 2, 2, 2, 2, 5, 2, 2, 2, 2, 2, 3, 3, 3, 3, 3, 3, 3, 4, 3, 3, 3, 3]\n",
      "L: [4.0, 4.0, 4.0, 4.0, 5.0, 5.0, 5.0, 6.0, 1, 7.0, 7.0, 7, 7.0, 7, 5.0, 4.0, 4.0, 4.0, 3.0, 3.0, 6.0, 3.0, 4.0, 5.0, 4.0, 4.0]\n",
      "W_rate: [0.2, 0.2, 0.2, 0.2, 0.16666666666666666, 0.16666666666666666, 0.16666666666666666, 0.14285714285714285, 0.8888888888888888, 0.125, 0.125, 0.125, 0.125, 0.125, 0.4444444444444444, 0.42857142857142855, 0.42857142857142855, 0.42857142857142855, 0.4, 0.4, 0.4, 0.5714285714285714, 0.3333333333333333, 0.2857142857142857, 0.2, 0.2]\n",
      "Value: [0, 0, 0, 0, 0, 0, 0, 0, 0, 0, 0, 0, 0, 0, 0, 0, 0, 0, 0, 0, 0, 0, 0, 0, 0, 0]\n"
     ]
    },
    {
     "name": "stderr",
     "output_type": "stream",
     "text": [
      "2024-04-08 15:42:40,539 - __main__ - WARNING - Run feature transformation: ['radian', 'cos', 'ln', 'sigmoid', 'prod']\n",
      "2024-04-08 15:42:43,610 - __main__ - WARNING - Add the best feature in set to the best features record.\n",
      "2024-04-08 15:42:43,612 - __main__ - WARNING - Run feature transformation: ['radian', 'cos', 'ln', 'abs', 'kernelapproxrbf']\n",
      "2024-04-08 15:42:44,754 - __main__ - WARNING - Run feature transformation: ['radian', 'cos', 'ln', 'xgbRegressorTransform', 'div']\n",
      "2024-04-08 15:42:46,387 - __main__ - WARNING - Run feature transformation: ['radian', 'cos', 'ln', 'exp', 'add']\n",
      "2024-04-08 15:42:48,324 - __main__ - WARNING - Run feature transformation: ['radian', 'cos', 'ln', 'linearRegressorTransform', 'cos']\n",
      "2024-04-08 15:42:50,545 - __main__ - WARNING - Run feature transformation: ['radian', 'cos', 'ln', 'add', 'reciprocal']\n",
      "2024-04-08 15:42:52,459 - __main__ - WARNING - Run feature transformation: ['radian', 'cos', 'ln', 'abs', 'degree']\n",
      "2024-04-08 15:42:53,719 - __main__ - WARNING - Add the best feature in set to the best features record.\n",
      "2024-04-08 15:42:53,720 - __main__ - WARNING - Run feature transformation: ['radian', 'cos', 'ln', 'add', 'timeagg']\n",
      "2024-04-08 15:42:54,604 - __main__ - WARNING - Run feature transformation: ['radian', 'cos', 'ln', 'abs', 'negative']\n",
      "2024-04-08 15:42:55,858 - __main__ - WARNING - Performances of the given node is: [0.5717853664592234, 0.5896396647287423, 0.5203271951242061, 0.5284860568419683, 0.5743247093835977, 0.5796792451960889, 0.5638020893997036, 0.5922428072966507, 0.5712475637601119, 0.58724806176996]\n",
      "2024-04-08 15:42:55,860 - __main__ - WARNING - Mean perf is: 0.567878, Mean init is: 0.581475, Std init is: 0.012273 ==> reward: -1.000000\n",
      "2024-04-08 15:42:57,993 - __main__ - WARNING - Performance of scorer is: 0.04161849990487099\n",
      "2024-04-08 15:42:58,000 - __main__ - WARNING - XXXXXXXXXXXXXXXXXXXXXXXXXXXXXXXXXXXXXXXXXXXXXXXXXXXXXXXXXXXX\n",
      "2024-04-08 15:42:58,000 - __main__ - WARNING - Round:\t70\n",
      "2024-04-08 15:42:58,001 - __main__ - WARNING - XXXXXXXXXXXXXXXXXXXXXXXXXXXXXXXXXXXXXXXXXXXXXXXXXXXXXXXXXXXX\n",
      "2024-04-08 15:42:58,003 - __main__ - WARNING - Run feature transformation: ['mlpRegressorTransform', 'cos', 'div', 'add', 'timeagg']\n"
     ]
    },
    {
     "name": "stdout",
     "output_type": "stream",
     "text": [
      "['radian', 'mlpRegressorTransform', 'linearRegressorTransform', 'adde', 'degree', 'decisionTreeRegressorTransform', 'kernelapproxrbf', 'prod', 'exp', 'ln', 'sigmoid', 'tanh', 'xgbRegressorTransform', 'abs', 'minus', 'square', 'timeagg', 'svrTransform', 'relu', 'cos', 'div', 'negative', 'diff', 'zscore', 'add', 'reciprocal', 'parameter']\n",
      "W: [1, 1, 1, 1, 1, 1, 1, 8.0, 1, 1, 1, 1, 1, 4, 3.0, 3.0, 3.0, 2.0, 2.0, 4, 4.0, 2.0, 2.0, 1, 1, 1]\n",
      "N: [3, 2, 2, 2, 2, 2, 2, 5, 2, 2, 2, 2, 2, 3, 3, 3, 3, 3, 3, 3, 4, 3, 3, 3, 3, 3]\n",
      "L: [5.0, 4.0, 4.0, 5.0, 5.0, 5.0, 6.0, 1, 7.0, 7.0, 7, 7.0, 7, 5.0, 4.0, 4.0, 4.0, 3.0, 3.0, 6.0, 3.0, 4.0, 5.0, 4.0, 4.0, 4.0]\n",
      "W_rate: [0.16666666666666666, 0.2, 0.2, 0.16666666666666666, 0.16666666666666666, 0.16666666666666666, 0.14285714285714285, 0.8888888888888888, 0.125, 0.125, 0.125, 0.125, 0.125, 0.4444444444444444, 0.42857142857142855, 0.42857142857142855, 0.42857142857142855, 0.4, 0.4, 0.4, 0.5714285714285714, 0.3333333333333333, 0.2857142857142857, 0.2, 0.2, 0.2]\n",
      "Value: [0, 0, 0, 0, 0, 0, 0, 0, 0, 0, 0, 0, 0, 0, 0, 0, 0, 0, 0, 0, 0, 0, 0, 0, 0, 0]\n"
     ]
    },
    {
     "name": "stderr",
     "output_type": "stream",
     "text": [
      "2024-04-08 15:43:02,096 - __main__ - WARNING - Run feature transformation: ['mlpRegressorTransform', 'cos', 'div', 'abs', 'negative']\n",
      "2024-04-08 15:43:04,645 - __main__ - WARNING - Run feature transformation: ['mlpRegressorTransform', 'cos', 'div', 'ln', 'abs']\n",
      "2024-04-08 15:43:07,541 - __main__ - WARNING - Run feature transformation: ['mlpRegressorTransform', 'cos', 'div', 'reciprocal', 'adde']\n",
      "2024-04-08 15:43:10,980 - __main__ - WARNING - Run feature transformation: ['mlpRegressorTransform', 'cos', 'div', 'minus', 'prod']\n",
      "2024-04-08 15:43:15,524 - __main__ - WARNING - Run feature transformation: ['mlpRegressorTransform', 'cos', 'div', 'degree', 'sigmoid']\n",
      "2024-04-08 15:43:19,412 - __main__ - WARNING - Run feature transformation: ['mlpRegressorTransform', 'cos', 'div', 'negative', 'minus']\n",
      "2024-04-08 15:43:23,732 - __main__ - WARNING - Add the best feature in set to the best features record.\n",
      "2024-04-08 15:43:23,733 - __main__ - WARNING - Run feature transformation: ['mlpRegressorTransform', 'cos', 'div', 'minus', 'decisionTreeRegressorTransform']\n",
      "2024-04-08 15:43:24,961 - __main__ - WARNING - Run feature transformation: ['mlpRegressorTransform', 'cos', 'div', 'kernelapproxrbf', 'adde']\n",
      "2024-04-08 15:43:27,304 - __main__ - WARNING - Run feature transformation: ['mlpRegressorTransform', 'cos', 'div', 'decisionTreeRegressorTransform', 'mlpRegressorTransform']\n",
      "2024-04-08 15:43:32,237 - __main__ - WARNING - Performances of the given node is: [0.5568133340757774, 0.5571521906763556, 0.5626801991744821, 0.571602425189926, 0.5787944207972578, 0.5610276732648151, 0.5816422385409268, 0.5644732836710152, 0.5620673577456183, 0.5774813539645474]\n",
      "2024-04-08 15:43:32,238 - __main__ - WARNING - Mean perf is: 0.567373, Mean init is: 0.581475, Std init is: 0.012273 ==> reward: -1.000000\n",
      "2024-04-08 15:43:34,456 - __main__ - WARNING - Performance of scorer is: 0.037838149815797806\n",
      "2024-04-08 15:43:34,463 - __main__ - WARNING - XXXXXXXXXXXXXXXXXXXXXXXXXXXXXXXXXXXXXXXXXXXXXXXXXXXXXXXXXXXX\n",
      "2024-04-08 15:43:34,463 - __main__ - WARNING - Round:\t71\n",
      "2024-04-08 15:43:34,463 - __main__ - WARNING - XXXXXXXXXXXXXXXXXXXXXXXXXXXXXXXXXXXXXXXXXXXXXXXXXXXXXXXXXXXX\n",
      "2024-04-08 15:43:34,466 - __main__ - WARNING - Run feature transformation: ['linearRegressorTransform', 'exp', 'reciprocal', 'diff', 'decisionTreeRegressorTransform']\n"
     ]
    },
    {
     "name": "stdout",
     "output_type": "stream",
     "text": [
      "['mlpRegressorTransform', 'linearRegressorTransform', 'adde', 'degree', 'decisionTreeRegressorTransform', 'kernelapproxrbf', 'prod', 'exp', 'ln', 'sigmoid', 'tanh', 'xgbRegressorTransform', 'abs', 'minus', 'square', 'timeagg', 'svrTransform', 'relu', 'cos', 'div', 'negative', 'diff', 'zscore', 'add', 'reciprocal', 'radian', 'parameter']\n",
      "W: [1, 1, 1, 1, 1, 1, 8.0, 1, 1, 1, 1, 1, 4, 3.0, 3.0, 3.0, 2.0, 2.0, 4, 4.0, 2.0, 2.0, 1, 1, 1, 1]\n",
      "N: [3, 2, 2, 2, 2, 2, 5, 2, 2, 2, 2, 2, 3, 3, 3, 3, 3, 3, 3, 4, 3, 3, 3, 3, 3, 3]\n",
      "L: [5.0, 4.0, 5.0, 5.0, 5.0, 6.0, 1, 7.0, 7.0, 7, 7.0, 7, 5.0, 4.0, 4.0, 4.0, 3.0, 3.0, 6.0, 3.0, 4.0, 5.0, 4.0, 4.0, 4.0, 5.0]\n",
      "W_rate: [0.16666666666666666, 0.2, 0.16666666666666666, 0.16666666666666666, 0.16666666666666666, 0.14285714285714285, 0.8888888888888888, 0.125, 0.125, 0.125, 0.125, 0.125, 0.4444444444444444, 0.42857142857142855, 0.42857142857142855, 0.42857142857142855, 0.4, 0.4, 0.4, 0.5714285714285714, 0.3333333333333333, 0.2857142857142857, 0.2, 0.2, 0.2, 0.16666666666666666]\n",
      "Value: [0, 0, 0, 0, 0, 0, 0, 0, 0, 0, 0, 0, 0, 0, 0, 0, 0, 0, 0, 0, 0, 0, 0, 0, 0, 0]\n"
     ]
    },
    {
     "name": "stderr",
     "output_type": "stream",
     "text": [
      "2024-04-08 15:43:35,219 - __main__ - WARNING - Run feature transformation: ['linearRegressorTransform', 'exp', 'reciprocal', 'relu', 'kernelapproxrbf']\n",
      "2024-04-08 15:43:36,126 - __main__ - WARNING - Run feature transformation: ['linearRegressorTransform', 'exp', 'reciprocal', 'div', 'ln']\n",
      "2024-04-08 15:43:37,255 - __main__ - WARNING - Run feature transformation: ['linearRegressorTransform', 'exp', 'reciprocal', 'mlpRegressorTransform', 'tanh']\n",
      "2024-04-08 15:43:40,941 - __main__ - WARNING - Run feature transformation: ['linearRegressorTransform', 'exp', 'reciprocal', 'timeagg', 'linearRegressorTransform']\n",
      "2024-04-08 15:43:41,995 - __main__ - WARNING - Run feature transformation: ['linearRegressorTransform', 'exp', 'reciprocal', 'zscore', 'square']\n",
      "2024-04-08 15:43:42,924 - __main__ - WARNING - Run feature transformation: ['linearRegressorTransform', 'exp', 'reciprocal', 'negative', 'reciprocal']\n",
      "2024-04-08 15:43:43,833 - __main__ - WARNING - Run feature transformation: ['linearRegressorTransform', 'exp', 'reciprocal', 'mlpRegressorTransform', 'square']\n",
      "2024-04-08 15:43:44,566 - __main__ - WARNING - Run feature transformation: ['linearRegressorTransform', 'exp', 'reciprocal', 'linearRegressorTransform', 'xgbRegressorTransform']\n",
      "2024-04-08 15:43:45,572 - __main__ - WARNING - Run feature transformation: ['linearRegressorTransform', 'exp', 'reciprocal', 'kernelapproxrbf', 'tanh']\n",
      "2024-04-08 15:43:47,011 - __main__ - WARNING - Performances of the given node is: [0.5981417442158784, 0.5347422866007414, 0.5583171306078594, 0.5798398394422808, 0.5786608696894731, 0.5697313864624615, 0.5798599856040012, 0.5745161071289702, 0.544379612156079, 0.5185558638422977]\n",
      "2024-04-08 15:43:47,013 - __main__ - WARNING - Mean perf is: 0.563674, Mean init is: 0.581475, Std init is: 0.012273 ==> reward: -1.000000\n",
      "2024-04-08 15:43:49,227 - __main__ - WARNING - Performance of scorer is: 0.15717610716819763\n",
      "2024-04-08 15:43:49,233 - __main__ - WARNING - XXXXXXXXXXXXXXXXXXXXXXXXXXXXXXXXXXXXXXXXXXXXXXXXXXXXXXXXXXXX\n",
      "2024-04-08 15:43:49,234 - __main__ - WARNING - Round:\t72\n",
      "2024-04-08 15:43:49,234 - __main__ - WARNING - XXXXXXXXXXXXXXXXXXXXXXXXXXXXXXXXXXXXXXXXXXXXXXXXXXXXXXXXXXXX\n",
      "2024-04-08 15:43:49,236 - __main__ - WARNING - Run feature transformation: ['adde', 'cos', 'degree', 'square', 'zscore']\n"
     ]
    },
    {
     "name": "stdout",
     "output_type": "stream",
     "text": [
      "['linearRegressorTransform', 'adde', 'degree', 'decisionTreeRegressorTransform', 'kernelapproxrbf', 'prod', 'exp', 'ln', 'sigmoid', 'tanh', 'xgbRegressorTransform', 'abs', 'minus', 'square', 'timeagg', 'svrTransform', 'relu', 'cos', 'div', 'negative', 'diff', 'zscore', 'add', 'reciprocal', 'mlpRegressorTransform', 'radian', 'parameter']\n",
      "W: [1, 1, 1, 1, 1, 8.0, 1, 1, 1, 1, 1, 4, 3.0, 3.0, 3.0, 2.0, 2.0, 4, 4.0, 2.0, 2.0, 1, 1, 1, 1, 1]\n",
      "N: [3, 2, 2, 2, 2, 5, 2, 2, 2, 2, 2, 3, 3, 3, 3, 3, 3, 3, 4, 3, 3, 3, 3, 3, 3, 3]\n",
      "L: [5.0, 5.0, 5.0, 5.0, 6.0, 1, 7.0, 7.0, 7, 7.0, 7, 5.0, 4.0, 4.0, 4.0, 3.0, 3.0, 6.0, 3.0, 4.0, 5.0, 4.0, 4.0, 4.0, 5.0, 5.0]\n",
      "W_rate: [0.16666666666666666, 0.16666666666666666, 0.16666666666666666, 0.16666666666666666, 0.14285714285714285, 0.8888888888888888, 0.125, 0.125, 0.125, 0.125, 0.125, 0.4444444444444444, 0.42857142857142855, 0.42857142857142855, 0.42857142857142855, 0.4, 0.4, 0.4, 0.5714285714285714, 0.3333333333333333, 0.2857142857142857, 0.2, 0.2, 0.2, 0.16666666666666666, 0.16666666666666666]\n",
      "Value: [0, 0, 0, 0, 0, 0, 0, 0, 0, 0, 0, 0, 0, 0, 0, 0, 0, 0, 0, 0, 0, 0, 0, 0, 0, 0]\n"
     ]
    },
    {
     "name": "stderr",
     "output_type": "stream",
     "text": [
      "2024-04-08 15:43:51,112 - __main__ - WARNING - Add the best feature in set to the best features record.\n",
      "2024-04-08 15:43:51,113 - __main__ - WARNING - Run feature transformation: ['adde', 'cos', 'degree', 'div', 'svrTransform']\n",
      "2024-04-08 15:43:56,422 - __main__ - WARNING - Run feature transformation: ['adde', 'cos', 'degree', 'svrTransform', 'adde']\n",
      "2024-04-08 15:43:57,959 - __main__ - WARNING - Run feature transformation: ['adde', 'cos', 'degree', 'mlpRegressorTransform', 'sigmoid']\n",
      "2024-04-08 15:44:02,274 - __main__ - WARNING - Run feature transformation: ['adde', 'cos', 'degree', 'sigmoid', 'add']\n",
      "2024-04-08 15:44:04,819 - __main__ - WARNING - Add the best feature in set to the best features record.\n",
      "2024-04-08 15:44:04,821 - __main__ - WARNING - Run feature transformation: ['adde', 'cos', 'degree', 'tanh', 'radian']\n",
      "2024-04-08 15:44:06,763 - __main__ - WARNING - Run feature transformation: ['adde', 'cos', 'degree', 'svrTransform', 'mlpRegressorTransform']\n",
      "2024-04-08 15:44:10,147 - __main__ - WARNING - Run feature transformation: ['adde', 'cos', 'degree', 'adde', 'add']\n",
      "2024-04-08 15:44:12,359 - __main__ - WARNING - Add the best feature in set to the best features record.\n",
      "2024-04-08 15:44:12,360 - __main__ - WARNING - Run feature transformation: ['adde', 'cos', 'degree', 'radian', 'negative']\n",
      "2024-04-08 15:44:13,695 - __main__ - WARNING - Run feature transformation: ['adde', 'cos', 'degree', 'radian', 'svrTransform']\n",
      "2024-04-08 15:44:15,308 - __main__ - WARNING - Performances of the given node is: [0.5941576496563866, 0.5714813126258123, 0.5590249292332417, 0.5519864635314666, 0.5880946825548244, 0.5683616944501441, 0.5583412092994945, 0.5943594681811689, 0.5751739812725181, 0.5411575802126332]\n",
      "2024-04-08 15:44:15,309 - __main__ - WARNING - Mean perf is: 0.570214, Mean init is: 0.581475, Std init is: 0.012273 ==> reward: -1.000000\n",
      "2024-04-08 15:44:17,583 - __main__ - WARNING - Performance of scorer is: 0.042390625923871994\n",
      "2024-04-08 15:44:17,590 - __main__ - WARNING - XXXXXXXXXXXXXXXXXXXXXXXXXXXXXXXXXXXXXXXXXXXXXXXXXXXXXXXXXXXX\n",
      "2024-04-08 15:44:17,590 - __main__ - WARNING - Round:\t73\n",
      "2024-04-08 15:44:17,590 - __main__ - WARNING - XXXXXXXXXXXXXXXXXXXXXXXXXXXXXXXXXXXXXXXXXXXXXXXXXXXXXXXXXXXX\n",
      "2024-04-08 15:44:17,593 - __main__ - WARNING - Run feature transformation: ['degree', 'cos', 'add', 'sigmoid', 'add']\n"
     ]
    },
    {
     "name": "stdout",
     "output_type": "stream",
     "text": [
      "['adde', 'degree', 'decisionTreeRegressorTransform', 'kernelapproxrbf', 'prod', 'exp', 'ln', 'sigmoid', 'tanh', 'xgbRegressorTransform', 'abs', 'minus', 'square', 'timeagg', 'svrTransform', 'relu', 'cos', 'div', 'negative', 'diff', 'zscore', 'add', 'reciprocal', 'linearRegressorTransform', 'mlpRegressorTransform', 'radian', 'parameter']\n",
      "W: [1, 1, 1, 1, 8.0, 1, 1, 1, 1, 1, 4, 3.0, 3.0, 3.0, 2.0, 2.0, 4, 4.0, 2.0, 2.0, 1, 1, 1, 1, 1, 1]\n",
      "N: [3, 2, 2, 2, 5, 2, 2, 2, 2, 2, 3, 3, 3, 3, 3, 3, 3, 4, 3, 3, 3, 3, 3, 3, 3, 3]\n",
      "L: [6.0, 5.0, 5.0, 6.0, 1, 7.0, 7.0, 7, 7.0, 7, 5.0, 4.0, 4.0, 4.0, 3.0, 3.0, 6.0, 3.0, 4.0, 5.0, 4.0, 4.0, 4.0, 5.0, 5.0, 5.0]\n",
      "W_rate: [0.14285714285714285, 0.16666666666666666, 0.16666666666666666, 0.14285714285714285, 0.8888888888888888, 0.125, 0.125, 0.125, 0.125, 0.125, 0.4444444444444444, 0.42857142857142855, 0.42857142857142855, 0.42857142857142855, 0.4, 0.4, 0.4, 0.5714285714285714, 0.3333333333333333, 0.2857142857142857, 0.2, 0.2, 0.2, 0.16666666666666666, 0.16666666666666666, 0.16666666666666666]\n",
      "Value: [0, 0, 0, 0, 0, 0, 0, 0, 0, 0, 0, 0, 0, 0, 0, 0, 0, 0, 0, 0, 0, 0, 0, 0, 0, 0]\n"
     ]
    },
    {
     "name": "stderr",
     "output_type": "stream",
     "text": [
      "2024-04-08 15:44:23,959 - __main__ - WARNING - Add the best feature in set to the best features record.\n",
      "2024-04-08 15:44:23,960 - __main__ - WARNING - Run feature transformation: ['degree', 'cos', 'add', 'tanh', 'radian']\n",
      "2024-04-08 15:44:27,924 - __main__ - WARNING - Add the best feature in set to the best features record.\n",
      "2024-04-08 15:44:27,925 - __main__ - WARNING - Run feature transformation: ['degree', 'cos', 'add', 'svrTransform', 'mlpRegressorTransform']\n",
      "2024-04-08 15:44:33,086 - __main__ - WARNING - Run feature transformation: ['degree', 'cos', 'add', 'adde', 'add']\n",
      "2024-04-08 15:44:39,665 - __main__ - WARNING - Run feature transformation: ['degree', 'cos', 'add', 'radian', 'negative']\n",
      "2024-04-08 15:44:43,358 - __main__ - WARNING - Run feature transformation: ['degree', 'cos', 'add', 'radian', 'svrTransform']\n",
      "2024-04-08 15:44:47,270 - __main__ - WARNING - Add the best feature in set to the best features record.\n",
      "2024-04-08 15:44:47,271 - __main__ - WARNING - Run feature transformation: ['degree', 'cos', 'add', 'adde', 'decisionTreeRegressorTransform']\n",
      "2024-04-08 15:44:50,946 - __main__ - WARNING - Run feature transformation: ['degree', 'cos', 'add', 'timeagg', 'relu']\n",
      "2024-04-08 15:44:53,730 - __main__ - WARNING - Run feature transformation: ['degree', 'cos', 'add', 'minus', 'decisionTreeRegressorTransform']\n",
      "2024-04-08 15:44:58,802 - __main__ - WARNING - Run feature transformation: ['degree', 'cos', 'add', 'timeagg', 'degree']\n",
      "2024-04-08 15:45:01,405 - __main__ - WARNING - Performances of the given node is: [0.5966900608866482, 0.6032496468151094, 0.5660829031911371, 0.5665042445937591, 0.5767584157645669, 0.5913816847352417, 0.5736476106973075, 0.5654610387949883, 0.5655916570196403, 0.5697325710230204]\n",
      "2024-04-08 15:45:01,407 - __main__ - WARNING - Mean perf is: 0.577510, Mean init is: 0.581475, Std init is: 0.012273 ==> reward: -1.000000\n",
      "2024-04-08 15:45:03,698 - __main__ - WARNING - Performance of scorer is: 0.03631679341197014\n",
      "2024-04-08 15:45:03,705 - __main__ - WARNING - XXXXXXXXXXXXXXXXXXXXXXXXXXXXXXXXXXXXXXXXXXXXXXXXXXXXXXXXXXXX\n",
      "2024-04-08 15:45:03,705 - __main__ - WARNING - Round:\t74\n",
      "2024-04-08 15:45:03,706 - __main__ - WARNING - XXXXXXXXXXXXXXXXXXXXXXXXXXXXXXXXXXXXXXXXXXXXXXXXXXXXXXXXXXXX\n",
      "2024-04-08 15:45:03,708 - __main__ - WARNING - Run feature transformation: ['decisionTreeRegressorTransform', 'exp', 'add', 'radian', 'svrTransform']\n"
     ]
    },
    {
     "name": "stdout",
     "output_type": "stream",
     "text": [
      "['degree', 'decisionTreeRegressorTransform', 'kernelapproxrbf', 'prod', 'exp', 'ln', 'sigmoid', 'tanh', 'xgbRegressorTransform', 'abs', 'minus', 'square', 'timeagg', 'svrTransform', 'relu', 'cos', 'div', 'negative', 'diff', 'zscore', 'add', 'reciprocal', 'linearRegressorTransform', 'mlpRegressorTransform', 'radian', 'adde', 'parameter']\n",
      "W: [1, 1, 1, 8.0, 1, 1, 1, 1, 1, 4, 3.0, 3.0, 3.0, 2.0, 2.0, 4, 4.0, 2.0, 2.0, 1, 1, 1, 1, 1, 1, 1]\n",
      "N: [3, 2, 2, 5, 2, 2, 2, 2, 2, 3, 3, 3, 3, 3, 3, 3, 4, 3, 3, 3, 3, 3, 3, 3, 3, 3]\n",
      "L: [6.0, 5.0, 6.0, 1, 7.0, 7.0, 7, 7.0, 7, 5.0, 4.0, 4.0, 4.0, 3.0, 3.0, 6.0, 3.0, 4.0, 5.0, 4.0, 4.0, 4.0, 5.0, 5.0, 5.0, 6.0]\n",
      "W_rate: [0.14285714285714285, 0.16666666666666666, 0.14285714285714285, 0.8888888888888888, 0.125, 0.125, 0.125, 0.125, 0.125, 0.4444444444444444, 0.42857142857142855, 0.42857142857142855, 0.42857142857142855, 0.4, 0.4, 0.4, 0.5714285714285714, 0.3333333333333333, 0.2857142857142857, 0.2, 0.2, 0.2, 0.16666666666666666, 0.16666666666666666, 0.16666666666666666, 0.14285714285714285]\n",
      "Value: [0, 0, 0, 0, 0, 0, 0, 0, 0, 0, 0, 0, 0, 0, 0, 0, 0, 0, 0, 0, 0, 0, 0, 0, 0, 0]\n"
     ]
    },
    {
     "name": "stderr",
     "output_type": "stream",
     "text": [
      "2024-04-08 15:45:05,157 - __main__ - WARNING - Add the best feature in set to the best features record.\n",
      "2024-04-08 15:45:05,158 - __main__ - WARNING - Run feature transformation: ['decisionTreeRegressorTransform', 'exp', 'add', 'diff', 'div']\n",
      "2024-04-08 15:45:07,065 - __main__ - WARNING - Run feature transformation: ['decisionTreeRegressorTransform', 'exp', 'add', 'abs', 'decisionTreeRegressorTransform']\n",
      "2024-04-08 15:45:07,783 - __main__ - WARNING - Run feature transformation: ['decisionTreeRegressorTransform', 'exp', 'add', 'div', 'ln']\n",
      "2024-04-08 15:45:09,329 - __main__ - WARNING - Run feature transformation: ['decisionTreeRegressorTransform', 'exp', 'add', 'kernelapproxrbf', 'add']\n",
      "2024-04-08 15:45:10,453 - __main__ - WARNING - Run feature transformation: ['decisionTreeRegressorTransform', 'exp', 'add', 'exp', 'ln']\n",
      "2024-04-08 15:45:11,575 - __main__ - WARNING - Add the best feature in set to the best features record.\n",
      "2024-04-08 15:45:11,576 - __main__ - WARNING - Run feature transformation: ['decisionTreeRegressorTransform', 'exp', 'add', 'sigmoid', 'degree']\n",
      "2024-04-08 15:45:13,079 - __main__ - WARNING - Run feature transformation: ['decisionTreeRegressorTransform', 'exp', 'add', 'zscore', 'sigmoid']\n",
      "2024-04-08 15:45:14,789 - __main__ - WARNING - Add the best feature in set to the best features record.\n",
      "2024-04-08 15:45:14,790 - __main__ - WARNING - Run feature transformation: ['decisionTreeRegressorTransform', 'exp', 'add', 'timeagg', 'exp']\n",
      "2024-04-08 15:45:15,431 - __main__ - WARNING - Add the best feature in set to the best features record.\n",
      "2024-04-08 15:45:15,432 - __main__ - WARNING - Run feature transformation: ['decisionTreeRegressorTransform', 'exp', 'add', 'minus', 'adde']\n",
      "2024-04-08 15:45:16,415 - __main__ - WARNING - Performances of the given node is: [0.5909079835670659, 0.5327878334850376, 0.5713133693004399, 0.5327878334850376, 0.5347056437254359, 0.5859025200528871, 0.5598518685668479, 0.5909079835670659, 0.5907894395140133, 0.5681080939712878]\n",
      "2024-04-08 15:45:16,416 - __main__ - WARNING - Mean perf is: 0.565806, Mean init is: 0.581475, Std init is: 0.012273 ==> reward: -1.000000\n",
      "2024-04-08 15:45:18,875 - __main__ - WARNING - Performance of scorer is: 0.019495990127325058\n",
      "2024-04-08 15:45:18,882 - __main__ - WARNING - XXXXXXXXXXXXXXXXXXXXXXXXXXXXXXXXXXXXXXXXXXXXXXXXXXXXXXXXXXXX\n",
      "2024-04-08 15:45:18,882 - __main__ - WARNING - Round:\t75\n",
      "2024-04-08 15:45:18,883 - __main__ - WARNING - XXXXXXXXXXXXXXXXXXXXXXXXXXXXXXXXXXXXXXXXXXXXXXXXXXXXXXXXXXXX\n",
      "2024-04-08 15:45:18,885 - __main__ - WARNING - Run feature transformation: ['kernelapproxrbf', 'cos', 'linearRegressorTransform', 'radian', 'svrTransform']\n"
     ]
    },
    {
     "name": "stdout",
     "output_type": "stream",
     "text": [
      "['decisionTreeRegressorTransform', 'kernelapproxrbf', 'prod', 'exp', 'ln', 'sigmoid', 'tanh', 'xgbRegressorTransform', 'abs', 'minus', 'square', 'timeagg', 'svrTransform', 'relu', 'cos', 'div', 'negative', 'diff', 'zscore', 'add', 'reciprocal', 'linearRegressorTransform', 'mlpRegressorTransform', 'radian', 'degree', 'adde', 'parameter']\n",
      "W: [1, 1, 8.0, 1, 1, 1, 1, 1, 4, 3.0, 3.0, 3.0, 2.0, 2.0, 4, 4.0, 2.0, 2.0, 1, 1, 1, 1, 1, 1, 1, 1]\n",
      "N: [3, 2, 5, 2, 2, 2, 2, 2, 3, 3, 3, 3, 3, 3, 3, 4, 3, 3, 3, 3, 3, 3, 3, 3, 3, 3]\n",
      "L: [6.0, 6.0, 1, 7.0, 7.0, 7, 7.0, 7, 5.0, 4.0, 4.0, 4.0, 3.0, 3.0, 6.0, 3.0, 4.0, 5.0, 4.0, 4.0, 4.0, 5.0, 5.0, 5.0, 6.0, 6.0]\n",
      "W_rate: [0.14285714285714285, 0.14285714285714285, 0.8888888888888888, 0.125, 0.125, 0.125, 0.125, 0.125, 0.4444444444444444, 0.42857142857142855, 0.42857142857142855, 0.42857142857142855, 0.4, 0.4, 0.4, 0.5714285714285714, 0.3333333333333333, 0.2857142857142857, 0.2, 0.2, 0.2, 0.16666666666666666, 0.16666666666666666, 0.16666666666666666, 0.14285714285714285, 0.14285714285714285]\n",
      "Value: [0, 0, 0, 0, 0, 0, 0, 0, 0, 0, 0, 0, 0, 0, 0, 0, 0, 0, 0, 0, 0, 0, 0, 0, 0, 0]\n"
     ]
    },
    {
     "name": "stderr",
     "output_type": "stream",
     "text": [
      "2024-04-08 15:45:21,624 - __main__ - WARNING - Run feature transformation: ['kernelapproxrbf', 'cos', 'linearRegressorTransform', 'diff', 'div']\n",
      "2024-04-08 15:45:22,587 - __main__ - WARNING - Run feature transformation: ['kernelapproxrbf', 'cos', 'linearRegressorTransform', 'abs', 'decisionTreeRegressorTransform']\n",
      "2024-04-08 15:45:23,619 - __main__ - WARNING - Run feature transformation: ['kernelapproxrbf', 'cos', 'linearRegressorTransform', 'div', 'ln']\n",
      "2024-04-08 15:45:24,549 - __main__ - WARNING - Run feature transformation: ['kernelapproxrbf', 'cos', 'linearRegressorTransform', 'kernelapproxrbf', 'add']\n",
      "2024-04-08 15:45:25,961 - __main__ - WARNING - Run feature transformation: ['kernelapproxrbf', 'cos', 'linearRegressorTransform', 'exp', 'ln']\n",
      "2024-04-08 15:45:27,637 - __main__ - WARNING - Run feature transformation: ['kernelapproxrbf', 'cos', 'linearRegressorTransform', 'sigmoid', 'degree']\n",
      "2024-04-08 15:45:29,075 - __main__ - WARNING - Run feature transformation: ['kernelapproxrbf', 'cos', 'linearRegressorTransform', 'zscore', 'sigmoid']\n",
      "2024-04-08 15:45:30,572 - __main__ - WARNING - Run feature transformation: ['kernelapproxrbf', 'cos', 'linearRegressorTransform', 'timeagg', 'exp']\n",
      "2024-04-08 15:45:31,674 - __main__ - WARNING - Run feature transformation: ['kernelapproxrbf', 'cos', 'linearRegressorTransform', 'minus', 'adde']\n",
      "2024-04-08 15:45:32,600 - __main__ - WARNING - Performances of the given node is: [0.5395789895647405, 0.570359677420194, 0.5310441886880237, 0.5737533508434159, 0.5424447270927768, 0.45555099356257506, 0.47634016338520624, 0.48237186126762543, 0.500109286820585, 0.5694078181013745]\n",
      "2024-04-08 15:45:32,601 - __main__ - WARNING - Mean perf is: 0.524096, Mean init is: 0.581475, Std init is: 0.012273 ==> reward: -3.000000\n",
      "2024-04-08 15:45:34,967 - __main__ - WARNING - Performance of scorer is: 0.0326768159866333\n",
      "2024-04-08 15:45:34,974 - __main__ - WARNING - XXXXXXXXXXXXXXXXXXXXXXXXXXXXXXXXXXXXXXXXXXXXXXXXXXXXXXXXXXXX\n",
      "2024-04-08 15:45:34,974 - __main__ - WARNING - Round:\t76\n",
      "2024-04-08 15:45:34,974 - __main__ - WARNING - XXXXXXXXXXXXXXXXXXXXXXXXXXXXXXXXXXXXXXXXXXXXXXXXXXXXXXXXXXXX\n",
      "2024-04-08 15:45:34,977 - __main__ - WARNING - Run feature transformation: ['prod', 'ln', 'linearRegressorTransform', 'minus', 'adde']\n"
     ]
    },
    {
     "name": "stdout",
     "output_type": "stream",
     "text": [
      "['kernelapproxrbf', 'prod', 'exp', 'ln', 'sigmoid', 'tanh', 'xgbRegressorTransform', 'abs', 'minus', 'square', 'timeagg', 'svrTransform', 'relu', 'cos', 'div', 'negative', 'diff', 'zscore', 'add', 'reciprocal', 'linearRegressorTransform', 'mlpRegressorTransform', 'radian', 'decisionTreeRegressorTransform', 'degree', 'adde', 'parameter']\n",
      "W: [1, 8.0, 1, 1, 1, 1, 1, 4, 3.0, 3.0, 3.0, 2.0, 2.0, 4, 4.0, 2.0, 2.0, 1, 1, 1, 1, 1, 1, 1, 1, 1]\n",
      "N: [3, 5, 2, 2, 2, 2, 2, 3, 3, 3, 3, 3, 3, 3, 4, 3, 3, 3, 3, 3, 3, 3, 3, 3, 3, 3]\n",
      "L: [9.0, 1, 7.0, 7.0, 7, 7.0, 7, 5.0, 4.0, 4.0, 4.0, 3.0, 3.0, 6.0, 3.0, 4.0, 5.0, 4.0, 4.0, 4.0, 5.0, 5.0, 5.0, 6.0, 6.0, 6.0]\n",
      "W_rate: [0.1, 0.8888888888888888, 0.125, 0.125, 0.125, 0.125, 0.125, 0.4444444444444444, 0.42857142857142855, 0.42857142857142855, 0.42857142857142855, 0.4, 0.4, 0.4, 0.5714285714285714, 0.3333333333333333, 0.2857142857142857, 0.2, 0.2, 0.2, 0.16666666666666666, 0.16666666666666666, 0.16666666666666666, 0.14285714285714285, 0.14285714285714285, 0.14285714285714285]\n",
      "Value: [0, 0, 0, 0, 0, 0, 0, 0, 0, 0, 0, 0, 0, 0, 0, 0, 0, 0, 0, 0, 0, 0, 0, 0, 0, 0]\n"
     ]
    },
    {
     "name": "stderr",
     "output_type": "stream",
     "text": [
      "2024-04-08 15:45:39,285 - __main__ - WARNING - Add the best feature in set to the best features record.\n",
      "2024-04-08 15:45:39,287 - __main__ - WARNING - Run feature transformation: ['prod', 'ln', 'linearRegressorTransform', 'svrTransform', 'mlpRegressorTransform']\n",
      "2024-04-08 15:45:42,898 - __main__ - WARNING - Run feature transformation: ['prod', 'ln', 'linearRegressorTransform', 'ln', 'abs']\n",
      "2024-04-08 15:45:43,919 - __main__ - WARNING - Run feature transformation: ['prod', 'ln', 'linearRegressorTransform', 'prod', 'timeagg']\n",
      "2024-04-08 15:45:45,344 - __main__ - WARNING - Add the best feature in set to the best features record.\n",
      "2024-04-08 15:45:45,345 - __main__ - WARNING - Run feature transformation: ['prod', 'ln', 'linearRegressorTransform', 'add', 'add']\n",
      "2024-04-08 15:45:48,249 - __main__ - WARNING - Add the best feature in set to the best features record.\n",
      "2024-04-08 15:45:48,251 - __main__ - WARNING - Run feature transformation: ['prod', 'ln', 'linearRegressorTransform', 'minus', 'linearRegressorTransform']\n",
      "2024-04-08 15:45:49,320 - __main__ - WARNING - Add the best feature in set to the best features record.\n",
      "2024-04-08 15:45:49,321 - __main__ - WARNING - Run feature transformation: ['prod', 'ln', 'linearRegressorTransform', 'square', 'div']\n",
      "2024-04-08 15:45:51,905 - __main__ - WARNING - Run feature transformation: ['prod', 'ln', 'linearRegressorTransform', 'mlpRegressorTransform', 'add']\n",
      "2024-04-08 15:45:56,279 - __main__ - WARNING - Add the best feature in set to the best features record.\n",
      "2024-04-08 15:45:56,280 - __main__ - WARNING - Run feature transformation: ['prod', 'ln', 'linearRegressorTransform', 'cos', 'prod']\n",
      "2024-04-08 15:45:58,394 - __main__ - WARNING - Run feature transformation: ['prod', 'ln', 'linearRegressorTransform', 'tanh', 'mlpRegressorTransform']\n",
      "2024-04-08 15:46:02,489 - __main__ - WARNING - Add the best feature in set to the best features record.\n",
      "2024-04-08 15:46:02,490 - __main__ - WARNING - Performances of the given node is: [0.5946719613329394, 0.5828138478597039, 0.594812116844613, 0.5844866821621072, 0.5846197069897321, 0.6048718813382628, 0.5801649056470967, 0.593381137095702, 0.5811162115568902, 0.6069337948284507]\n",
      "2024-04-08 15:46:02,491 - __main__ - WARNING - Mean perf is: 0.590787, Mean init is: 0.581475, Std init is: 0.012273 ==> reward: 1.000000\n",
      "2024-04-08 15:46:04,849 - __main__ - WARNING - Performance of scorer is: 0.029865212738513947\n",
      "2024-04-08 15:46:04,850 - __main__ - WARNING - Run feature transformation: ['prod', 'ln', 'linearRegressorTransform']\n",
      "2024-04-08 15:46:10,814 - __main__ - WARNING - Mean init is: 0.5814751034102423, mean of new node is: 0.559253312140912\n",
      "2024-04-08 15:46:10,821 - __main__ - WARNING - XXXXXXXXXXXXXXXXXXXXXXXXXXXXXXXXXXXXXXXXXXXXXXXXXXXXXXXXXXXX\n",
      "2024-04-08 15:46:10,821 - __main__ - WARNING - Round:\t77\n",
      "2024-04-08 15:46:10,821 - __main__ - WARNING - XXXXXXXXXXXXXXXXXXXXXXXXXXXXXXXXXXXXXXXXXXXXXXXXXXXXXXXXXXXX\n",
      "2024-04-08 15:46:10,824 - __main__ - WARNING - Run feature transformation: ['exp', 'cos', 'adde', 'radian', 'svrTransform']\n"
     ]
    },
    {
     "name": "stdout",
     "output_type": "stream",
     "text": [
      "['prod', 'exp', 'ln', 'sigmoid', 'tanh', 'xgbRegressorTransform', 'abs', 'minus', 'square', 'timeagg', 'svrTransform', 'relu', 'cos', 'div', 'negative', 'diff', 'zscore', 'add', 'reciprocal', 'linearRegressorTransform', 'mlpRegressorTransform', 'radian', 'decisionTreeRegressorTransform', 'degree', 'adde', 'kernelapproxrbf', 'parameter']\n",
      "W: [9.0, 1, 1, 1, 1, 1, 4, 3.0, 3.0, 3.0, 2.0, 2.0, 4, 4.0, 2.0, 2.0, 1, 1, 1, 1, 1, 1, 1, 1, 1, 1]\n",
      "N: [6, 2, 2, 2, 2, 2, 3, 3, 3, 3, 3, 3, 3, 4, 3, 3, 3, 3, 3, 3, 3, 3, 3, 3, 3, 3]\n",
      "L: [1, 7.0, 7.0, 7, 7.0, 7, 5.0, 4.0, 4.0, 4.0, 3.0, 3.0, 6.0, 3.0, 4.0, 5.0, 4.0, 4.0, 4.0, 5.0, 5.0, 5.0, 6.0, 6.0, 6.0, 9.0]\n",
      "W_rate: [0.9, 0.125, 0.125, 0.125, 0.125, 0.125, 0.4444444444444444, 0.42857142857142855, 0.42857142857142855, 0.42857142857142855, 0.4, 0.4, 0.4, 0.5714285714285714, 0.3333333333333333, 0.2857142857142857, 0.2, 0.2, 0.2, 0.16666666666666666, 0.16666666666666666, 0.16666666666666666, 0.14285714285714285, 0.14285714285714285, 0.14285714285714285, 0.1]\n",
      "Value: [0, 0, 0, 0, 0, 0, 0, 0, 0, 0, 0, 0, 0, 0, 0, 0, 0, 0, 0, 0, 0, 0, 0, 0, 0, 0]\n"
     ]
    },
    {
     "name": "stderr",
     "output_type": "stream",
     "text": [
      "2024-04-08 15:46:12,479 - __main__ - WARNING - Run feature transformation: ['exp', 'cos', 'adde', 'diff', 'div']\n",
      "2024-04-08 15:46:14,089 - __main__ - WARNING - Add the best feature in set to the best features record.\n",
      "2024-04-08 15:46:14,090 - __main__ - WARNING - Run feature transformation: ['exp', 'cos', 'adde', 'abs', 'decisionTreeRegressorTransform']\n",
      "2024-04-08 15:46:15,346 - __main__ - WARNING - Run feature transformation: ['exp', 'cos', 'adde', 'div', 'ln']\n",
      "2024-04-08 15:46:21,709 - __main__ - WARNING - Run feature transformation: ['exp', 'cos', 'adde', 'kernelapproxrbf', 'add']\n",
      "2024-04-08 15:46:23,589 - __main__ - WARNING - Run feature transformation: ['exp', 'cos', 'adde', 'exp', 'ln']\n",
      "2024-04-08 15:46:24,829 - __main__ - WARNING - Run feature transformation: ['exp', 'cos', 'adde', 'sigmoid', 'degree']\n",
      "2024-04-08 15:46:26,375 - __main__ - WARNING - Run feature transformation: ['exp', 'cos', 'adde', 'zscore', 'sigmoid']\n",
      "2024-04-08 15:46:27,979 - __main__ - WARNING - Run feature transformation: ['exp', 'cos', 'adde', 'timeagg', 'exp']\n",
      "2024-04-08 15:46:28,770 - __main__ - WARNING - Add the best feature in set to the best features record.\n",
      "2024-04-08 15:46:28,771 - __main__ - WARNING - Run feature transformation: ['exp', 'cos', 'adde', 'minus', 'adde']\n",
      "2024-04-08 15:46:31,966 - __main__ - WARNING - Performances of the given node is: [0.55456097487766, 0.5948774420873094, 0.5544872181265059, 0.5736987898838144, 0.5819760955690018, 0.5570718471720568, 0.5448905164709401, 0.5731538515672594, 0.5857202131004524, 0.5936015591114014]\n",
      "2024-04-08 15:46:31,968 - __main__ - WARNING - Mean perf is: 0.571404, Mean init is: 0.581475, Std init is: 0.012273 ==> reward: -1.000000\n",
      "2024-04-08 15:46:34,320 - __main__ - WARNING - Performance of scorer is: 0.03132425621151924\n",
      "2024-04-08 15:46:34,326 - __main__ - WARNING - XXXXXXXXXXXXXXXXXXXXXXXXXXXXXXXXXXXXXXXXXXXXXXXXXXXXXXXXXXXX\n",
      "2024-04-08 15:46:34,327 - __main__ - WARNING - Round:\t78\n",
      "2024-04-08 15:46:34,327 - __main__ - WARNING - XXXXXXXXXXXXXXXXXXXXXXXXXXXXXXXXXXXXXXXXXXXXXXXXXXXXXXXXXXXX\n",
      "2024-04-08 15:46:34,330 - __main__ - WARNING - Run feature transformation: ['ln', 'cos', 'linearRegressorTransform', 'abs', 'prod']\n"
     ]
    },
    {
     "name": "stdout",
     "output_type": "stream",
     "text": [
      "['exp', 'ln', 'sigmoid', 'tanh', 'xgbRegressorTransform', 'abs', 'minus', 'square', 'timeagg', 'prod', 'svrTransform', 'relu', 'cos', 'div', 'negative', 'diff', 'zscore', 'add', 'reciprocal', 'linearRegressorTransform', 'mlpRegressorTransform', 'radian', 'decisionTreeRegressorTransform', 'degree', 'adde', 'kernelapproxrbf', 'parameter']\n",
      "W: [1, 1, 1, 1, 1, 4, 3.0, 3.0, 3.0, 9.0, 2.0, 2.0, 4, 4.0, 2.0, 2.0, 1, 1, 1, 1, 1, 1, 1, 1, 1, 1]\n",
      "N: [3, 2, 2, 2, 2, 3, 3, 3, 3, 6, 3, 3, 3, 4, 3, 3, 3, 3, 3, 3, 3, 3, 3, 3, 3, 3]\n",
      "L: [8.0, 7.0, 7, 7.0, 7, 5.0, 4.0, 4.0, 4.0, 1, 3.0, 3.0, 6.0, 3.0, 4.0, 5.0, 4.0, 4.0, 4.0, 5.0, 5.0, 5.0, 6.0, 6.0, 6.0, 9.0]\n",
      "W_rate: [0.1111111111111111, 0.125, 0.125, 0.125, 0.125, 0.4444444444444444, 0.42857142857142855, 0.42857142857142855, 0.42857142857142855, 0.9, 0.4, 0.4, 0.4, 0.5714285714285714, 0.3333333333333333, 0.2857142857142857, 0.2, 0.2, 0.2, 0.16666666666666666, 0.16666666666666666, 0.16666666666666666, 0.14285714285714285, 0.14285714285714285, 0.14285714285714285, 0.1]\n",
      "Value: [0, 0, 0, 0, 0, 0, 0, 0, 0, 0, 0, 0, 0, 0, 0, 0, 0, 0, 0, 0, 0, 0, 0, 0, 0, 0]\n"
     ]
    },
    {
     "name": "stderr",
     "output_type": "stream",
     "text": [
      "2024-04-08 15:46:35,754 - __main__ - WARNING - Run feature transformation: ['ln', 'cos', 'linearRegressorTransform', 'timeagg', 'add']\n",
      "2024-04-08 15:46:36,697 - __main__ - WARNING - Add the best feature in set to the best features record.\n",
      "2024-04-08 15:46:36,698 - __main__ - WARNING - Run feature transformation: ['ln', 'cos', 'linearRegressorTransform', 'add', 'minus']\n",
      "2024-04-08 15:46:38,193 - __main__ - WARNING - Add the best feature in set to the best features record.\n",
      "2024-04-08 15:46:38,194 - __main__ - WARNING - Run feature transformation: ['ln', 'cos', 'linearRegressorTransform', 'linearRegressorTransform', 'square']\n",
      "2024-04-08 15:46:38,873 - __main__ - WARNING - Run feature transformation: ['ln', 'cos', 'linearRegressorTransform', 'div', 'mlpRegressorTransform']\n",
      "2024-04-08 15:46:42,650 - __main__ - WARNING - Run feature transformation: ['ln', 'cos', 'linearRegressorTransform', 'add', 'cos']\n",
      "2024-04-08 15:46:43,160 - __main__ - WARNING - Run feature transformation: ['ln', 'cos', 'linearRegressorTransform', 'prod', 'tanh']\n",
      "2024-04-08 15:46:44,092 - __main__ - WARNING - Run feature transformation: ['ln', 'cos', 'linearRegressorTransform', 'mlpRegressorTransform', 'reciprocal']\n",
      "2024-04-08 15:46:47,748 - __main__ - WARNING - Run feature transformation: ['ln', 'cos', 'linearRegressorTransform', 'degree', 'svrTransform']\n",
      "2024-04-08 15:46:48,807 - __main__ - WARNING - Run feature transformation: ['ln', 'cos', 'linearRegressorTransform', 'decisionTreeRegressorTransform', 'degree']\n",
      "2024-04-08 15:46:49,354 - __main__ - WARNING - Performances of the given node is: [0.5878615881914199, 0.5984060551136345, 0.5884077354044895, 0.5860243514563599, 0.5729840561919323, 0.585607808097982, 0.6104399527787616, 0.5857094952036608, 0.5961210795225488, 0.5888207417565676]\n",
      "2024-04-08 15:46:49,355 - __main__ - WARNING - Mean perf is: 0.590038, Mean init is: 0.581475, Std init is: 0.012273 ==> reward: 1.000000\n",
      "2024-04-08 15:46:51,773 - __main__ - WARNING - Performance of scorer is: 0.02683906815946102\n",
      "2024-04-08 15:46:51,774 - __main__ - WARNING - Run feature transformation: ['ln', 'cos', 'linearRegressorTransform']\n",
      "2024-04-08 15:46:56,746 - __main__ - WARNING - Mean init is: 0.5814751034102423, mean of new node is: 0.5809197267785947\n",
      "2024-04-08 15:46:56,753 - __main__ - WARNING - XXXXXXXXXXXXXXXXXXXXXXXXXXXXXXXXXXXXXXXXXXXXXXXXXXXXXXXXXXXX\n",
      "2024-04-08 15:46:56,753 - __main__ - WARNING - Round:\t79\n",
      "2024-04-08 15:46:56,754 - __main__ - WARNING - XXXXXXXXXXXXXXXXXXXXXXXXXXXXXXXXXXXXXXXXXXXXXXXXXXXXXXXXXXXX\n",
      "2024-04-08 15:46:56,756 - __main__ - WARNING - Run feature transformation: ['sigmoid', 'cos', 'linearRegressorTransform', 'linearRegressorTransform', 'degree']\n"
     ]
    },
    {
     "name": "stdout",
     "output_type": "stream",
     "text": [
      "['ln', 'sigmoid', 'tanh', 'xgbRegressorTransform', 'abs', 'minus', 'square', 'timeagg', 'prod', 'svrTransform', 'relu', 'cos', 'div', 'negative', 'diff', 'zscore', 'add', 'reciprocal', 'linearRegressorTransform', 'mlpRegressorTransform', 'radian', 'decisionTreeRegressorTransform', 'degree', 'adde', 'exp', 'kernelapproxrbf', 'parameter']\n",
      "W: [2.0, 1, 1, 1, 4, 3.0, 3.0, 3.0, 9.0, 2.0, 2.0, 4, 4.0, 2.0, 2.0, 1, 1, 1, 1, 1, 1, 1, 1, 1, 1, 1]\n",
      "N: [3, 2, 2, 2, 3, 3, 3, 3, 6, 3, 3, 3, 4, 3, 3, 3, 3, 3, 3, 3, 3, 3, 3, 3, 3, 3]\n",
      "L: [7.0, 7, 7.0, 7, 5.0, 4.0, 4.0, 4.0, 1, 3.0, 3.0, 6.0, 3.0, 4.0, 5.0, 4.0, 4.0, 4.0, 5.0, 5.0, 5.0, 6.0, 6.0, 6.0, 8.0, 9.0]\n",
      "W_rate: [0.2222222222222222, 0.125, 0.125, 0.125, 0.4444444444444444, 0.42857142857142855, 0.42857142857142855, 0.42857142857142855, 0.9, 0.4, 0.4, 0.4, 0.5714285714285714, 0.3333333333333333, 0.2857142857142857, 0.2, 0.2, 0.2, 0.16666666666666666, 0.16666666666666666, 0.16666666666666666, 0.14285714285714285, 0.14285714285714285, 0.14285714285714285, 0.1111111111111111, 0.1]\n",
      "Value: [0, 0, 0, 0, 0, 0, 0, 0, 0, 0, 0, 0, 0, 0, 0, 0, 0, 0, 0, 0, 0, 0, 0, 0, 0, 0]\n"
     ]
    },
    {
     "name": "stderr",
     "output_type": "stream",
     "text": [
      "2024-04-08 15:46:58,306 - __main__ - WARNING - Run feature transformation: ['sigmoid', 'cos', 'linearRegressorTransform', 'diff', 'reciprocal']\n",
      "2024-04-08 15:46:59,273 - __main__ - WARNING - Run feature transformation: ['sigmoid', 'cos', 'linearRegressorTransform', 'linearRegressorTransform', 'sigmoid']\n",
      "2024-04-08 15:46:59,978 - __main__ - WARNING - Run feature transformation: ['sigmoid', 'cos', 'linearRegressorTransform', 'sigmoid', 'zscore']\n",
      "2024-04-08 15:47:00,904 - __main__ - WARNING - Run feature transformation: ['sigmoid', 'cos', 'linearRegressorTransform', 'timeagg', 'degree']\n",
      "2024-04-08 15:47:01,605 - __main__ - WARNING - Run feature transformation: ['sigmoid', 'cos', 'linearRegressorTransform', 'div', 'ln']\n",
      "2024-04-08 15:47:08,116 - __main__ - WARNING - Run feature transformation: ['sigmoid', 'cos', 'linearRegressorTransform', 'ln', 'ln']\n",
      "2024-04-08 15:47:09,040 - __main__ - WARNING - Run feature transformation: ['sigmoid', 'cos', 'linearRegressorTransform', 'add', 'minus']\n",
      "2024-04-08 15:47:14,252 - __main__ - WARNING - Run feature transformation: ['sigmoid', 'cos', 'linearRegressorTransform', 'xgbRegressorTransform', 'reciprocal']\n",
      "2024-04-08 15:47:15,297 - __main__ - WARNING - Run feature transformation: ['sigmoid', 'cos', 'linearRegressorTransform', 'adde', 'relu']\n",
      "2024-04-08 15:47:16,245 - __main__ - WARNING - Performances of the given node is: [0.5752710721003106, 0.5552466954703824, 0.5254782176390452, 0.5456018734619998, 0.570003759603409, 0.574501375746322, 0.5629779907628389, 0.5727683993791205, 0.5049706422745806, 0.5565409008042622]\n",
      "2024-04-08 15:47:16,247 - __main__ - WARNING - Mean perf is: 0.554336, Mean init is: 0.581475, Std init is: 0.012273 ==> reward: -2.000000\n",
      "2024-04-08 15:47:18,716 - __main__ - WARNING - Performance of scorer is: 0.03568784520030022\n",
      "2024-04-08 15:47:18,723 - __main__ - WARNING - XXXXXXXXXXXXXXXXXXXXXXXXXXXXXXXXXXXXXXXXXXXXXXXXXXXXXXXXXXXX\n",
      "2024-04-08 15:47:18,723 - __main__ - WARNING - Round:\t80\n",
      "2024-04-08 15:47:18,724 - __main__ - WARNING - XXXXXXXXXXXXXXXXXXXXXXXXXXXXXXXXXXXXXXXXXXXXXXXXXXXXXXXXXXXX\n",
      "2024-04-08 15:47:18,726 - __main__ - WARNING - Run feature transformation: ['tanh', 'exp', 'div', 'ln', 'add']\n"
     ]
    },
    {
     "name": "stdout",
     "output_type": "stream",
     "text": [
      "['sigmoid', 'tanh', 'xgbRegressorTransform', 'abs', 'minus', 'square', 'timeagg', 'prod', 'svrTransform', 'relu', 'cos', 'div', 'negative', 'diff', 'ln', 'zscore', 'add', 'reciprocal', 'linearRegressorTransform', 'mlpRegressorTransform', 'radian', 'decisionTreeRegressorTransform', 'degree', 'adde', 'exp', 'kernelapproxrbf', 'parameter']\n",
      "W: [1, 1, 1, 4, 3.0, 3.0, 3.0, 9.0, 2.0, 2.0, 4, 4.0, 2.0, 2.0, 2.0, 1, 1, 1, 1, 1, 1, 1, 1, 1, 1, 1]\n",
      "N: [3, 2, 2, 3, 3, 3, 3, 6, 3, 3, 3, 4, 3, 3, 3, 3, 3, 3, 3, 3, 3, 3, 3, 3, 3, 3]\n",
      "L: [9.0, 7.0, 7, 5.0, 4.0, 4.0, 4.0, 1, 3.0, 3.0, 6.0, 3.0, 4.0, 5.0, 7.0, 4.0, 4.0, 4.0, 5.0, 5.0, 5.0, 6.0, 6.0, 6.0, 8.0, 9.0]\n",
      "W_rate: [0.1, 0.125, 0.125, 0.4444444444444444, 0.42857142857142855, 0.42857142857142855, 0.42857142857142855, 0.9, 0.4, 0.4, 0.4, 0.5714285714285714, 0.3333333333333333, 0.2857142857142857, 0.2222222222222222, 0.2, 0.2, 0.2, 0.16666666666666666, 0.16666666666666666, 0.16666666666666666, 0.14285714285714285, 0.14285714285714285, 0.14285714285714285, 0.1111111111111111, 0.1]\n",
      "Value: [0, 0, 0, 0, 0, 0, 0, 0, 0, 0, 0, 0, 0, 0, 0, 0, 0, 0, 0, 0, 0, 0, 0, 0, 0, 0]\n"
     ]
    },
    {
     "name": "stderr",
     "output_type": "stream",
     "text": [
      "2024-04-08 15:47:25,374 - __main__ - WARNING - Add the best feature in set to the best features record.\n",
      "2024-04-08 15:47:25,375 - __main__ - WARNING - Run feature transformation: ['tanh', 'exp', 'div', 'minus', 'xgbRegressorTransform']\n",
      "2024-04-08 15:47:33,227 - __main__ - WARNING - Run feature transformation: ['tanh', 'exp', 'div', 'reciprocal', 'adde']\n",
      "2024-04-08 15:47:38,111 - __main__ - WARNING - Run feature transformation: ['tanh', 'exp', 'div', 'relu', 'svrTransform']\n",
      "2024-04-08 15:47:42,545 - __main__ - WARNING - Run feature transformation: ['tanh', 'exp', 'div', 'adde', 'xgbRegressorTransform']\n",
      "2024-04-08 15:47:47,866 - __main__ - WARNING - Run feature transformation: ['tanh', 'exp', 'div', 'radian', 'mlpRegressorTransform']\n",
      "2024-04-08 15:47:55,225 - __main__ - WARNING - Run feature transformation: ['tanh', 'exp', 'div', 'add', 'div']\n",
      "2024-04-08 15:48:03,925 - __main__ - WARNING - Run feature transformation: ['tanh', 'exp', 'div', 'reciprocal', 'div']\n",
      "2024-04-08 15:48:06,750 - __main__ - WARNING - Add the best feature in set to the best features record.\n",
      "2024-04-08 15:48:06,751 - __main__ - WARNING - Run feature transformation: ['tanh', 'exp', 'div', 'diff', 'diff']\n",
      "2024-04-08 15:48:11,272 - __main__ - WARNING - Run feature transformation: ['tanh', 'exp', 'div', 'xgbRegressorTransform', 'sigmoid']\n",
      "2024-04-08 15:48:15,637 - __main__ - WARNING - Performances of the given node is: [0.5892259924891592, 0.5751140458337424, 0.5628553293958664, 0.558508801339192, 0.5635541914643702, 0.5735524943824543, 0.5788325133053531, 0.6158201542109879, 0.6013230586631093, 0.558537064000847]\n",
      "2024-04-08 15:48:15,639 - __main__ - WARNING - Mean perf is: 0.577732, Mean init is: 0.581475, Std init is: 0.012273 ==> reward: -1.000000\n",
      "2024-04-08 15:48:18,112 - __main__ - WARNING - Performance of scorer is: 0.05274626985192299\n",
      "2024-04-08 15:48:18,119 - __main__ - WARNING - XXXXXXXXXXXXXXXXXXXXXXXXXXXXXXXXXXXXXXXXXXXXXXXXXXXXXXXXXXXX\n",
      "2024-04-08 15:48:18,119 - __main__ - WARNING - Round:\t81\n",
      "2024-04-08 15:48:18,120 - __main__ - WARNING - XXXXXXXXXXXXXXXXXXXXXXXXXXXXXXXXXXXXXXXXXXXXXXXXXXXXXXXXXXXX\n",
      "2024-04-08 15:48:18,122 - __main__ - WARNING - Run feature transformation: ['xgbRegressorTransform', 'cos', 'minus', 'prod', 'zscore']\n"
     ]
    },
    {
     "name": "stdout",
     "output_type": "stream",
     "text": [
      "['tanh', 'xgbRegressorTransform', 'abs', 'minus', 'square', 'timeagg', 'prod', 'svrTransform', 'relu', 'cos', 'div', 'negative', 'diff', 'ln', 'zscore', 'add', 'reciprocal', 'linearRegressorTransform', 'mlpRegressorTransform', 'radian', 'decisionTreeRegressorTransform', 'degree', 'adde', 'exp', 'sigmoid', 'kernelapproxrbf', 'parameter']\n",
      "W: [1, 1, 4, 3.0, 3.0, 3.0, 9.0, 2.0, 2.0, 4, 4.0, 2.0, 2.0, 2.0, 1, 1, 1, 1, 1, 1, 1, 1, 1, 1, 1, 1]\n",
      "N: [3, 2, 3, 3, 3, 3, 6, 3, 3, 3, 4, 3, 3, 3, 3, 3, 3, 3, 3, 3, 3, 3, 3, 3, 3, 3]\n",
      "L: [8.0, 7, 5.0, 4.0, 4.0, 4.0, 1, 3.0, 3.0, 6.0, 3.0, 4.0, 5.0, 7.0, 4.0, 4.0, 4.0, 5.0, 5.0, 5.0, 6.0, 6.0, 6.0, 8.0, 9.0, 9.0]\n",
      "W_rate: [0.1111111111111111, 0.125, 0.4444444444444444, 0.42857142857142855, 0.42857142857142855, 0.42857142857142855, 0.9, 0.4, 0.4, 0.4, 0.5714285714285714, 0.3333333333333333, 0.2857142857142857, 0.2222222222222222, 0.2, 0.2, 0.2, 0.16666666666666666, 0.16666666666666666, 0.16666666666666666, 0.14285714285714285, 0.14285714285714285, 0.14285714285714285, 0.1111111111111111, 0.1, 0.1]\n",
      "Value: [0, 0, 0, 0, 0, 0, 0, 0, 0, 0, 0, 0, 0, 0, 0, 0, 0, 0, 0, 0, 0, 0, 0, 0, 0, 0]\n"
     ]
    },
    {
     "name": "stderr",
     "output_type": "stream",
     "text": [
      "2024-04-08 15:48:18,808 - __main__ - WARNING - Run feature transformation: ['xgbRegressorTransform', 'cos', 'minus', 'tanh', 'add']\n",
      "2024-04-08 15:48:19,120 - __main__ - WARNING - Run feature transformation: ['xgbRegressorTransform', 'cos', 'minus', 'exp', 'kernelapproxrbf']\n",
      "2024-04-08 15:48:19,612 - __main__ - WARNING - Run feature transformation: ['xgbRegressorTransform', 'cos', 'minus', 'degree', 'xgbRegressorTransform']\n",
      "2024-04-08 15:48:19,841 - __main__ - WARNING - Run feature transformation: ['xgbRegressorTransform', 'cos', 'minus', 'linearRegressorTransform', 'diff']\n",
      "2024-04-08 15:48:20,024 - __main__ - WARNING - Run feature transformation: ['xgbRegressorTransform', 'cos', 'minus', 'xgbRegressorTransform', 'add']\n",
      "2024-04-08 15:48:20,277 - __main__ - WARNING - Run feature transformation: ['xgbRegressorTransform', 'cos', 'minus', 'add', 'square']\n",
      "2024-04-08 15:48:20,554 - __main__ - WARNING - Run feature transformation: ['xgbRegressorTransform', 'cos', 'minus', 'adde', 'cos']\n",
      "2024-04-08 15:48:20,777 - __main__ - WARNING - Run feature transformation: ['xgbRegressorTransform', 'cos', 'minus', 'add', 'minus']\n",
      "2024-04-08 15:48:21,454 - __main__ - WARNING - Run feature transformation: ['xgbRegressorTransform', 'cos', 'minus', 'zscore', 'reciprocal']\n",
      "2024-04-08 15:48:21,660 - __main__ - WARNING - Performances of the given node is: [0.36236436309161146, 0.37308226873753336, 0.37134892646230766, 0.38105951742979177, 0.34474103709479886, 0.5519110254952362, 0.5549636757642379, 0.22472050823459763, 0.5430984695592418, 0.31307663015206205]\n",
      "2024-04-08 15:48:21,661 - __main__ - WARNING - Mean perf is: 0.402037, Mean init is: 0.581475, Std init is: 0.012273 ==> reward: -9.000000\n",
      "2024-04-08 15:48:24,143 - __main__ - WARNING - Performance of scorer is: 0.032032717019319534\n",
      "2024-04-08 15:48:24,149 - __main__ - WARNING - XXXXXXXXXXXXXXXXXXXXXXXXXXXXXXXXXXXXXXXXXXXXXXXXXXXXXXXXXXXX\n",
      "2024-04-08 15:48:24,150 - __main__ - WARNING - Round:\t82\n",
      "2024-04-08 15:48:24,150 - __main__ - WARNING - XXXXXXXXXXXXXXXXXXXXXXXXXXXXXXXXXXXXXXXXXXXXXXXXXXXXXXXXXXXX\n",
      "2024-04-08 15:48:24,152 - __main__ - WARNING - Run feature transformation: ['abs', 'exp', 'ln', 'prod', 'zscore']\n"
     ]
    },
    {
     "name": "stdout",
     "output_type": "stream",
     "text": [
      "['xgbRegressorTransform', 'abs', 'minus', 'square', 'timeagg', 'prod', 'svrTransform', 'relu', 'cos', 'div', 'negative', 'diff', 'ln', 'zscore', 'add', 'reciprocal', 'linearRegressorTransform', 'mlpRegressorTransform', 'radian', 'decisionTreeRegressorTransform', 'degree', 'adde', 'tanh', 'exp', 'sigmoid', 'kernelapproxrbf', 'parameter']\n",
      "W: [1, 4, 3.0, 3.0, 3.0, 9.0, 2.0, 2.0, 4, 4.0, 2.0, 2.0, 2.0, 1, 1, 1, 1, 1, 1, 1, 1, 1, 1, 1, 1, 1]\n",
      "N: [3, 3, 3, 3, 3, 6, 3, 3, 3, 4, 3, 3, 3, 3, 3, 3, 3, 3, 3, 3, 3, 3, 3, 3, 3, 3]\n",
      "L: [10, 5.0, 4.0, 4.0, 4.0, 1, 3.0, 3.0, 6.0, 3.0, 4.0, 5.0, 7.0, 4.0, 4.0, 4.0, 5.0, 5.0, 5.0, 6.0, 6.0, 6.0, 8.0, 8.0, 9.0, 9.0]\n",
      "W_rate: [0.09090909090909091, 0.4444444444444444, 0.42857142857142855, 0.42857142857142855, 0.42857142857142855, 0.9, 0.4, 0.4, 0.4, 0.5714285714285714, 0.3333333333333333, 0.2857142857142857, 0.2222222222222222, 0.2, 0.2, 0.2, 0.16666666666666666, 0.16666666666666666, 0.16666666666666666, 0.14285714285714285, 0.14285714285714285, 0.14285714285714285, 0.1111111111111111, 0.1111111111111111, 0.1, 0.1]\n",
      "Value: [0, 0, 0, 0, 0, 0, 0, 0, 0, 0, 0, 0, 0, 0, 0, 0, 0, 0, 0, 0, 0, 0, 0, 0, 0, 0]\n"
     ]
    },
    {
     "name": "stderr",
     "output_type": "stream",
     "text": [
      "2024-04-08 15:48:26,279 - __main__ - WARNING - Run feature transformation: ['abs', 'exp', 'ln', 'tanh', 'add']\n",
      "2024-04-08 15:48:29,624 - __main__ - WARNING - Run feature transformation: ['abs', 'exp', 'ln', 'exp', 'kernelapproxrbf']\n",
      "2024-04-08 15:48:30,618 - __main__ - WARNING - Run feature transformation: ['abs', 'exp', 'ln', 'degree', 'xgbRegressorTransform']\n",
      "2024-04-08 15:48:32,039 - __main__ - WARNING - Add the best feature in set to the best features record.\n",
      "2024-04-08 15:48:32,041 - __main__ - WARNING - Run feature transformation: ['abs', 'exp', 'ln', 'linearRegressorTransform', 'diff']\n",
      "2024-04-08 15:48:33,025 - __main__ - WARNING - Run feature transformation: ['abs', 'exp', 'ln', 'xgbRegressorTransform', 'add']\n",
      "2024-04-08 15:48:34,448 - __main__ - WARNING - Run feature transformation: ['abs', 'exp', 'ln', 'add', 'square']\n",
      "2024-04-08 15:48:36,703 - __main__ - WARNING - Run feature transformation: ['abs', 'exp', 'ln', 'adde', 'cos']\n",
      "2024-04-08 15:48:38,251 - __main__ - WARNING - Run feature transformation: ['abs', 'exp', 'ln', 'add', 'minus']\n",
      "2024-04-08 15:48:40,872 - __main__ - WARNING - Run feature transformation: ['abs', 'exp', 'ln', 'zscore', 'reciprocal']\n",
      "2024-04-08 15:48:41,987 - __main__ - WARNING - Performances of the given node is: [0.583757937006098, 0.5776059411279294, 0.4798565234738441, 0.5835326948321214, 0.5527984443837897, 0.5488369467655613, 0.5688611841671399, 0.5685016077467092, 0.5798157642290804, 0.5733957748294384]\n",
      "2024-04-08 15:48:41,988 - __main__ - WARNING - Mean perf is: 0.561696, Mean init is: 0.581475, Std init is: 0.012273 ==> reward: -1.000000\n",
      "2024-04-08 15:48:44,535 - __main__ - WARNING - Performance of scorer is: 0.029315827414393425\n",
      "2024-04-08 15:48:44,542 - __main__ - WARNING - XXXXXXXXXXXXXXXXXXXXXXXXXXXXXXXXXXXXXXXXXXXXXXXXXXXXXXXXXXXX\n",
      "2024-04-08 15:48:44,542 - __main__ - WARNING - Round:\t83\n",
      "2024-04-08 15:48:44,543 - __main__ - WARNING - XXXXXXXXXXXXXXXXXXXXXXXXXXXXXXXXXXXXXXXXXXXXXXXXXXXXXXXXXXXX\n",
      "2024-04-08 15:48:44,545 - __main__ - WARNING - Run feature transformation: ['minus', 'ln', 'add', 'square', 'sigmoid']\n"
     ]
    },
    {
     "name": "stdout",
     "output_type": "stream",
     "text": [
      "['abs', 'minus', 'square', 'timeagg', 'prod', 'svrTransform', 'relu', 'cos', 'div', 'negative', 'diff', 'ln', 'zscore', 'add', 'reciprocal', 'linearRegressorTransform', 'mlpRegressorTransform', 'radian', 'decisionTreeRegressorTransform', 'degree', 'adde', 'tanh', 'exp', 'sigmoid', 'kernelapproxrbf', 'xgbRegressorTransform', 'parameter']\n",
      "W: [4, 3.0, 3.0, 3.0, 9.0, 2.0, 2.0, 4, 4.0, 2.0, 2.0, 2.0, 1, 1, 1, 1, 1, 1, 1, 1, 1, 1, 1, 1, 1, 1]\n",
      "N: [4, 3, 3, 3, 6, 3, 3, 3, 4, 3, 3, 3, 3, 3, 3, 3, 3, 3, 3, 3, 3, 3, 3, 3, 3, 3]\n",
      "L: [6.0, 4.0, 4.0, 4.0, 1, 3.0, 3.0, 6.0, 3.0, 4.0, 5.0, 7.0, 4.0, 4.0, 4.0, 5.0, 5.0, 5.0, 6.0, 6.0, 6.0, 8.0, 8.0, 9.0, 9.0, 10]\n",
      "W_rate: [0.4, 0.42857142857142855, 0.42857142857142855, 0.42857142857142855, 0.9, 0.4, 0.4, 0.4, 0.5714285714285714, 0.3333333333333333, 0.2857142857142857, 0.2222222222222222, 0.2, 0.2, 0.2, 0.16666666666666666, 0.16666666666666666, 0.16666666666666666, 0.14285714285714285, 0.14285714285714285, 0.14285714285714285, 0.1111111111111111, 0.1111111111111111, 0.1, 0.1, 0.09090909090909091]\n",
      "Value: [0, 0, 0, 0, 0, 0, 0, 0, 0, 0, 0, 0, 0, 0, 0, 0, 0, 0, 0, 0, 0, 0, 0, 0, 0, 0]\n"
     ]
    },
    {
     "name": "stderr",
     "output_type": "stream",
     "text": [
      "2024-04-08 15:48:54,229 - __main__ - WARNING - Add the best feature in set to the best features record.\n",
      "2024-04-08 15:48:54,230 - __main__ - WARNING - Run feature transformation: ['minus', 'ln', 'add', 'relu', 'ln']\n",
      "2024-04-08 15:49:00,634 - __main__ - WARNING - Run feature transformation: ['minus', 'ln', 'add', 'diff', 'zscore']\n",
      "2024-04-08 15:49:05,503 - __main__ - WARNING - Run feature transformation: ['minus', 'ln', 'add', 'zscore', 'diff']\n",
      "2024-04-08 15:49:11,894 - __main__ - WARNING - Run feature transformation: ['minus', 'ln', 'add', 'svrTransform', 'prod']\n",
      "2024-04-08 15:49:17,674 - __main__ - WARNING - Run feature transformation: ['minus', 'ln', 'add', 'abs', 'prod']\n",
      "2024-04-08 15:49:24,515 - __main__ - WARNING - Run feature transformation: ['minus', 'ln', 'add', 'xgbRegressorTransform', 'timeagg']\n",
      "2024-04-08 15:49:31,087 - __main__ - WARNING - Add the best feature in set to the best features record.\n",
      "2024-04-08 15:49:31,089 - __main__ - WARNING - Run feature transformation: ['minus', 'ln', 'add', 'negative', 'square']\n",
      "2024-04-08 15:49:36,717 - __main__ - WARNING - Run feature transformation: ['minus', 'ln', 'add', 'linearRegressorTransform', 'tanh']\n",
      "2024-04-08 15:49:40,562 - __main__ - WARNING - Run feature transformation: ['minus', 'ln', 'add', 'xgbRegressorTransform', 'abs']\n",
      "2024-04-08 15:49:41,723 - __main__ - WARNING - Performances of the given node is: [0.5881952575977788, 0.5683938709873713, 0.5778196023680137, 0.5725568619103418, 0.5621509400414636, 0.5680966063840452, 0.5991663074489487, 0.5792933264195869, 0.579141492685414, 0.5939838143188759]\n",
      "2024-04-08 15:49:41,724 - __main__ - WARNING - Mean perf is: 0.578880, Mean init is: 0.581475, Std init is: 0.012273 ==> reward: -1.000000\n",
      "2024-04-08 15:49:44,338 - __main__ - WARNING - Performance of scorer is: 0.028660506010055542\n",
      "2024-04-08 15:49:44,345 - __main__ - WARNING - XXXXXXXXXXXXXXXXXXXXXXXXXXXXXXXXXXXXXXXXXXXXXXXXXXXXXXXXXXXX\n",
      "2024-04-08 15:49:44,345 - __main__ - WARNING - Round:\t84\n",
      "2024-04-08 15:49:44,345 - __main__ - WARNING - XXXXXXXXXXXXXXXXXXXXXXXXXXXXXXXXXXXXXXXXXXXXXXXXXXXXXXXXXXXX\n",
      "2024-04-08 15:49:44,348 - __main__ - WARNING - Run feature transformation: ['square', 'exp', 'abs', 'xgbRegressorTransform', 'abs']\n"
     ]
    },
    {
     "name": "stdout",
     "output_type": "stream",
     "text": [
      "['minus', 'square', 'timeagg', 'prod', 'svrTransform', 'relu', 'cos', 'div', 'negative', 'diff', 'ln', 'zscore', 'add', 'reciprocal', 'abs', 'linearRegressorTransform', 'mlpRegressorTransform', 'radian', 'decisionTreeRegressorTransform', 'degree', 'adde', 'tanh', 'exp', 'sigmoid', 'kernelapproxrbf', 'xgbRegressorTransform', 'parameter']\n",
      "W: [3.0, 3.0, 3.0, 9.0, 2.0, 2.0, 4, 4.0, 2.0, 2.0, 2.0, 1, 1, 1, 4, 1, 1, 1, 1, 1, 1, 1, 1, 1, 1, 1]\n",
      "N: [4, 3, 3, 6, 3, 3, 3, 4, 3, 3, 3, 3, 3, 3, 4, 3, 3, 3, 3, 3, 3, 3, 3, 3, 3, 3]\n",
      "L: [5.0, 4.0, 4.0, 1, 3.0, 3.0, 6.0, 3.0, 4.0, 5.0, 7.0, 4.0, 4.0, 4.0, 6.0, 5.0, 5.0, 5.0, 6.0, 6.0, 6.0, 8.0, 8.0, 9.0, 9.0, 10]\n",
      "W_rate: [0.375, 0.42857142857142855, 0.42857142857142855, 0.9, 0.4, 0.4, 0.4, 0.5714285714285714, 0.3333333333333333, 0.2857142857142857, 0.2222222222222222, 0.2, 0.2, 0.2, 0.4, 0.16666666666666666, 0.16666666666666666, 0.16666666666666666, 0.14285714285714285, 0.14285714285714285, 0.14285714285714285, 0.1111111111111111, 0.1111111111111111, 0.1, 0.1, 0.09090909090909091]\n",
      "Value: [0, 0, 0, 0, 0, 0, 0, 0, 0, 0, 0, 0, 0, 0, 0, 0, 0, 0, 0, 0, 0, 0, 0, 0, 0, 0]\n"
     ]
    },
    {
     "name": "stderr",
     "output_type": "stream",
     "text": [
      "2024-04-08 15:49:45,529 - __main__ - WARNING - Run feature transformation: ['square', 'exp', 'abs', 'negative', 'xgbRegressorTransform']\n",
      "2024-04-08 15:49:46,854 - __main__ - WARNING - Run feature transformation: ['square', 'exp', 'abs', 'kernelapproxrbf', 'prod']\n",
      "2024-04-08 15:49:49,373 - __main__ - WARNING - Run feature transformation: ['square', 'exp', 'abs', 'svrTransform', 'decisionTreeRegressorTransform']\n",
      "2024-04-08 15:49:49,982 - __main__ - WARNING - Run feature transformation: ['square', 'exp', 'abs', 'svrTransform', 'negative']\n",
      "2024-04-08 15:49:50,732 - __main__ - WARNING - Run feature transformation: ['square', 'exp', 'abs', 'zscore', 'tanh']\n",
      "2024-04-08 15:49:51,995 - __main__ - WARNING - Run feature transformation: ['square', 'exp', 'abs', 'relu', 'relu']\n",
      "2024-04-08 15:49:52,955 - __main__ - WARNING - Run feature transformation: ['square', 'exp', 'abs', 'add', 'negative']\n",
      "2024-04-08 15:49:54,539 - __main__ - WARNING - Run feature transformation: ['square', 'exp', 'abs', 'diff', 'zscore']\n",
      "2024-04-08 15:49:55,646 - __main__ - WARNING - Run feature transformation: ['square', 'exp', 'abs', 'linearRegressorTransform', 'zscore']\n",
      "2024-04-08 15:49:56,383 - __main__ - WARNING - Performances of the given node is: [0.5063312049302512, 0.564658278479922, 0.5269304453231621, 0.5817459651016438, 0.5988493741712033, 0.5866251252663062, 0.5779646782254829, 0.5754293246484371, 0.5739143546594007, 0.5913121278773092]\n",
      "2024-04-08 15:49:56,384 - __main__ - WARNING - Mean perf is: 0.568376, Mean init is: 0.581475, Std init is: 0.012273 ==> reward: -1.000000\n",
      "2024-04-08 15:49:59,010 - __main__ - WARNING - Performance of scorer is: 0.027997763827443123\n",
      "2024-04-08 15:49:59,016 - __main__ - WARNING - XXXXXXXXXXXXXXXXXXXXXXXXXXXXXXXXXXXXXXXXXXXXXXXXXXXXXXXXXXXX\n",
      "2024-04-08 15:49:59,017 - __main__ - WARNING - Round:\t85\n",
      "2024-04-08 15:49:59,017 - __main__ - WARNING - XXXXXXXXXXXXXXXXXXXXXXXXXXXXXXXXXXXXXXXXXXXXXXXXXXXXXXXXXXXX\n",
      "2024-04-08 15:49:59,019 - __main__ - WARNING - Run feature transformation: ['timeagg', 'exp', 'exp', 'diff', 'mlpRegressorTransform']\n"
     ]
    },
    {
     "name": "stdout",
     "output_type": "stream",
     "text": [
      "['square', 'timeagg', 'prod', 'svrTransform', 'relu', 'cos', 'div', 'negative', 'diff', 'ln', 'zscore', 'add', 'reciprocal', 'abs', 'linearRegressorTransform', 'mlpRegressorTransform', 'radian', 'minus', 'decisionTreeRegressorTransform', 'degree', 'adde', 'tanh', 'exp', 'sigmoid', 'kernelapproxrbf', 'xgbRegressorTransform', 'parameter']\n",
      "W: [3.0, 3.0, 9.0, 2.0, 2.0, 4, 4.0, 2.0, 2.0, 2.0, 1, 1, 1, 4, 1, 1, 1, 3.0, 1, 1, 1, 1, 1, 1, 1, 1]\n",
      "N: [4, 3, 6, 3, 3, 3, 4, 3, 3, 3, 3, 3, 3, 4, 3, 3, 3, 4, 3, 3, 3, 3, 3, 3, 3, 3]\n",
      "L: [5.0, 4.0, 1, 3.0, 3.0, 6.0, 3.0, 4.0, 5.0, 7.0, 4.0, 4.0, 4.0, 6.0, 5.0, 5.0, 5.0, 5.0, 6.0, 6.0, 6.0, 8.0, 8.0, 9.0, 9.0, 10]\n",
      "W_rate: [0.375, 0.42857142857142855, 0.9, 0.4, 0.4, 0.4, 0.5714285714285714, 0.3333333333333333, 0.2857142857142857, 0.2222222222222222, 0.2, 0.2, 0.2, 0.4, 0.16666666666666666, 0.16666666666666666, 0.16666666666666666, 0.375, 0.14285714285714285, 0.14285714285714285, 0.14285714285714285, 0.1111111111111111, 0.1111111111111111, 0.1, 0.1, 0.09090909090909091]\n",
      "Value: [0, 0, 0, 0, 0, 0, 0, 0, 0, 0, 0, 0, 0, 0, 0, 0, 0, 0, 0, 0, 0, 0, 0, 0, 0, 0]\n"
     ]
    },
    {
     "name": "stderr",
     "output_type": "stream",
     "text": [
      "2024-04-08 15:50:02,580 - __main__ - WARNING - Add the best feature in set to the best features record.\n",
      "2024-04-08 15:50:02,581 - __main__ - WARNING - Run feature transformation: ['timeagg', 'exp', 'exp', 'linearRegressorTransform', 'square']\n",
      "2024-04-08 15:50:03,161 - __main__ - WARNING - Run feature transformation: ['timeagg', 'exp', 'exp', 'ln', 'linearRegressorTransform']\n",
      "2024-04-08 15:50:03,731 - __main__ - WARNING - Add the best feature in set to the best features record.\n",
      "2024-04-08 15:50:03,732 - __main__ - WARNING - Run feature transformation: ['timeagg', 'exp', 'exp', 'div', 'mlpRegressorTransform']\n",
      "2024-04-08 15:50:12,431 - __main__ - WARNING - Run feature transformation: ['timeagg', 'exp', 'exp', 'relu', 'square']\n",
      "2024-04-08 15:50:13,076 - __main__ - WARNING - Run feature transformation: ['timeagg', 'exp', 'exp', 'div', 'abs']\n",
      "2024-04-08 15:50:16,989 - __main__ - WARNING - Run feature transformation: ['timeagg', 'exp', 'exp', 'exp', 'div']\n",
      "2024-04-08 15:50:21,037 - __main__ - WARNING - Run feature transformation: ['timeagg', 'exp', 'exp', 'svrTransform', 'div']\n",
      "2024-04-08 15:50:25,504 - __main__ - WARNING - Run feature transformation: ['timeagg', 'exp', 'exp', 'decisionTreeRegressorTransform', 'zscore']\n",
      "2024-04-08 15:50:25,870 - __main__ - WARNING - Run feature transformation: ['timeagg', 'exp', 'exp', 'sigmoid', 'xgbRegressorTransform']\n",
      "2024-04-08 15:50:27,107 - __main__ - WARNING - Performances of the given node is: [0.5892556625911313, 0.5678583349270903, 0.6099685892950184, 0.5566172112753512, 0.574086364562178, 0.5835140228901711, 0.5840263086547591, 0.5761238787714865, 0.5743132449492054, 0.5780486147363999]\n",
      "2024-04-08 15:50:27,108 - __main__ - WARNING - Mean perf is: 0.579381, Mean init is: 0.581475, Std init is: 0.012273 ==> reward: -1.000000\n",
      "2024-04-08 15:50:29,693 - __main__ - WARNING - Performance of scorer is: 0.03794296830892563\n",
      "2024-04-08 15:50:29,700 - __main__ - WARNING - XXXXXXXXXXXXXXXXXXXXXXXXXXXXXXXXXXXXXXXXXXXXXXXXXXXXXXXXXXXX\n",
      "2024-04-08 15:50:29,700 - __main__ - WARNING - Round:\t86\n",
      "2024-04-08 15:50:29,701 - __main__ - WARNING - XXXXXXXXXXXXXXXXXXXXXXXXXXXXXXXXXXXXXXXXXXXXXXXXXXXXXXXXXXXX\n",
      "2024-04-08 15:50:29,703 - __main__ - WARNING - Run feature transformation: ['svrTransform', 'exp', 'add', 'xgbRegressorTransform', 'abs']\n"
     ]
    },
    {
     "name": "stdout",
     "output_type": "stream",
     "text": [
      "['timeagg', 'prod', 'svrTransform', 'relu', 'cos', 'div', 'negative', 'diff', 'ln', 'zscore', 'add', 'reciprocal', 'abs', 'linearRegressorTransform', 'mlpRegressorTransform', 'radian', 'square', 'minus', 'decisionTreeRegressorTransform', 'degree', 'adde', 'tanh', 'exp', 'sigmoid', 'kernelapproxrbf', 'xgbRegressorTransform', 'parameter']\n",
      "W: [3.0, 9.0, 2.0, 2.0, 4, 4.0, 2.0, 2.0, 2.0, 1, 1, 1, 4, 1, 1, 1, 3.0, 3.0, 1, 1, 1, 1, 1, 1, 1, 1]\n",
      "N: [4, 6, 3, 3, 3, 4, 3, 3, 3, 3, 3, 3, 4, 3, 3, 3, 4, 4, 3, 3, 3, 3, 3, 3, 3, 3]\n",
      "L: [5.0, 1, 3.0, 3.0, 6.0, 3.0, 4.0, 5.0, 7.0, 4.0, 4.0, 4.0, 6.0, 5.0, 5.0, 5.0, 5.0, 5.0, 6.0, 6.0, 6.0, 8.0, 8.0, 9.0, 9.0, 10]\n",
      "W_rate: [0.375, 0.9, 0.4, 0.4, 0.4, 0.5714285714285714, 0.3333333333333333, 0.2857142857142857, 0.2222222222222222, 0.2, 0.2, 0.2, 0.4, 0.16666666666666666, 0.16666666666666666, 0.16666666666666666, 0.375, 0.375, 0.14285714285714285, 0.14285714285714285, 0.14285714285714285, 0.1111111111111111, 0.1111111111111111, 0.1, 0.1, 0.09090909090909091]\n",
      "Value: [0, 0, 0, 0, 0, 0, 0, 0, 0, 0, 0, 0, 0, 0, 0, 0, 0, 0, 0, 0, 0, 0, 0, 0, 0, 0]\n"
     ]
    },
    {
     "name": "stderr",
     "output_type": "stream",
     "text": [
      "2024-04-08 15:50:32,634 - __main__ - WARNING - Add the best feature in set to the best features record.\n",
      "2024-04-08 15:50:32,635 - __main__ - WARNING - Run feature transformation: ['svrTransform', 'exp', 'add', 'negative', 'xgbRegressorTransform']\n",
      "2024-04-08 15:50:36,864 - __main__ - WARNING - Run feature transformation: ['svrTransform', 'exp', 'add', 'kernelapproxrbf', 'prod']\n",
      "2024-04-08 15:50:40,548 - __main__ - WARNING - Run feature transformation: ['svrTransform', 'exp', 'add', 'svrTransform', 'decisionTreeRegressorTransform']\n",
      "2024-04-08 15:50:42,479 - __main__ - WARNING - Run feature transformation: ['svrTransform', 'exp', 'add', 'svrTransform', 'negative']\n",
      "2024-04-08 15:50:43,253 - __main__ - WARNING - Run feature transformation: ['svrTransform', 'exp', 'add', 'zscore', 'tanh']\n",
      "2024-04-08 15:50:46,397 - __main__ - WARNING - Add the best feature in set to the best features record.\n",
      "2024-04-08 15:50:46,398 - __main__ - WARNING - Run feature transformation: ['svrTransform', 'exp', 'add', 'relu', 'relu']\n",
      "2024-04-08 15:50:49,669 - __main__ - WARNING - Run feature transformation: ['svrTransform', 'exp', 'add', 'add', 'negative']\n",
      "2024-04-08 15:50:54,161 - __main__ - WARNING - Run feature transformation: ['svrTransform', 'exp', 'add', 'diff', 'zscore']\n",
      "2024-04-08 15:50:56,805 - __main__ - WARNING - Run feature transformation: ['svrTransform', 'exp', 'add', 'linearRegressorTransform', 'zscore']\n",
      "2024-04-08 15:50:58,895 - __main__ - WARNING - Add the best feature in set to the best features record.\n",
      "2024-04-08 15:50:58,897 - __main__ - WARNING - Performances of the given node is: [0.5908105907346934, 0.5650467660423752, 0.5767528311780885, 0.5971344842235234, 0.5768862621159141, 0.5957316513437526, 0.5749419543261332, 0.5797628990443364, 0.562670205753113, 0.5951192268436938]\n",
      "2024-04-08 15:50:58,898 - __main__ - WARNING - Mean perf is: 0.581486, Mean init is: 0.581475, Std init is: 0.012273 ==> reward: 1.000000\n",
      "2024-04-08 15:51:01,486 - __main__ - WARNING - Performance of scorer is: 0.02056008391082287\n",
      "2024-04-08 15:51:01,487 - __main__ - WARNING - Run feature transformation: ['svrTransform', 'exp', 'add']\n",
      "2024-04-08 15:51:14,666 - __main__ - WARNING - Mean init is: 0.5814751034102423, mean of new node is: 0.5628768794289953\n",
      "2024-04-08 15:51:14,673 - __main__ - WARNING - XXXXXXXXXXXXXXXXXXXXXXXXXXXXXXXXXXXXXXXXXXXXXXXXXXXXXXXXXXXX\n",
      "2024-04-08 15:51:14,673 - __main__ - WARNING - Round:\t87\n",
      "2024-04-08 15:51:14,673 - __main__ - WARNING - XXXXXXXXXXXXXXXXXXXXXXXXXXXXXXXXXXXXXXXXXXXXXXXXXXXXXXXXXXXX\n",
      "2024-04-08 15:51:14,676 - __main__ - WARNING - Run feature transformation: ['relu', 'exp', 'degree', 'xgbRegressorTransform', 'zscore']\n"
     ]
    },
    {
     "name": "stdout",
     "output_type": "stream",
     "text": [
      "['svrTransform', 'relu', 'cos', 'prod', 'div', 'negative', 'diff', 'ln', 'zscore', 'add', 'reciprocal', 'abs', 'linearRegressorTransform', 'mlpRegressorTransform', 'radian', 'timeagg', 'square', 'minus', 'decisionTreeRegressorTransform', 'degree', 'adde', 'tanh', 'exp', 'sigmoid', 'kernelapproxrbf', 'xgbRegressorTransform', 'parameter']\n",
      "W: [3.0, 2.0, 4, 9.0, 4.0, 2.0, 2.0, 2.0, 1, 1, 1, 4, 1, 1, 1, 3.0, 3.0, 3.0, 1, 1, 1, 1, 1, 1, 1, 1]\n",
      "N: [4, 3, 3, 6, 4, 3, 3, 3, 3, 3, 3, 4, 3, 3, 3, 4, 4, 4, 3, 3, 3, 3, 3, 3, 3, 3]\n",
      "L: [3.0, 3.0, 6.0, 1, 3.0, 4.0, 5.0, 7.0, 4.0, 4.0, 4.0, 6.0, 5.0, 5.0, 5.0, 5.0, 5.0, 5.0, 6.0, 6.0, 6.0, 8.0, 8.0, 9.0, 9.0, 10]\n",
      "W_rate: [0.5, 0.4, 0.4, 0.9, 0.5714285714285714, 0.3333333333333333, 0.2857142857142857, 0.2222222222222222, 0.2, 0.2, 0.2, 0.4, 0.16666666666666666, 0.16666666666666666, 0.16666666666666666, 0.375, 0.375, 0.375, 0.14285714285714285, 0.14285714285714285, 0.14285714285714285, 0.1111111111111111, 0.1111111111111111, 0.1, 0.1, 0.09090909090909091]\n",
      "Value: [0, 0, 0, 0, 0, 0, 0, 0, 0, 0, 0, 0, 0, 0, 0, 0, 0, 0, 0, 0, 0, 0, 0, 0, 0, 0]\n"
     ]
    },
    {
     "name": "stderr",
     "output_type": "stream",
     "text": [
      "2024-04-08 15:51:15,888 - __main__ - WARNING - Add the best feature in set to the best features record.\n",
      "2024-04-08 15:51:15,889 - __main__ - WARNING - Run feature transformation: ['relu', 'exp', 'degree', 'diff', 'zscore']\n",
      "2024-04-08 15:51:17,030 - __main__ - WARNING - Run feature transformation: ['relu', 'exp', 'degree', 'sigmoid', 'radian']\n",
      "2024-04-08 15:51:18,114 - __main__ - WARNING - Run feature transformation: ['relu', 'exp', 'degree', 'timeagg', 'relu']\n",
      "2024-04-08 15:51:18,954 - __main__ - WARNING - Run feature transformation: ['relu', 'exp', 'degree', 'diff', 'add']\n",
      "2024-04-08 15:51:21,853 - __main__ - WARNING - Run feature transformation: ['relu', 'exp', 'degree', 'svrTransform', 'mlpRegressorTransform']\n",
      "2024-04-08 15:51:25,753 - __main__ - WARNING - Run feature transformation: ['relu', 'exp', 'degree', 'zscore', 'timeagg']\n",
      "2024-04-08 15:51:26,494 - __main__ - WARNING - Run feature transformation: ['relu', 'exp', 'degree', 'mlpRegressorTransform', 'cos']\n",
      "2024-04-08 15:51:30,480 - __main__ - WARNING - Run feature transformation: ['relu', 'exp', 'degree', 'kernelapproxrbf', 'reciprocal']\n",
      "2024-04-08 15:51:31,787 - __main__ - WARNING - Run feature transformation: ['relu', 'exp', 'degree', 'tanh', 'cos']\n",
      "2024-04-08 15:51:33,214 - __main__ - WARNING - Performances of the given node is: [0.6043074320724521, 0.5701795081761101, 0.5814712285419968, 0.5771091225540528, 0.5716532294137995, 0.5585796796540076, 0.5707485178706241, 0.5665966667399644, 0.561563103229573, 0.5517388508134641]\n",
      "2024-04-08 15:51:33,215 - __main__ - WARNING - Mean perf is: 0.571395, Mean init is: 0.581475, Std init is: 0.012273 ==> reward: -1.000000\n",
      "2024-04-08 15:51:35,890 - __main__ - WARNING - Performance of scorer is: 0.03530661761760712\n",
      "2024-04-08 15:51:35,897 - __main__ - WARNING - XXXXXXXXXXXXXXXXXXXXXXXXXXXXXXXXXXXXXXXXXXXXXXXXXXXXXXXXXXXX\n",
      "2024-04-08 15:51:35,898 - __main__ - WARNING - Round:\t88\n",
      "2024-04-08 15:51:35,898 - __main__ - WARNING - XXXXXXXXXXXXXXXXXXXXXXXXXXXXXXXXXXXXXXXXXXXXXXXXXXXXXXXXXXXX\n",
      "2024-04-08 15:51:35,900 - __main__ - WARNING - Run feature transformation: ['cos', 'exp', 'zscore', 'xgbRegressorTransform', 'zscore']\n"
     ]
    },
    {
     "name": "stdout",
     "output_type": "stream",
     "text": [
      "['relu', 'cos', 'prod', 'div', 'negative', 'diff', 'svrTransform', 'ln', 'zscore', 'add', 'reciprocal', 'abs', 'linearRegressorTransform', 'mlpRegressorTransform', 'radian', 'timeagg', 'square', 'minus', 'decisionTreeRegressorTransform', 'degree', 'adde', 'tanh', 'exp', 'sigmoid', 'kernelapproxrbf', 'xgbRegressorTransform', 'parameter']\n",
      "W: [2.0, 4, 9.0, 4.0, 2.0, 2.0, 3.0, 2.0, 1, 1, 1, 4, 1, 1, 1, 3.0, 3.0, 3.0, 1, 1, 1, 1, 1, 1, 1, 1]\n",
      "N: [4, 3, 6, 4, 3, 3, 4, 3, 3, 3, 3, 4, 3, 3, 3, 4, 4, 4, 3, 3, 3, 3, 3, 3, 3, 3]\n",
      "L: [4.0, 6.0, 1, 3.0, 4.0, 5.0, 3.0, 7.0, 4.0, 4.0, 4.0, 6.0, 5.0, 5.0, 5.0, 5.0, 5.0, 5.0, 6.0, 6.0, 6.0, 8.0, 8.0, 9.0, 9.0, 10]\n",
      "W_rate: [0.3333333333333333, 0.4, 0.9, 0.5714285714285714, 0.3333333333333333, 0.2857142857142857, 0.5, 0.2222222222222222, 0.2, 0.2, 0.2, 0.4, 0.16666666666666666, 0.16666666666666666, 0.16666666666666666, 0.375, 0.375, 0.375, 0.14285714285714285, 0.14285714285714285, 0.14285714285714285, 0.1111111111111111, 0.1111111111111111, 0.1, 0.1, 0.09090909090909091]\n",
      "Value: [0, 0, 0, 0, 0, 0, 0, 0, 0, 0, 0, 0, 0, 0, 0, 0, 0, 0, 0, 0, 0, 0, 0, 0, 0, 0]\n"
     ]
    },
    {
     "name": "stderr",
     "output_type": "stream",
     "text": [
      "2024-04-08 15:51:37,711 - __main__ - WARNING - Run feature transformation: ['cos', 'exp', 'zscore', 'diff', 'zscore']\n",
      "2024-04-08 15:51:39,369 - __main__ - WARNING - Run feature transformation: ['cos', 'exp', 'zscore', 'sigmoid', 'radian']\n",
      "2024-04-08 15:51:41,294 - __main__ - WARNING - Run feature transformation: ['cos', 'exp', 'zscore', 'timeagg', 'relu']\n",
      "2024-04-08 15:51:42,365 - __main__ - WARNING - Add the best feature in set to the best features record.\n",
      "2024-04-08 15:51:42,366 - __main__ - WARNING - Run feature transformation: ['cos', 'exp', 'zscore', 'diff', 'add']\n",
      "2024-04-08 15:51:43,402 - __main__ - WARNING - Run feature transformation: ['cos', 'exp', 'zscore', 'svrTransform', 'mlpRegressorTransform']\n",
      "2024-04-08 15:51:47,720 - __main__ - WARNING - Run feature transformation: ['cos', 'exp', 'zscore', 'zscore', 'timeagg']\n",
      "2024-04-08 15:51:48,745 - __main__ - WARNING - Run feature transformation: ['cos', 'exp', 'zscore', 'mlpRegressorTransform', 'cos']\n",
      "2024-04-08 15:51:53,157 - __main__ - WARNING - Run feature transformation: ['cos', 'exp', 'zscore', 'kernelapproxrbf', 'reciprocal']\n",
      "2024-04-08 15:51:54,846 - __main__ - WARNING - Run feature transformation: ['cos', 'exp', 'zscore', 'tanh', 'cos']\n",
      "2024-04-08 15:51:57,043 - __main__ - WARNING - Performances of the given node is: [0.5637489405358891, 0.5779241195427476, 0.5696496849783743, 0.5925474515560243, 0.5780563798471129, 0.5493955984097829, 0.5645898560094879, 0.5739319022357942, 0.5133728545239015, 0.5506891310864169]\n",
      "2024-04-08 15:51:57,045 - __main__ - WARNING - Mean perf is: 0.563391, Mean init is: 0.581475, Std init is: 0.012273 ==> reward: -1.000000\n",
      "2024-04-08 15:51:59,766 - __main__ - WARNING - Performance of scorer is: 0.051481280475854874\n",
      "2024-04-08 15:51:59,773 - __main__ - WARNING - XXXXXXXXXXXXXXXXXXXXXXXXXXXXXXXXXXXXXXXXXXXXXXXXXXXXXXXXXXXX\n",
      "2024-04-08 15:51:59,773 - __main__ - WARNING - Round:\t89\n",
      "2024-04-08 15:51:59,774 - __main__ - WARNING - XXXXXXXXXXXXXXXXXXXXXXXXXXXXXXXXXXXXXXXXXXXXXXXXXXXXXXXXXXXX\n",
      "2024-04-08 15:51:59,776 - __main__ - WARNING - Run feature transformation: ['prod', 'sigmoid', 'xgbRegressorTransform', 'negative', 'prod']\n"
     ]
    },
    {
     "name": "stdout",
     "output_type": "stream",
     "text": [
      "['cos', 'prod', 'div', 'negative', 'diff', 'svrTransform', 'ln', 'zscore', 'add', 'reciprocal', 'abs', 'linearRegressorTransform', 'mlpRegressorTransform', 'radian', 'timeagg', 'square', 'minus', 'decisionTreeRegressorTransform', 'degree', 'adde', 'tanh', 'exp', 'relu', 'sigmoid', 'kernelapproxrbf', 'xgbRegressorTransform', 'parameter']\n",
      "W: [4, 9.0, 4.0, 2.0, 2.0, 3.0, 2.0, 1, 1, 1, 4, 1, 1, 1, 3.0, 3.0, 3.0, 1, 1, 1, 1, 1, 2.0, 1, 1, 1]\n",
      "N: [4, 6, 4, 3, 3, 4, 3, 3, 3, 3, 4, 3, 3, 3, 4, 4, 4, 3, 3, 3, 3, 3, 4, 3, 3, 3]\n",
      "L: [7.0, 1, 3.0, 4.0, 5.0, 3.0, 7.0, 4.0, 4.0, 4.0, 6.0, 5.0, 5.0, 5.0, 5.0, 5.0, 5.0, 6.0, 6.0, 6.0, 8.0, 8.0, 4.0, 9.0, 9.0, 10]\n",
      "W_rate: [0.36363636363636365, 0.9, 0.5714285714285714, 0.3333333333333333, 0.2857142857142857, 0.5, 0.2222222222222222, 0.2, 0.2, 0.2, 0.4, 0.16666666666666666, 0.16666666666666666, 0.16666666666666666, 0.375, 0.375, 0.375, 0.14285714285714285, 0.14285714285714285, 0.14285714285714285, 0.1111111111111111, 0.1111111111111111, 0.3333333333333333, 0.1, 0.1, 0.09090909090909091]\n",
      "Value: [0, 0, 0, 0, 0, 0, 0, 0, 0, 0, 0, 0, 0, 0, 0, 0, 0, 0, 0, 0, 0, 0, 0, 0, 0, 0]\n"
     ]
    },
    {
     "name": "stderr",
     "output_type": "stream",
     "text": [
      "2024-04-08 15:52:05,551 - __main__ - WARNING - Run feature transformation: ['prod', 'sigmoid', 'xgbRegressorTransform', 'linearRegressorTransform', 'linearRegressorTransform']\n",
      "2024-04-08 15:52:06,413 - __main__ - WARNING - Run feature transformation: ['prod', 'sigmoid', 'xgbRegressorTransform', 'prod', 'div']\n",
      "2024-04-08 15:52:09,331 - __main__ - WARNING - Run feature transformation: ['prod', 'sigmoid', 'xgbRegressorTransform', 'zscore', 'degree']\n",
      "2024-04-08 15:52:10,403 - __main__ - WARNING - Run feature transformation: ['prod', 'sigmoid', 'xgbRegressorTransform', 'relu', 'div']\n",
      "2024-04-08 15:52:12,308 - __main__ - WARNING - Run feature transformation: ['prod', 'sigmoid', 'xgbRegressorTransform', 'timeagg', 'kernelapproxrbf']\n",
      "2024-04-08 15:52:13,214 - __main__ - WARNING - Run feature transformation: ['prod', 'sigmoid', 'xgbRegressorTransform', 'diff', 'square']\n",
      "2024-04-08 15:52:14,235 - __main__ - WARNING - Run feature transformation: ['prod', 'sigmoid', 'xgbRegressorTransform', 'exp', 'cos']\n",
      "2024-04-08 15:52:15,535 - __main__ - WARNING - Run feature transformation: ['prod', 'sigmoid', 'xgbRegressorTransform', 'sigmoid', 'abs']\n",
      "2024-04-08 15:52:16,541 - __main__ - WARNING - Run feature transformation: ['prod', 'sigmoid', 'xgbRegressorTransform', 'diff', 'diff']\n",
      "2024-04-08 15:52:16,933 - __main__ - WARNING - Add the best feature in set to the best features record.\n",
      "2024-04-08 15:52:16,935 - __main__ - WARNING - Performances of the given node is: [0.5374993210581445, 0.5770554888624682, 0.49835940503205933, 0.575926237694935, 0.5108366701641619, 0.5547224938722102, 0.5800550244130704, 0.5746879498876465, 0.5670186044041177, 0.5895852275206124]\n",
      "2024-04-08 15:52:16,936 - __main__ - WARNING - Mean perf is: 0.556575, Mean init is: 0.581475, Std init is: 0.012273 ==> reward: -2.000000\n",
      "2024-04-08 15:52:19,664 - __main__ - WARNING - Performance of scorer is: 0.030475793406367302\n",
      "2024-04-08 15:52:19,671 - __main__ - WARNING - XXXXXXXXXXXXXXXXXXXXXXXXXXXXXXXXXXXXXXXXXXXXXXXXXXXXXXXXXXXX\n",
      "2024-04-08 15:52:19,671 - __main__ - WARNING - Round:\t90\n",
      "2024-04-08 15:52:19,672 - __main__ - WARNING - XXXXXXXXXXXXXXXXXXXXXXXXXXXXXXXXXXXXXXXXXXXXXXXXXXXXXXXXXXXX\n",
      "2024-04-08 15:52:19,674 - __main__ - WARNING - Run feature transformation: ['div', 'ln', 'minus', 'sigmoid', 'abs']\n"
     ]
    },
    {
     "name": "stdout",
     "output_type": "stream",
     "text": [
      "['prod', 'div', 'negative', 'diff', 'svrTransform', 'ln', 'zscore', 'add', 'reciprocal', 'abs', 'linearRegressorTransform', 'mlpRegressorTransform', 'radian', 'timeagg', 'square', 'minus', 'decisionTreeRegressorTransform', 'degree', 'adde', 'cos', 'tanh', 'exp', 'relu', 'sigmoid', 'kernelapproxrbf', 'xgbRegressorTransform', 'parameter']\n",
      "W: [9.0, 4.0, 2.0, 2.0, 3.0, 2.0, 1, 1, 1, 4, 1, 1, 1, 3.0, 3.0, 3.0, 1, 1, 1, 4, 1, 1, 2.0, 1, 1, 1]\n",
      "N: [7, 4, 3, 3, 4, 3, 3, 3, 3, 4, 3, 3, 3, 4, 4, 4, 3, 3, 3, 4, 3, 3, 4, 3, 3, 3]\n",
      "L: [3.0, 3.0, 4.0, 5.0, 3.0, 7.0, 4.0, 4.0, 4.0, 6.0, 5.0, 5.0, 5.0, 5.0, 5.0, 5.0, 6.0, 6.0, 6.0, 7.0, 8.0, 8.0, 4.0, 9.0, 9.0, 10]\n",
      "W_rate: [0.75, 0.5714285714285714, 0.3333333333333333, 0.2857142857142857, 0.5, 0.2222222222222222, 0.2, 0.2, 0.2, 0.4, 0.16666666666666666, 0.16666666666666666, 0.16666666666666666, 0.375, 0.375, 0.375, 0.14285714285714285, 0.14285714285714285, 0.14285714285714285, 0.36363636363636365, 0.1111111111111111, 0.1111111111111111, 0.3333333333333333, 0.1, 0.1, 0.09090909090909091]\n",
      "Value: [0, 0, 0, 0, 0, 0, 0, 0, 0, 0, 0, 0, 0, 0, 0, 0, 0, 0, 0, 0, 0, 0, 0, 0, 0, 0]\n"
     ]
    },
    {
     "name": "stderr",
     "output_type": "stream",
     "text": [
      "2024-04-08 15:52:29,640 - __main__ - WARNING - Run feature transformation: ['div', 'ln', 'minus', 'diff', 'diff']\n",
      "2024-04-08 15:52:32,734 - __main__ - WARNING - Run feature transformation: ['div', 'ln', 'minus', 'xgbRegressorTransform', 'timeagg']\n",
      "2024-04-08 15:52:35,792 - __main__ - WARNING - Add the best feature in set to the best features record.\n",
      "2024-04-08 15:52:35,793 - __main__ - WARNING - Run feature transformation: ['div', 'ln', 'minus', 'adde', 'div']\n",
      "2024-04-08 15:52:41,346 - __main__ - WARNING - Run feature transformation: ['div', 'ln', 'minus', 'svrTransform', 'mlpRegressorTransform']\n",
      "2024-04-08 15:52:46,513 - __main__ - WARNING - Run feature transformation: ['div', 'ln', 'minus', 'div', 'degree']\n",
      "2024-04-08 15:52:52,136 - __main__ - WARNING - Add the best feature in set to the best features record.\n",
      "2024-04-08 15:52:52,138 - __main__ - WARNING - Run feature transformation: ['div', 'ln', 'minus', 'reciprocal', 'svrTransform']\n",
      "2024-04-08 15:52:56,443 - __main__ - WARNING - Run feature transformation: ['div', 'ln', 'minus', 'abs', 'minus']\n",
      "2024-04-08 15:53:01,031 - __main__ - WARNING - Add the best feature in set to the best features record.\n",
      "2024-04-08 15:53:01,032 - __main__ - WARNING - Run feature transformation: ['div', 'ln', 'minus', 'linearRegressorTransform', 'sigmoid']\n",
      "2024-04-08 15:53:03,425 - __main__ - WARNING - Add the best feature in set to the best features record.\n",
      "2024-04-08 15:53:03,426 - __main__ - WARNING - Run feature transformation: ['div', 'ln', 'minus', 'negative', 'div']\n",
      "2024-04-08 15:53:08,878 - __main__ - WARNING - Performances of the given node is: [0.57414162382714, 0.5738444267164344, 0.605450247384705, 0.5712714623191378, 0.5796431017410923, 0.5962049472486091, 0.5637818492904954, 0.5859692535471922, 0.5980666483115527, 0.5574039795211491]\n",
      "2024-04-08 15:53:08,880 - __main__ - WARNING - Mean perf is: 0.580578, Mean init is: 0.581475, Std init is: 0.012273 ==> reward: -1.000000\n",
      "2024-04-08 15:53:11,675 - __main__ - WARNING - Performance of scorer is: 0.027159208431839943\n",
      "2024-04-08 15:53:11,682 - __main__ - WARNING - XXXXXXXXXXXXXXXXXXXXXXXXXXXXXXXXXXXXXXXXXXXXXXXXXXXXXXXXXXXX\n",
      "2024-04-08 15:53:11,682 - __main__ - WARNING - Round:\t91\n",
      "2024-04-08 15:53:11,682 - __main__ - WARNING - XXXXXXXXXXXXXXXXXXXXXXXXXXXXXXXXXXXXXXXXXXXXXXXXXXXXXXXXXXXX\n",
      "2024-04-08 15:53:11,685 - __main__ - WARNING - Run feature transformation: ['negative', 'ln', 'linearRegressorTransform', 'timeagg', 'abs']\n"
     ]
    },
    {
     "name": "stdout",
     "output_type": "stream",
     "text": [
      "['div', 'negative', 'diff', 'svrTransform', 'ln', 'zscore', 'add', 'reciprocal', 'abs', 'linearRegressorTransform', 'mlpRegressorTransform', 'radian', 'prod', 'timeagg', 'square', 'minus', 'decisionTreeRegressorTransform', 'degree', 'adde', 'cos', 'tanh', 'exp', 'relu', 'sigmoid', 'kernelapproxrbf', 'xgbRegressorTransform', 'parameter']\n",
      "W: [4.0, 2.0, 2.0, 3.0, 2.0, 1, 1, 1, 4, 1, 1, 1, 9.0, 3.0, 3.0, 3.0, 1, 1, 1, 4, 1, 1, 2.0, 1, 1, 1]\n",
      "N: [5, 3, 3, 4, 3, 3, 3, 3, 4, 3, 3, 3, 7, 4, 4, 4, 3, 3, 3, 4, 3, 3, 4, 3, 3, 3]\n",
      "L: [4.0, 4.0, 5.0, 3.0, 7.0, 4.0, 4.0, 4.0, 6.0, 5.0, 5.0, 5.0, 3.0, 5.0, 5.0, 5.0, 6.0, 6.0, 6.0, 7.0, 8.0, 8.0, 4.0, 9.0, 9.0, 10]\n",
      "W_rate: [0.5, 0.3333333333333333, 0.2857142857142857, 0.5, 0.2222222222222222, 0.2, 0.2, 0.2, 0.4, 0.16666666666666666, 0.16666666666666666, 0.16666666666666666, 0.75, 0.375, 0.375, 0.375, 0.14285714285714285, 0.14285714285714285, 0.14285714285714285, 0.36363636363636365, 0.1111111111111111, 0.1111111111111111, 0.3333333333333333, 0.1, 0.1, 0.09090909090909091]\n",
      "Value: [0, 0, 0, 0, 0, 0, 0, 0, 0, 0, 0, 0, 0, 0, 0, 0, 0, 0, 0, 0, 0, 0, 0, 0, 0, 0]\n"
     ]
    },
    {
     "name": "stderr",
     "output_type": "stream",
     "text": [
      "2024-04-08 15:53:12,408 - __main__ - WARNING - Run feature transformation: ['negative', 'ln', 'linearRegressorTransform', 'linearRegressorTransform', 'reciprocal']\n",
      "2024-04-08 15:53:12,931 - __main__ - WARNING - Run feature transformation: ['negative', 'ln', 'linearRegressorTransform', 'minus', 'abs']\n",
      "2024-04-08 15:53:15,732 - __main__ - WARNING - Run feature transformation: ['negative', 'ln', 'linearRegressorTransform', 'adde', 'reciprocal']\n",
      "2024-04-08 15:53:16,467 - __main__ - WARNING - Run feature transformation: ['negative', 'ln', 'linearRegressorTransform', 'diff', 'diff']\n",
      "2024-04-08 15:53:17,349 - __main__ - WARNING - Run feature transformation: ['negative', 'ln', 'linearRegressorTransform', 'square', 'reciprocal']\n",
      "2024-04-08 15:53:18,075 - __main__ - WARNING - Run feature transformation: ['negative', 'ln', 'linearRegressorTransform', 'svrTransform', 'relu']\n",
      "2024-04-08 15:53:18,632 - __main__ - WARNING - Run feature transformation: ['negative', 'ln', 'linearRegressorTransform', 'minus', 'negative']\n",
      "2024-04-08 15:53:21,237 - __main__ - WARNING - Add the best feature in set to the best features record.\n",
      "2024-04-08 15:53:21,238 - __main__ - WARNING - Run feature transformation: ['negative', 'ln', 'linearRegressorTransform', 'abs', 'mlpRegressorTransform']\n",
      "2024-04-08 15:53:24,720 - __main__ - WARNING - Run feature transformation: ['negative', 'ln', 'linearRegressorTransform', 'adde', 'svrTransform']\n",
      "2024-04-08 15:53:25,337 - __main__ - WARNING - Performances of the given node is: [0.5810360668171792, 0.5808519140322687, 0.5673574564757005, 0.5646204599416227, 0.5914293941473259, 0.5859657451365069, 0.5847085269075822, 0.6005596986261565, 0.5853775506589832, 0.574412033497904]\n",
      "2024-04-08 15:53:25,338 - __main__ - WARNING - Mean perf is: 0.581632, Mean init is: 0.581475, Std init is: 0.012273 ==> reward: 1.000000\n",
      "2024-04-08 15:53:28,148 - __main__ - WARNING - Performance of scorer is: 0.040353886783123016\n",
      "2024-04-08 15:53:28,149 - __main__ - WARNING - Run feature transformation: ['negative', 'ln', 'linearRegressorTransform']\n",
      "2024-04-08 15:53:31,971 - __main__ - WARNING - Mean init is: 0.5814751034102423, mean of new node is: 0.5332338514595485\n",
      "2024-04-08 15:53:31,978 - __main__ - WARNING - XXXXXXXXXXXXXXXXXXXXXXXXXXXXXXXXXXXXXXXXXXXXXXXXXXXXXXXXXXXX\n",
      "2024-04-08 15:53:31,978 - __main__ - WARNING - Round:\t92\n",
      "2024-04-08 15:53:31,978 - __main__ - WARNING - XXXXXXXXXXXXXXXXXXXXXXXXXXXXXXXXXXXXXXXXXXXXXXXXXXXXXXXXXXXX\n",
      "2024-04-08 15:53:31,981 - __main__ - WARNING - Run feature transformation: ['diff', 'exp', 'linearRegressorTransform', 'timeagg', 'abs']\n"
     ]
    },
    {
     "name": "stdout",
     "output_type": "stream",
     "text": [
      "['negative', 'diff', 'svrTransform', 'ln', 'zscore', 'add', 'reciprocal', 'abs', 'linearRegressorTransform', 'mlpRegressorTransform', 'radian', 'prod', 'timeagg', 'square', 'minus', 'decisionTreeRegressorTransform', 'degree', 'adde', 'cos', 'div', 'tanh', 'exp', 'relu', 'sigmoid', 'kernelapproxrbf', 'xgbRegressorTransform', 'parameter']\n",
      "W: [3.0, 2.0, 3.0, 2.0, 1, 1, 1, 4, 1, 1, 1, 9.0, 3.0, 3.0, 3.0, 1, 1, 1, 4, 4.0, 1, 1, 2.0, 1, 1, 1]\n",
      "N: [4, 3, 4, 3, 3, 3, 3, 4, 3, 3, 3, 7, 4, 4, 4, 3, 3, 3, 4, 5, 3, 3, 4, 3, 3, 3]\n",
      "L: [4.0, 5.0, 3.0, 7.0, 4.0, 4.0, 4.0, 6.0, 5.0, 5.0, 5.0, 3.0, 5.0, 5.0, 5.0, 6.0, 6.0, 6.0, 7.0, 4.0, 8.0, 8.0, 4.0, 9.0, 9.0, 10]\n",
      "W_rate: [0.42857142857142855, 0.2857142857142857, 0.5, 0.2222222222222222, 0.2, 0.2, 0.2, 0.4, 0.16666666666666666, 0.16666666666666666, 0.16666666666666666, 0.75, 0.375, 0.375, 0.375, 0.14285714285714285, 0.14285714285714285, 0.14285714285714285, 0.36363636363636365, 0.5, 0.1111111111111111, 0.1111111111111111, 0.3333333333333333, 0.1, 0.1, 0.09090909090909091]\n",
      "Value: [0, 0, 0, 0, 0, 0, 0, 0, 0, 0, 0, 0, 0, 0, 0, 0, 0, 0, 0, 0, 0, 0, 0, 0, 0, 0]\n"
     ]
    },
    {
     "name": "stderr",
     "output_type": "stream",
     "text": [
      "2024-04-08 15:53:32,739 - __main__ - WARNING - Run feature transformation: ['diff', 'exp', 'linearRegressorTransform', 'linearRegressorTransform', 'reciprocal']\n",
      "2024-04-08 15:53:33,504 - __main__ - WARNING - Run feature transformation: ['diff', 'exp', 'linearRegressorTransform', 'minus', 'abs']\n",
      "2024-04-08 15:53:34,368 - __main__ - WARNING - Add the best feature in set to the best features record.\n",
      "2024-04-08 15:53:34,369 - __main__ - WARNING - Run feature transformation: ['diff', 'exp', 'linearRegressorTransform', 'adde', 'reciprocal']\n",
      "2024-04-08 15:53:35,389 - __main__ - WARNING - Run feature transformation: ['diff', 'exp', 'linearRegressorTransform', 'diff', 'diff']\n",
      "2024-04-08 15:53:36,188 - __main__ - WARNING - Run feature transformation: ['diff', 'exp', 'linearRegressorTransform', 'square', 'reciprocal']\n",
      "2024-04-08 15:53:37,208 - __main__ - WARNING - Run feature transformation: ['diff', 'exp', 'linearRegressorTransform', 'svrTransform', 'relu']\n",
      "2024-04-08 15:53:37,954 - __main__ - WARNING - Run feature transformation: ['diff', 'exp', 'linearRegressorTransform', 'minus', 'negative']\n",
      "2024-04-08 15:53:38,306 - __main__ - WARNING - Run feature transformation: ['diff', 'exp', 'linearRegressorTransform', 'abs', 'mlpRegressorTransform']\n",
      "2024-04-08 15:53:42,183 - __main__ - WARNING - Run feature transformation: ['diff', 'exp', 'linearRegressorTransform', 'adde', 'svrTransform']\n",
      "2024-04-08 15:53:43,235 - __main__ - WARNING - Performances of the given node is: [0.5711044374185282, 0.575525170842432, 0.5867433587084125, 0.5631916067230247, 0.5682736802417991, 0.5999019976951273, 0.5865849835087923, 0.5683591960636833, 0.5662698622998097, 0.5501155100611842]\n",
      "2024-04-08 15:53:43,237 - __main__ - WARNING - Mean perf is: 0.573607, Mean init is: 0.581475, Std init is: 0.012273 ==> reward: -1.000000\n",
      "2024-04-08 15:53:46,044 - __main__ - WARNING - Performance of scorer is: 0.02805568277835846\n",
      "2024-04-08 15:53:46,051 - __main__ - WARNING - XXXXXXXXXXXXXXXXXXXXXXXXXXXXXXXXXXXXXXXXXXXXXXXXXXXXXXXXXXXX\n",
      "2024-04-08 15:53:46,051 - __main__ - WARNING - Round:\t93\n",
      "2024-04-08 15:53:46,052 - __main__ - WARNING - XXXXXXXXXXXXXXXXXXXXXXXXXXXXXXXXXXXXXXXXXXXXXXXXXXXXXXXXXXXX\n",
      "2024-04-08 15:53:46,054 - __main__ - WARNING - Run feature transformation: ['svrTransform', 'ln', 'xgbRegressorTransform', 'minus', 'negative']\n"
     ]
    },
    {
     "name": "stdout",
     "output_type": "stream",
     "text": [
      "['diff', 'svrTransform', 'ln', 'zscore', 'add', 'reciprocal', 'negative', 'abs', 'linearRegressorTransform', 'mlpRegressorTransform', 'radian', 'prod', 'timeagg', 'square', 'minus', 'decisionTreeRegressorTransform', 'degree', 'adde', 'cos', 'div', 'tanh', 'exp', 'relu', 'sigmoid', 'kernelapproxrbf', 'xgbRegressorTransform', 'parameter']\n",
      "W: [2.0, 3.0, 2.0, 1, 1, 1, 3.0, 4, 1, 1, 1, 9.0, 3.0, 3.0, 3.0, 1, 1, 1, 4, 4.0, 1, 1, 2.0, 1, 1, 1]\n",
      "N: [4, 4, 3, 3, 3, 3, 4, 4, 3, 3, 3, 7, 4, 4, 4, 3, 3, 3, 4, 5, 3, 3, 4, 3, 3, 3]\n",
      "L: [6.0, 3.0, 7.0, 4.0, 4.0, 4.0, 4.0, 6.0, 5.0, 5.0, 5.0, 3.0, 5.0, 5.0, 5.0, 6.0, 6.0, 6.0, 7.0, 4.0, 8.0, 8.0, 4.0, 9.0, 9.0, 10]\n",
      "W_rate: [0.25, 0.5, 0.2222222222222222, 0.2, 0.2, 0.2, 0.42857142857142855, 0.4, 0.16666666666666666, 0.16666666666666666, 0.16666666666666666, 0.75, 0.375, 0.375, 0.375, 0.14285714285714285, 0.14285714285714285, 0.14285714285714285, 0.36363636363636365, 0.5, 0.1111111111111111, 0.1111111111111111, 0.3333333333333333, 0.1, 0.1, 0.09090909090909091]\n",
      "Value: [0, 0, 0, 0, 0, 0, 0, 0, 0, 0, 0, 0, 0, 0, 0, 0, 0, 0, 0, 0, 0, 0, 0, 0, 0, 0]\n"
     ]
    },
    {
     "name": "stderr",
     "output_type": "stream",
     "text": [
      "2024-04-08 15:53:48,403 - __main__ - WARNING - Add the best feature in set to the best features record.\n",
      "2024-04-08 15:53:48,405 - __main__ - WARNING - Run feature transformation: ['svrTransform', 'ln', 'xgbRegressorTransform', 'abs', 'mlpRegressorTransform']\n",
      "2024-04-08 15:53:51,708 - __main__ - WARNING - Run feature transformation: ['svrTransform', 'ln', 'xgbRegressorTransform', 'adde', 'svrTransform']\n",
      "2024-04-08 15:53:52,191 - __main__ - WARNING - Add the best feature in set to the best features record.\n",
      "2024-04-08 15:53:52,192 - __main__ - WARNING - Run feature transformation: ['svrTransform', 'ln', 'xgbRegressorTransform', 'square', 'timeagg']\n",
      "2024-04-08 15:53:52,594 - __main__ - WARNING - Run feature transformation: ['svrTransform', 'ln', 'xgbRegressorTransform', 'decisionTreeRegressorTransform', 'timeagg']\n",
      "2024-04-08 15:53:52,840 - __main__ - WARNING - Run feature transformation: ['svrTransform', 'ln', 'xgbRegressorTransform', 'diff', 'diff']\n",
      "2024-04-08 15:53:53,410 - __main__ - WARNING - Run feature transformation: ['svrTransform', 'ln', 'xgbRegressorTransform', 'cos', 'diff']\n",
      "2024-04-08 15:53:54,002 - __main__ - WARNING - Run feature transformation: ['svrTransform', 'ln', 'xgbRegressorTransform', 'decisionTreeRegressorTransform', 'ln']\n",
      "2024-04-08 15:53:54,348 - __main__ - WARNING - Run feature transformation: ['svrTransform', 'ln', 'xgbRegressorTransform', 'radian', 'square']\n",
      "2024-04-08 15:53:54,765 - __main__ - WARNING - Add the best feature in set to the best features record.\n",
      "2024-04-08 15:53:54,766 - __main__ - WARNING - Run feature transformation: ['svrTransform', 'ln', 'xgbRegressorTransform', 'degree', 'decisionTreeRegressorTransform']\n",
      "2024-04-08 15:53:55,057 - __main__ - WARNING - Performances of the given node is: [0.5818083881883973, 0.5773184057937556, 0.5825585671590372, 0.5868877989804264, 0.42603939468304547, 0.580360698449728, 0.5375432488919983, 0.4253951304473334, 0.5821747953615363, 0.42874322781433]\n",
      "2024-04-08 15:53:55,059 - __main__ - WARNING - Mean perf is: 0.530883, Mean init is: 0.581475, Std init is: 0.012273 ==> reward: -3.000000\n",
      "2024-04-08 15:53:57,929 - __main__ - WARNING - Performance of scorer is: 0.038071803748607635\n",
      "2024-04-08 15:53:57,936 - __main__ - WARNING - XXXXXXXXXXXXXXXXXXXXXXXXXXXXXXXXXXXXXXXXXXXXXXXXXXXXXXXXXXXX\n",
      "2024-04-08 15:53:57,936 - __main__ - WARNING - Round:\t94\n",
      "2024-04-08 15:53:57,936 - __main__ - WARNING - XXXXXXXXXXXXXXXXXXXXXXXXXXXXXXXXXXXXXXXXXXXXXXXXXXXXXXXXXXXX\n",
      "2024-04-08 15:53:57,939 - __main__ - WARNING - Run feature transformation: ['ln', 'exp', 'add', 'minus', 'negative']\n"
     ]
    },
    {
     "name": "stdout",
     "output_type": "stream",
     "text": [
      "['svrTransform', 'ln', 'zscore', 'add', 'reciprocal', 'negative', 'abs', 'linearRegressorTransform', 'mlpRegressorTransform', 'radian', 'prod', 'timeagg', 'square', 'minus', 'decisionTreeRegressorTransform', 'degree', 'adde', 'cos', 'div', 'tanh', 'exp', 'relu', 'sigmoid', 'kernelapproxrbf', 'xgbRegressorTransform', 'diff', 'parameter']\n",
      "W: [3.0, 2.0, 1, 1, 1, 3.0, 4, 1, 1, 1, 9.0, 3.0, 3.0, 3.0, 1, 1, 1, 4, 4.0, 1, 1, 2.0, 1, 1, 1, 2.0]\n",
      "N: [5, 3, 3, 3, 3, 4, 4, 3, 3, 3, 7, 4, 4, 4, 3, 3, 3, 4, 5, 3, 3, 4, 3, 3, 3, 4]\n",
      "L: [6.0, 7.0, 4.0, 4.0, 4.0, 4.0, 6.0, 5.0, 5.0, 5.0, 3.0, 5.0, 5.0, 5.0, 6.0, 6.0, 6.0, 7.0, 4.0, 8.0, 8.0, 4.0, 9.0, 9.0, 10, 6.0]\n",
      "W_rate: [0.3333333333333333, 0.2222222222222222, 0.2, 0.2, 0.2, 0.42857142857142855, 0.4, 0.16666666666666666, 0.16666666666666666, 0.16666666666666666, 0.75, 0.375, 0.375, 0.375, 0.14285714285714285, 0.14285714285714285, 0.14285714285714285, 0.36363636363636365, 0.5, 0.1111111111111111, 0.1111111111111111, 0.3333333333333333, 0.1, 0.1, 0.09090909090909091, 0.25]\n",
      "Value: [0, 0, 0, 0, 0, 0, 0, 0, 0, 0, 0, 0, 0, 0, 0, 0, 0, 0, 0, 0, 0, 0, 0, 0, 0, 0]\n"
     ]
    },
    {
     "name": "stderr",
     "output_type": "stream",
     "text": [
      "2024-04-08 15:54:04,086 - __main__ - WARNING - Run feature transformation: ['ln', 'exp', 'add', 'abs', 'mlpRegressorTransform']\n",
      "2024-04-08 15:54:10,931 - __main__ - WARNING - Add the best feature in set to the best features record.\n",
      "2024-04-08 15:54:10,932 - __main__ - WARNING - Run feature transformation: ['ln', 'exp', 'add', 'adde', 'svrTransform']\n",
      "2024-04-08 15:54:15,946 - __main__ - WARNING - Add the best feature in set to the best features record.\n",
      "2024-04-08 15:54:15,947 - __main__ - WARNING - Run feature transformation: ['ln', 'exp', 'add', 'square', 'timeagg']\n",
      "2024-04-08 15:54:20,585 - __main__ - WARNING - Add the best feature in set to the best features record.\n",
      "2024-04-08 15:54:20,586 - __main__ - WARNING - Run feature transformation: ['ln', 'exp', 'add', 'decisionTreeRegressorTransform', 'timeagg']\n",
      "2024-04-08 15:54:22,945 - __main__ - WARNING - Run feature transformation: ['ln', 'exp', 'add', 'diff', 'diff']\n",
      "2024-04-08 15:54:26,338 - __main__ - WARNING - Run feature transformation: ['ln', 'exp', 'add', 'cos', 'diff']\n",
      "2024-04-08 15:54:32,573 - __main__ - WARNING - Add the best feature in set to the best features record.\n",
      "2024-04-08 15:54:32,574 - __main__ - WARNING - Run feature transformation: ['ln', 'exp', 'add', 'decisionTreeRegressorTransform', 'ln']\n",
      "2024-04-08 15:54:33,450 - __main__ - WARNING - Run feature transformation: ['ln', 'exp', 'add', 'radian', 'square']\n",
      "2024-04-08 15:54:37,911 - __main__ - WARNING - Run feature transformation: ['ln', 'exp', 'add', 'degree', 'decisionTreeRegressorTransform']\n",
      "2024-04-08 15:54:42,241 - __main__ - WARNING - Performances of the given node is: [0.5632235055696777, 0.5890624480400294, 0.5869149266788293, 0.5923864348171614, 0.5744579362048737, 0.5724271425235039, 0.5869329292799758, 0.5744579362048737, 0.5565754090270709, 0.5590846570656779]\n",
      "2024-04-08 15:54:42,242 - __main__ - WARNING - Mean perf is: 0.575552, Mean init is: 0.581475, Std init is: 0.012273 ==> reward: -1.000000\n",
      "2024-04-08 15:54:45,134 - __main__ - WARNING - Performance of scorer is: 0.07184970378875732\n",
      "2024-04-08 15:54:45,140 - __main__ - WARNING - XXXXXXXXXXXXXXXXXXXXXXXXXXXXXXXXXXXXXXXXXXXXXXXXXXXXXXXXXXXX\n",
      "2024-04-08 15:54:45,141 - __main__ - WARNING - Round:\t95\n",
      "2024-04-08 15:54:45,141 - __main__ - WARNING - XXXXXXXXXXXXXXXXXXXXXXXXXXXXXXXXXXXXXXXXXXXXXXXXXXXXXXXXXXXX\n",
      "2024-04-08 15:54:45,144 - __main__ - WARNING - Run feature transformation: ['zscore', 'ln', 'div', 'prod', 'add']\n"
     ]
    },
    {
     "name": "stdout",
     "output_type": "stream",
     "text": [
      "['ln', 'zscore', 'add', 'reciprocal', 'negative', 'abs', 'linearRegressorTransform', 'mlpRegressorTransform', 'radian', 'prod', 'timeagg', 'square', 'minus', 'decisionTreeRegressorTransform', 'degree', 'adde', 'cos', 'div', 'tanh', 'exp', 'relu', 'sigmoid', 'kernelapproxrbf', 'xgbRegressorTransform', 'diff', 'svrTransform', 'parameter']\n",
      "W: [2.0, 1, 1, 1, 3.0, 4, 1, 1, 1, 9.0, 3.0, 3.0, 3.0, 1, 1, 1, 4, 4.0, 1, 1, 2.0, 1, 1, 1, 2.0, 3.0]\n",
      "N: [4, 3, 3, 3, 4, 4, 3, 3, 3, 7, 4, 4, 4, 3, 3, 3, 4, 5, 3, 3, 4, 3, 3, 3, 4, 5]\n",
      "L: [8.0, 4.0, 4.0, 4.0, 4.0, 6.0, 5.0, 5.0, 5.0, 3.0, 5.0, 5.0, 5.0, 6.0, 6.0, 6.0, 7.0, 4.0, 8.0, 8.0, 4.0, 9.0, 9.0, 10, 6.0, 6.0]\n",
      "W_rate: [0.2, 0.2, 0.2, 0.2, 0.42857142857142855, 0.4, 0.16666666666666666, 0.16666666666666666, 0.16666666666666666, 0.75, 0.375, 0.375, 0.375, 0.14285714285714285, 0.14285714285714285, 0.14285714285714285, 0.36363636363636365, 0.5, 0.1111111111111111, 0.1111111111111111, 0.3333333333333333, 0.1, 0.1, 0.09090909090909091, 0.25, 0.3333333333333333]\n",
      "Value: [0, 0, 0, 0, 0, 0, 0, 0, 0, 0, 0, 0, 0, 0, 0, 0, 0, 0, 0, 0, 0, 0, 0, 0, 0, 0]\n"
     ]
    },
    {
     "name": "stderr",
     "output_type": "stream",
     "text": [
      "2024-04-08 15:54:49,756 - __main__ - WARNING - Add the best feature in set to the best features record.\n",
      "2024-04-08 15:54:49,758 - __main__ - WARNING - Run feature transformation: ['zscore', 'ln', 'div', 'mlpRegressorTransform', 'zscore']\n",
      "2024-04-08 15:54:53,485 - __main__ - WARNING - Run feature transformation: ['zscore', 'ln', 'div', 'mlpRegressorTransform', 'radian']\n",
      "2024-04-08 15:54:54,301 - __main__ - WARNING - Run feature transformation: ['zscore', 'ln', 'div', 'decisionTreeRegressorTransform', 'minus']\n",
      "2024-04-08 15:54:55,358 - __main__ - WARNING - Add the best feature in set to the best features record.\n",
      "2024-04-08 15:54:55,359 - __main__ - WARNING - Run feature transformation: ['zscore', 'ln', 'div', 'prod', 'div']\n",
      "2024-04-08 15:54:59,617 - __main__ - WARNING - Add the best feature in set to the best features record.\n",
      "2024-04-08 15:54:59,618 - __main__ - WARNING - Run feature transformation: ['zscore', 'ln', 'div', 'cos', 'mlpRegressorTransform']\n",
      "2024-04-08 15:55:03,840 - __main__ - WARNING - Run feature transformation: ['zscore', 'ln', 'div', 'minus', 'svrTransform']\n",
      "2024-04-08 15:55:05,941 - __main__ - WARNING - Run feature transformation: ['zscore', 'ln', 'div', 'minus', 'decisionTreeRegressorTransform']\n",
      "2024-04-08 15:55:07,084 - __main__ - WARNING - Run feature transformation: ['zscore', 'ln', 'div', 'negative', 'relu']\n",
      "2024-04-08 15:55:08,086 - __main__ - WARNING - Run feature transformation: ['zscore', 'ln', 'div', 'abs', 'xgbRegressorTransform']\n",
      "2024-04-08 15:55:09,535 - __main__ - WARNING - Add the best feature in set to the best features record.\n",
      "2024-04-08 15:55:09,537 - __main__ - WARNING - Performances of the given node is: [0.5851503307140156, 0.5771497048769704, 0.5841826072789292, 0.6137639677832994, 0.5816966286963315, 0.5735134386839489, 0.5662519171727858, 0.5473744878438643, 0.570974356109339, 0.6031899441591501]\n",
      "2024-04-08 15:55:09,538 - __main__ - WARNING - Mean perf is: 0.580325, Mean init is: 0.581475, Std init is: 0.012273 ==> reward: -1.000000\n",
      "2024-04-08 15:55:12,488 - __main__ - WARNING - Performance of scorer is: 0.03105127066373825\n",
      "2024-04-08 15:55:12,495 - __main__ - WARNING - XXXXXXXXXXXXXXXXXXXXXXXXXXXXXXXXXXXXXXXXXXXXXXXXXXXXXXXXXXXX\n",
      "2024-04-08 15:55:12,495 - __main__ - WARNING - Round:\t96\n",
      "2024-04-08 15:55:12,495 - __main__ - WARNING - XXXXXXXXXXXXXXXXXXXXXXXXXXXXXXXXXXXXXXXXXXXXXXXXXXXXXXXXXXXX\n",
      "2024-04-08 15:55:12,499 - __main__ - WARNING - Run feature transformation: ['add', 'exp', 'div', 'decisionTreeRegressorTransform', 'minus']\n"
     ]
    },
    {
     "name": "stdout",
     "output_type": "stream",
     "text": [
      "['zscore', 'add', 'reciprocal', 'negative', 'abs', 'linearRegressorTransform', 'mlpRegressorTransform', 'radian', 'prod', 'timeagg', 'square', 'minus', 'decisionTreeRegressorTransform', 'degree', 'adde', 'cos', 'tanh', 'exp', 'div', 'relu', 'sigmoid', 'kernelapproxrbf', 'xgbRegressorTransform', 'diff', 'ln', 'svrTransform', 'parameter']\n",
      "W: [1, 1, 1, 3.0, 4, 1, 1, 1, 9.0, 3.0, 3.0, 3.0, 1, 1, 1, 4, 1, 1, 4.0, 2.0, 1, 1, 1, 2.0, 2.0, 3.0]\n",
      "N: [4, 3, 3, 4, 4, 3, 3, 3, 7, 4, 4, 4, 3, 3, 3, 4, 3, 3, 5, 4, 3, 3, 3, 4, 4, 5]\n",
      "L: [5.0, 4.0, 4.0, 4.0, 6.0, 5.0, 5.0, 5.0, 3.0, 5.0, 5.0, 5.0, 6.0, 6.0, 6.0, 7.0, 8.0, 8.0, 4.0, 4.0, 9.0, 9.0, 10, 6.0, 8.0, 6.0]\n",
      "W_rate: [0.16666666666666666, 0.2, 0.2, 0.42857142857142855, 0.4, 0.16666666666666666, 0.16666666666666666, 0.16666666666666666, 0.75, 0.375, 0.375, 0.375, 0.14285714285714285, 0.14285714285714285, 0.14285714285714285, 0.36363636363636365, 0.1111111111111111, 0.1111111111111111, 0.5, 0.3333333333333333, 0.1, 0.1, 0.09090909090909091, 0.25, 0.2, 0.3333333333333333]\n",
      "Value: [0, 0, 0, 0, 0, 0, 0, 0, 0, 0, 0, 0, 0, 0, 0, 0, 0, 0, 0, 0, 0, 0, 0, 0, 0, 0]\n"
     ]
    },
    {
     "name": "stderr",
     "output_type": "stream",
     "text": [
      "2024-04-08 15:55:20,226 - __main__ - WARNING - Run feature transformation: ['add', 'exp', 'div', 'prod', 'div']\n",
      "2024-04-08 15:55:32,789 - __main__ - WARNING - Add the best feature in set to the best features record.\n",
      "2024-04-08 15:55:32,791 - __main__ - WARNING - Run feature transformation: ['add', 'exp', 'div', 'cos', 'mlpRegressorTransform']\n",
      "2024-04-08 15:55:40,729 - __main__ - WARNING - Run feature transformation: ['add', 'exp', 'div', 'minus', 'svrTransform']\n",
      "2024-04-08 15:55:47,534 - __main__ - WARNING - Run feature transformation: ['add', 'exp', 'div', 'minus', 'decisionTreeRegressorTransform']\n",
      "2024-04-08 15:55:50,038 - __main__ - WARNING - Run feature transformation: ['add', 'exp', 'div', 'negative', 'relu']\n",
      "2024-04-08 15:55:54,852 - __main__ - WARNING - Run feature transformation: ['add', 'exp', 'div', 'abs', 'xgbRegressorTransform']\n",
      "2024-04-08 15:56:00,066 - __main__ - WARNING - Add the best feature in set to the best features record.\n",
      "2024-04-08 15:56:00,067 - __main__ - WARNING - Run feature transformation: ['add', 'exp', 'div', 'xgbRegressorTransform', 'linearRegressorTransform']\n",
      "2024-04-08 15:56:04,469 - __main__ - WARNING - Run feature transformation: ['add', 'exp', 'div', 'reciprocal', 'diff']\n",
      "2024-04-08 15:56:10,280 - __main__ - WARNING - Run feature transformation: ['add', 'exp', 'div', 'exp', 'mlpRegressorTransform']\n",
      "2024-04-08 15:56:17,328 - __main__ - WARNING - Performances of the given node is: [0.5769592567587848, 0.5882642416204868, 0.5556152376364077, 0.5743226932750323, 0.572989782154294, 0.5566660408579557, 0.6236388283633548, 0.606052152000316, 0.5688480597888352, 0.5665383953607988]\n",
      "2024-04-08 15:56:17,329 - __main__ - WARNING - Mean perf is: 0.578989, Mean init is: 0.581475, Std init is: 0.012273 ==> reward: -1.000000\n",
      "2024-04-08 15:56:20,286 - __main__ - WARNING - Performance of scorer is: 0.022730233147740364\n"
     ]
    },
    {
     "name": "stdout",
     "output_type": "stream",
     "text": [
      "['add', 'reciprocal', 'negative', 'abs', 'linearRegressorTransform', 'mlpRegressorTransform', 'radian', 'prod', 'timeagg', 'square', 'minus', 'decisionTreeRegressorTransform', 'degree', 'adde', 'cos', 'tanh', 'exp', 'div', 'relu', 'sigmoid', 'kernelapproxrbf', 'xgbRegressorTransform', 'diff', 'ln', 'svrTransform', 'zscore', 'parameter']\n",
      "W: [1, 1, 3.0, 4, 1, 1, 1, 9.0, 3.0, 3.0, 3.0, 1, 1, 1, 4, 1, 1, 4.0, 2.0, 1, 1, 1, 2.0, 2.0, 3.0, 1]\n",
      "N: [4, 3, 4, 4, 3, 3, 3, 7, 4, 4, 4, 3, 3, 3, 4, 3, 3, 5, 4, 3, 3, 3, 4, 4, 5, 4]\n",
      "L: [5.0, 4.0, 4.0, 6.0, 5.0, 5.0, 5.0, 3.0, 5.0, 5.0, 5.0, 6.0, 6.0, 6.0, 7.0, 8.0, 8.0, 4.0, 4.0, 9.0, 9.0, 10, 6.0, 8.0, 6.0, 5.0]\n",
      "W_rate: [0.16666666666666666, 0.2, 0.42857142857142855, 0.4, 0.16666666666666666, 0.16666666666666666, 0.16666666666666666, 0.75, 0.375, 0.375, 0.375, 0.14285714285714285, 0.14285714285714285, 0.14285714285714285, 0.36363636363636365, 0.1111111111111111, 0.1111111111111111, 0.5, 0.3333333333333333, 0.1, 0.1, 0.09090909090909091, 0.25, 0.2, 0.3333333333333333, 0.16666666666666666]\n",
      "Value: [0, 0, 0, 0, 0, 0, 0, 0, 0, 0, 0, 0, 0, 0, 0, 0, 0, 0, 0, 0, 0, 0, 0, 0, 0, 0]\n"
     ]
    },
    {
     "ename": "TypeError",
     "evalue": "unsupported operand type(s) for +: 'MC_node' and 'str'",
     "output_type": "error",
     "traceback": [
      "\u001b[0;31m---------------------------------------------------------------------------\u001b[0m",
      "\u001b[0;31mTypeError\u001b[0m                                 Traceback (most recent call last)",
      "Cell \u001b[0;32mIn[15], line 15\u001b[0m\n\u001b[1;32m     13\u001b[0m record_result \u001b[38;5;241m=\u001b[39m {\u001b[38;5;124m'\u001b[39m\u001b[38;5;124mfile\u001b[39m\u001b[38;5;124m'\u001b[39m: fn, \u001b[38;5;124m'\u001b[39m\u001b[38;5;124mgame\u001b[39m\u001b[38;5;124m'\u001b[39m: fe, \u001b[38;5;124m'\u001b[39m\u001b[38;5;124magent\u001b[39m\u001b[38;5;124m'\u001b[39m: ag, \u001b[38;5;124m'\u001b[39m\u001b[38;5;124mtop_five\u001b[39m\u001b[38;5;124m'\u001b[39m: top_five, \u001b[38;5;124m'\u001b[39m\u001b[38;5;124mbuffer\u001b[39m\u001b[38;5;124m'\u001b[39m:buffer}\n\u001b[1;32m     14\u001b[0m \u001b[38;5;66;03m#dict_out.append(record_result)\u001b[39;00m\n\u001b[0;32m---> 15\u001b[0m \u001b[38;5;28;01mwith\u001b[39;00m \u001b[38;5;28mopen\u001b[39m(\u001b[43mroot\u001b[49m\u001b[43m \u001b[49m\u001b[38;5;241;43m+\u001b[39;49m\u001b[43m \u001b[49m\u001b[38;5;124;43m'\u001b[39;49m\u001b[38;5;124;43m/results/\u001b[39;49m\u001b[38;5;124;43m'\u001b[39;49m\u001b[38;5;241m+\u001b[39mfn\u001b[38;5;241m.\u001b[39msplit(\u001b[38;5;124m'\u001b[39m\u001b[38;5;124m/\u001b[39m\u001b[38;5;124m'\u001b[39m)[\u001b[38;5;241m-\u001b[39m\u001b[38;5;241m1\u001b[39m][:\u001b[38;5;241m-\u001b[39m\u001b[38;5;241m4\u001b[39m]\u001b[38;5;241m+\u001b[39m\u001b[38;5;124m'\u001b[39m\u001b[38;5;124m.pkl\u001b[39m\u001b[38;5;124m'\u001b[39m, \u001b[38;5;124m'\u001b[39m\u001b[38;5;124mwb\u001b[39m\u001b[38;5;124m'\u001b[39m) \u001b[38;5;28;01mas\u001b[39;00m handle:\n\u001b[1;32m     16\u001b[0m     pickle\u001b[38;5;241m.\u001b[39mdump(record_result, handle, protocol\u001b[38;5;241m=\u001b[39mpickle\u001b[38;5;241m.\u001b[39mHIGHEST_PROTOCOL)\n\u001b[1;32m     17\u001b[0m \u001b[38;5;28mprint\u001b[39m(fe\u001b[38;5;241m.\u001b[39mrecord_top_five)\n",
      "\u001b[0;31mTypeError\u001b[0m: unsupported operand type(s) for +: 'MC_node' and 'str'"
     ]
    }
   ],
   "source": [
    "fn = './tmp/fault_detection.csv'\n",
    "\n",
    "model = Value_network(input_size = 26, \n",
    "                       hidden_size = 32, \n",
    "                       batch_first = True, \n",
    "                       bidirectional = True, \n",
    "                       logger = logger)\n",
    "scorer = NN_scorer(model, num_epochs = 20, logger= logger)\n",
    "#scorer = NN_scorer(model, num_epochs = 20, logger= logger)\n",
    "fe = FE(fn, art = 'C', logger = logger, parallel = False, datatype = 'normal', subsampling=True, balanced_sampling=False) # sep = '\\t', index_col = 0,\n",
    "ag = Agent(fe, scorer = scorer, max_depth = 6, logger = logger)\n",
    "root, init_perf, init_dat, top_five, top_features, buffer= ag.run(path = '../results/')\n",
    "record_result = {'file': fn, 'game': fe, 'agent': ag, 'top_five': top_five, 'buffer':buffer}\n",
    "#dict_out.append(record_result)\n",
    "with open(root + '/results/'+fn.split('/')[-1][:-4]+'.pkl', 'wb') as handle:\n",
    "    pickle.dump(record_result, handle, protocol=pickle.HIGHEST_PROTOCOL)\n",
    "print(fe.record_top_five)\n"
   ]
  },
  {
   "cell_type": "code",
   "execution_count": 16,
   "id": "70635dc4-7f8e-4b7b-b3a6-6a3d7c8130fe",
   "metadata": {
    "scrolled": true
   },
   "outputs": [
    {
     "name": "stdout",
     "output_type": "stream",
     "text": [
      "[('add, exp, div, abs, xgbRegressorTransform', 0.6236388283633548), ('kernelapproxrbf, abs, add, xgbRegressorTransform, mlpRegressorTransform', 0.621259690344617), ('svrTransform, abs, reciprocal, diff, tanh', 0.6172619400368272), ('square, ln, square, div', 0.6172221401652819), ('tanh, cos, radian, tanh, minus', 0.6161494644684237)]\n"
     ]
    }
   ],
   "source": [
    "print(fe.record_top_five)"
   ]
  },
  {
   "cell_type": "markdown",
   "id": "2ac9ba9a",
   "metadata": {},
   "source": [
    "Hier sieht man die Top 5 Transformationen mit dem das Neuronale Netz trainiert wurde."
   ]
  },
  {
   "cell_type": "code",
   "execution_count": 33,
   "id": "65c7b642-853f-4bcb-a7df-57079def384d",
   "metadata": {},
   "outputs": [],
   "source": [
    "node = MC_node(State(fe.record_top_five[2][0].split(', ')))"
   ]
  },
  {
   "cell_type": "code",
   "execution_count": 34,
   "id": "88159f05-65c6-472f-a771-402daea09d12",
   "metadata": {},
   "outputs": [],
   "source": [
    "X_train.columns = [str(i) for i in X_train.columns]\n",
    "X_test.columns = [str(i) for i in X_test.columns]"
   ]
  },
  {
   "cell_type": "code",
   "execution_count": 35,
   "id": "fe7b3fec-0d1a-4321-ad2d-6e23b629a224",
   "metadata": {},
   "outputs": [
    {
     "name": "stderr",
     "output_type": "stream",
     "text": [
      "2024-04-08 16:08:56,156 - __main__ - WARNING - Run feature transformation: ['svrTransform', 'abs', 'reciprocal', 'diff', 'tanh']\n"
     ]
    },
    {
     "data": {
      "text/plain": [
       "(0.5542836102664116,\n",
       " ('svr_pred_recip_tanh', 1010    0.196567\n",
       "  1242    0.170342\n",
       "  991     0.200003\n",
       "  471     0.433803\n",
       "  625     0.325821\n",
       "            ...   \n",
       "  715     0.281775\n",
       "  905     0.218603\n",
       "  1096    0.183644\n",
       "  235     0.749011\n",
       "  1061    0.188392\n",
       "  Name: svr_pred_recip_tanh, Length: 909, dtype: float32))"
      ]
     },
     "execution_count": 35,
     "metadata": {},
     "output_type": "execute_result"
    }
   ],
   "source": [
    "fe.get_reward_cv_on_test_set2(node)"
   ]
  },
  {
   "cell_type": "code",
   "execution_count": 36,
   "id": "d6145e7e-4aa0-4ff5-860c-aee31f330f6d",
   "metadata": {
    "scrolled": true
   },
   "outputs": [
    {
     "name": "stderr",
     "output_type": "stream",
     "text": [
      "2024-04-08 16:08:58,594 - __main__ - WARNING - Run feature transformation: ['svrTransform', 'abs', 'reciprocal', 'diff', 'tanh']\n"
     ]
    }
   ],
   "source": [
    "X_train2, X_test2, y_train2, y_test2 = fe.pipeline.run_for_dataset(node.get_state().state, X_train, X_test, y_train, y_test)"
   ]
  },
  {
   "cell_type": "code",
   "execution_count": 37,
   "id": "bcb0f170-12b8-4f30-acf2-084e992a91d8",
   "metadata": {},
   "outputs": [
    {
     "name": "stdout",
     "output_type": "stream",
     "text": [
      "              precision    recall  f1-score   support\n",
      "\n",
      "           1       0.70      0.51      0.59        51\n",
      "           2       0.88      0.85      0.87        61\n",
      "           3       0.99      0.95      0.97       122\n",
      "           4       0.85      0.96      0.90        23\n",
      "           5       0.85      0.85      0.85        13\n",
      "           6       0.75      0.74      0.75       120\n",
      "           7       0.74      0.82      0.78       193\n",
      "\n",
      "    accuracy                           0.81       583\n",
      "   macro avg       0.82      0.81      0.81       583\n",
      "weighted avg       0.81      0.81      0.81       583\n",
      "\n"
     ]
    }
   ],
   "source": [
    "model = RandomForestClassifier()\n",
    "model.fit(X_train2.values, y_train2.values)\n",
    "\n",
    "print(classification_report(y_test2.values, model.predict(X_test2.values)))\n"
   ]
  },
  {
   "cell_type": "code",
   "execution_count": null,
   "id": "b000169e-3d5f-4429-9cfd-4de04e0b33a1",
   "metadata": {},
   "outputs": [],
   "source": []
  },
  {
   "cell_type": "code",
   "execution_count": null,
   "id": "756aa777-7644-4406-a2eb-db4c44b0b701",
   "metadata": {},
   "outputs": [],
   "source": []
  }
 ],
 "metadata": {
  "kernelspec": {
   "display_name": "Python 3 (ipykernel)",
   "language": "python",
   "name": "python3"
  },
  "language_info": {
   "codemirror_mode": {
    "name": "ipython",
    "version": 3
   },
   "file_extension": ".py",
   "mimetype": "text/x-python",
   "name": "python",
   "nbconvert_exporter": "python",
   "pygments_lexer": "ipython3",
   "version": "3.7.16"
  }
 },
 "nbformat": 4,
 "nbformat_minor": 5
}
