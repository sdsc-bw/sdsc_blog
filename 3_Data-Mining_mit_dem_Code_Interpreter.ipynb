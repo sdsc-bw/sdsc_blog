{
 "cells": [
  {
   "cell_type": "markdown",
   "id": "dff5c4a9-cee1-4ca1-a773-61e07c847977",
   "metadata": {
    "tags": []
   },
   "source": [
    "# Einleitung\n",
    "Der ChatGPT Code Interpreter ist ein Plugin, das von OpenAI für ChatGPT entwickelt wurde. Es handelt sich dabei um einen Python-Interpreter, der innerhalb der ChatGPT-Umgebung arbeitet. Dieses Plugin ermöglicht es Benutzern, Code auszuführen, Daten zu analysieren und Dateien auf ChatGPT hochzuladen.\n",
    "\n",
    "Im diesem Fall wollen wir den Code Interpreter verwenden, um den Wallmart-Datensatz zu untersuchen."
   ]
  },
  {
   "cell_type": "markdown",
   "id": "90b18aa4-36f7-4a79-8625-a34980017930",
   "metadata": {},
   "source": [
    "# Verwendung\n",
    "## Datenladen\n",
    "\n",
    "Wir geben dem Code-Interpreter die Daten und fragen nach grundlegenden Informationen:\n",
    "\n",
    "![Load data to interpreter](./img/code_interpreter/load_data.png)"
   ]
  },
  {
   "cell_type": "markdown",
   "id": "2c68ba30-b51e-4d20-b703-9f28bbbe0bd1",
   "metadata": {},
   "source": [
    "Diese Antwort erhalten wir von dem Code Interpreter\n",
    "\n",
    "![data overview1](./img/code_interpreter/overview1.png)\n",
    "![data overview1](./img/code_interpreter/overview2.png)\n",
    "\n",
    "Wir stellen feast, dass der Code-Interpreter csv-Dateien erkennt und Informationen wie z. B. Datumsangaben anhand der Spaltennamen hinzufügt.\n",
    "\n",
    "Interessanterweise war der Code-Interpreter in der Lage, auf der Grundlage der Daten einige Explorationsvorschläge zu machen.\n",
    "![data overview1](./img/code_interpreter/overview3.png)\n",
    "\n",
    "Natürlich sind diese Vorschläge nicht umfassend genug und könnten weiter erforscht werden, zum Beispiel mit\n",
    "- Korrelation zwischen verschiedenen Geschäften\n",
    "- Überprüfung von Anomalien"
   ]
  },
  {
   "cell_type": "markdown",
   "id": "e0a6f94e-9040-477a-ba59-92c52857f16d",
   "metadata": {},
   "source": [
    "Darüber hinaus leidet der Code-Interpreter unter der Schwäche des alten gpt, dass die Antwort nicht immer gleich ist:\n",
    "\n",
    "![Load data to interpreter](./img/code_interpreter/load_data2.png)\n",
    "\n",
    "Wir haben einige dieser Informationen in die Kommentare eingearbeitet und geben die Antworten im Folgenden wieder:\n",
    "\n",
    "![Load data to interpreter](./img/code_interpreter/overview4.png)\n",
    "\n",
    "Wir stellten fest, dass sich die in den Antworten hervorgehobenen Informationen änderten. Zusätzliche Informationen wurden korrekt identifiziert."
   ]
  },
  {
   "cell_type": "markdown",
   "id": "6ad46433-1100-4c72-9dec-5e450cc3e1a0",
   "metadata": {},
   "source": [
    "## Datenzusammenführung\n",
    "Dies ist eine der großen Herausforderungen der Datenanalyse - der Versuch, Daten zusammenzuführen：.\n",
    "\n",
    "![Load data to interpreter](./img/code_interpreter/combine.png)\n",
    "\n",
    "Wir können feststellen, dass das Zusammenführen recht gut funktioniert hab. Werfen wir einen Blick auf den entsprechenden Code:\n",
    "\n",
    "![Load data to interpreter](./img/code_interpreter/code_combine.png)\n",
    "\n",
    "Die beiden Zusammenführungen verwenden unterschiedliche Zusammenführungsknoten, in diesem Fall wird die Methode LEFT-Join verwendet. Obwohl wir einen Inner-Join bevorzugen, kann diese mit einem Befehl durchgeführt werden. Außerdem werden dabei automatisch doppelte Spalten entfernt. Insgesamt leistet das Programm gute Arbeit beim Zusammenführen, doch sollten bei besonderen Anforderungen entsprechende Anweisungen gegeben werden."
   ]
  },
  {
   "cell_type": "markdown",
   "id": "9632a721-6521-428f-8c3c-7f9b9d59a48c",
   "metadata": {},
   "source": [
    "## Datenvorverarbeitung\n",
    "\n",
    "Als nächstes versuchen wir, den Code-Interpreter dazu zu bringen, die Daten automatisch zu bereinigen:\n",
    "Ohne Aufforderung untersucht er die Daten an vier Punkten. Wir stellen fest, dass er fehlende Werte erkennt.\n",
    "\n",
    "![Load data to interpreter](./img/code_interpreter/cleaning2.png)\n",
    "\n",
    "Bei Ausreißern wird der IQR zur Prüfung auf Ausreißer verwendet, was hier nicht sehr nützlich ist. Semantische Prüfungen, wie z. B. ein Verkaufswert, der nicht kleiner als 0 sein kann, werden nicht erkannt und verarbeitet.\n",
    "\n",
    "![Load data to interpreter](./img/code_interpreter/cleaning3.png)\n",
    "\n",
    "Selbst wenn partielle Hinweise gegeben werden, ist es immer noch nicht möglich, ein vernünftiges Erkennungsschema auf der Grundlage des Kontexts vorzuschlagen:\n",
    "\n",
    "![Load data to interpreter](./img/code_interpreter/cleaning4.png)\n",
    "\n",
    "Der Code-Interpreter braucht klare Anweisungen, um die notwendige Arbeit zu leisten. In Verbindung mit der oben beschriebenen relativen Homogenität der Operationen des Code-Interpreters deutet es darauf hin, dass ein erfahrener Datenanalyst nach wie vor unerlässlich ist.\n",
    "\n",
    "![Load data to interpreter](./img/code_interpreter/cleaning5.png)\n",
    "\n",
    "Als Antwort auf die Fragen wird der Code Interpreter einige einfache Lösungen anbieten, die allerdings in einem anderen Zusammenhang stehen.\n",
    "\n",
    "![Load data to interpreter](./img/code_interpreter/cleaning6.png)\n",
    "Hier werden approximierte Attribute für die Interpolation verwendet. In der Tat ist es besser, das Modell für die Interpolation zu verwenden. Dadurch können Faktoren wie z. B. Feiertage berücksichtigt werden.\n",
    "\n",
    "Nach einem kurzen Hinweis, versteht der Code Interpreter die Absicht und das passt das Programm an.\n",
    "\n",
    "![Load data to interpreter](./img/code_interpreter/cleaning7.png)\n"
   ]
  },
  {
   "cell_type": "markdown",
   "id": "5ead8f61-deb7-4497-b3be-f051c7e42faa",
   "metadata": {},
   "source": [
    "# Analyse\n",
    "\n",
    "Als nächstes schauen wir uns die Fähigkeit des Code Interpreters an, Analysen durchzuführen.\n",
    "\n",
    "![Load data to interpreter](./img/code_interpreter/analysis_holiday1.png)\n",
    "![Load data to interpreter](./img/code_interpreter/analysis_holiday2.png)\n",
    "\n",
    "Der Code Interpreter hat die Bestimmungen klar analysiert und ist zu den richtigen Ergebnissen gekommen. Allerdings hatte er ein Problem mit der Darstellung. Er hat alles dargestellt, jedoch wurde das, was uns wichtig war, verdichtet, was die Lesbarkeit der Symbole erhöht und sogar zu der falschen Schlussfolgerung geführt hat, dass Feiertage wenig Einfluss auf den Umsatz haben.\n",
    "\n",
    "Darüber hinaus konzentrieren sich die Analysen des Code-Interpreters nur auf das Wesentliche. Um tiefer in die Daten einzudringen, bedarf es der Anleitung durch einen Datenanalysten:\n",
    "\n",
    "![Load data to interpreter](./img/code_interpreter/analysis_holiday3.png)\n",
    "![Load data to interpreter](./img/code_interpreter/analysis_holiday4.png)\n",
    "\n",
    "Der Code-Interpreter war in der Lage, die relevanten Feiertage zu identifizieren und sie in die Analyse einzubeziehen, und er erkannte die Besonderheit von Weihnachten. Obwohl er keine weitere Analyse durchgeführt hat, ist das ziemlich beeindruckend. Natürlich gibt es einige kleinere Mängel, wie die Tatsache, dass wir keine Daten für 2013 zur Verfügung gestellt haben."
   ]
  },
  {
   "cell_type": "markdown",
   "id": "df693c92-aff1-4523-a553-e74f1b0bb229",
   "metadata": {},
   "source": [
    "## Modellierung\n",
    "Hier lassen wir den Code-Interpreter das Modell erstellen:\n",
    "\n",
    "![Load data to interpreter](./img/code_interpreter/modeling1.png)\n",
    "![Load data to interpreter](./img/code_interpreter/modeling2.png)\n",
    "\n",
    "Wir haben festgestellt, dass der Code-Interpreter gute Arbeit geleistet hat. Aber anstatt die in unseren vorherigen Analysen gewonnenen Informationen zu verwenden, führt er eine allgemeine Attributesextraktion durch. Und wenn es nicht gebraucht wurde, verwendete er nur die einfachsten linearen Modelle. Dies führte zu schlechteren Ergebnissen."
   ]
  },
  {
   "cell_type": "markdown",
   "id": "f4f5b846-7fce-4757-b835-48198a78639b",
   "metadata": {},
   "source": [
    "# Fazit\n",
    "Zusammenfassend lässt sich sagen, dass der Code-Interpreter ein sehr leistungsfähiges Instrument zur Durchführung verschiedener Datenanalyseaufgaben mittels natürlicher Sprache ist.\n",
    "Ohne die Hilfe eines Datenanalysten ist seine Ausführung der einzelnen Aufgaben jedoch naiv und seine Ergebnisse (z. B. Ausreißer) sind manchmal sogar irreführend.\n",
    "Beim Fehlen expliziter Anweisungen neigt der Code-Interpreter dazu, die festgelegte einfachste Methode zur Lösung des Problems zu verwenden. Trotz seiner Leistungsfähigkeit erfordert er immer noch explizite Anweisungen des Datenanalysten.\n",
    "Es ist auch darauf hinzuweisen, dass es für Nicht-Datenanalysten schwierig ist, Einblick in das Verhalten des Code-Interpreters zu erhalten und zu erkennen, ob die Ergebnisse korrekt sind."
   ]
  }
 ],
 "metadata": {
  "kernelspec": {
   "display_name": "Python 3 (ipykernel)",
   "language": "python",
   "name": "python3"
  },
  "language_info": {
   "codemirror_mode": {
    "name": "ipython",
    "version": 3
   },
   "file_extension": ".py",
   "mimetype": "text/x-python",
   "name": "python",
   "nbconvert_exporter": "python",
   "pygments_lexer": "ipython3",
   "version": "3.7.16"
  }
 },
 "nbformat": 4,
 "nbformat_minor": 5
}
